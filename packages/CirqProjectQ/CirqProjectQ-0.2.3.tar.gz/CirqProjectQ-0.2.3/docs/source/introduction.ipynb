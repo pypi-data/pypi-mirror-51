{
 "cells": [
  {
   "cell_type": "raw",
   "metadata": {
    "raw_mimetype": "text/restructuredtext"
   },
   "source": [
    "Introduction\n",
    "============\n",
    "CirqProjectQ provides tools to combine ProjectQ with Googles new cirq package.\n",
    "In particular, the package has two main functionalities\n",
    "\n",
    "    #. A projectq backend to convert a projectq algorithm to a :class:`cirq.Circuit`\n",
    "    #. Projectq decompositions from common gates to native Xmon gates that can be used to simulate a Google quantum computer with projectq.\n",
    "\n",
    "\n",
    "Convert to cirq\n",
    "---------------\n",
    "\n",
    "The first tool comes in handy if one has many quantum algorithms written in Projectq but needs them in Cirq, for example to acces Google API.\n",
    "\n",
    "\n",
    "For example, we can translate a simple quantum algorithm to Cirq and print the final cirq.Circuit:\n"
   ]
  },
  {
   "cell_type": "code",
   "execution_count": 5,
   "metadata": {
    "raw_mimetype": "text/x-python"
   },
   "outputs": [
    {
     "name": "stdout",
     "output_type": "stream",
     "text": [
      "(0, 0): ───X^0.25───Z^0.5───────@───Z───X───Y───\n",
      "                                │\n",
      "(0, 1): ────────────Y^0.5───H───X─────────────── \n",
      "\n",
      "\n",
      "X**0.24999999999985723((0, 0))\n",
      "Z**0.5000000000000329((0, 0)) and Y**0.5000000000000329((0, 1))\n",
      "H((0, 1))\n",
      "CX((0, 0), (0, 1))\n",
      "Z((0, 0))\n",
      "X((0, 0))\n",
      "Y((0, 0))\n"
     ]
    }
   ],
   "source": [
    "import cirq\n",
    "import numpy as np\n",
    "try:\n",
    "    from cirqprojectq.circ_engine import CIRQ\n",
    "except:\n",
    "    import os\n",
    "    os.chdir(\"../../\")\n",
    "    from cirqprojectq.circ_engine import CIRQ\n",
    "import projectq\n",
    "qubits = [cirq.google.XmonQubit(0, i) for i in range(2)]\n",
    "mycirq = CIRQ(qubits=qubits)\n",
    "eng = projectq.MainEngine(backend=mycirq)\n",
    "qureg = eng.allocate_qureg(len(qubits))\n",
    "eng.flush()\n",
    "projectq.ops.Rx(0.25 * np.pi) | qureg[0]\n",
    "projectq.ops.Ry(0.5 * np.pi) | qureg[1]\n",
    "projectq.ops.Rz(0.5 * np.pi) | qureg[0]\n",
    "projectq.ops.H | qureg[1]\n",
    "projectq.ops.C(projectq.ops.X) | (qureg[0], qureg[1])\n",
    "projectq.ops.Z | qureg[0]\n",
    "projectq.ops.X | qureg[0]\n",
    "projectq.ops.Y | qureg[0]\n",
    "eng.flush()\n",
    "print(mycirq.circuit, \"\\n\\n\")\n",
    "for m in mycirq.circuit.moments:\n",
    "    print(m)"
   ]
  },
  {
   "cell_type": "raw",
   "metadata": {
    "raw_mimetype": "text/restructuredtext"
   },
   "source": [
    "Decompose to Xmon gates\n",
    "-----------------------\n",
    "\n",
    "The second tool is needed to simulate a quantum computer consisting of Xmon qubits with projectq.\n",
    "The CirqProjectQ package defines Xmon gates for projectq, see :mod`cirqprojectq.xmon_gates` and decomposition rules for common gates, see :mod:`cirqprojectq.xmon_decompositions`.\n",
    "\n",
    "In this example we show how to use projectq to decompose a circuit into Xmon native gates."
   ]
  },
  {
   "cell_type": "code",
   "execution_count": 2,
   "metadata": {
    "scrolled": true
   },
   "outputs": [
    {
     "name": "stdout",
     "output_type": "stream",
     "text": [
      "Circuit in Xmon native gates:\n",
      "Allocate | Qureg[0]\n",
      "Allocate | Qureg[1]\n",
      "W(0.5, 0.5) | Qureg[0]\n",
      "ExpZ(1.0) | Qureg[0]\n",
      "W(0.5, 0.5) | Qureg[1]\n",
      "ExpZ(1.0) | Qureg[1]\n",
      "W(0.5, 0.5) | Qureg[1]\n",
      "ExpZ(1.0) | Qureg[1]\n",
      "Exp11(1.0) | ( Qureg[0], Qureg[1] )\n",
      "W(0.5, 0.5) | Qureg[1]\n",
      "ExpZ(1.0) | Qureg[1]\n",
      "Measure | Qureg[0]\n",
      "Measure | Qureg[1]\n",
      "Measurement outcome: [1, 0]\n"
     ]
    }
   ],
   "source": [
    "import cirqprojectq\n",
    "from cirqprojectq.xmon_decompositions import all_defined_decomposition_rules as xmondec\n",
    "\n",
    "def is_supported(eng, cmd):\n",
    "    if isinstance(cmd.gate, projectq.ops.ClassicalInstructionGate):\n",
    "        # This is required to allow Measure, Allocate, Deallocate, Flush\n",
    "        return True\n",
    "    elif isinstance(cmd.gate, cirqprojectq.xmon_gates.XmonGate):\n",
    "        return True\n",
    "    else:\n",
    "        return False\n",
    "\n",
    "supported_gate_set_filter = projectq.cengines.InstructionFilter(is_supported)\n",
    "ruleset = projectq.cengines.DecompositionRuleSet(xmondec)\n",
    "replacer = projectq.cengines.AutoReplacer(ruleset)\n",
    "engine_list = [replacer, supported_gate_set_filter]\n",
    "\n",
    "print(\"Circuit in Xmon native gates:\")\n",
    "eng = projectq.MainEngine(backend=projectq.backends.Simulator(), engine_list=engine_list+[projectq.backends.CommandPrinter()])\n",
    "qureg = eng.allocate_qureg(2)\n",
    "projectq.ops.H | qureg[0]\n",
    "projectq.ops.H | qureg[1]\n",
    "projectq.ops.C(projectq.ops.X) | (qureg[0], qureg[1])\n",
    "projectq.ops.All(projectq.ops.Measure) | qureg\n",
    "eng.flush()\n",
    "print(\"Measurement outcome:\", [int(q) for q in qureg])"
   ]
  },
  {
   "cell_type": "raw",
   "metadata": {
    "raw_mimetype": "text/restructuredtext"
   },
   "source": [
    "Decompose to Xmon gates and export to cirq\n",
    "------------------------------------------\n",
    "\n",
    "We can combine both tools to first decompose a circuit into native gate and then transform it to a cirq.circuit."
   ]
  },
  {
   "cell_type": "code",
   "execution_count": 6,
   "metadata": {},
   "outputs": [
    {
     "name": "stdout",
     "output_type": "stream",
     "text": [
      "(0, 0): ───X^0.25───Z^0.5─────────────────────────────@───────────Z^-1.0───X───Y───\n",
      "                                                      │\n",
      "(0, 1): ───Y^0.5────Y^0.5───Z^-1.0───Y^0.5───Z^-1.0───Z───Y^0.5───Z^-1.0─────────── \n",
      "\n",
      "\n",
      "X^0.2499999999998573((0, 0)) and Y^0.500000000000033((0, 1))\n",
      "Z^0.500000000000033((0, 0)) and Y^0.5((0, 1))\n",
      "Z^-0.999999999999934((0, 1))\n",
      "Y^0.5((0, 1))\n",
      "Z^-0.999999999999934((0, 1))\n",
      "CZ((0, 0), (0, 1))\n",
      "Y^0.5((0, 1))\n",
      "Z^-0.999999999999934((0, 1)) and Z^-0.999999999999934((0, 0))\n",
      "X((0, 0))\n",
      "Y((0, 0))\n"
     ]
    }
   ],
   "source": [
    "qubits = [cirq.google.XmonQubit(0, i) for i in range(2)]\n",
    "mycirq = CIRQ(qubits=qubits)\n",
    "eng = projectq.MainEngine(backend=mycirq, engine_list=engine_list)\n",
    "qureg = eng.allocate_qureg(len(qubits))\n",
    "eng.flush()\n",
    "projectq.ops.Rx(0.25 * np.pi) | qureg[0]\n",
    "projectq.ops.Ry(0.5 * np.pi) | qureg[1]\n",
    "projectq.ops.Rz(0.5 * np.pi) | qureg[0]\n",
    "projectq.ops.H | qureg[1]\n",
    "projectq.ops.C(projectq.ops.X) | (qureg[0], qureg[1])\n",
    "projectq.ops.Z | qureg[0]\n",
    "projectq.ops.X | qureg[0]\n",
    "projectq.ops.Y | qureg[0]\n",
    "eng.flush()\n",
    "print(mycirq.circuit, \"\\n\\n\")\n",
    "for m in mycirq.circuit.moments:\n",
    "    print(m)"
   ]
  },
  {
   "cell_type": "code",
   "execution_count": null,
   "metadata": {},
   "outputs": [],
   "source": []
  }
 ],
 "metadata": {
  "celltoolbar": "Raw Cell Format",
  "kernelspec": {
   "display_name": "Python 3",
   "language": "python",
   "name": "python3"
  },
  "language_info": {
   "codemirror_mode": {
    "name": "ipython",
    "version": 3
   },
   "file_extension": ".py",
   "mimetype": "text/x-python",
   "name": "python",
   "nbconvert_exporter": "python",
   "pygments_lexer": "ipython3",
   "version": "3.6.3"
  }
 },
 "nbformat": 4,
 "nbformat_minor": 2
}
