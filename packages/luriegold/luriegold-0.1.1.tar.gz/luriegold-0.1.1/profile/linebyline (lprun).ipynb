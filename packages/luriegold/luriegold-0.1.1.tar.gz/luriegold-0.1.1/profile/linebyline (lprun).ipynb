{
 "cells": [
  {
   "cell_type": "markdown",
   "metadata": {},
   "source": [
    "# Line by Line Execution Time"
   ]
  },
  {
   "cell_type": "code",
   "execution_count": 1,
   "metadata": {},
   "outputs": [],
   "source": [
    "import sys\n",
    "sys.path.append('..')\n",
    "from luriegold import luriegold, LurieGold"
   ]
  },
  {
   "cell_type": "code",
   "execution_count": 2,
   "metadata": {},
   "outputs": [],
   "source": [
    "%load_ext line_profiler"
   ]
  },
  {
   "cell_type": "markdown",
   "metadata": {},
   "source": [
    "## 20x20 Matrix"
   ]
  },
  {
   "cell_type": "code",
   "execution_count": 3,
   "metadata": {},
   "outputs": [],
   "source": [
    "import numpy as np\n",
    "x = np.loadtxt('data-20.csv', delimiter=',')"
   ]
  },
  {
   "cell_type": "code",
   "execution_count": 4,
   "metadata": {},
   "outputs": [
    {
     "data": {
      "text/plain": [
       "Timer unit: 1e-06 s\n",
       "\n",
       "Total time: 2.73353 s\n",
       "File: ../luriegold/luriegold_class.py\n",
       "Function: transform at line 14\n",
       "\n",
       "Line #      Hits         Time  Per Hit   % Time  Line Contents\n",
       "==============================================================\n",
       "    14                                               def transform(self, X):\n",
       "    15         1    2733532.0 2733532.0    100.0          C, _, _ = luriegold(X)\n",
       "    16         1          2.0      2.0      0.0          return C"
      ]
     },
     "metadata": {},
     "output_type": "display_data"
    }
   ],
   "source": [
    "%lprun -f LurieGold.transform LurieGold().fit_transform(x)"
   ]
  },
  {
   "cell_type": "code",
   "execution_count": 5,
   "metadata": {},
   "outputs": [
    {
     "data": {
      "text/plain": [
       "Timer unit: 1e-06 s\n",
       "\n",
       "Total time: 2.75815 s\n",
       "File: ../luriegold/luriegold_func.py\n",
       "Function: luriegold at line 6\n",
       "\n",
       "Line #      Hits         Time  Per Hit   % Time  Line Contents\n",
       "==============================================================\n",
       "     6                                           def luriegold(R):\n",
       "     7                                               \"\"\"Lurie-Goldberg Algorithm to adjust a correlation\n",
       "     8                                               matrix to be semipositive definite\n",
       "     9                                           \n",
       "    10                                               Philip M. Lurie and Matthew S. Goldberg (1998), An Approximate Method\n",
       "    11                                                  for Sampling Correlated Random Variables from Partially-Specified\n",
       "    12                                                  Distributions, Management Science, Vol 44, No. 2, February 1998, pp\n",
       "    13                                                  203-218, URL: http://www.jstor.org/stable/2634496\n",
       "    14                                               \"\"\"\n",
       "    15                                           \n",
       "    16                                               # subfunctions\n",
       "    17         1          6.0      6.0      0.0      def xtotril(x, idx, mat):\n",
       "    18                                                   \"\"\"Create 'L' lower triangular matrix.\"\"\"\n",
       "    19                                                   mat[idx] = x\n",
       "    20                                                   return mat\n",
       "    21                                           \n",
       "    22         1          4.0      4.0      0.0      def xtocorr(x, idx, mat):\n",
       "    23                                                   L = xtotril(x, idx, mat)\n",
       "    24                                                   C = np.dot(L, L.T)\n",
       "    25                                                   return C, L\n",
       "    26                                           \n",
       "    27         1          3.0      3.0      0.0      def objectivefunc(x, R, idx, mat):\n",
       "    28                                                   C, _ = xtocorr(x, idx, mat)\n",
       "    29                                                   f = np.sum((R - C)**2)\n",
       "    30                                                   return f\n",
       "    31                                           \n",
       "    32         1          3.0      3.0      0.0      def nlcon_diagone(x, idx, mat):\n",
       "    33                                                   C, _ = xtocorr(x, idx, mat)\n",
       "    34                                                   return np.diag(C) - 1\n",
       "    35                                           \n",
       "    36                                               # dimension of the correlation matrix\n",
       "    37         1          6.0      6.0      0.0      d = R.shape[0]\n",
       "    38         1         10.0     10.0      0.0      n = int((d**2 + d) / 2.)\n",
       "    39                                           \n",
       "    40                                               # other arguments\n",
       "    41         1         26.0     26.0      0.0      mat = np.zeros((d, d))  # the lower triangular matrix without values\n",
       "    42         1        165.0    165.0      0.0      idx = np.tril(np.ones((d, d)), k=0) > 0  # boolean matrix\n",
       "    43                                               # idx = np.tril_indices(d,k=0); #row/col ids (same result)\n",
       "    44                                           \n",
       "    45                                               # start values of the optimization are Ones\n",
       "    46         1         28.0     28.0      0.0      x0 = np.ones(shape=(n, )) / n\n",
       "    47                                           \n",
       "    48                                               # for each of the k factors, the sum of its d absolute params\n",
       "    49                                               # values has to be less than 1\n",
       "    50         1          5.0      5.0      0.0      condiag = {'type': 'eq', 'args': (idx, mat), 'fun': nlcon_diagone}\n",
       "    51                                           \n",
       "    52                                               # optimization\n",
       "    53         1          4.0      4.0      0.0      algorithm = 'SLSQP'\n",
       "    54         1          4.0      4.0      0.0      opt = {'disp': False}\n",
       "    55                                           \n",
       "    56                                               # run the optimization\n",
       "    57         1          5.0      5.0      0.0      results = scipy.optimize.minimize(\n",
       "    58         1          3.0      3.0      0.0          objectivefunc, x0,\n",
       "    59         1          3.0      3.0      0.0          args=(R, idx, mat),\n",
       "    60         1          4.0      4.0      0.0          constraints=[condiag],\n",
       "    61         1          3.0      3.0      0.0          method=algorithm,\n",
       "    62         1    2757842.0 2757842.0    100.0          options=opt)\n",
       "    63                                           \n",
       "    64                                               # Compute Correlation Matrix\n",
       "    65         1         29.0     29.0      0.0      C, L = xtocorr(results.x, idx, mat)\n",
       "    66                                           \n",
       "    67                                               # done\n",
       "    68         1          2.0      2.0      0.0      return C, L, results"
      ]
     },
     "metadata": {},
     "output_type": "display_data"
    }
   ],
   "source": [
    "%lprun -f luriegold luriegold(x)"
   ]
  },
  {
   "cell_type": "markdown",
   "metadata": {},
   "source": [
    "One third of the time is used to find the solution and two third to prepare the result."
   ]
  }
 ],
 "metadata": {
  "kernelspec": {
   "display_name": "Python 3",
   "language": "python",
   "name": "python3"
  },
  "language_info": {
   "codemirror_mode": {
    "name": "ipython",
    "version": 3
   },
   "file_extension": ".py",
   "mimetype": "text/x-python",
   "name": "python",
   "nbconvert_exporter": "python",
   "pygments_lexer": "ipython3",
   "version": "3.6.2"
  }
 },
 "nbformat": 4,
 "nbformat_minor": 2
}
