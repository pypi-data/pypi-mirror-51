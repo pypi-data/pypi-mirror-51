{
 "cells": [
  {
   "cell_type": "markdown",
   "metadata": {},
   "source": [
    "# Memory Profile"
   ]
  },
  {
   "cell_type": "code",
   "execution_count": 1,
   "metadata": {},
   "outputs": [],
   "source": [
    "import sys\n",
    "sys.path.append('..')\n",
    "from luriegold import luriegold, LurieGold\n",
    "import numpy as np"
   ]
  },
  {
   "cell_type": "code",
   "execution_count": 2,
   "metadata": {},
   "outputs": [],
   "source": [
    "%load_ext memory_profiler"
   ]
  },
  {
   "cell_type": "markdown",
   "metadata": {},
   "source": [
    "## 3x3 Matrix"
   ]
  },
  {
   "cell_type": "code",
   "execution_count": 3,
   "metadata": {},
   "outputs": [],
   "source": [
    "x = np.loadtxt('data-3.csv', delimiter=',')"
   ]
  },
  {
   "cell_type": "code",
   "execution_count": 4,
   "metadata": {},
   "outputs": [
    {
     "name": "stdout",
     "output_type": "stream",
     "text": [
      "peak memory: 59.62 MiB, increment: -0.06 MiB\n"
     ]
    }
   ],
   "source": [
    "%memit luriegold(x)"
   ]
  },
  {
   "cell_type": "markdown",
   "metadata": {},
   "source": [
    "## 20x20 Matrix"
   ]
  },
  {
   "cell_type": "code",
   "execution_count": 5,
   "metadata": {},
   "outputs": [],
   "source": [
    "x = np.loadtxt('data-20.csv', delimiter=',')"
   ]
  },
  {
   "cell_type": "code",
   "execution_count": 6,
   "metadata": {},
   "outputs": [
    {
     "name": "stdout",
     "output_type": "stream",
     "text": [
      "peak memory: 62.56 MiB, increment: 2.89 MiB\n"
     ]
    }
   ],
   "source": [
    "%memit luriegold(x)"
   ]
  },
  {
   "cell_type": "markdown",
   "metadata": {},
   "source": [
    "## Memory Profile 20x20 Matrix "
   ]
  },
  {
   "cell_type": "code",
   "execution_count": 7,
   "metadata": {},
   "outputs": [
    {
     "name": "stdout",
     "output_type": "stream",
     "text": [
      "\n"
     ]
    },
    {
     "data": {
      "text/plain": [
       "Filename: ../luriegold/luriegold_class.py\n",
       "\n",
       "Line #    Mem usage    Increment   Line Contents\n",
       "================================================\n",
       "    14     62.7 MiB     62.7 MiB       def transform(self, X):\n",
       "    15     62.9 MiB      0.1 MiB           C, _, _ = luriegold(X)\n",
       "    16     62.9 MiB      0.0 MiB           return C"
      ]
     },
     "metadata": {},
     "output_type": "display_data"
    }
   ],
   "source": [
    "%mprun -f LurieGold.transform LurieGold().fit_transform(x)"
   ]
  },
  {
   "cell_type": "code",
   "execution_count": 8,
   "metadata": {},
   "outputs": [
    {
     "name": "stdout",
     "output_type": "stream",
     "text": [
      "\n"
     ]
    },
    {
     "data": {
      "text/plain": [
       "Filename: ../luriegold/luriegold_func.py\n",
       "\n",
       "Line #    Mem usage    Increment   Line Contents\n",
       "================================================\n",
       "     6     62.9 MiB     62.9 MiB   def luriegold(R):\n",
       "     7                                 \"\"\"Lurie-Goldberg Algorithm to adjust a correlation\n",
       "     8                                 matrix to be semipositive definite\n",
       "     9                             \n",
       "    10                                 Philip M. Lurie and Matthew S. Goldberg (1998), An Approximate Method\n",
       "    11                                    for Sampling Correlated Random Variables from Partially-Specified\n",
       "    12                                    Distributions, Management Science, Vol 44, No. 2, February 1998, pp\n",
       "    13                                    203-218, URL: http://www.jstor.org/stable/2634496\n",
       "    14                                 \"\"\"\n",
       "    15                             \n",
       "    16                                 # subfunctions\n",
       "    17     62.9 MiB      0.0 MiB       def xtotril(x, idx, mat):\n",
       "    18                                     \"\"\"Create 'L' lower triangular matrix.\"\"\"\n",
       "    19     62.9 MiB      0.0 MiB           mat[idx] = x\n",
       "    20     62.9 MiB      0.0 MiB           return mat\n",
       "    21                             \n",
       "    22     62.9 MiB      0.0 MiB       def xtocorr(x, idx, mat):\n",
       "    23     62.9 MiB      0.0 MiB           L = xtotril(x, idx, mat)\n",
       "    24     62.9 MiB      0.0 MiB           C = np.dot(L, L.T)\n",
       "    25     62.9 MiB      0.0 MiB           return C, L\n",
       "    26                             \n",
       "    27     62.9 MiB      0.0 MiB       def objectivefunc(x, R, idx, mat):\n",
       "    28     62.9 MiB      0.0 MiB           C, _ = xtocorr(x, idx, mat)\n",
       "    29     62.9 MiB      0.0 MiB           f = np.sum((R - C)**2)\n",
       "    30     62.9 MiB      0.0 MiB           return f\n",
       "    31                             \n",
       "    32     62.9 MiB      0.0 MiB       def nlcon_diagone(x, idx, mat):\n",
       "    33     62.9 MiB      0.0 MiB           C, _ = xtocorr(x, idx, mat)\n",
       "    34     62.9 MiB      0.0 MiB           return np.diag(C) - 1\n",
       "    35                             \n",
       "    36                                 # dimension of the correlation matrix\n",
       "    37     62.9 MiB      0.0 MiB       d = R.shape[0]\n",
       "    38     62.9 MiB      0.0 MiB       n = int((d**2 + d) / 2.)\n",
       "    39                             \n",
       "    40                                 # other arguments\n",
       "    41     62.9 MiB      0.0 MiB       mat = np.zeros((d, d))  # the lower triangular matrix without values\n",
       "    42     62.9 MiB      0.0 MiB       idx = np.tril(np.ones((d, d)), k=0) > 0  # boolean matrix\n",
       "    43                                 # idx = np.tril_indices(d,k=0); #row/col ids (same result)\n",
       "    44                             \n",
       "    45                                 # start values of the optimization are Ones\n",
       "    46     62.9 MiB      0.0 MiB       x0 = np.ones(shape=(n, )) / n\n",
       "    47                             \n",
       "    48                                 # for each of the k factors, the sum of its d absolute params\n",
       "    49                                 # values has to be less than 1\n",
       "    50     62.9 MiB      0.0 MiB       condiag = {'type': 'eq', 'args': (idx, mat), 'fun': nlcon_diagone}\n",
       "    51                             \n",
       "    52                                 # optimization\n",
       "    53     62.9 MiB      0.0 MiB       algorithm = 'SLSQP'\n",
       "    54     62.9 MiB      0.0 MiB       opt = {'disp': False}\n",
       "    55                             \n",
       "    56                                 # run the optimization\n",
       "    57     62.9 MiB      0.0 MiB       results = scipy.optimize.minimize(\n",
       "    58     62.9 MiB      0.0 MiB           objectivefunc, x0,\n",
       "    59     62.9 MiB      0.0 MiB           args=(R, idx, mat),\n",
       "    60     62.9 MiB      0.0 MiB           constraints=[condiag],\n",
       "    61     62.9 MiB      0.0 MiB           method=algorithm,\n",
       "    62     62.9 MiB      0.0 MiB           options=opt)\n",
       "    63                             \n",
       "    64                                 # Compute Correlation Matrix\n",
       "    65     62.9 MiB      0.0 MiB       C, L = xtocorr(results.x, idx, mat)\n",
       "    66                             \n",
       "    67                                 # done\n",
       "    68     62.9 MiB      0.0 MiB       return C, L, results"
      ]
     },
     "metadata": {},
     "output_type": "display_data"
    }
   ],
   "source": [
    "%mprun -f luriegold luriegold(x)"
   ]
  }
 ],
 "metadata": {
  "kernelspec": {
   "display_name": "Python 3",
   "language": "python",
   "name": "python3"
  },
  "language_info": {
   "codemirror_mode": {
    "name": "ipython",
    "version": 3
   },
   "file_extension": ".py",
   "mimetype": "text/x-python",
   "name": "python",
   "nbconvert_exporter": "python",
   "pygments_lexer": "ipython3",
   "version": "3.6.2"
  }
 },
 "nbformat": 4,
 "nbformat_minor": 2
}
