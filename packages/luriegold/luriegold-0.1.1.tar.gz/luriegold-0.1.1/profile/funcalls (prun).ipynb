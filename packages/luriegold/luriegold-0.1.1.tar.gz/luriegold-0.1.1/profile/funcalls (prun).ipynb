{
 "cells": [
  {
   "cell_type": "markdown",
   "metadata": {},
   "source": [
    "# Execution Time by Function Calls"
   ]
  },
  {
   "cell_type": "code",
   "execution_count": 1,
   "metadata": {},
   "outputs": [],
   "source": [
    "import sys\n",
    "sys.path.append('..')\n",
    "from luriegold import luriegold, LurieGold"
   ]
  },
  {
   "cell_type": "markdown",
   "metadata": {},
   "source": [
    "## 3x3 Matrix"
   ]
  },
  {
   "cell_type": "code",
   "execution_count": 2,
   "metadata": {},
   "outputs": [],
   "source": [
    "import numpy as np\n",
    "x = np.loadtxt('data-3.csv', delimiter=',')"
   ]
  },
  {
   "cell_type": "code",
   "execution_count": 3,
   "metadata": {},
   "outputs": [
    {
     "name": "stdout",
     "output_type": "stream",
     "text": [
      "-0.9481105398362935\n"
     ]
    }
   ],
   "source": [
    "R, _, _ = luriegold(x)\n",
    "print(R[0,1])"
   ]
  },
  {
   "cell_type": "code",
   "execution_count": 4,
   "metadata": {},
   "outputs": [
    {
     "name": "stdout",
     "output_type": "stream",
     "text": [
      " "
     ]
    },
    {
     "data": {
      "text/plain": [
       "         7470 function calls (7295 primitive calls) in 0.053 seconds\n",
       "\n",
       "   Ordered by: internal time\n",
       "   List reduced from 76 to 5 due to restriction <'luriegold_func.py'>\n",
       "\n",
       "   ncalls  tottime  percall  cumtime  percall filename:lineno(function)\n",
       "      211    0.004    0.000    0.012    0.000 luriegold_func.py:27(objectivefunc)\n",
       "      212    0.002    0.000    0.009    0.000 luriegold_func.py:32(nlcon_diagone)\n",
       "      424    0.001    0.000    0.008    0.000 luriegold_func.py:22(xtocorr)\n",
       "      424    0.001    0.000    0.001    0.000 luriegold_func.py:17(xtotril)\n",
       "        1    0.000    0.000    0.053    0.053 luriegold_func.py:6(luriegold)"
      ]
     },
     "metadata": {},
     "output_type": "display_data"
    }
   ],
   "source": [
    "%prun -l luriegold_func.py luriegold(x)"
   ]
  },
  {
   "cell_type": "code",
   "execution_count": 5,
   "metadata": {},
   "outputs": [
    {
     "name": "stdout",
     "output_type": "stream",
     "text": [
      " "
     ]
    },
    {
     "data": {
      "text/plain": [
       "         7474 function calls (7299 primitive calls) in 0.080 seconds\n",
       "\n",
       "   Ordered by: internal time\n",
       "   List reduced from 80 to 3 due to restriction <'luriegold_class.py'>\n",
       "\n",
       "   ncalls  tottime  percall  cumtime  percall filename:lineno(function)\n",
       "        1    0.000    0.000    0.080    0.080 luriegold_class.py:14(transform)\n",
       "        1    0.000    0.000    0.000    0.000 luriegold_class.py:7(__init__)\n",
       "        1    0.000    0.000    0.000    0.000 luriegold_class.py:10(fit)"
      ]
     },
     "metadata": {},
     "output_type": "display_data"
    }
   ],
   "source": [
    "%prun -l luriegold_class.py LurieGold().fit_transform(x)"
   ]
  },
  {
   "cell_type": "markdown",
   "metadata": {},
   "source": [
    "## 20x20 Matrix"
   ]
  },
  {
   "cell_type": "code",
   "execution_count": 6,
   "metadata": {},
   "outputs": [],
   "source": [
    "import numpy as np\n",
    "x = np.loadtxt('data-20.csv', delimiter=',')"
   ]
  },
  {
   "cell_type": "code",
   "execution_count": 10,
   "metadata": {},
   "outputs": [
    {
     "name": "stdout",
     "output_type": "stream",
     "text": [
      "-0.5765655323628921\n"
     ]
    }
   ],
   "source": [
    "R, _, _ = luriegold(x)\n",
    "print(R[0,1])"
   ]
  },
  {
   "cell_type": "code",
   "execution_count": 11,
   "metadata": {},
   "outputs": [
    {
     "name": "stdout",
     "output_type": "stream",
     "text": [
      " "
     ]
    },
    {
     "data": {
      "text/plain": [
       "         505821 function calls (484510 primitive calls) in 2.495 seconds\n",
       "\n",
       "   Ordered by: internal time\n",
       "   List reduced from 76 to 5 due to restriction <'luriegold_func.py'>\n",
       "\n",
       "   ncalls  tottime  percall  cumtime  percall filename:lineno(function)\n",
       "    21516    0.147    0.000    0.598    0.000 luriegold_func.py:27(objectivefunc)\n",
       "    21517    0.114    0.000    0.524    0.000 luriegold_func.py:32(nlcon_diagone)\n",
       "    43034    0.093    0.000    0.093    0.000 luriegold_func.py:17(xtotril)\n",
       "    43034    0.074    0.000    0.496    0.000 luriegold_func.py:22(xtocorr)\n",
       "        1    0.000    0.000    2.495    2.495 luriegold_func.py:6(luriegold)"
      ]
     },
     "metadata": {},
     "output_type": "display_data"
    }
   ],
   "source": [
    "%prun -l luriegold_func.py luriegold(x)"
   ]
  },
  {
   "cell_type": "code",
   "execution_count": 12,
   "metadata": {},
   "outputs": [
    {
     "name": "stdout",
     "output_type": "stream",
     "text": [
      " "
     ]
    },
    {
     "data": {
      "text/plain": [
       "         505825 function calls (484514 primitive calls) in 2.473 seconds\n",
       "\n",
       "   Ordered by: internal time\n",
       "   List reduced from 80 to 8 due to restriction <'luriegold'>\n",
       "\n",
       "   ncalls  tottime  percall  cumtime  percall filename:lineno(function)\n",
       "    21516    0.146    0.000    0.590    0.000 luriegold_func.py:27(objectivefunc)\n",
       "    21517    0.114    0.000    0.525    0.000 luriegold_func.py:32(nlcon_diagone)\n",
       "    43034    0.092    0.000    0.092    0.000 luriegold_func.py:17(xtotril)\n",
       "    43034    0.073    0.000    0.492    0.000 luriegold_func.py:22(xtocorr)\n",
       "        1    0.000    0.000    2.473    2.473 luriegold_func.py:6(luriegold)\n",
       "        1    0.000    0.000    2.473    2.473 luriegold_class.py:14(transform)\n",
       "        1    0.000    0.000    0.000    0.000 luriegold_class.py:7(__init__)\n",
       "        1    0.000    0.000    0.000    0.000 luriegold_class.py:10(fit)"
      ]
     },
     "metadata": {},
     "output_type": "display_data"
    }
   ],
   "source": [
    "%prun -l luriegold LurieGold().fit_transform(x)"
   ]
  },
  {
   "cell_type": "code",
   "execution_count": null,
   "metadata": {},
   "outputs": [],
   "source": []
  }
 ],
 "metadata": {
  "kernelspec": {
   "display_name": "Python 3",
   "language": "python",
   "name": "python3"
  },
  "language_info": {
   "codemirror_mode": {
    "name": "ipython",
    "version": 3
   },
   "file_extension": ".py",
   "mimetype": "text/x-python",
   "name": "python",
   "nbconvert_exporter": "python",
   "pygments_lexer": "ipython3",
   "version": "3.6.2"
  }
 },
 "nbformat": 4,
 "nbformat_minor": 2
}
