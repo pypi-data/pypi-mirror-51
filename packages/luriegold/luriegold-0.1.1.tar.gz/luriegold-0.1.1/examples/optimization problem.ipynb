{
 "cells": [
  {
   "cell_type": "markdown",
   "metadata": {},
   "source": [
    "# Lurie-Goldberg Algorithm\n",
    "The Lurie-Goldberg Algorithm is based on the idea that \n",
    "$L\\,L^T$ is always a semi-positive definite matrix \n",
    "with $L$ the lower triangular matrix of a Cholesky decomposition.\n",
    "\n",
    "Let $R \\in \\mathbb{R}^{d\\times d}$ a given ill-conditioned correlation matrix (e.g. subjective correlations from expert opinions), \n",
    "$L = (l_{ij})$ a lower triangular matrix,\n",
    "and $C \\in \\mathbb{R}^{d\\times d}$ the correlation matrix $C = L \\, L^T$.\n",
    "\n",
    "$$\n",
    "\\min_{l_{ij}} \\frac{1}{2} \\, || R - L \\, L^T ||^2 \n",
    "$$\n",
    "\n",
    "The number of parameters is $(d^2+d)/2$"
   ]
  },
  {
   "cell_type": "markdown",
   "metadata": {},
   "source": [
    "### Links\n",
    "* Philip M. Lurie, Matthew S. Goldberg, 1998. An Approximate Method for Sampling Correlated Random Variables from Partially-Specified Distributions. Management Science 44, 203–218. [researchgate](https://www.researchgate.net/profile/Philip_Lurie/publication/227447095_An_Approximate_Method_for_Sampling_Correlated_Random_Variables_from_Partially-Specified_Distributions/links/562ec86f08aef25a2444538c.pdf), \n"
   ]
  }
 ],
 "metadata": {
  "kernelspec": {
   "display_name": "Python 3",
   "language": "python",
   "name": "python3"
  },
  "language_info": {
   "codemirror_mode": {
    "name": "ipython",
    "version": 3
   },
   "file_extension": ".py",
   "mimetype": "text/x-python",
   "name": "python",
   "nbconvert_exporter": "python",
   "pygments_lexer": "ipython3",
   "version": "3.6.2"
  },
  "varInspector": {
   "cols": {
    "lenName": 16,
    "lenType": 16,
    "lenVar": 40
   },
   "kernels_config": {
    "python": {
     "delete_cmd_postfix": "",
     "delete_cmd_prefix": "del ",
     "library": "var_list.py",
     "varRefreshCmd": "print(var_dic_list())"
    },
    "r": {
     "delete_cmd_postfix": ") ",
     "delete_cmd_prefix": "rm(",
     "library": "var_list.r",
     "varRefreshCmd": "cat(var_dic_list()) "
    }
   },
   "types_to_exclude": [
    "module",
    "function",
    "builtin_function_or_method",
    "instance",
    "_Feature"
   ],
   "window_display": false
  }
 },
 "nbformat": 4,
 "nbformat_minor": 2
}
