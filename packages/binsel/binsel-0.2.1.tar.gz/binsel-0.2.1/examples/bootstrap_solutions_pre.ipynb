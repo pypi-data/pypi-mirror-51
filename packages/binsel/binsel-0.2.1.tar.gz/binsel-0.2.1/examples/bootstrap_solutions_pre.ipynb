{
 "cells": [
  {
   "cell_type": "code",
   "execution_count": 1,
   "metadata": {},
   "outputs": [],
   "source": [
    "import sys\n",
    "sys.path.append('..')"
   ]
  },
  {
   "cell_type": "markdown",
   "metadata": {},
   "source": [
    "# Load Demo Datasets\n",
    "Convert everything to boolean features."
   ]
  },
  {
   "cell_type": "code",
   "execution_count": 2,
   "metadata": {},
   "outputs": [],
   "source": [
    "from sklearn.datasets import load_breast_cancer\n",
    "from sklearn.preprocessing import scale\n",
    "X = scale(load_breast_cancer().data, axis=0) > 0\n",
    "y = load_breast_cancer().target"
   ]
  },
  {
   "cell_type": "markdown",
   "metadata": {},
   "source": [
    "# Generate Possible Solutions"
   ]
  },
  {
   "cell_type": "markdown",
   "metadata": {},
   "source": [
    "`preselect=1.0` should yiled the same solutions as `bootstrap_solutions_all`"
   ]
  },
  {
   "cell_type": "code",
   "execution_count": 3,
   "metadata": {},
   "outputs": [
    {
     "data": {
      "text/plain": [
       "array([[ 0,  4, 11, 15, 18],\n",
       "       [ 0, 11, 18, 19, 24],\n",
       "       [ 1,  3,  4, 18, 28],\n",
       "       [ 1,  3,  8, 18, 29],\n",
       "       [ 1,  6,  9, 11, 18],\n",
       "       [ 1,  6, 11, 18, 24],\n",
       "       [ 1, 11, 17, 18, 24],\n",
       "       [ 2, 11, 18, 24, 28],\n",
       "       [ 3,  4, 11, 18, 21],\n",
       "       [ 3,  4, 11, 18, 28],\n",
       "       [ 4, 11, 16, 18, 28],\n",
       "       [ 5, 11, 18, 21, 24],\n",
       "       [ 6,  8,  9, 11, 18],\n",
       "       [ 6,  9, 11, 18, 21],\n",
       "       [ 9, 10, 11, 18, 21],\n",
       "       [ 9, 10, 11, 18, 26],\n",
       "       [ 9, 11, 12, 18, 26],\n",
       "       [ 9, 11, 13, 15, 28],\n",
       "       [ 9, 11, 18, 23, 28],\n",
       "       [ 9, 11, 18, 26, 28]])"
      ]
     },
     "execution_count": 3,
     "metadata": {},
     "output_type": "execute_result"
    }
   ],
   "source": [
    "from binsel import bootstrap_solutions_pre\n",
    "solutions, oob = bootstrap_solutions_pre(X, y, n_select=5, preselect=1.0, n_draws=20, subsample=0.3)\n",
    "solutions"
   ]
  },
  {
   "cell_type": "markdown",
   "metadata": {},
   "source": [
    "`preselect=0.6` will preselect 60% of the features that have the highest correlation to `y`.\n",
    "The `mincorr` algorithm will throw errors because it cannot find `n_select=5` features that have ansolute correlation smaller that `max_rho=0.4`"
   ]
  },
  {
   "cell_type": "code",
   "execution_count": 4,
   "metadata": {},
   "outputs": [
    {
     "name": "stdout",
     "output_type": "stream",
     "text": [
      "Terminated: max_rho=0.400 works only for 2 features\n",
      "Terminated: max_rho=0.400 works only for 3 features\n",
      "Terminated: max_rho=0.400 works only for 2 features\n",
      "Terminated: max_rho=0.400 works only for 4 features\n",
      "Terminated: max_rho=0.400 works only for 3 features\n",
      "Terminated: max_rho=0.400 works only for 2 features\n",
      "Terminated: max_rho=0.400 works only for 3 features\n",
      "Terminated: max_rho=0.400 works only for 4 features\n",
      "Terminated: max_rho=0.400 works only for 2 features\n",
      "Terminated: max_rho=0.400 works only for 4 features\n",
      "Terminated: max_rho=0.400 works only for 3 features\n",
      "Terminated: max_rho=0.400 works only for 3 features\n",
      "Terminated: max_rho=0.400 works only for 2 features\n",
      "Terminated: max_rho=0.400 works only for 2 features\n",
      "Terminated: max_rho=0.400 works only for 3 features\n",
      "Terminated: max_rho=0.400 works only for 4 features\n",
      "Terminated: max_rho=0.400 works only for 3 features\n",
      "Terminated: max_rho=0.400 works only for 4 features\n",
      "Terminated: max_rho=0.400 works only for 3 features\n",
      "Terminated: max_rho=0.400 works only for 3 features\n"
     ]
    },
    {
     "data": {
      "text/plain": [
       "array([[ 0,  1,  5, 10, 17],\n",
       "       [ 0,  1, 10, 17, 25],\n",
       "       [ 0, 10, 15, 17, 24],\n",
       "       [ 0, 10, 16, 17, 28],\n",
       "       [ 0, 17, 21, 24, 25],\n",
       "       [ 1,  3,  5, 10, 16],\n",
       "       [ 1,  3,  5, 16, 17],\n",
       "       [ 1,  3, 10, 16, 17],\n",
       "       [ 1,  3, 10, 17, 25],\n",
       "       [ 1,  3, 17, 24, 25],\n",
       "       [ 1,  3, 17, 25, 28],\n",
       "       [ 1,  5, 10, 16, 21],\n",
       "       [ 1, 10, 17, 21, 26],\n",
       "       [ 1, 17, 20, 21, 25],\n",
       "       [ 1, 17, 21, 23, 25],\n",
       "       [ 3,  5, 10, 17, 21],\n",
       "       [ 3,  5, 12, 16, 21],\n",
       "       [10, 16, 17, 23, 25],\n",
       "       [12, 16, 20, 21, 25],\n",
       "       [16, 17, 23, 24, 25]])"
      ]
     },
     "execution_count": 4,
     "metadata": {},
     "output_type": "execute_result"
    }
   ],
   "source": [
    "from binsel import bootstrap_solutions_pre\n",
    "solutions, oob = bootstrap_solutions_pre(X, y, n_select=5, preselect=0.6, n_draws=20, subsample=0.3)\n",
    "solutions"
   ]
  },
  {
   "cell_type": "code",
   "execution_count": null,
   "metadata": {},
   "outputs": [],
   "source": []
  }
 ],
 "metadata": {
  "kernelspec": {
   "display_name": "Python 3",
   "language": "python",
   "name": "python3"
  },
  "language_info": {
   "codemirror_mode": {
    "name": "ipython",
    "version": 3
   },
   "file_extension": ".py",
   "mimetype": "text/x-python",
   "name": "python",
   "nbconvert_exporter": "python",
   "pygments_lexer": "ipython3",
   "version": "3.6.2"
  }
 },
 "nbformat": 4,
 "nbformat_minor": 2
}
