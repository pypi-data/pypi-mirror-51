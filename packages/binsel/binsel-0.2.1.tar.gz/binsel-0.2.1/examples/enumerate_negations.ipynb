{
 "cells": [
  {
   "cell_type": "code",
   "execution_count": 1,
   "metadata": {},
   "outputs": [],
   "source": [
    "import sys\n",
    "sys.path.append('..')\n",
    "\n",
    "import numpy as np"
   ]
  },
  {
   "cell_type": "markdown",
   "metadata": {},
   "source": [
    "# Load Demo Datasets\n",
    "Convert everything to boolean features."
   ]
  },
  {
   "cell_type": "code",
   "execution_count": 2,
   "metadata": {},
   "outputs": [],
   "source": [
    "from sklearn.datasets import load_breast_cancer\n",
    "from sklearn.preprocessing import scale\n",
    "X = scale(load_breast_cancer().data, axis=0) > 0\n",
    "y = load_breast_cancer().target"
   ]
  },
  {
   "cell_type": "markdown",
   "metadata": {},
   "source": [
    "# Negate Boolean Features to increase Matthews correlation to y"
   ]
  },
  {
   "cell_type": "code",
   "execution_count": 3,
   "metadata": {},
   "outputs": [],
   "source": [
    "idx_selected = [0, 15, 17, 21, 24]\n",
    "Xin = X[:, idx_selected]"
   ]
  },
  {
   "cell_type": "code",
   "execution_count": 4,
   "metadata": {},
   "outputs": [
    {
     "data": {
      "text/plain": [
       "((1, 0, 1, 1, 1), 0.7029901899473483)"
      ]
     },
     "execution_count": 4,
     "metadata": {},
     "output_type": "execute_result"
    }
   ],
   "source": [
    "from binsel import enumerate_negations\n",
    "negate, best_rho = enumerate_negations(Xin, y)\n",
    "negate, best_rho"
   ]
  },
  {
   "cell_type": "markdown",
   "metadata": {},
   "source": [
    "# Compare Correlations"
   ]
  },
  {
   "cell_type": "code",
   "execution_count": 5,
   "metadata": {},
   "outputs": [
    {
     "data": {
      "text/plain": [
       "array([[ 1. , -0.7, -0.3, -0.4, -0.4, -0.4],\n",
       "       [-0.7,  1. ,  0.3,  0.4,  0.3,  0.1],\n",
       "       [-0.3,  0.3,  1. ,  0.6,  0.1,  0.2],\n",
       "       [-0.4,  0.4,  0.6,  1. ,  0.1,  0.2],\n",
       "       [-0.4,  0.3,  0.1,  0.1,  1. ,  0.2],\n",
       "       [-0.4,  0.1,  0.2,  0.2,  0.2,  1. ]])"
      ]
     },
     "execution_count": 5,
     "metadata": {},
     "output_type": "execute_result"
    }
   ],
   "source": [
    "from korr import mcc\n",
    "rho, _ = mcc(np.c_[y, Xin])\n",
    "rho.round(1)"
   ]
  },
  {
   "cell_type": "code",
   "execution_count": 6,
   "metadata": {},
   "outputs": [
    {
     "data": {
      "text/plain": [
       "array([[ 1. ,  0.7, -0.3,  0.4,  0.4,  0.4],\n",
       "       [ 0.7,  1. , -0.3,  0.4,  0.3,  0.1],\n",
       "       [-0.3, -0.3,  1. , -0.6, -0.1, -0.2],\n",
       "       [ 0.4,  0.4, -0.6,  1. ,  0.1,  0.2],\n",
       "       [ 0.4,  0.3, -0.1,  0.1,  1. ,  0.2],\n",
       "       [ 0.4,  0.1, -0.2,  0.2,  0.2,  1. ]])"
      ]
     },
     "execution_count": 6,
     "metadata": {},
     "output_type": "execute_result"
    }
   ],
   "source": [
    "# negated features\n",
    "from binsel import negate_bool_features\n",
    "rho, _ = mcc(np.c_[y, negate_bool_features(Xin, negate)])\n",
    "rho.round(1)"
   ]
  },
  {
   "cell_type": "markdown",
   "metadata": {},
   "source": [
    "# Apply fitted result to Voter"
   ]
  },
  {
   "cell_type": "code",
   "execution_count": 7,
   "metadata": {},
   "outputs": [
    {
     "data": {
      "text/plain": [
       "0.7029901899473483"
      ]
     },
     "execution_count": 7,
     "metadata": {},
     "output_type": "execute_result"
    }
   ],
   "source": [
    "from binsel import hard_voting\n",
    "Xnew = negate_bool_features(Xin, negate)\n",
    "Ypred = hard_voting(Xnew)\n",
    "\n",
    "# Check \n",
    "rho, _ = mcc(np.c_[y, Ypred])\n",
    "rho[0,1]"
   ]
  },
  {
   "cell_type": "code",
   "execution_count": null,
   "metadata": {},
   "outputs": [],
   "source": []
  }
 ],
 "metadata": {
  "kernelspec": {
   "display_name": "Python 3",
   "language": "python",
   "name": "python3"
  },
  "language_info": {
   "codemirror_mode": {
    "name": "ipython",
    "version": 3
   },
   "file_extension": ".py",
   "mimetype": "text/x-python",
   "name": "python",
   "nbconvert_exporter": "python",
   "pygments_lexer": "ipython3",
   "version": "3.6.2"
  }
 },
 "nbformat": 4,
 "nbformat_minor": 2
}
