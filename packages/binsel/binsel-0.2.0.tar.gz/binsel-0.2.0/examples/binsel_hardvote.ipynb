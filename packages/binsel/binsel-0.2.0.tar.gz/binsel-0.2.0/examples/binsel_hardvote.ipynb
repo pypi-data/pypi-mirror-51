{
 "cells": [
  {
   "cell_type": "code",
   "execution_count": 1,
   "metadata": {},
   "outputs": [],
   "source": [
    "%load_ext autoreload\n",
    "%autoreload 2\n",
    "\n",
    "import sys\n",
    "sys.path.append('..')"
   ]
  },
  {
   "cell_type": "markdown",
   "metadata": {},
   "source": [
    "# Load Demo Datasets\n",
    "Convert everything to boolean features.\n"
   ]
  },
  {
   "cell_type": "code",
   "execution_count": 2,
   "metadata": {},
   "outputs": [],
   "source": [
    "from sklearn.datasets import load_breast_cancer\n",
    "from sklearn.preprocessing import scale\n",
    "X = scale(load_breast_cancer().data, axis=0) > 0\n",
    "y = load_breast_cancer().target"
   ]
  },
  {
   "cell_type": "markdown",
   "metadata": {},
   "source": [
    "# Select Binary Features"
   ]
  },
  {
   "cell_type": "code",
   "execution_count": 3,
   "metadata": {},
   "outputs": [],
   "source": [
    "from binsel import binsel_hardvote"
   ]
  },
  {
   "cell_type": "code",
   "execution_count": 4,
   "metadata": {},
   "outputs": [
    {
     "name": "stdout",
     "output_type": "stream",
     "text": [
      "CPU times: user 2 µs, sys: 0 ns, total: 2 µs\n",
      "Wall time: 6.2 µs\n"
     ]
    }
   ],
   "source": [
    "%time\n",
    "idx, neg, rho, results = binsel_hardvote(X, y, oob_score=True)"
   ]
  },
  {
   "cell_type": "code",
   "execution_count": 5,
   "metadata": {},
   "outputs": [
    {
     "data": {
      "text/plain": [
       "((9, 11, 16, 23, 28), (0, 0, 1, 1, 1), 0.703221549687725)"
      ]
     },
     "execution_count": 5,
     "metadata": {},
     "output_type": "execute_result"
    }
   ],
   "source": [
    "idx, neg, rho"
   ]
  },
  {
   "cell_type": "code",
   "execution_count": 6,
   "metadata": {},
   "outputs": [
    {
     "data": {
      "text/plain": [
       "[[(9, 11, 16, 23, 28), (0, 0, 1, 1, 1), 0.703221549687725],\n",
       " [(1, 7, 9, 11, 28), (1, 1, 0, 0, 1), 0.6899803655313018],\n",
       " [(11, 13, 18, 28, 29), (1, 1, 0, 1, 1), 0.6812210319621838],\n",
       " [(1, 6, 9, 11, 28), (1, 1, 0, 0, 1), 0.661192110985097],\n",
       " [(0, 11, 18, 21, 24), (1, 0, 1, 1, 1), 0.6565694352819658],\n",
       " [(1, 9, 11, 26, 28), (1, 0, 0, 1, 1), 0.6398343702501105],\n",
       " [(3, 8, 11, 18, 24), (1, 1, 1, 0, 1), 0.6370457372278925],\n",
       " [(3, 8, 11, 18, 29), (1, 1, 1, 0, 1), 0.6323169824978135],\n",
       " [(0, 8, 11, 18, 24), (1, 1, 1, 0, 1), 0.6322736202356122],\n",
       " [(1, 5, 11, 18, 24), (1, 1, 0, 1, 1), 0.6240299162580155],\n",
       " [(0, 1, 11, 18, 24), (1, 1, 0, 1, 1), 0.6170539263266249],\n",
       " [(7, 9, 11, 18, 21), (1, 0, 0, 1, 1), 0.6142503941879006],\n",
       " [(1, 5, 11, 18, 28), (1, 1, 0, 0, 1), 0.5986003795714137],\n",
       " [(5, 11, 18, 21, 28), (1, 0, 0, 1, 1), 0.5965172389605947],\n",
       " [(6, 9, 11, 21, 28), (1, 0, 0, 1, 1), 0.5949329177405221],\n",
       " [(3, 11, 15, 18, 24), (1, 1, 1, 0, 1), 0.5949055651833834],\n",
       " [(1, 7, 9, 11, 18), (1, 1, 0, 0, 1), 0.5941083951404712],\n",
       " [(1, 3, 4, 11, 18), (1, 1, 1, 0, 0), 0.5892091821534629],\n",
       " [(3, 4, 11, 18, 28), (1, 1, 1, 0, 1), 0.5837492125429851],\n",
       " [(1, 9, 11, 18, 26), (1, 0, 0, 1, 1), 0.5643502779674935],\n",
       " [(0, 11, 18, 24, 28), (1, 1, 0, 1, 1), 0.5532530332508077],\n",
       " [(0, 11, 15, 18, 24), (1, 1, 1, 0, 1), 0.5328250194087688],\n",
       " [(6, 9, 11, 18, 28), (1, 0, 1, 0, 1), 0.5287602126548356],\n",
       " [(6, 9, 11, 18, 21), (1, 0, 0, 1, 1), 0.525481167878666],\n",
       " [(0, 11, 18, 24, 29), (1, 1, 0, 1, 1), 0.5232115161481884],\n",
       " [(9, 11, 13, 21, 28), (1, 0, 1, 1, 1), 0.5131311690894966],\n",
       " [(7, 9, 11, 18, 28), (1, 0, 1, 0, 1), 0.511833835518347],\n",
       " [(5, 9, 11, 18, 21), (1, 0, 0, 1, 1), 0.47229292597003825],\n",
       " [(3, 4, 11, 18, 29), (1, 1, 1, 0, 1), 0.46690835998017],\n",
       " [(9, 11, 13, 18, 28), (0, 1, 1, 0, 1), 0.4302232334624649],\n",
       " [(1, 4, 11, 16, 18), (1, 1, 0, 1, 0), 0.4257183564788891],\n",
       " [(1, 9, 11, 18, 27), (1, 0, 0, 1, 1), 0.4204799574595403],\n",
       " [(9, 11, 18, 26, 28), (0, 1, 0, 1, 1), 0.4180074376163178],\n",
       " [(9, 11, 18, 23, 28), (0, 1, 0, 1, 1), 0.4032595298290233],\n",
       " [(1, 6, 9, 11, 18), (1, 1, 0, 1, 0), 0.39035502965931906]]"
      ]
     },
     "execution_count": 6,
     "metadata": {},
     "output_type": "execute_result"
    }
   ],
   "source": [
    "results"
   ]
  },
  {
   "cell_type": "code",
   "execution_count": null,
   "metadata": {},
   "outputs": [],
   "source": []
  }
 ],
 "metadata": {
  "kernelspec": {
   "display_name": "Python 3",
   "language": "python",
   "name": "python3"
  },
  "language_info": {
   "codemirror_mode": {
    "name": "ipython",
    "version": 3
   },
   "file_extension": ".py",
   "mimetype": "text/x-python",
   "name": "python",
   "nbconvert_exporter": "python",
   "pygments_lexer": "ipython3",
   "version": "3.6.2"
  }
 },
 "nbformat": 4,
 "nbformat_minor": 2
}
