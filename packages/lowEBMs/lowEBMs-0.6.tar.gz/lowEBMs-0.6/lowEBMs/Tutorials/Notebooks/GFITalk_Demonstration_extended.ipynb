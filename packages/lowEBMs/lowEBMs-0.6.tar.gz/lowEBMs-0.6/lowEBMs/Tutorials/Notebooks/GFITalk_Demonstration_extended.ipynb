{
 "cells": [
  {
   "cell_type": "markdown",
   "metadata": {
    "slideshow": {
     "slide_type": "slide"
    }
   },
   "source": [
    "# Demonstration of the lowEBMs Package\n",
    "\n",
    "-----\n",
    "\n",
    "- Installation\n",
    "- Import\n",
    "- Configuration\n",
    "- Simulation\n",
    "\n",
    "For more information, see https://lowebms.readthedocs.io/en/latest/"
   ]
  },
  {
   "cell_type": "markdown",
   "metadata": {
    "slideshow": {
     "slide_type": "slide"
    }
   },
   "source": [
    "## Installation\n",
    "----\n",
    "In your linux terminal: __pip install lowEBMs__ \n",
    "\n",
    "Alternatively use the github-repository: https://github.com/BenniSchmiedel/Low-dimensional-EBMs"
   ]
  },
  {
   "cell_type": "markdown",
   "metadata": {},
   "source": [
    "## Import\n",
    "----\n",
    "There are some modules which have to be imported. The core modules of any simulation run with the __lowEBMs__ are:"
   ]
  },
  {
   "cell_type": "code",
   "execution_count": null,
   "metadata": {
    "slideshow": {
     "slide_type": "-"
    }
   },
   "outputs": [],
   "source": [
    "from lowEBMs.Packages.Configuration import importer, add_sellersparameters, parameterinterpolatorstepwise \n",
    "from lowEBMs.Packages.Variables import variable_importer, Vars, trackerreset\n",
    "from lowEBMs.Packages.RK4 import rk4alg\n",
    "from lowEBMs.Packages.ModelEquation import model_equation"
   ]
  },
  {
   "cell_type": "markdown",
   "metadata": {},
   "source": [
    "To allow calculations use __numpy__ and for plotting for example __matplotlib__ :"
   ]
  },
  {
   "cell_type": "code",
   "execution_count": null,
   "metadata": {
    "slideshow": {
     "slide_type": "-"
    }
   },
   "outputs": [],
   "source": [
    "import matplotlib.pyplot as plt\n",
    "import numpy as np"
   ]
  },
  {
   "cell_type": "markdown",
   "metadata": {},
   "source": [
    "There are some other useful additional features in **lowEBMs**, for example:\n",
    "\n",
    "- the ``Constants`` module with physical constants and conversions\n",
    "- the ``update_plotstyle`` function to create nicer plots\n",
    "- the ``moving_average`` function to smooth data with a moving average if needed"
   ]
  },
  {
   "cell_type": "code",
   "execution_count": null,
   "metadata": {},
   "outputs": [],
   "source": [
    "import lowEBMs.Packages.Constants as const\n",
    "from lowEBMs import update_plotstyle, moving_average\n",
    "update_plotstyle()\n",
    "import matplotlib\n",
    "matplotlib.rcParams['lines.linewidth']=2"
   ]
  },
  {
   "cell_type": "markdown",
   "metadata": {},
   "source": [
    "## Configuration\n",
    "---\n",
    "\n",
    "The model is configured through an external __configuration.ini-file__! It includes:\n",
    "\n",
    "- The specifications of the numerical integration\n",
    "- The structure of the model equation\n",
    "- The initial condition\n",
    "- The parameters of the physical equation"
   ]
  },
  {
   "cell_type": "markdown",
   "metadata": {},
   "source": [
    "# Demonstration 0D EBM\n",
    "----\n"
   ]
  },
  {
   "cell_type": "markdown",
   "metadata": {},
   "source": [
    "### Import the configuration with \n",
    "\n",
    "``importer()``\n",
    "\n",
    "### Import variables and initial conditions with\n",
    "\n",
    "``variable_importer()``\n",
    "\n",
    "\n",
    "### Run the simulation with \n",
    "\n",
    "``rk4alg()``"
   ]
  },
  {
   "cell_type": "code",
   "execution_count": null,
   "metadata": {},
   "outputs": [],
   "source": [
    "configuration_OD_Spinup=importer('Demonstration_config_0D_Spinup.ini')\n",
    "\n",
    "variable_importer(configuration_OD_Spinup,control=True,accuracy_number=10000)\n",
    "\n",
    "Time_Spinup,ZMT_Spinup,GMT_Spinup=rk4alg(model_equation,configuration_OD_Spinup['eqparam'],configuration_OD_Spinup['rk4input'],configuration_OD_Spinup['funccomp'])"
   ]
  },
  {
   "cell_type": "code",
   "execution_count": null,
   "metadata": {},
   "outputs": [],
   "source": [
    "plt.plot(   Time_Spinup/const.time_sec_year,   GMT_Spinup)"
   ]
  },
  {
   "cell_type": "code",
   "execution_count": null,
   "metadata": {},
   "outputs": [],
   "source": [
    "configuration_Crowley_OD=importer('Demonstration_config_Crowley_0D.ini')\n",
    "\n",
    "variable_importer(configuration_Crowley_OD)\n",
    "\n",
    "Vars.T,Vars.T_global=ZMT_Spinup[-1],GMT_Spinup[-1]\n",
    "Time_Crowley_0D,ZMT_Crowley_0D,GMT_Crowley_0D=rk4alg(model_equation,configuration_Crowley_OD['eqparam'],configuration_Crowley_OD['rk4input'],configuration_Crowley_OD['funccomp'])"
   ]
  },
  {
   "cell_type": "code",
   "execution_count": null,
   "metadata": {},
   "outputs": [],
   "source": [
    "import lowEBMs.Packages.Constants as const\n",
    "from lowEBMs import update_plotstyle, moving_average\n",
    "update_plotstyle()\n",
    "import matplotlib\n",
    "matplotlib.rcParams['lines.linewidth']=2"
   ]
  },
  {
   "cell_type": "code",
   "execution_count": null,
   "metadata": {},
   "outputs": [],
   "source": [
    "fig,ax=plt.subplots(1,1,figsize=(16,7))\n",
    "\n",
    "plt.plot( Time_Crowley_0D/const.time_sec_year , GMT_Crowley_0D-GMT_Crowley_0D[0] ,\\\n",
    "         label='Late Holocene 0DEBM (CRW+SBF)' , c='#e15759' )\n",
    "\n",
    "\n",
    "Time_HadCM3,GMT_HadCM3=np.loadtxt('Data/HadCM3_GMT_smoothed.txt',delimiter=',',unpack=True)\n",
    "plt.plot(Time_HadCM3,GMT_HadCM3, label='Late Holocene HadCM3 (CRW+SBF)',c='#76b7b2', linewidth=1.5)\n",
    "\n",
    "\n",
    "ax.set_xlim(850,1850),ax.set_xticks(np.linspace(850,1850,6))\n",
    "ax.set_ylim(-1.5,1),ax.set_xlabel('$Year$'),ax.set_ylabel('$GMT_{response}\\; [K]$')\n",
    "plt.legend(fontsize=16,loc='lower right')"
   ]
  },
  {
   "cell_type": "code",
   "execution_count": null,
   "metadata": {},
   "outputs": [],
   "source": [
    "configuration_EVA_OD=importer('Demonstration_config_EVA_0D.ini')\n",
    "\n",
    "variable_importer(configuration_EVA_OD)\n",
    "\n",
    "Vars.T,Vars.T_global=ZMT_Spinup[-1],GMT_Spinup[-1]\n",
    "Time_EVA_0D,ZMT_EVA_0D,GMT_EVA_0D=rk4alg(model_equation,configuration_EVA_OD['eqparam'],configuration_EVA_OD['rk4input'],configuration_EVA_OD['funccomp'])"
   ]
  },
  {
   "cell_type": "code",
   "execution_count": null,
   "metadata": {},
   "outputs": [],
   "source": [
    "fig,ax=plt.subplots(1,1,figsize=(16,7))\n",
    "\n",
    "plt.plot( Time_Crowley_0D/const.time_sec_year , GMT_Crowley_0D-GMT_Crowley_0D[0] ,\\\n",
    "         label='Late Holocene 0DEBM (CRW+SBF)' , c='#e15759' )\n",
    "\n",
    "plt.plot( Time_EVA_0D/const.time_sec_year , GMT_EVA_0D-GMT_Crowley_0D[0] ,\\\n",
    "         label='Late Holocene 0DEBM (Sigl+SBF)' ,c='#76b7b2' )\n",
    "\n",
    "ax.set_xlim(850,1850),ax.set_xticks(np.linspace(850,1850,6))\n",
    "ax.set_ylim(-1.5,0.1),ax.set_xlabel('$Year$'),ax.set_ylabel('$GMT_{response}\\; [K]$')\n",
    "plt.legend(fontsize=16,loc='lower right')"
   ]
  },
  {
   "cell_type": "markdown",
   "metadata": {},
   "source": [
    "# Demonstration 1D EBM\n",
    "---\n",
    "\n",
    "This simulation runs with the Sellers energy transfer flux which requires parameters resolved over the latitudes. \n",
    "\n",
    "Those are stored externally and can be imported with ``add_sellersparameters()``."
   ]
  },
  {
   "cell_type": "code",
   "execution_count": null,
   "metadata": {},
   "outputs": [],
   "source": [
    "configuration_1D=importer('Demonstration_config_1D.ini')\n",
    "\n",
    "variable_importer(configuration_1D,control=True)\n",
    "\n",
    "configuration_1D,ParasCTRL=add_sellersparameters(configuration_1D,\\\n",
    "                                    parameterinterpolatorstepwise,'SellersParameterization.ini',2,0,True,True)\n",
    "\n",
    "Time_1D,ZMT_1D,GMT_1D=rk4alg(model_equation,configuration_1D['eqparam'],configuration_1D['rk4input'],configuration_1D['funccomp'])"
   ]
  },
  {
   "cell_type": "code",
   "execution_count": null,
   "metadata": {},
   "outputs": [],
   "source": [
    "from lowEBMs.Packages.Variables import Vars"
   ]
  },
  {
   "cell_type": "code",
   "execution_count": null,
   "metadata": {},
   "outputs": [],
   "source": [
    "fig,ax=plt.subplots(1,2,figsize=(16,7))\n",
    "\n",
    "\n",
    "ax[0].plot(Time_1D[1:]/const.time_sec_year,GMT_1D[1:],c='#4e79a7')\n",
    "ax[0].scatter(Time_1D[-1]/const.time_sec_year,GMT_1D[-1],c='#4e79a7')\n",
    "\n",
    "ax[0].set_xlabel('$Year$'),ax[0].set_ylabel('$GMT\\; [K]$')\n",
    "ax[0].set_title('GMT 1D-EBM Spinup')\n",
    "\n",
    "ax[1].plot(Vars.Lat,ZMT_1D[-1],c='#f28e2b')\n",
    "\n",
    "ax[1].set_xlabel('$Latitudes\\; [°]$'),ax[1].set_ylabel('$ZMT\\; [K]$')\n",
    "ax[1].set_xticks(np.linspace(-90,90,7))\n",
    "ax[1].set_title('ZMT 1D-EBM Spinup')"
   ]
  },
  {
   "cell_type": "code",
   "execution_count": null,
   "metadata": {},
   "outputs": [],
   "source": []
  }
 ],
 "metadata": {
  "kernelspec": {
   "display_name": "Python 3",
   "language": "python",
   "name": "python3"
  },
  "language_info": {
   "codemirror_mode": {
    "name": "ipython",
    "version": 3
   },
   "file_extension": ".py",
   "mimetype": "text/x-python",
   "name": "python",
   "nbconvert_exporter": "python",
   "pygments_lexer": "ipython3",
   "version": "3.6.9"
  }
 },
 "nbformat": 4,
 "nbformat_minor": 2
}
