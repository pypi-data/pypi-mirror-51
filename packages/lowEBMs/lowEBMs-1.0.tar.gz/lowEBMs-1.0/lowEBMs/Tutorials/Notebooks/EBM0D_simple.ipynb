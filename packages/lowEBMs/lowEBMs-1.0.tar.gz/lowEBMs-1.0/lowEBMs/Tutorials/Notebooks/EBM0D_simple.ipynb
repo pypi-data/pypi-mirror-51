{
 "cells": [
  {
   "cell_type": "code",
   "execution_count": null,
   "metadata": {},
   "outputs": [],
   "source": [
    "import matplotlib.pyplot as plt\n",
    "import numpy as np\n",
    "from lowEBMs.Packages.Configuration import importer \n",
    "from lowEBMs.Packages.Variables import variable_importer\n",
    "from lowEBMs.Packages.RK4 import rk4alg\n",
    "from lowEBMs.Packages.ModelEquation import model_equation"
   ]
  },
  {
   "cell_type": "code",
   "execution_count": null,
   "metadata": {},
   "outputs": [],
   "source": [
    "configuration=importer('EBM0D_simple_config.ini')\n",
    "eq=configuration['eqparam']\n",
    "rk=configuration['rk4input']\n",
    "fun=configuration['funccomp']\n",
    "variable_importer(configuration)\n",
    "Time,ZMT,GMT=rk4alg(model_equation,eq,rk,fun)"
   ]
  },
  {
   "cell_type": "code",
   "execution_count": null,
   "metadata": {},
   "outputs": [],
   "source": [
    "import lowEBMs.Packages.Constants as const\n",
    "plt.plot(Time/const.time_sec_year,GMT)\n",
    "plt.xlabel('Time [years]')\n",
    "plt.ylabel('GMT [K]')"
   ]
  },
  {
   "cell_type": "code",
   "execution_count": null,
   "metadata": {},
   "outputs": [],
   "source": [
    "from lowEBMs import update_plotstyle\n",
    "update_plotstyle()\n",
    "from lowEBMs.Tutorials import plot_time_temp\n",
    "\n",
    "plot_time_temp([Time,ZMT,GMT])"
   ]
  },
  {
   "cell_type": "code",
   "execution_count": null,
   "metadata": {},
   "outputs": [],
   "source": []
  }
 ],
 "metadata": {
  "kernelspec": {
   "display_name": "Python 2",
   "language": "python",
   "name": "python2"
  },
  "language_info": {
   "codemirror_mode": {
    "name": "ipython",
    "version": 3
   },
   "file_extension": ".py",
   "mimetype": "text/x-python",
   "name": "python",
   "nbconvert_exporter": "python",
   "pygments_lexer": "ipython3",
   "version": "3.6.8"
  }
 },
 "nbformat": 4,
 "nbformat_minor": 2
}
