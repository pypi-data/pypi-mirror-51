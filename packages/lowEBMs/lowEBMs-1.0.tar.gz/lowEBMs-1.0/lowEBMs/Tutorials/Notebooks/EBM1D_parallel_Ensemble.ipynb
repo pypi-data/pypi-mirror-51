{
 "cells": [
  {
   "cell_type": "code",
   "execution_count": null,
   "metadata": {},
   "outputs": [],
   "source": [
    "import matplotlib.pyplot as plt\n",
    "import numpy as np\n",
    "from lowEBMs.Packages.Configuration import importer, add_sellersparameters, parameterinterpolatorstepwise\n",
    "from lowEBMs.Packages.Variables import variable_importer, Vars\n",
    "from lowEBMs.Packages.RK4 import rk4alg\n",
    "from lowEBMs.Packages.ModelEquation import model_equation\n",
    "from lowEBMs.Packages.Optimization import add_parameters\n"
   ]
  },
  {
   "cell_type": "code",
   "execution_count": null,
   "metadata": {},
   "outputs": [],
   "source": [
    "parameter_labels=[['func1','m']]\n",
    "parameter_values=[[0.4,0.45,0.5,0.55,0.6]]\n",
    "setup={'number_of_parameters': 5, 'number_of_cycles': 1, 'number_of_parallels': 5}\n",
    "\n",
    "\n",
    "config_base=importer('EBM1D_parallel_Ensemble_config.ini')\n",
    "variable_importer(config_base,initialZMT=True,parallel=True,parallel_config=setup)\n",
    "config_addsellers,ParasCTRL=add_sellersparameters(config_base,\\\n",
    "                                    parameterinterpolatorstepwise,'SellersParameterization.ini',2,0,True,True)\n",
    "config_addparameters=add_parameters(config_addsellers,parameter_values,parameter_labels)\n",
    "\n",
    "eq=config_addparameters['eqparam']\n",
    "rk=config_addparameters['rk4input']\n",
    "fun=config_addparameters['funccomp']\n",
    "Time,ZMT,GMT=rk4alg(model_equation,eq,rk,fun)"
   ]
  },
  {
   "cell_type": "code",
   "execution_count": null,
   "metadata": {},
   "outputs": [],
   "source": [
    "from lowEBMs import update_plotstyle\n",
    "import lowEBMs.Packages.Constants as const\n",
    "import builtins\n",
    "import matplotlib\n",
    "update_plotstyle()\n",
    "matplotlib.rcParams['lines.linewidth']=1.1"
   ]
  },
  {
   "cell_type": "code",
   "execution_count": null,
   "metadata": {},
   "outputs": [],
   "source": [
    "plt.figure(figsize=(16,9))\n",
    "for k in range(5):\n",
    "    plt.plot(Time/constants.time_sec_year,GMT[:,k],label='m='+str(parameter_values[0][k]))\n",
    "plt.legend(fontsize=15)"
   ]
  },
  {
   "cell_type": "code",
   "execution_count": null,
   "metadata": {},
   "outputs": [],
   "source": [
    "plt.figure(figsize=(16,9))\n",
    "for k in range(5):\n",
    "    plt.plot(Vars.Lat,ZMT[-1,k]-np.average(ZMT[-1,k],weights=np.cos(Vars.Lat*np.pi/180)),label='m='+str(parameter_values[0][k]))\n",
    "plt.legend(fontsize=15)"
   ]
  },
  {
   "cell_type": "code",
   "execution_count": null,
   "metadata": {},
   "outputs": [],
   "source": []
  }
 ],
 "metadata": {
  "kernelspec": {
   "display_name": "Python 3",
   "language": "python",
   "name": "python3"
  },
  "language_info": {
   "codemirror_mode": {
    "name": "ipython",
    "version": 3
   },
   "file_extension": ".py",
   "mimetype": "text/x-python",
   "name": "python",
   "nbconvert_exporter": "python",
   "pygments_lexer": "ipython3",
   "version": "3.6.8"
  }
 },
 "nbformat": 4,
 "nbformat_minor": 2
}
