{
 "cells": [
  {
   "cell_type": "code",
   "execution_count": null,
   "metadata": {},
   "outputs": [],
   "source": [
    "import matplotlib.pyplot as plt\n",
    "import numpy as np\n",
    "from lowEBMs.Packages.Configuration import importer, add_sellersparameters, parameterinterpolatorstepwise, reset\n",
    "from lowEBMs.Packages.Variables import variable_importer, Vars\n",
    "from lowEBMs.Packages.RK4 import rk4alg\n",
    "from lowEBMs.Packages.ModelEquation import model_equation\n",
    "from lowEBMs import moving_average, update_plotstyle\n",
    "import lowEBMs.Packages.Constants as const\n",
    "update_plotstyle()"
   ]
  },
  {
   "cell_type": "code",
   "execution_count": null,
   "metadata": {},
   "outputs": [],
   "source": [
    "#Load basic configuration\n",
    "configOrbital=importer('../Config/EBM1D_OrbitalForcing.ini')\n",
    "variable_importer(configOrbital,initialZMT=True)\n",
    "configOrbital,Paras=add_sellersparameters(configOrbital,parameterinterpolatorstepwise,'SellersParameterization.ini',3,1,True,True)\n",
    "\n",
    "#update for Spinup and run\n",
    "variable_importer(configOrbital,initialZMT=True,control=True)\n",
    "Spinup_Orbital=rk4alg(model_equation,configOrbital['eqparam'],configOrbital['rk4input'],configOrbital['funccomp'])\n",
    "\n",
    "\n",
    "#update for Targetsimulation with Spinup as initial and run\n",
    "variable_importer(configOrbital,initialZMT=False,control=False)\n",
    "Vars.T,Vars.T_global=Spinup_Orbital[1][-1],Spinup_Orbital[2][-1]\n",
    "Data_Orbital=rk4alg(model_equation,configOrbital['eqparam'],configOrbital['rk4input'],configOrbital['funccomp'])"
   ]
  },
  {
   "cell_type": "code",
   "execution_count": null,
   "metadata": {},
   "outputs": [],
   "source": [
    "#plt.plot((Spinup_Solar[0][0]-(Spinup_Solar[0][-1]-Spinup_Solar[0][0])+(Spinup_Solar[0]-Spinup_Solar[0][0]))/constants.time_sec_year,Spinup_Solar[2])\n",
    "plt.plot(Data_Solar[0]/const.time_sec_year,Data_Solar[2])"
   ]
  },
  {
   "cell_type": "code",
   "execution_count": null,
   "metadata": {},
   "outputs": [],
   "source": []
  }
 ],
 "metadata": {
  "kernelspec": {
   "display_name": "Python 3",
   "language": "python",
   "name": "python3"
  },
  "language_info": {
   "codemirror_mode": {
    "name": "ipython",
    "version": 3
   },
   "file_extension": ".py",
   "mimetype": "text/x-python",
   "name": "python",
   "nbconvert_exporter": "python",
   "pygments_lexer": "ipython3",
   "version": "3.6.8"
  }
 },
 "nbformat": 4,
 "nbformat_minor": 2
}
