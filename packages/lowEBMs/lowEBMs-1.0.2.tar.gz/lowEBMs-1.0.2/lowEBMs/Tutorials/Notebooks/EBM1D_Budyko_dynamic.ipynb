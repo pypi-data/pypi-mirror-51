{
 "cells": [
  {
   "cell_type": "code",
   "execution_count": null,
   "metadata": {},
   "outputs": [],
   "source": [
    "import matplotlib.pyplot as plt\n",
    "import numpy as np\n",
    "from lowEBMs.Packages.Configuration import importer \n",
    "from lowEBMs.Packages.Variables import variable_importer, Vars\n",
    "from lowEBMs.Packages.RK4 import rk4alg\n",
    "from lowEBMs.Packages.ModelEquation import model_equation"
   ]
  },
  {
   "cell_type": "code",
   "execution_count": null,
   "metadata": {},
   "outputs": [],
   "source": [
    "configuration=importer('EBM1D_Budyko_dynamic_config.ini')\n",
    "variable_importer(configuration)\n",
    "Time,ZMT,GMT=rk4alg(configuration)"
   ]
  },
  {
   "cell_type": "code",
   "execution_count": null,
   "metadata": {},
   "outputs": [],
   "source": [
    "from lowEBMs import update_plotstyle\n",
    "update_plotstyle()\n",
    "from lowEBMs.Packages.Functions import plotmeanstd\n",
    "#plot_lat_temp(outputdata)\n",
    "T=plotmeanstd(ZMT)\n",
    "plt.figure(figsize=(12,7))\n",
    "plt.plot(Vars.Lat,T[0],marker='.')\n",
    "plt.xlabel('Latitude [°]'); plt.ylabel('ZMT [K]')\n",
    "plt.xlim(-90,90); plt.ylim()\n",
    "plt.hlines(273.15,xmin=-90,xmax=90,alpha=0.3)\n",
    "plt.xticks(np.linspace(-90,90,7))\n",
    "plt.yticks([250,260,270,273.15,280,290,300],[250,260,270,273.15,280,290,300])\n",
    "plt.show()\n"
   ]
  },
  {
   "cell_type": "code",
   "execution_count": null,
   "metadata": {},
   "outputs": [],
   "source": [
    "from lowEBMs.Tutorials import plot_time_temp\n",
    "\n",
    "plot_time_temp([Time,ZMT,GMT])"
   ]
  }
 ],
 "metadata": {
  "kernelspec": {
   "display_name": "Python 3",
   "language": "python",
   "name": "python3"
  },
  "language_info": {
   "codemirror_mode": {
    "name": "ipython",
    "version": 3
   },
   "file_extension": ".py",
   "mimetype": "text/x-python",
   "name": "python",
   "nbconvert_exporter": "python",
   "pygments_lexer": "ipython3",
   "version": "3.6.9"
  }
 },
 "nbformat": 4,
 "nbformat_minor": 2
}
