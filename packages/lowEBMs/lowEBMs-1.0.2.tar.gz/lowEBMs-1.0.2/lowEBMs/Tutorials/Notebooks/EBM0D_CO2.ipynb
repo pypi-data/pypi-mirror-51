{
 "cells": [
  {
   "cell_type": "code",
   "execution_count": null,
   "metadata": {},
   "outputs": [],
   "source": [
    "import matplotlib.pyplot as plt\n",
    "import numpy as np\n",
    "from lowEBMs.Packages.Configuration import importer \n",
    "from lowEBMs.Packages.Variables import variable_importer\n",
    "from lowEBMs.Packages.RK4 import rk4alg\n",
    "from lowEBMs.Packages.ModelEquation import model_equation"
   ]
  },
  {
   "cell_type": "code",
   "execution_count": null,
   "metadata": {},
   "outputs": [],
   "source": [
    "configuration=importer('EBM0D_CO2_config.ini')\n",
    "\n",
    "variable_importer(configuration,control=True)\n",
    "Time_Spinup,ZMT_Spinup,GMT_Spinup=rk4alg(configuration)\n",
    "\n",
    "variable_importer(configuration,control=False)\n",
    "Vars.T=ZMT_Spinup[-1]\n",
    "Time,ZMT,GMT=rk4alg(configuration)"
   ]
  },
  {
   "cell_type": "code",
   "execution_count": null,
   "metadata": {},
   "outputs": [],
   "source": [
    "from lowEBMs import update_plotstyle\n",
    "update_plotstyle()\n",
    "from lowEBMs.Tutorials import plot_time_temp\n",
    "\n",
    "plot_time_temp([Time,ZMT,GMT])"
   ]
  },
  {
   "cell_type": "code",
   "execution_count": null,
   "metadata": {},
   "outputs": [],
   "source": []
  }
 ],
 "metadata": {
  "kernelspec": {
   "display_name": "Python 3",
   "language": "python",
   "name": "python3"
  },
  "language_info": {
   "codemirror_mode": {
    "name": "ipython",
    "version": 3
   },
   "file_extension": ".py",
   "mimetype": "text/x-python",
   "name": "python",
   "nbconvert_exporter": "python",
   "pygments_lexer": "ipython3",
   "version": "3.6.9"
  }
 },
 "nbformat": 4,
 "nbformat_minor": 2
}
