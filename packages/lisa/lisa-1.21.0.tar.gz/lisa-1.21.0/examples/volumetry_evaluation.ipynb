{
 "cells": [
  {
   "cell_type": "markdown",
   "metadata": {},
   "source": [
    "# Evaluation based on SLIVER07 methodics\n",
    "\n",
    "http://www.sliver07.org/\n",
    "\n",
    "Methodic description:\n",
    "\n",
    "http://www.sliver07.org/p7.pdf\n"
   ]
  },
  {
   "cell_type": "code",
   "execution_count": null,
   "metadata": {},
   "outputs": [],
   "source": [
    "import numpy as np\n",
    "import lisa.volumetry_evaluation\n"
   ]
  },
  {
   "cell_type": "code",
   "execution_count": null,
   "metadata": {},
   "outputs": [],
   "source": []
  },
  {
   "cell_type": "code",
   "execution_count": null,
   "metadata": {},
   "outputs": [],
   "source": [
    "data1 = np.zeros([10, 10, 10])\n",
    "data2 = np.zeros([10, 10, 10])\n",
    "\n",
    "data1[2:6, 2:6, 2:6] = 1\n",
    "\n",
    "data2[4:8, 2:8, 2:8] = 1\n",
    "data2[1:8, 5, 5] = 1"
   ]
  },
  {
   "cell_type": "markdown",
   "metadata": {},
   "source": [
    "## Metrics"
   ]
  },
  {
   "cell_type": "code",
   "execution_count": null,
   "metadata": {},
   "outputs": [],
   "source": [
    "lisa.volumetry_evaluation.compare_volumes(data1, data2, voxelsize_mm=[1,1,1])"
   ]
  },
  {
   "cell_type": "markdown",
   "metadata": {},
   "source": [
    "## Scores"
   ]
  },
  {
   "cell_type": "code",
   "execution_count": null,
   "metadata": {},
   "outputs": [],
   "source": [
    "lisa.volumetry_evaluation.compare_volumes_sliver(data1, data2, voxelsize_mm=[1,1,1])"
   ]
  },
  {
   "cell_type": "markdown",
   "metadata": {},
   "source": [
    "# From Lisa"
   ]
  },
  {
   "cell_type": "code",
   "execution_count": null,
   "metadata": {},
   "outputs": [],
   "source": [
    "import os.path as op\n",
    "import io3d.datasets\n",
    "\n",
    "input_annotation_file = op.join(\"tests\", \"test_dwv_jatra_5mm.json\")\n",
    "input_data_path = io3d.datasets.join_path(\"jatra_5mm/\")\n",
    "\n",
    "oseg = lisa.organ_segmentation.OrganSegmentation(\n",
    "    input_annotation_file=input_annotation_file,\n",
    "    datapath=input_data_path,\n",
    "    output_annotation_file=\"output.json\",\n",
    "    autocrop=False,\n",
    "\n",
    ")\n",
    "oseg.make_run()\n",
    "oseg.data3d\n",
    "oseg.segmentation\n",
    "oseg.sliver_compare_with_other_volume_from_file(\"file.pklz\")"
   ]
  }
 ],
 "metadata": {
  "kernelspec": {
   "display_name": "Python 2",
   "language": "python",
   "name": "python2"
  },
  "language_info": {
   "codemirror_mode": {
    "name": "ipython",
    "version": 2
   },
   "file_extension": ".py",
   "mimetype": "text/x-python",
   "name": "python",
   "nbconvert_exporter": "python",
   "pygments_lexer": "ipython2",
   "version": "2.7.14"
  }
 },
 "nbformat": 4,
 "nbformat_minor": 2
}
