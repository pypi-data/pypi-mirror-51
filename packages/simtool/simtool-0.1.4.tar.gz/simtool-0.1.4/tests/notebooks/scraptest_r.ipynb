{
 "cells": [
  {
   "cell_type": "code",
   "execution_count": 5,
   "metadata": {},
   "outputs": [],
   "source": [
    "import scrapbook as sb"
   ]
  },
  {
   "cell_type": "code",
   "execution_count": 11,
   "metadata": {},
   "outputs": [
    {
     "data": {
      "text/plain": [
       "Scraps([('A List',\n",
       "         Scrap(name='A List', data=[1, 2, 'hello'], encoder='json', display=None)),\n",
       "        ('integer',\n",
       "         Scrap(name='integer', data=42, encoder='json', display=None)),\n",
       "        ('float',\n",
       "         Scrap(name='float', data=3.1415926, encoder='json', display=None)),\n",
       "        ('mydict',\n",
       "         Scrap(name='mydict', data={'First': 'Martin', 'Last': 'Hunt'}, encoder='json', display=None)),\n",
       "        ('hello',\n",
       "         Scrap(name='hello', data='world', encoder='text', display=None)),\n",
       "        ('number',\n",
       "         Scrap(name='number', data=123, encoder='json', display=None)),\n",
       "        ('some_list',\n",
       "         Scrap(name='some_list', data=[1, 3, 5], encoder='json', display=None)),\n",
       "        ('some_dict',\n",
       "         Scrap(name='some_dict', data={'a': 1, 'b': 2}, encoder='json', display=None)),\n",
       "        ('array',\n",
       "         Scrap(name='array', data='{\"__ndarray__\": [[0, 1, 2, 3, 4], [5, 6, 7, 8, 9]], \"dtype\": \"int64\", \"shape\": [2, 5], \"Corder\": true}', encoder='text', display=None))])"
      ]
     },
     "execution_count": 11,
     "metadata": {},
     "output_type": "execute_result"
    }
   ],
   "source": [
    "book = sb.read_notebook('scraptest_w.ipynb')\n",
    "book.scraps"
   ]
  },
  {
   "cell_type": "code",
   "execution_count": 12,
   "metadata": {},
   "outputs": [
    {
     "data": {
      "text/html": [
       "<div>\n",
       "<style scoped>\n",
       "    .dataframe tbody tr th:only-of-type {\n",
       "        vertical-align: middle;\n",
       "    }\n",
       "\n",
       "    .dataframe tbody tr th {\n",
       "        vertical-align: top;\n",
       "    }\n",
       "\n",
       "    .dataframe thead th {\n",
       "        text-align: right;\n",
       "    }\n",
       "</style>\n",
       "<table border=\"1\" class=\"dataframe\">\n",
       "  <thead>\n",
       "    <tr style=\"text-align: right;\">\n",
       "      <th></th>\n",
       "      <th>name</th>\n",
       "      <th>data</th>\n",
       "      <th>encoder</th>\n",
       "      <th>display</th>\n",
       "      <th>filename</th>\n",
       "    </tr>\n",
       "  </thead>\n",
       "  <tbody>\n",
       "    <tr>\n",
       "      <th>0</th>\n",
       "      <td>A List</td>\n",
       "      <td>[1, 2, hello]</td>\n",
       "      <td>json</td>\n",
       "      <td>None</td>\n",
       "      <td>scraptest_w.ipynb</td>\n",
       "    </tr>\n",
       "    <tr>\n",
       "      <th>1</th>\n",
       "      <td>integer</td>\n",
       "      <td>42</td>\n",
       "      <td>json</td>\n",
       "      <td>None</td>\n",
       "      <td>scraptest_w.ipynb</td>\n",
       "    </tr>\n",
       "    <tr>\n",
       "      <th>2</th>\n",
       "      <td>float</td>\n",
       "      <td>3.14159</td>\n",
       "      <td>json</td>\n",
       "      <td>None</td>\n",
       "      <td>scraptest_w.ipynb</td>\n",
       "    </tr>\n",
       "    <tr>\n",
       "      <th>3</th>\n",
       "      <td>mydict</td>\n",
       "      <td>{'First': 'Martin', 'Last': 'Hunt'}</td>\n",
       "      <td>json</td>\n",
       "      <td>None</td>\n",
       "      <td>scraptest_w.ipynb</td>\n",
       "    </tr>\n",
       "    <tr>\n",
       "      <th>4</th>\n",
       "      <td>hello</td>\n",
       "      <td>world</td>\n",
       "      <td>text</td>\n",
       "      <td>None</td>\n",
       "      <td>scraptest_w.ipynb</td>\n",
       "    </tr>\n",
       "    <tr>\n",
       "      <th>5</th>\n",
       "      <td>number</td>\n",
       "      <td>123</td>\n",
       "      <td>json</td>\n",
       "      <td>None</td>\n",
       "      <td>scraptest_w.ipynb</td>\n",
       "    </tr>\n",
       "    <tr>\n",
       "      <th>6</th>\n",
       "      <td>some_list</td>\n",
       "      <td>[1, 3, 5]</td>\n",
       "      <td>json</td>\n",
       "      <td>None</td>\n",
       "      <td>scraptest_w.ipynb</td>\n",
       "    </tr>\n",
       "    <tr>\n",
       "      <th>7</th>\n",
       "      <td>some_dict</td>\n",
       "      <td>{'a': 1, 'b': 2}</td>\n",
       "      <td>json</td>\n",
       "      <td>None</td>\n",
       "      <td>scraptest_w.ipynb</td>\n",
       "    </tr>\n",
       "    <tr>\n",
       "      <th>8</th>\n",
       "      <td>array</td>\n",
       "      <td>{\"__ndarray__\": [[0, 1, 2, 3, 4], [5, 6, 7, 8,...</td>\n",
       "      <td>text</td>\n",
       "      <td>None</td>\n",
       "      <td>scraptest_w.ipynb</td>\n",
       "    </tr>\n",
       "  </tbody>\n",
       "</table>\n",
       "</div>"
      ],
      "text/plain": [
       "        name                                               data encoder  \\\n",
       "0     A List                                      [1, 2, hello]    json   \n",
       "1    integer                                                 42    json   \n",
       "2      float                                            3.14159    json   \n",
       "3     mydict                {'First': 'Martin', 'Last': 'Hunt'}    json   \n",
       "4      hello                                              world    text   \n",
       "5     number                                                123    json   \n",
       "6  some_list                                          [1, 3, 5]    json   \n",
       "7  some_dict                                   {'a': 1, 'b': 2}    json   \n",
       "8      array  {\"__ndarray__\": [[0, 1, 2, 3, 4], [5, 6, 7, 8,...    text   \n",
       "\n",
       "  display           filename  \n",
       "0    None  scraptest_w.ipynb  \n",
       "1    None  scraptest_w.ipynb  \n",
       "2    None  scraptest_w.ipynb  \n",
       "3    None  scraptest_w.ipynb  \n",
       "4    None  scraptest_w.ipynb  \n",
       "5    None  scraptest_w.ipynb  \n",
       "6    None  scraptest_w.ipynb  \n",
       "7    None  scraptest_w.ipynb  \n",
       "8    None  scraptest_w.ipynb  "
      ]
     },
     "execution_count": 12,
     "metadata": {},
     "output_type": "execute_result"
    }
   ],
   "source": [
    "book.scrap_dataframe"
   ]
  },
  {
   "cell_type": "code",
   "execution_count": 8,
   "metadata": {},
   "outputs": [
    {
     "data": {
      "text/plain": [
       "Scrap(name='A List', data=[1, 2, 'hello'], encoder='json', display=None)"
      ]
     },
     "execution_count": 8,
     "metadata": {},
     "output_type": "execute_result"
    }
   ],
   "source": [
    "book.scraps['A List']"
   ]
  },
  {
   "cell_type": "code",
   "execution_count": 10,
   "metadata": {},
   "outputs": [
    {
     "data": {
      "text/plain": [
       "Scrap(name='array', data='{\"__ndarray__\": [[0, 1, 2, 3, 4], [5, 6, 7, 8, 9]], \"dtype\": \"int64\", \"shape\": [2, 5], \"Corder\": true}', encoder='text', display=None)"
      ]
     },
     "execution_count": 10,
     "metadata": {},
     "output_type": "execute_result"
    }
   ],
   "source": [
    "book.scraps['array']"
   ]
  }
 ],
 "metadata": {
  "kernelspec": {
   "display_name": "Python 3",
   "language": "python",
   "name": "python3"
  },
  "language_info": {
   "codemirror_mode": {
    "name": "ipython",
    "version": 3
   },
   "file_extension": ".py",
   "mimetype": "text/x-python",
   "name": "python",
   "nbconvert_exporter": "python",
   "pygments_lexer": "ipython3",
   "version": "3.7.3"
  }
 },
 "nbformat": 4,
 "nbformat_minor": 2
}
