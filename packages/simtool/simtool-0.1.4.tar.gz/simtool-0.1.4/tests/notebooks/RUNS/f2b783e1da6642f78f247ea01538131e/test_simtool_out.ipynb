{
 "cells": [
  {
   "cell_type": "code",
   "execution_count": null,
   "metadata": {
    "hide_input": true,
    "inputHidden": true
   },
   "outputs": [
    {
     "data": {
      "text/html": [
       "<span style=\"color:red; font-family:Helvetica Neue, Helvetica, Arial, sans-serif; font-size:2em;\">An Exception was encountered at 'In [1]'.</span>"
      ]
     },
     "metadata": {},
     "output_type": "display_data"
    }
   ],
   "source": [
    "%%html\n",
    "<span style=\"color:red; font-family:Helvetica Neue, Helvetica, Arial, sans-serif; font-size:2em;\">An Exception was encountered at 'In [1]'.</span>"
   ]
  },
  {
   "cell_type": "markdown",
   "metadata": {
    "papermill": {
     "duration": 0.00914,
     "end_time": "2019-08-20T16:07:43.934766",
     "exception": false,
     "start_time": "2019-08-20T16:07:43.925626",
     "status": "completed"
    },
    "tags": []
   },
   "source": [
    "# SimTool Test\n",
    "\n",
    "Test of a simulation tool that accepts a bunch of different input types and writes different outputs."
   ]
  },
  {
   "cell_type": "code",
   "execution_count": 1,
   "metadata": {
    "papermill": {
     "duration": 6.785183,
     "end_time": "2019-08-20T16:07:50.727845",
     "exception": true,
     "start_time": "2019-08-20T16:07:43.942662",
     "status": "failed"
    },
    "tags": []
   },
   "outputs": [
    {
     "ename": "ModuleNotFoundError",
     "evalue": "No module named 'jsonpickle'",
     "output_type": "error",
     "traceback": [
      "\u001b[0;31m---------------------------------------------------------------------------\u001b[0m",
      "\u001b[0;31mModuleNotFoundError\u001b[0m                       Traceback (most recent call last)",
      "\u001b[0;32m<ipython-input-1-e0a22b979dbd>\u001b[0m in \u001b[0;36m<module>\u001b[0;34m\u001b[0m\n\u001b[1;32m      1\u001b[0m \u001b[0mget_ipython\u001b[0m\u001b[0;34m(\u001b[0m\u001b[0;34m)\u001b[0m\u001b[0;34m.\u001b[0m\u001b[0mrun_line_magic\u001b[0m\u001b[0;34m(\u001b[0m\u001b[0;34m'load_ext'\u001b[0m\u001b[0;34m,\u001b[0m \u001b[0;34m'yamlmagic'\u001b[0m\u001b[0;34m)\u001b[0m\u001b[0;34m\u001b[0m\u001b[0;34m\u001b[0m\u001b[0m\n\u001b[1;32m      2\u001b[0m \u001b[0;32mimport\u001b[0m \u001b[0mnumpy\u001b[0m \u001b[0;32mas\u001b[0m \u001b[0mnp\u001b[0m\u001b[0;34m\u001b[0m\u001b[0;34m\u001b[0m\u001b[0m\n\u001b[0;32m----> 3\u001b[0;31m \u001b[0;32mfrom\u001b[0m \u001b[0msimtool\u001b[0m \u001b[0;32mimport\u001b[0m \u001b[0mDB\u001b[0m\u001b[0;34m\u001b[0m\u001b[0;34m\u001b[0m\u001b[0m\n\u001b[0m",
      "\u001b[0;32m/depot/nanohub/apps/HUBapps/share64/anaconda/rice7/anaconda-6/lib/python3.7/site-packages/simtool/__init__.py\u001b[0m in \u001b[0;36m<module>\u001b[0;34m\u001b[0m\n\u001b[1;32m      1\u001b[0m \u001b[0m__version__\u001b[0m \u001b[0;34m=\u001b[0m \u001b[0;34m'0.1.3'\u001b[0m\u001b[0;34m\u001b[0m\u001b[0;34m\u001b[0m\u001b[0m\n\u001b[1;32m      2\u001b[0m \u001b[0;34m\u001b[0m\u001b[0m\n\u001b[0;32m----> 3\u001b[0;31m \u001b[0;32mfrom\u001b[0m \u001b[0;34m.\u001b[0m\u001b[0mutils\u001b[0m \u001b[0;32mimport\u001b[0m \u001b[0mget_inputs\u001b[0m\u001b[0;34m,\u001b[0m \u001b[0mparse\u001b[0m\u001b[0;34m,\u001b[0m \u001b[0mget_outputs\u001b[0m\u001b[0;34m\u001b[0m\u001b[0;34m\u001b[0m\u001b[0m\n\u001b[0m\u001b[1;32m      4\u001b[0m \u001b[0;32mfrom\u001b[0m \u001b[0;34m.\u001b[0m\u001b[0mrun\u001b[0m \u001b[0;32mimport\u001b[0m \u001b[0mRun\u001b[0m\u001b[0;34m,\u001b[0m \u001b[0mDB\u001b[0m\u001b[0;34m\u001b[0m\u001b[0;34m\u001b[0m\u001b[0m\n\u001b[1;32m      5\u001b[0m \u001b[0;32mfrom\u001b[0m \u001b[0;34m.\u001b[0m\u001b[0mexperiment\u001b[0m \u001b[0;32mimport\u001b[0m \u001b[0mExperiment\u001b[0m\u001b[0;34m,\u001b[0m \u001b[0mset_experiment\u001b[0m\u001b[0;34m,\u001b[0m \u001b[0mget_experiment\u001b[0m\u001b[0;34m\u001b[0m\u001b[0;34m\u001b[0m\u001b[0m\n",
      "\u001b[0;32m/depot/nanohub/apps/HUBapps/share64/anaconda/rice7/anaconda-6/lib/python3.7/site-packages/simtool/utils.py\u001b[0m in \u001b[0;36m<module>\u001b[0;34m\u001b[0m\n\u001b[1;32m      3\u001b[0m \u001b[0;32mfrom\u001b[0m \u001b[0mpapermill\u001b[0m\u001b[0;34m.\u001b[0m\u001b[0miorw\u001b[0m \u001b[0;32mimport\u001b[0m \u001b[0mload_notebook_node\u001b[0m\u001b[0;34m\u001b[0m\u001b[0;34m\u001b[0m\u001b[0m\n\u001b[1;32m      4\u001b[0m \u001b[0;32mimport\u001b[0m \u001b[0myaml\u001b[0m\u001b[0;34m\u001b[0m\u001b[0;34m\u001b[0m\u001b[0m\n\u001b[0;32m----> 5\u001b[0;31m \u001b[0;32mimport\u001b[0m \u001b[0mjsonpickle\u001b[0m\u001b[0;34m\u001b[0m\u001b[0;34m\u001b[0m\u001b[0m\n\u001b[0m\u001b[1;32m      6\u001b[0m \u001b[0;32mfrom\u001b[0m \u001b[0;34m.\u001b[0m\u001b[0mparams\u001b[0m \u001b[0;32mimport\u001b[0m \u001b[0mParams\u001b[0m\u001b[0;34m\u001b[0m\u001b[0;34m\u001b[0m\u001b[0m\n\u001b[1;32m      7\u001b[0m \u001b[0;34m\u001b[0m\u001b[0m\n",
      "\u001b[0;31mModuleNotFoundError\u001b[0m: No module named 'jsonpickle'"
     ]
    }
   ],
   "source": [
    "%load_ext yamlmagic\n",
    "import numpy as np\n",
    "from simtool import DB"
   ]
  },
  {
   "cell_type": "code",
   "execution_count": null,
   "metadata": {
    "papermill": {
     "duration": null,
     "end_time": null,
     "exception": null,
     "start_time": null,
     "status": "pending"
    },
    "tags": []
   },
   "outputs": [],
   "source": [
    "%%yaml INPUTS\n",
    "\n",
    "some_text:\n",
    "    desc: Text to Write in Output Image\n",
    "    type: Text\n",
    "    maxlen: 20\n",
    "    value: 'Default Text'\n",
    "    \n",
    "volts:\n",
    "    desc: Value to Write in Output Image\n",
    "    type: Number\n",
    "    units: mV\n",
    "    value: 0\n",
    "    max: 1000\n",
    "\n",
    "width:\n",
    "    desc: Width of Output Image in pixels\n",
    "    type: Integer\n",
    "    value: 400\n",
    "    min: 100\n",
    "    max: 2000\n",
    "    \n",
    "height:\n",
    "    desc: Height of Output Image in pixels\n",
    "    type: Integer\n",
    "    value: 200\n",
    "    min: 50\n",
    "    max: 1000\n",
    "\n",
    "position:\n",
    "    desc: Position of text in image [x, y] in pixels\n",
    "    type: List\n",
    "    value: [20, 20]\n",
    "\n",
    "options:\n",
    "    desc: Color and Font Size Options.\n",
    "    type: Dict\n",
    "    value: {'FontSize': 28, 'FontColor': 'red', 'Background': 'black'}\n",
    "    \n",
    "myarray:\n",
    "    type: Array\n",
    "    dim: 1"
   ]
  },
  {
   "cell_type": "code",
   "execution_count": null,
   "metadata": {
    "papermill": {
     "duration": null,
     "end_time": null,
     "exception": null,
     "start_time": null,
     "status": "pending"
    },
    "tags": []
   },
   "outputs": [],
   "source": [
    "%%yaml OUTPUTS\n",
    "\n",
    "volts:\n",
    "    desc: Input 'volts' returned from SimTool\n",
    "    type: Number\n",
    "    units: mV\n",
    "\n",
    "myarray:\n",
    "    desc: The array that was input, doubled.\n",
    "    type: Array\n",
    "\n",
    "PNG:\n",
    "    desc: Image as a PNG\n",
    "    type: Image\n",
    "\n",
    "JPG:\n",
    "    desc: Image as a JPG\n",
    "    type: Image\n",
    "\n",
    "GIF:\n",
    "    desc: Image as a GIF\n",
    "    type: Image\n",
    "    \n",
    "nanohub:\n",
    "    desc: Our logo!\n",
    "    type: Image"
   ]
  },
  {
   "cell_type": "code",
   "execution_count": null,
   "metadata": {
    "papermill": {
     "duration": null,
     "end_time": null,
     "exception": null,
     "start_time": null,
     "status": "pending"
    },
    "tags": [
     "parameters"
    ]
   },
   "outputs": [],
   "source": [
    "some_text = 'Hello'\n",
    "volts = 200\n",
    "width = 400\n",
    "height = 200\n",
    "fontsize = 28\n",
    "position = [20, 20]\n",
    "options = {'FontSize': 40, 'FontColor': 'red', 'Background': 'black'}\n",
    "myarray = np.arange(0,10,.2)"
   ]
  },
  {
   "cell_type": "code",
   "execution_count": null,
   "metadata": {
    "papermill": {
     "duration": null,
     "end_time": null,
     "exception": null,
     "start_time": null,
     "status": "pending"
    },
    "tags": [
     "injected-parameters"
    ]
   },
   "outputs": [],
   "source": [
    "# Parameters\n",
    "height = 200\n",
    "myarray = [[1.0, 2.0, 3.14], [4.0, 5.0, 6.0]]\n",
    "options = {\"Background\": \"black\", \"FontColor\": \"red\", \"FontSize\": 28}\n",
    "position = [20, 20]\n",
    "some_text = \"Default Text\"\n",
    "volts = 42.0\n",
    "width = 400\n"
   ]
  },
  {
   "cell_type": "markdown",
   "metadata": {
    "papermill": {
     "duration": null,
     "end_time": null,
     "exception": null,
     "start_time": null,
     "status": "pending"
    },
    "tags": []
   },
   "source": [
    "**** Computation is Done Below ****"
   ]
  },
  {
   "cell_type": "code",
   "execution_count": null,
   "metadata": {
    "papermill": {
     "duration": null,
     "end_time": null,
     "exception": null,
     "start_time": null,
     "status": "pending"
    },
    "tags": []
   },
   "outputs": [],
   "source": [
    "db = DB(OUTPUTS)\n",
    "db.save('volts', volts)"
   ]
  },
  {
   "cell_type": "code",
   "execution_count": null,
   "metadata": {
    "papermill": {
     "duration": null,
     "end_time": null,
     "exception": null,
     "start_time": null,
     "status": "pending"
    },
    "tags": []
   },
   "outputs": [],
   "source": [
    "db.save('volts', volts, display=True)"
   ]
  },
  {
   "cell_type": "code",
   "execution_count": null,
   "metadata": {
    "papermill": {
     "duration": null,
     "end_time": null,
     "exception": null,
     "start_time": null,
     "status": "pending"
    },
    "tags": []
   },
   "outputs": [],
   "source": [
    "# arrays are passed to notebook as lists.  Convert it\n",
    "myarray = np.array(myarray)\n",
    "db.save('myarray', myarray * 2)\n",
    "db.save('myarray', myarray * 4.1, display=True)"
   ]
  },
  {
   "cell_type": "code",
   "execution_count": null,
   "metadata": {
    "papermill": {
     "duration": null,
     "end_time": null,
     "exception": null,
     "start_time": null,
     "status": "pending"
    },
    "tags": []
   },
   "outputs": [],
   "source": [
    "# Generate output images for our SimTool based on input parameters\n",
    "import PIL.Image\n",
    "import PIL.ImageDraw\n",
    "import PIL.ImageFont\n",
    "\n",
    "img = PIL.Image.new('RGB', (width, height), color=options['Background'])\n",
    "d = PIL.ImageDraw.Draw(img)\n",
    "font = PIL.ImageFont.truetype(\"/usr/share/fonts/truetype/inconsolata/Inconsolata.otf\", options['FontSize'], encoding=\"unic\")\n",
    "d.text(position, '%s : %smV' % (some_text, volts), font=font, fill=options['FontColor'])\n",
    "img.save('foo.png')\n",
    "db.save('PNG', file='foo.png', display=True)"
   ]
  },
  {
   "cell_type": "code",
   "execution_count": null,
   "metadata": {
    "papermill": {
     "duration": null,
     "end_time": null,
     "exception": null,
     "start_time": null,
     "status": "pending"
    },
    "tags": []
   },
   "outputs": [],
   "source": [
    "img = PIL.Image.new('RGB', (width, height), color=options['Background'])\n",
    "d = PIL.ImageDraw.Draw(img)\n",
    "d.text(position, '%s : %smV (JPG)' % (some_text, volts), font=font, fill=options['FontColor'])\n",
    "# img.save('foo.jpg')\n",
    "db.save('JPG', img, display=True)"
   ]
  },
  {
   "cell_type": "code",
   "execution_count": null,
   "metadata": {
    "papermill": {
     "duration": null,
     "end_time": null,
     "exception": null,
     "start_time": null,
     "status": "pending"
    },
    "tags": []
   },
   "outputs": [],
   "source": [
    "img = PIL.Image.new('RGB', (width, height), color=options['Background'])\n",
    "d = PIL.ImageDraw.Draw(img)\n",
    "d.text(position, '%s : %smV (GIF)' % (some_text, volts), font=font, fill=options['FontColor'])\n",
    "img.save('foo.gif')\n",
    "db.save('GIF', file='foo.gif')"
   ]
  },
  {
   "cell_type": "code",
   "execution_count": null,
   "metadata": {
    "papermill": {
     "duration": null,
     "end_time": null,
     "exception": null,
     "start_time": null,
     "status": "pending"
    },
    "tags": []
   },
   "outputs": [],
   "source": [
    "db.save('nanohub', file='nanohub.png', display=True)"
   ]
  },
  {
   "cell_type": "code",
   "execution_count": null,
   "metadata": {
    "papermill": {
     "duration": null,
     "end_time": null,
     "exception": null,
     "start_time": null,
     "status": "pending"
    },
    "tags": []
   },
   "outputs": [],
   "source": []
  }
 ],
 "metadata": {
  "celltoolbar": "Tags",
  "kernelspec": {
   "display_name": "Python 3",
   "language": "python",
   "name": "python3"
  },
  "language_info": {
   "codemirror_mode": {
    "name": "ipython",
    "version": 3
   },
   "file_extension": ".py",
   "mimetype": "text/x-python",
   "name": "python",
   "nbconvert_exporter": "python",
   "pygments_lexer": "ipython3",
   "version": "3.7.3"
  },
  "papermill": {
   "duration": 11.462999,
   "end_time": "2019-08-20T16:07:51.720826",
   "environment_variables": {},
   "exception": true,
   "input_path": "./test_simtool.ipynb",
   "output_path": "test_simtool_out.ipynb",
   "parameters": {
    "height": 200,
    "myarray": [
     [
      1.0,
      2.0,
      3.14
     ],
     [
      4.0,
      5.0,
      6.0
     ]
    ],
    "options": {
     "Background": "black",
     "FontColor": "red",
     "FontSize": 28
    },
    "position": [
     20,
     20
    ],
    "some_text": "Default Text",
    "volts": 42.0,
    "width": 400
   },
   "start_time": "2019-08-20T16:07:40.257827",
   "version": "1.0.0"
  }
 },
 "nbformat": 4,
 "nbformat_minor": 2
}