{
 "cells": [
  {
   "cell_type": "markdown",
   "metadata": {
    "papermill": {
     "duration": 0.009792,
     "end_time": "2019-08-29T16:13:35.003381",
     "exception": false,
     "start_time": "2019-08-29T16:13:34.993589",
     "status": "completed"
    },
    "tags": []
   },
   "source": [
    "# SimTool Test\n",
    "\n",
    "Test of a simulation tool that accepts a bunch of different input types and writes different outputs."
   ]
  },
  {
   "cell_type": "code",
   "execution_count": null,
   "metadata": {
    "papermill": {
     "duration": 14.776892,
     "end_time": "2019-08-29T16:13:49.789151",
     "exception": false,
     "start_time": "2019-08-29T16:13:35.012259",
     "status": "completed"
    },
    "tags": []
   },
   "outputs": [],
   "source": [
    "%load_ext yamlmagic\n",
    "import numpy as np\n",
    "from simtool import DB"
   ]
  },
  {
   "cell_type": "code",
   "execution_count": null,
   "metadata": {
    "papermill": {
     "duration": 0.02251,
     "end_time": "2019-08-29T16:13:49.900949",
     "exception": false,
     "start_time": "2019-08-29T16:13:49.878439",
     "status": "completed"
    },
    "tags": []
   },
   "outputs": [],
   "source": [
    "%%yaml INPUTS\n",
    "\n",
    "some_text:\n",
    "    desc: Text to Write in Output Image\n",
    "    type: Text\n",
    "    maxlen: 20\n",
    "    value: 'Default Text'\n",
    "    \n",
    "volts:\n",
    "    desc: Value to Write in Output Image\n",
    "    type: Number\n",
    "    units: mV\n",
    "    value: 0\n",
    "    max: 1000\n",
    "\n",
    "width:\n",
    "    desc: Width of Output Image in pixels\n",
    "    type: Integer\n",
    "    value: 400\n",
    "    min: 100\n",
    "    max: 2000\n",
    "    \n",
    "height:\n",
    "    desc: Height of Output Image in pixels\n",
    "    type: Integer\n",
    "    value: 200\n",
    "    min: 50\n",
    "    max: 1000\n",
    "\n",
    "position:\n",
    "    desc: Position of text in image [x, y] in pixels\n",
    "    type: List\n",
    "    value: [20, 20]\n",
    "\n",
    "options:\n",
    "    desc: Color and Font Size Options.\n",
    "    type: Dict\n",
    "    value: {'FontSize': 28, 'FontColor': 'red', 'Background': 'black'}\n",
    "    \n",
    "myarray:\n",
    "    type: Array\n",
    "    dim: 1"
   ]
  },
  {
   "cell_type": "code",
   "execution_count": null,
   "metadata": {
    "papermill": {
     "duration": 0.019289,
     "end_time": "2019-08-29T16:13:49.929815",
     "exception": false,
     "start_time": "2019-08-29T16:13:49.910526",
     "status": "completed"
    },
    "tags": []
   },
   "outputs": [],
   "source": [
    "%%yaml OUTPUTS\n",
    "\n",
    "volts:\n",
    "    desc: Input 'volts' returned from SimTool\n",
    "    type: Number\n",
    "    units: mV\n",
    "\n",
    "myarray:\n",
    "    desc: The array that was input, doubled.\n",
    "    type: Array\n",
    "\n",
    "PNG:\n",
    "    desc: Image as a PNG\n",
    "    type: Image\n",
    "\n",
    "JPG:\n",
    "    desc: Image as a JPG\n",
    "    type: Image\n",
    "\n",
    "GIF:\n",
    "    desc: Image as a GIF\n",
    "    type: Image\n",
    "    \n",
    "nanohub:\n",
    "    desc: Our logo!\n",
    "    type: Image"
   ]
  },
  {
   "cell_type": "code",
   "execution_count": null,
   "metadata": {
    "papermill": {
     "duration": 0.016249,
     "end_time": "2019-08-29T16:13:49.955780",
     "exception": false,
     "start_time": "2019-08-29T16:13:49.939531",
     "status": "completed"
    },
    "tags": [
     "parameters"
    ]
   },
   "outputs": [],
   "source": [
    "some_text = 'Hello'\n",
    "volts = 200\n",
    "width = 400\n",
    "height = 200\n",
    "fontsize = 28\n",
    "position = [20, 20]\n",
    "options = {'FontSize': 40, 'FontColor': 'red', 'Background': 'black'}\n",
    "myarray = np.arange(0,10,.2)"
   ]
  },
  {
   "cell_type": "code",
   "execution_count": null,
   "metadata": {
    "papermill": {
     "duration": 0.016211,
     "end_time": "2019-08-29T16:13:49.981759",
     "exception": false,
     "start_time": "2019-08-29T16:13:49.965548",
     "status": "completed"
    },
    "tags": [
     "injected-parameters"
    ]
   },
   "outputs": [],
   "source": [
    "# Parameters\n",
    "height = 200\n",
    "myarray = [[1.0, 2.0, 3.14], [4.0, 5.0, 6.0]]\n",
    "options = {\"Background\": \"black\", \"FontColor\": \"red\", \"FontSize\": 28}\n",
    "position = [20, 20]\n",
    "some_text = \"Default Text\"\n",
    "volts = 82.0\n",
    "width = 400\n"
   ]
  },
  {
   "cell_type": "markdown",
   "metadata": {
    "papermill": {
     "duration": 0.009352,
     "end_time": "2019-08-29T16:13:50.000749",
     "exception": false,
     "start_time": "2019-08-29T16:13:49.991397",
     "status": "completed"
    },
    "tags": []
   },
   "source": [
    "**** Computation is Done Below ****"
   ]
  },
  {
   "cell_type": "code",
   "execution_count": null,
   "metadata": {
    "papermill": {
     "duration": 0.0185,
     "end_time": "2019-08-29T16:13:50.028598",
     "exception": false,
     "start_time": "2019-08-29T16:13:50.010098",
     "status": "completed"
    },
    "tags": []
   },
   "outputs": [],
   "source": [
    "db = DB(OUTPUTS)\n",
    "db.save('volts', volts)"
   ]
  },
  {
   "cell_type": "code",
   "execution_count": null,
   "metadata": {
    "papermill": {
     "duration": 0.018738,
     "end_time": "2019-08-29T16:13:50.057176",
     "exception": false,
     "start_time": "2019-08-29T16:13:50.038438",
     "status": "completed"
    },
    "tags": []
   },
   "outputs": [],
   "source": [
    "db.save('volts', volts, display=True)"
   ]
  },
  {
   "cell_type": "code",
   "execution_count": null,
   "metadata": {
    "papermill": {
     "duration": 0.023517,
     "end_time": "2019-08-29T16:13:50.090976",
     "exception": false,
     "start_time": "2019-08-29T16:13:50.067459",
     "status": "completed"
    },
    "tags": []
   },
   "outputs": [],
   "source": [
    "# arrays are passed to notebook as lists.  Convert it\n",
    "myarray = np.array(myarray)\n",
    "db.save('myarray', myarray * 2)\n",
    "db.save('myarray', myarray * 4.1, display=True)"
   ]
  },
  {
   "cell_type": "code",
   "execution_count": null,
   "metadata": {
    "papermill": {
     "duration": 0.311337,
     "end_time": "2019-08-29T16:13:50.413371",
     "exception": false,
     "start_time": "2019-08-29T16:13:50.102034",
     "status": "completed"
    },
    "tags": []
   },
   "outputs": [],
   "source": [
    "# Generate output images for our SimTool based on input parameters\n",
    "import PIL.Image\n",
    "import PIL.ImageDraw\n",
    "import PIL.ImageFont\n",
    "\n",
    "img = PIL.Image.new('RGB', (width, height), color=options['Background'])\n",
    "d = PIL.ImageDraw.Draw(img)\n",
    "try:\n",
    "    font = PIL.ImageFont.truetype(\"/usr/share/fonts/truetype/inconsolata/Inconsolata.otf\", options['FontSize'], encoding=\"unic\")\n",
    "except:\n",
    "    font = PIL.ImageFont.load_default()\n",
    "d.text(position, '%s : %smV' % (some_text, volts), font=font, fill=options['FontColor'])\n",
    "img.save('foo.png')\n",
    "db.save('PNG', file='foo.png', display=True)"
   ]
  },
  {
   "cell_type": "code",
   "execution_count": null,
   "metadata": {
    "papermill": {
     "duration": 0.054307,
     "end_time": "2019-08-29T16:13:50.481901",
     "exception": false,
     "start_time": "2019-08-29T16:13:50.427594",
     "status": "completed"
    },
    "tags": []
   },
   "outputs": [],
   "source": [
    "img = PIL.Image.new('RGB', (width, height), color=options['Background'])\n",
    "d = PIL.ImageDraw.Draw(img)\n",
    "d.text(position, '%s : %smV (JPG)' % (some_text, volts), font=font, fill=options['FontColor'])\n",
    "# img.save('foo.jpg')\n",
    "db.save('JPG', img, display=True)"
   ]
  },
  {
   "cell_type": "code",
   "execution_count": null,
   "metadata": {
    "papermill": {
     "duration": 0.031951,
     "end_time": "2019-08-29T16:13:50.529874",
     "exception": false,
     "start_time": "2019-08-29T16:13:50.497923",
     "status": "completed"
    },
    "tags": []
   },
   "outputs": [],
   "source": [
    "img = PIL.Image.new('RGB', (width, height), color=options['Background'])\n",
    "d = PIL.ImageDraw.Draw(img)\n",
    "d.text(position, '%s : %smV (GIF)' % (some_text, volts), font=font, fill=options['FontColor'])\n",
    "img.save('foo.gif')\n",
    "db.save('GIF', file='foo.gif')"
   ]
  },
  {
   "cell_type": "code",
   "execution_count": null,
   "metadata": {
    "papermill": {
     "duration": 1.128446,
     "end_time": "2019-08-29T16:13:51.674630",
     "exception": true,
     "start_time": "2019-08-29T16:13:50.546184",
     "status": "failed"
    },
    "tags": []
   },
   "outputs": [],
   "source": [
    "db.save('nanohub', file='images/nanohub.png', display=True)"
   ]
  },
  {
   "cell_type": "code",
   "execution_count": null,
   "metadata": {
    "papermill": {
     "duration": null,
     "end_time": null,
     "exception": null,
     "start_time": null,
     "status": "pending"
    },
    "tags": []
   },
   "outputs": [],
   "source": []
  }
 ],
 "metadata": {
  "celltoolbar": "Tags",
  "kernelspec": {
   "display_name": "Python 3",
   "language": "python",
   "name": "python3"
  },
  "language_info": {
   "codemirror_mode": {
    "name": "ipython",
    "version": 3
   },
   "file_extension": ".py",
   "mimetype": "text/x-python",
   "name": "python",
   "nbconvert_exporter": "python",
   "pygments_lexer": "ipython3",
   "version": "3.7.3"
  },
  "papermill": {
   "duration": 21.620319,
   "end_time": "2019-08-29T16:13:52.866238",
   "environment_variables": {},
   "exception": true,
   "input_path": "./test_simtool.ipynb",
   "output_path": "./test_simtool.ipynb",
   "parameters": {
    "height": 200,
    "myarray": [
     [
      1,
      2,
      3.14
     ],
     [
      4,
      5,
      6
     ]
    ],
    "options": {
     "Background": "black",
     "FontColor": "red",
     "FontSize": 28
    },
    "position": [
     20,
     20
    ],
    "some_text": "Default Text",
    "volts": 82,
    "width": 400
   },
   "start_time": "2019-08-29T16:13:31.245919",
   "version": "1.1.0"
  }
 },
 "nbformat": 4,
 "nbformat_minor": 2
}
