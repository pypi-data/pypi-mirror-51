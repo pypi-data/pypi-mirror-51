{
 "cells": [
  {
   "cell_type": "code",
   "execution_count": 1,
   "metadata": {},
   "outputs": [],
   "source": [
    "%load_ext yamlmagic\n",
    "import os, sys\n",
    "sys.path.insert(0, '/opt/simtool')\n",
    "import simtool\n",
    "from simtool import ureg"
   ]
  },
  {
   "cell_type": "code",
   "execution_count": 2,
   "metadata": {},
   "outputs": [
    {
     "data": {
      "text/plain": [
       "['/opt/simtool/simtool']"
      ]
     },
     "execution_count": 2,
     "metadata": {},
     "output_type": "execute_result"
    }
   ],
   "source": [
    "simtool.__path__"
   ]
  },
  {
   "cell_type": "code",
   "execution_count": 3,
   "metadata": {},
   "outputs": [
    {
     "data": {
      "application/javascript": [
       "\n",
       "            require(\n",
       "                [\n",
       "                    \"notebook/js/codecell\",\n",
       "                    \"codemirror/mode/yaml/yaml\"\n",
       "                ],\n",
       "                function(cc){\n",
       "                    cc.CodeCell.options_default.highlight_modes.magic_yaml = {\n",
       "                        reg: [\"^%%yaml\"]\n",
       "                    }\n",
       "                }\n",
       "            );\n",
       "            "
      ],
      "text/plain": [
       "<IPython.core.display.Javascript object>"
      ]
     },
     "metadata": {},
     "output_type": "display_data"
    }
   ],
   "source": [
    "%%yaml INPUTS\n",
    "\n",
    "material:\n",
    "    type: Text\n",
    "    value: Ni\n",
    "    options: [Ni, Al, Fe, Co, Ti, W]\n",
    "    maxlen: 80\n",
    "\n",
    "material2:\n",
    "    type: Element\n",
    "    desc: Atomic Number\n",
    "    property: atomic_number\n",
    "    value: 28\n",
    "    options: [Ni, Al, Fe, Co, Ti, W]\n",
    "        \n",
    "atoms:\n",
    "    desc: The Number of Atoms\n",
    "    type: Integer\n",
    "    value: 42\n",
    "    min: 0\n",
    "    max: 100\n",
    "mynum:\n",
    "    desc: Example Number\n",
    "    type: Number\n",
    "    value: 2\n",
    "    units: 1/m^2\n",
    "    min: 0\n",
    "    max: 100000.0\n",
    "    "
   ]
  },
  {
   "cell_type": "code",
   "execution_count": 4,
   "metadata": {},
   "outputs": [
    {
     "name": "stderr",
     "output_type": "stream",
     "text": [
      "Unknown type: Element\n"
     ]
    },
    {
     "ename": "ValueError",
     "evalue": "Unrecognized units: 1/m^2",
     "output_type": "error",
     "traceback": [
      "\u001b[0;31m---------------------------------------------------------------------------\u001b[0m",
      "\u001b[0;31mNameError\u001b[0m                                 Traceback (most recent call last)",
      "\u001b[0;32m/opt/simtool/simtool/input_types.py\u001b[0m in \u001b[0;36m__init__\u001b[0;34m(self, **kwargs)\u001b[0m\n\u001b[1;32m    207\u001b[0m             \u001b[0;32mtry\u001b[0m\u001b[0;34m:\u001b[0m\u001b[0;34m\u001b[0m\u001b[0;34m\u001b[0m\u001b[0m\n\u001b[0;32m--> 208\u001b[0;31m                 \u001b[0mself\u001b[0m\u001b[0;34m.\u001b[0m\u001b[0munits\u001b[0m \u001b[0;34m=\u001b[0m \u001b[0mureg\u001b[0m\u001b[0;34m.\u001b[0m\u001b[0mparse_units\u001b[0m\u001b[0;34m(\u001b[0m\u001b[0mself\u001b[0m\u001b[0;34m.\u001b[0m\u001b[0munits\u001b[0m\u001b[0;34m)\u001b[0m\u001b[0;34m\u001b[0m\u001b[0;34m\u001b[0m\u001b[0m\n\u001b[0m\u001b[1;32m    209\u001b[0m             \u001b[0;32mexcept\u001b[0m\u001b[0;34m:\u001b[0m\u001b[0;34m\u001b[0m\u001b[0;34m\u001b[0m\u001b[0m\n",
      "\u001b[0;31mNameError\u001b[0m: name 'ureg' is not defined",
      "\nDuring handling of the above exception, another exception occurred:\n",
      "\u001b[0;31mValueError\u001b[0m                                Traceback (most recent call last)",
      "\u001b[0;32m<ipython-input-4-7dee3ce5c4ed>\u001b[0m in \u001b[0;36m<module>\u001b[0;34m\u001b[0m\n\u001b[0;32m----> 1\u001b[0;31m \u001b[0minputs\u001b[0m \u001b[0;34m=\u001b[0m \u001b[0msimtool\u001b[0m\u001b[0;34m.\u001b[0m\u001b[0mparse\u001b[0m\u001b[0;34m(\u001b[0m\u001b[0mINPUTS\u001b[0m\u001b[0;34m)\u001b[0m\u001b[0;34m\u001b[0m\u001b[0;34m\u001b[0m\u001b[0m\n\u001b[0m\u001b[1;32m      2\u001b[0m \u001b[0minputs\u001b[0m\u001b[0;34m\u001b[0m\u001b[0;34m\u001b[0m\u001b[0m\n",
      "\u001b[0;32m/opt/simtool/simtool/input_types.py\u001b[0m in \u001b[0;36mparse\u001b[0;34m(inputs)\u001b[0m\n\u001b[1;32m     85\u001b[0m             \u001b[0md\u001b[0m\u001b[0;34m[\u001b[0m\u001b[0mi\u001b[0m\u001b[0;34m]\u001b[0m \u001b[0;34m=\u001b[0m \u001b[0mInteger\u001b[0m\u001b[0;34m(\u001b[0m\u001b[0;34m**\u001b[0m\u001b[0minputs\u001b[0m\u001b[0;34m[\u001b[0m\u001b[0mi\u001b[0m\u001b[0;34m]\u001b[0m\u001b[0;34m)\u001b[0m\u001b[0;34m\u001b[0m\u001b[0;34m\u001b[0m\u001b[0m\n\u001b[1;32m     86\u001b[0m         \u001b[0;32melif\u001b[0m \u001b[0mt\u001b[0m \u001b[0;34m==\u001b[0m \u001b[0;34m'Number'\u001b[0m\u001b[0;34m:\u001b[0m\u001b[0;34m\u001b[0m\u001b[0;34m\u001b[0m\u001b[0m\n\u001b[0;32m---> 87\u001b[0;31m             \u001b[0md\u001b[0m\u001b[0;34m[\u001b[0m\u001b[0mi\u001b[0m\u001b[0;34m]\u001b[0m \u001b[0;34m=\u001b[0m \u001b[0mNumber\u001b[0m\u001b[0;34m(\u001b[0m\u001b[0;34m**\u001b[0m\u001b[0minputs\u001b[0m\u001b[0;34m[\u001b[0m\u001b[0mi\u001b[0m\u001b[0;34m]\u001b[0m\u001b[0;34m)\u001b[0m\u001b[0;34m\u001b[0m\u001b[0;34m\u001b[0m\u001b[0m\n\u001b[0m\u001b[1;32m     88\u001b[0m         \u001b[0;32melif\u001b[0m \u001b[0mt\u001b[0m \u001b[0;34m==\u001b[0m \u001b[0;34m'List'\u001b[0m\u001b[0;34m:\u001b[0m\u001b[0;34m\u001b[0m\u001b[0;34m\u001b[0m\u001b[0m\n\u001b[1;32m     89\u001b[0m             \u001b[0md\u001b[0m\u001b[0;34m[\u001b[0m\u001b[0mi\u001b[0m\u001b[0;34m]\u001b[0m \u001b[0;34m=\u001b[0m \u001b[0mList\u001b[0m\u001b[0;34m(\u001b[0m\u001b[0;34m**\u001b[0m\u001b[0minputs\u001b[0m\u001b[0;34m[\u001b[0m\u001b[0mi\u001b[0m\u001b[0;34m]\u001b[0m\u001b[0;34m)\u001b[0m\u001b[0;34m\u001b[0m\u001b[0;34m\u001b[0m\u001b[0m\n",
      "\u001b[0;32m/opt/simtool/simtool/input_types.py\u001b[0m in \u001b[0;36m__init__\u001b[0;34m(self, **kwargs)\u001b[0m\n\u001b[1;32m    208\u001b[0m                 \u001b[0mself\u001b[0m\u001b[0;34m.\u001b[0m\u001b[0munits\u001b[0m \u001b[0;34m=\u001b[0m \u001b[0mureg\u001b[0m\u001b[0;34m.\u001b[0m\u001b[0mparse_units\u001b[0m\u001b[0;34m(\u001b[0m\u001b[0mself\u001b[0m\u001b[0;34m.\u001b[0m\u001b[0munits\u001b[0m\u001b[0;34m)\u001b[0m\u001b[0;34m\u001b[0m\u001b[0;34m\u001b[0m\u001b[0m\n\u001b[1;32m    209\u001b[0m             \u001b[0;32mexcept\u001b[0m\u001b[0;34m:\u001b[0m\u001b[0;34m\u001b[0m\u001b[0;34m\u001b[0m\u001b[0m\n\u001b[0;32m--> 210\u001b[0;31m                 \u001b[0;32mraise\u001b[0m \u001b[0mValueError\u001b[0m\u001b[0;34m(\u001b[0m\u001b[0;34m'Unrecognized units: %s'\u001b[0m \u001b[0;34m%\u001b[0m \u001b[0mself\u001b[0m\u001b[0;34m.\u001b[0m\u001b[0munits\u001b[0m\u001b[0;34m)\u001b[0m\u001b[0;34m\u001b[0m\u001b[0;34m\u001b[0m\u001b[0m\n\u001b[0m\u001b[1;32m    211\u001b[0m         \u001b[0;31m# always put something in for 'value'\u001b[0m\u001b[0;34m\u001b[0m\u001b[0;34m\u001b[0m\u001b[0;34m\u001b[0m\u001b[0m\n\u001b[1;32m    212\u001b[0m         \u001b[0;32mif\u001b[0m \u001b[0;34m'value'\u001b[0m \u001b[0;32mnot\u001b[0m \u001b[0;32min\u001b[0m \u001b[0mkwargs\u001b[0m\u001b[0;34m:\u001b[0m\u001b[0;34m\u001b[0m\u001b[0;34m\u001b[0m\u001b[0m\n",
      "\u001b[0;31mValueError\u001b[0m: Unrecognized units: 1/m^2"
     ]
    }
   ],
   "source": [
    "inputs = simtool.parse(INPUTS)\n",
    "inputs"
   ]
  },
  {
   "cell_type": "code",
   "execution_count": 34,
   "metadata": {},
   "outputs": [],
   "source": [
    "inputs.mynum.value = '2/cm^2'"
   ]
  },
  {
   "cell_type": "code",
   "execution_count": 35,
   "metadata": {},
   "outputs": [
    {
     "data": {
      "text/plain": [
       "20000.0"
      ]
     },
     "execution_count": 35,
     "metadata": {},
     "output_type": "execute_result"
    }
   ],
   "source": [
    "inputs.mynum.value"
   ]
  },
  {
   "cell_type": "code",
   "execution_count": null,
   "metadata": {},
   "outputs": [],
   "source": [
    "input2 = inputs\n",
    "input2['material2'].value='N'\n",
    "inputs"
   ]
  },
  {
   "cell_type": "code",
   "execution_count": null,
   "metadata": {},
   "outputs": [],
   "source": [
    "inputs.material2.property"
   ]
  },
  {
   "cell_type": "code",
   "execution_count": null,
   "metadata": {},
   "outputs": [],
   "source": [
    "ureg.parse_expression ('100 degF').to('degC')"
   ]
  },
  {
   "cell_type": "code",
   "execution_count": null,
   "metadata": {},
   "outputs": [],
   "source": [
    "u = ureg.parse_expression('coulomb')"
   ]
  },
  {
   "cell_type": "code",
   "execution_count": null,
   "metadata": {},
   "outputs": [],
   "source": [
    "ureg.parse_units('m**2')"
   ]
  },
  {
   "cell_type": "markdown",
   "metadata": {},
   "source": [
    "Necessary functions.\n",
    "1. SimTool Parameters Cell. Read YAML. Get inputs for simulation.  variables set here get overridden by Papermill. inputs.material.value\n",
    "2. Caller: Reads YAML from SimTool. Parses. Sets values. Creates dictionary for injection."
   ]
  },
  {
   "cell_type": "code",
   "execution_count": null,
   "metadata": {},
   "outputs": [],
   "source": [
    "hublib.tool.get_values(inputs)"
   ]
  },
  {
   "cell_type": "code",
   "execution_count": null,
   "metadata": {},
   "outputs": [],
   "source": [
    "inputs = hublib.tool.parse(INPUTS)\n",
    "# SimTools simply use this\n",
    "inputs.material.value"
   ]
  },
  {
   "cell_type": "code",
   "execution_count": null,
   "metadata": {
    "scrolled": true
   },
   "outputs": [],
   "source": [
    "# Callers \n",
    "inputs.material.value = 'Fe'\n",
    "hublib.tool.get_values(inputs)"
   ]
  },
  {
   "cell_type": "code",
   "execution_count": null,
   "metadata": {},
   "outputs": [],
   "source": [
    "inputs.material2.value = 'O'\n",
    "inputs.material2.value"
   ]
  },
  {
   "cell_type": "markdown",
   "metadata": {},
   "source": [
    "# INPUT PARAMETERS\n",
    "\n",
    "All inputs have a required **value** property.\n",
    "\n",
    "The YAML definition sets the value to the default.\n",
    "\n",
    "Callers can set the value before calling the SimTool.  Setting the value will do unit conversion\n",
    "and check for validity. \n",
    "\n",
    "All inputs have optional properties:\n",
    "* desc: short description suitable for a popup\n",
    "* note: more detailed information for developers about this parameter\n",
    "\n",
    "## Units\n",
    "\n",
    "Units will accept strings or PINT units.  We will document those and the SimTool\n",
    "builder will use them.  This will help when the type is unclear:\n",
    "\n",
    "* C = Celsius or Coulombs?\n",
    "* F = Farads or Fahrenheit??\n",
    "* 1 degree C = 33.8 deg F or 1.8 deg F???\n",
    "\n",
    "PINT uses degC, degF, delta_degC and delta_degF\n",
    "\n",
    "## Basic Types\n",
    "\n",
    "* Text\n",
    "    - options: A list of acceptable values\n",
    "    - maxlen: Maximum length of Text value\n",
    "    - encoding: (?)\n",
    "* Integer\n",
    "    - min: minimum\n",
    "    - max: maximum\n",
    "    - units: \n",
    "* Number\n",
    "    - min:\n",
    "    - max:\n",
    "    - precision: precision to use when formatting or comparing\n",
    "    - units\n",
    "* Boolean\n",
    "* Array\n",
    "    - dim: required dimensions\n",
    "    - units:\n",
    "* List : List of Strings\n",
    "    - maxlen:\n",
    "* Image\n",
    "    - format: String or List of strings of acceptable formats\n",
    "* Video\n",
    "    - format: String or List of strings of acceptable formats\n",
    "* Complex (is a complex number type needed?)\n",
    "\n",
    "## Unit-Based Types\n",
    "\n",
    "Nathan suggested we have types based on Si Units, for example\n",
    "\n",
    "* Length\n",
    "    - min:\n",
    "    - max:\n",
    "    - units: (must be a length unit, like meters)\n",
    "* Velocity\n",
    "* Pressure\n",
    "* etc\n",
    "\n",
    "\n",
    "## Complex Types\n",
    "\n",
    "We could implement types like **Element**, **Date** or **Location**\n",
    "\n",
    "* Element: \n",
    "    - property: [Required] See https://mendeleev.readthedocs.io/en/stable/data.html\n",
    "    - options: List of acceptable values for the Element (name, symbol, or number)\n",
    "* Location\n",
    "    - format: [Required]\n",
    "    \n",
    "In these types, setting the parameter will cause the **value** to be set to the desired property or format.\n",
    "For example, setting an element to 'Carbon' will set the value property to 12 if **property** is \"atomic_number\".\n",
    "Another example would be setting a Location to \"Mount Everest\" could set the value to the GPS coordinates.\n"
   ]
  },
  {
   "cell_type": "markdown",
   "metadata": {},
   "source": [
    "# OUTPUT PARAMETERS\n",
    "\n",
    "We declare outputs, but don't set values for them.\n",
    "\n",
    "I propose we use only basic types.  Complicated things can be returned in Array or Text.  There are an infinite number of possible things to return and it will be up to the Tool (GUI) developer to display them in a way that makes sense. The SimTool should be not be concerned with visualization.  However as an enhancement, we could provide some information in the YAML to aid in automatic visualization by the Tool."
   ]
  },
  {
   "cell_type": "code",
   "execution_count": null,
   "metadata": {},
   "outputs": [],
   "source": [
    "%%yaml\n",
    "\n",
    "voltcurve:\n",
    "    viz: {'plot2D': {'title': 'My Plot', 'xlabel': 'Time', 'ylabel': 'Volts'}}           "
   ]
  }
 ],
 "metadata": {
  "kernelspec": {
   "display_name": "Python 3",
   "language": "python",
   "name": "python3"
  },
  "language_info": {
   "codemirror_mode": {
    "name": "ipython",
    "version": 3
   },
   "file_extension": ".py",
   "mimetype": "text/x-python",
   "name": "python",
   "nbconvert_exporter": "python",
   "pygments_lexer": "ipython3",
   "version": "3.7.3"
  }
 },
 "nbformat": 4,
 "nbformat_minor": 2
}
