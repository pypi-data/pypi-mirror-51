{
 "cells": [
  {
   "cell_type": "code",
   "execution_count": 1,
   "metadata": {},
   "outputs": [],
   "source": [
    "import sys\n",
    "sys.path.insert(0, \"/opt/simtool\")\n",
    "from simtool import get_inputs, Run, get_outputs\n",
    "import numpy as np"
   ]
  },
  {
   "cell_type": "code",
   "execution_count": 2,
   "metadata": {},
   "outputs": [
    {
     "data": {
      "text/plain": [
       "some_text:\n",
       "    desc: Text to Write in Output Image\n",
       "    type: Text\n",
       "    maxlen: 20\n",
       "    value: Default Text\n",
       "\n",
       "volts:\n",
       "    desc: Value to Write in Output Image\n",
       "    type: Number\n",
       "    units: millivolt\n",
       "    max: 1000\n",
       "    value: 0\n",
       "\n",
       "width:\n",
       "    desc: Width of Output Image in pixels\n",
       "    type: Integer\n",
       "    min: 100\n",
       "    max: 2000\n",
       "    value: 400\n",
       "\n",
       "height:\n",
       "    desc: Height of Output Image in pixels\n",
       "    type: Integer\n",
       "    min: 50\n",
       "    max: 1000\n",
       "    value: 200\n",
       "\n",
       "position:\n",
       "    desc: Position of text in image [x, y] in pixels\n",
       "    type: List\n",
       "    value: [20, 20]\n",
       "\n",
       "options:\n",
       "    desc: Color and Font Size Options.\n",
       "    type: Dict\n",
       "    value: {'FontSize': 28, 'FontColor': 'red', 'Background': 'black'}\n",
       "\n",
       "myarray:\n",
       "    type: Array\n",
       "    dim: 1"
      ]
     },
     "execution_count": 2,
     "metadata": {},
     "output_type": "execute_result"
    }
   ],
   "source": [
    "#nb = 'test_simtool.ipynb'\n",
    "nb = 'test_simtool'\n",
    "inputs = get_inputs(nb)\n",
    "inputs"
   ]
  },
  {
   "cell_type": "code",
   "execution_count": 3,
   "metadata": {},
   "outputs": [
    {
     "data": {
      "text/plain": [
       "volts:\n",
       "    desc: Input 'volts' returned from SimTool\n",
       "    type: Number\n",
       "    units: millivolt\n",
       "\n",
       "myarray:\n",
       "    desc: The array that was input, doubled.\n",
       "    type: Array\n",
       "\n",
       "PNG:\n",
       "    desc: Image as a PNG\n",
       "    type: Image\n",
       "\n",
       "JPG:\n",
       "    desc: Image as a JPG\n",
       "    type: Image\n",
       "\n",
       "GIF:\n",
       "    desc: Image as a GIF\n",
       "    type: Image\n",
       "\n",
       "octocat:\n",
       "    desc: Octocat!!!!\n",
       "    type: Image"
      ]
     },
     "execution_count": 3,
     "metadata": {},
     "output_type": "execute_result"
    }
   ],
   "source": [
    "outputs = get_outputs(nb)\n",
    "outputs"
   ]
  },
  {
   "cell_type": "code",
   "execution_count": 4,
   "metadata": {},
   "outputs": [],
   "source": [
    "outputs.volts.value=222"
   ]
  },
  {
   "cell_type": "code",
   "execution_count": 5,
   "metadata": {},
   "outputs": [
    {
     "data": {
      "text/plain": [
       "volts:\n",
       "    desc: Input 'volts' returned from SimTool\n",
       "    type: Number\n",
       "    units: millivolt\n",
       "    value: 222\n",
       "\n",
       "myarray:\n",
       "    desc: The array that was input, doubled.\n",
       "    type: Array\n",
       "\n",
       "PNG:\n",
       "    desc: Image as a PNG\n",
       "    type: Image\n",
       "\n",
       "JPG:\n",
       "    desc: Image as a JPG\n",
       "    type: Image\n",
       "\n",
       "GIF:\n",
       "    desc: Image as a GIF\n",
       "    type: Image\n",
       "\n",
       "octocat:\n",
       "    desc: Octocat!!!!\n",
       "    type: Image"
      ]
     },
     "execution_count": 5,
     "metadata": {},
     "output_type": "execute_result"
    }
   ],
   "source": [
    "outputs"
   ]
  },
  {
   "cell_type": "code",
   "execution_count": 6,
   "metadata": {},
   "outputs": [],
   "source": [
    "a1 = np.array([[1, 2.0, 3.14],[4,5,6]])"
   ]
  },
  {
   "cell_type": "code",
   "execution_count": 7,
   "metadata": {},
   "outputs": [],
   "source": [
    "inputs.myarray.value = a1"
   ]
  },
  {
   "cell_type": "code",
   "execution_count": 8,
   "metadata": {},
   "outputs": [
    {
     "data": {
      "text/plain": [
       "    desc: Value to Write in Output Image\n",
       "    type: Number\n",
       "    units: millivolt\n",
       "    max: 1000\n",
       "    value: 0"
      ]
     },
     "execution_count": 8,
     "metadata": {},
     "output_type": "execute_result"
    }
   ],
   "source": [
    "inputs.volts"
   ]
  },
  {
   "cell_type": "code",
   "execution_count": 9,
   "metadata": {},
   "outputs": [
    {
     "name": "stdout",
     "output_type": "stream",
     "text": [
      "Created cache:  /opt/cache/test_simtool/47f4b88080464fcd8d3f1de324bf7084\n",
      "CACHED!!!! /opt/simtool/notebooks\n"
     ]
    }
   ],
   "source": [
    "r = Run(nb, inputs)\n",
    "# for i in range(1,5):\n",
    "    # inputs.volts.value = 2*i\n",
    "    # run_simtool(nb, 'run%d.ipynb' % i, inputs)    "
   ]
  },
  {
   "cell_type": "code",
   "execution_count": 10,
   "metadata": {},
   "outputs": [
    {
     "data": {
      "text/plain": [
       "[[1.0, 2.0, 3.14], [4.0, 5.0, 6.0]]"
      ]
     },
     "execution_count": 10,
     "metadata": {},
     "output_type": "execute_result"
    }
   ],
   "source": [
    "r.inputs.myarray.value"
   ]
  },
  {
   "cell_type": "code",
   "execution_count": 11,
   "metadata": {},
   "outputs": [
    {
     "data": {
      "text/plain": [
       "0"
      ]
     },
     "execution_count": 11,
     "metadata": {},
     "output_type": "execute_result"
    }
   ],
   "source": [
    "inputs.volts.value"
   ]
  },
  {
   "cell_type": "code",
   "execution_count": 12,
   "metadata": {},
   "outputs": [
    {
     "data": {
      "text/html": [
       "<div>\n",
       "<style scoped>\n",
       "    .dataframe tbody tr th:only-of-type {\n",
       "        vertical-align: middle;\n",
       "    }\n",
       "\n",
       "    .dataframe tbody tr th {\n",
       "        vertical-align: top;\n",
       "    }\n",
       "\n",
       "    .dataframe thead th {\n",
       "        text-align: right;\n",
       "    }\n",
       "</style>\n",
       "<table border=\"1\" class=\"dataframe\">\n",
       "  <thead>\n",
       "    <tr style=\"text-align: right;\">\n",
       "      <th></th>\n",
       "      <th>name</th>\n",
       "      <th>data</th>\n",
       "      <th>encoder</th>\n",
       "      <th>display</th>\n",
       "      <th>filename</th>\n",
       "    </tr>\n",
       "  </thead>\n",
       "  <tbody>\n",
       "    <tr>\n",
       "      <th>0</th>\n",
       "      <td>volts</td>\n",
       "      <td>0</td>\n",
       "      <td>text</td>\n",
       "      <td>None</td>\n",
       "      <td>test_simtool.ipynb</td>\n",
       "    </tr>\n",
       "    <tr>\n",
       "      <th>1</th>\n",
       "      <td>myarray</td>\n",
       "      <td>{\"py/reduce\": [{\"py/function\": \"numpy.core.mul...</td>\n",
       "      <td>text</td>\n",
       "      <td>None</td>\n",
       "      <td>test_simtool.ipynb</td>\n",
       "    </tr>\n",
       "    <tr>\n",
       "      <th>2</th>\n",
       "      <td>PNG</td>\n",
       "      <td>file://foo.png</td>\n",
       "      <td>text</td>\n",
       "      <td>None</td>\n",
       "      <td>test_simtool.ipynb</td>\n",
       "    </tr>\n",
       "    <tr>\n",
       "      <th>3</th>\n",
       "      <td>JPG</td>\n",
       "      <td>{\"py/object\": \"PIL.Image.Image\", \"py/state\": [...</td>\n",
       "      <td>text</td>\n",
       "      <td>None</td>\n",
       "      <td>test_simtool.ipynb</td>\n",
       "    </tr>\n",
       "    <tr>\n",
       "      <th>4</th>\n",
       "      <td>GIF</td>\n",
       "      <td>file://foo.gif</td>\n",
       "      <td>text</td>\n",
       "      <td>None</td>\n",
       "      <td>test_simtool.ipynb</td>\n",
       "    </tr>\n",
       "    <tr>\n",
       "      <th>5</th>\n",
       "      <td>octocat</td>\n",
       "      <td>file://octocat.png</td>\n",
       "      <td>text</td>\n",
       "      <td>None</td>\n",
       "      <td>test_simtool.ipynb</td>\n",
       "    </tr>\n",
       "  </tbody>\n",
       "</table>\n",
       "</div>"
      ],
      "text/plain": [
       "      name                                               data encoder display  \\\n",
       "0    volts                                                  0    text    None   \n",
       "1  myarray  {\"py/reduce\": [{\"py/function\": \"numpy.core.mul...    text    None   \n",
       "2      PNG                                     file://foo.png    text    None   \n",
       "3      JPG  {\"py/object\": \"PIL.Image.Image\", \"py/state\": [...    text    None   \n",
       "4      GIF                                     file://foo.gif    text    None   \n",
       "5  octocat                                 file://octocat.png    text    None   \n",
       "\n",
       "             filename  \n",
       "0  test_simtool.ipynb  \n",
       "1  test_simtool.ipynb  \n",
       "2  test_simtool.ipynb  \n",
       "3  test_simtool.ipynb  \n",
       "4  test_simtool.ipynb  \n",
       "5  test_simtool.ipynb  "
      ]
     },
     "execution_count": 12,
     "metadata": {},
     "output_type": "execute_result"
    }
   ],
   "source": [
    "r.db.nb.scrap_dataframe"
   ]
  },
  {
   "cell_type": "code",
   "execution_count": 13,
   "metadata": {},
   "outputs": [
    {
     "data": {
      "text/plain": [
       "{'celltoolbar': 'Tags',\n",
       " 'kernelspec': {'display_name': 'Python 3',\n",
       "  'language': 'python',\n",
       "  'name': 'python3'},\n",
       " 'language_info': {'codemirror_mode': {'name': 'ipython', 'version': 3},\n",
       "  'file_extension': '.py',\n",
       "  'mimetype': 'text/x-python',\n",
       "  'name': 'python',\n",
       "  'nbconvert_exporter': 'python',\n",
       "  'pygments_lexer': 'ipython3',\n",
       "  'version': '3.7.3'},\n",
       " 'papermill': {'duration': 4.016274,\n",
       "  'end_time': '2019-08-08T12:19:25.512427',\n",
       "  'environment_variables': {},\n",
       "  'exception': None,\n",
       "  'input_path': '/apps/simtools/test_simtool/test_simtool.ipynb',\n",
       "  'output_path': 'RUNS/b9b24c7b64244ae5a7f0bbbbd1e1c495/test_simtool.ipynb',\n",
       "  'parameters': {'height': 200,\n",
       "   'myarray': [[1.0, 2.0, 3.14], [4.0, 5.0, 6.0]],\n",
       "   'options': {'Background': 'black', 'FontColor': 'red', 'FontSize': 28},\n",
       "   'position': [20, 20],\n",
       "   'some_text': 'Default Text',\n",
       "   'volts': 0,\n",
       "   'width': 400},\n",
       "  'start_time': '2019-08-08T12:19:21.496153',\n",
       "  'version': '1.0.1'}}"
      ]
     },
     "execution_count": 13,
     "metadata": {},
     "output_type": "execute_result"
    }
   ],
   "source": [
    "r.db.nb.metadata"
   ]
  },
  {
   "cell_type": "code",
   "execution_count": 14,
   "metadata": {},
   "outputs": [
    {
     "data": {
      "image/png": "[encoded data removed]",
      "text/plain": [
       "<PIL.PngImagePlugin.PngImageFile image mode=RGB size=400x200 at 0x7FF13D4F9668>"
      ]
     },
     "metadata": {},
     "output_type": "display_data"
    },
    {
     "data": {
      "image/png": "[encoded data removed]",
      "text/plain": [
       "<PIL.PngImagePlugin.PngImageFile image mode=RGB size=400x200 at 0x7FF13D4F9668>"
      ]
     },
     "execution_count": 14,
     "metadata": {},
     "output_type": "execute_result"
    }
   ],
   "source": [
    "db = r.db\n",
    "\n",
    "# FIXME?\n",
    "# db = r.db\n",
    "# r.inputs\n",
    "# r.outputs\n",
    "\n",
    "db.read('PNG', display=True)"
   ]
  },
  {
   "cell_type": "code",
   "execution_count": 15,
   "metadata": {},
   "outputs": [
    {
     "data": {
      "text/plain": [
       "'RUNS/dc8e2a1a50eb4e1da50e097695235071'"
      ]
     },
     "execution_count": 15,
     "metadata": {},
     "output_type": "execute_result"
    }
   ],
   "source": [
    "db.dir"
   ]
  },
  {
   "cell_type": "code",
   "execution_count": 16,
   "metadata": {},
   "outputs": [
    {
     "data": {
      "text/plain": [
       "volts:\n",
       "    desc: Input 'volts' returned from SimTool\n",
       "    type: Number\n",
       "    units: millivolt\n",
       "\n",
       "myarray:\n",
       "    desc: The array that was input, doubled.\n",
       "    type: Array\n",
       "\n",
       "PNG:\n",
       "    desc: Image as a PNG\n",
       "    type: Image\n",
       "\n",
       "JPG:\n",
       "    desc: Image as a JPG\n",
       "    type: Image\n",
       "\n",
       "GIF:\n",
       "    desc: Image as a GIF\n",
       "    type: Image\n",
       "\n",
       "octocat:\n",
       "    desc: Octocat!!!!\n",
       "    type: Image"
      ]
     },
     "execution_count": 16,
     "metadata": {},
     "output_type": "execute_result"
    }
   ],
   "source": [
    "r.db.out"
   ]
  },
  {
   "cell_type": "code",
   "execution_count": 17,
   "metadata": {},
   "outputs": [
    {
     "data": {
      "image/png": "[encoded data removed]",
      "text/plain": [
       "<PIL.GifImagePlugin.GifImageFile image mode=P size=400x200 at 0x7FF15AF59B00>"
      ]
     },
     "execution_count": 17,
     "metadata": {},
     "output_type": "execute_result"
    }
   ],
   "source": [
    "db.read('GIF')"
   ]
  },
  {
   "cell_type": "code",
   "execution_count": 18,
   "metadata": {},
   "outputs": [
    {
     "data": {
      "text/plain": [
       "'file://foo.gif'"
      ]
     },
     "execution_count": 18,
     "metadata": {},
     "output_type": "execute_result"
    }
   ],
   "source": [
    "db.read('GIF', raw=True)"
   ]
  },
  {
   "cell_type": "code",
   "execution_count": 19,
   "metadata": {},
   "outputs": [
    {
     "data": {
      "text/plain": [
       "0"
      ]
     },
     "execution_count": 19,
     "metadata": {},
     "output_type": "execute_result"
    }
   ],
   "source": [
    "db.read('volts')"
   ]
  },
  {
   "cell_type": "code",
   "execution_count": 20,
   "metadata": {},
   "outputs": [
    {
     "data": {
      "text/plain": [
       "array([[ 4.1  ,  8.2  , 12.874],\n",
       "       [16.4  , 20.5  , 24.6  ]])"
      ]
     },
     "execution_count": 20,
     "metadata": {},
     "output_type": "execute_result"
    }
   ],
   "source": [
    "db.read('myarray')"
   ]
  },
  {
   "cell_type": "code",
   "execution_count": 21,
   "metadata": {},
   "outputs": [
    {
     "data": {
      "image/png": "[encoded data removed]",
      "text/plain": [
       "<PIL.Image.Image image mode=RGB size=400x200 at 0x7FF13D453550>"
      ]
     },
     "metadata": {},
     "output_type": "display_data"
    }
   ],
   "source": [
    "x = db.read('JPG', display=True)"
   ]
  },
  {
   "cell_type": "code",
   "execution_count": 22,
   "metadata": {},
   "outputs": [
    {
     "data": {
      "image/png": "[encoded data removed]",
      "text/plain": [
       "<PIL.Image.Image image mode=RGB size=400x200 at 0x7FF13D453550>"
      ]
     },
     "execution_count": 22,
     "metadata": {},
     "output_type": "execute_result"
    }
   ],
   "source": [
    "x"
   ]
  },
  {
   "cell_type": "code",
   "execution_count": 23,
   "metadata": {},
   "outputs": [
    {
     "data": {
      "image/png": "[encoded data removed]",
      "text/plain": [
       "<PIL.PngImagePlugin.PngImageFile image mode=RGBA size=512x512 at 0x7FF13D453D68>"
      ]
     },
     "execution_count": 23,
     "metadata": {},
     "output_type": "execute_result"
    }
   ],
   "source": [
    "db.read('octocat')"
   ]
  },
  {
   "cell_type": "code",
   "execution_count": 24,
   "metadata": {},
   "outputs": [
    {
     "data": {
      "text/plain": [
       "'RUNS/dc8e2a1a50eb4e1da50e097695235071'"
      ]
     },
     "execution_count": 24,
     "metadata": {},
     "output_type": "execute_result"
    }
   ],
   "source": [
    "r.outdir"
   ]
  },
  {
   "cell_type": "code",
   "execution_count": null,
   "metadata": {},
   "outputs": [],
   "source": []
  }
 ],
 "metadata": {
  "kernelspec": {
   "display_name": "Python 3",
   "language": "python",
   "name": "python3"
  },
  "language_info": {
   "codemirror_mode": {
    "name": "ipython",
    "version": 3
   },
   "file_extension": ".py",
   "mimetype": "text/x-python",
   "name": "python",
   "nbconvert_exporter": "python",
   "pygments_lexer": "ipython3",
   "version": "3.7.3"
  }
 },
 "nbformat": 4,
 "nbformat_minor": 2
}
