{
 "cells": [
  {
   "cell_type": "code",
   "execution_count": 1,
   "metadata": {},
   "outputs": [
    {
     "data": {
      "application/scrapbook.scrap.json+json": {
       "data": [
        1,
        2,
        "hello"
       ],
       "encoder": "json",
       "name": "A List",
       "version": 1
      }
     },
     "metadata": {
      "scrapbook": {
       "data": true,
       "display": false,
       "name": "A List"
      }
     },
     "output_type": "display_data"
    }
   ],
   "source": [
    "import scrapbook as sb\n",
    "\n",
    "sb.glue('A List', [1,2,'hello'])"
   ]
  },
  {
   "cell_type": "code",
   "execution_count": 2,
   "metadata": {},
   "outputs": [
    {
     "data": {
      "application/scrapbook.scrap.json+json": {
       "data": 42,
       "encoder": "json",
       "name": "integer",
       "version": 1
      }
     },
     "metadata": {
      "scrapbook": {
       "data": true,
       "display": false,
       "name": "integer"
      }
     },
     "output_type": "display_data"
    }
   ],
   "source": [
    "sb.glue('integer', 42)"
   ]
  },
  {
   "cell_type": "code",
   "execution_count": 3,
   "metadata": {},
   "outputs": [
    {
     "data": {
      "application/scrapbook.scrap.json+json": {
       "data": 3.1415926,
       "encoder": "json",
       "name": "float",
       "version": 1
      }
     },
     "metadata": {
      "scrapbook": {
       "data": true,
       "display": false,
       "name": "float"
      }
     },
     "output_type": "display_data"
    }
   ],
   "source": [
    "sb.glue('float', 3.1415926)"
   ]
  },
  {
   "cell_type": "code",
   "execution_count": 4,
   "metadata": {},
   "outputs": [
    {
     "data": {
      "application/scrapbook.scrap.json+json": {
       "data": {
        "First": "Martin",
        "Last": "Hunt"
       },
       "encoder": "json",
       "name": "mydict",
       "version": 1
      }
     },
     "metadata": {
      "scrapbook": {
       "data": true,
       "display": false,
       "name": "mydict"
      }
     },
     "output_type": "display_data"
    }
   ],
   "source": [
    "sb.glue('mydict', {'First':'Martin', 'Last': 'Hunt'})"
   ]
  },
  {
   "cell_type": "code",
   "execution_count": 6,
   "metadata": {},
   "outputs": [
    {
     "data": {
      "application/scrapbook.scrap.text+json": {
       "data": "world",
       "encoder": "text",
       "name": "hello",
       "version": 1
      }
     },
     "metadata": {
      "scrapbook": {
       "data": true,
       "display": false,
       "name": "hello"
      }
     },
     "output_type": "display_data"
    },
    {
     "data": {
      "application/scrapbook.scrap.json+json": {
       "data": 123,
       "encoder": "json",
       "name": "number",
       "version": 1
      }
     },
     "metadata": {
      "scrapbook": {
       "data": true,
       "display": false,
       "name": "number"
      }
     },
     "output_type": "display_data"
    },
    {
     "data": {
      "application/scrapbook.scrap.json+json": {
       "data": [
        1,
        3,
        5
       ],
       "encoder": "json",
       "name": "some_list",
       "version": 1
      }
     },
     "metadata": {
      "scrapbook": {
       "data": true,
       "display": false,
       "name": "some_list"
      }
     },
     "output_type": "display_data"
    },
    {
     "data": {
      "application/scrapbook.scrap.json+json": {
       "data": {
        "a": 1,
        "b": 2
       },
       "encoder": "json",
       "name": "some_dict",
       "version": 1
      }
     },
     "metadata": {
      "scrapbook": {
       "data": true,
       "display": false,
       "name": "some_dict"
      }
     },
     "output_type": "display_data"
    }
   ],
   "source": [
    "sb.glue(\"hello\", \"world\")\n",
    "sb.glue(\"number\", 123)\n",
    "sb.glue(\"some_list\", [1, 3, 5])\n",
    "sb.glue(\"some_dict\", {\"a\": 1, \"b\": 2})\n",
    "#sb.glue(\"non_json\", df, 'arrow')"
   ]
  },
  {
   "cell_type": "code",
   "execution_count": 9,
   "metadata": {},
   "outputs": [
    {
     "data": {
      "application/scrapbook.scrap.text+json": {
       "data": "{\"__ndarray__\": [[0, 1, 2, 3, 4], [5, 6, 7, 8, 9]], \"dtype\": \"int64\", \"shape\": [2, 5], \"Corder\": true}",
       "encoder": "text",
       "name": "array",
       "version": 1
      }
     },
     "metadata": {
      "scrapbook": {
       "data": true,
       "display": false,
       "name": "array"
      }
     },
     "output_type": "display_data"
    }
   ],
   "source": [
    "import numpy as np\n",
    "from json_tricks import dump, dumps, load, loads, strip_comments\n",
    "\n",
    "array = np.arange(0, 10, 1, dtype=int).reshape((2, 5))\n",
    "sb.glue(\"array\", dumps(array))"
   ]
  }
 ],
 "metadata": {
  "kernelspec": {
   "display_name": "Python 3",
   "language": "python",
   "name": "python3"
  },
  "language_info": {
   "codemirror_mode": {
    "name": "ipython",
    "version": 3
   },
   "file_extension": ".py",
   "mimetype": "text/x-python",
   "name": "python",
   "nbconvert_exporter": "python",
   "pygments_lexer": "ipython3",
   "version": "3.7.3"
  }
 },
 "nbformat": 4,
 "nbformat_minor": 2
}
