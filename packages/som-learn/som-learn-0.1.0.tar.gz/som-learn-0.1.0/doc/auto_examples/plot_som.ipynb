{
  "cells": [
    {
      "cell_type": "code",
      "execution_count": null,
      "metadata": {
        "collapsed": false
      },
      "outputs": [],
      "source": [
        "%matplotlib inline"
      ]
    },
    {
      "cell_type": "markdown",
      "metadata": {},
      "source": [
        "\n# Clustering using Self-Organizing Map\n\n\nThis example illustrates the fitted Self-Organizing Map\nfor various datasets as well as the resulting neighboring\nstructure between clusters.\n"
      ]
    },
    {
      "cell_type": "code",
      "execution_count": null,
      "metadata": {
        "collapsed": false
      },
      "outputs": [],
      "source": [
        "# Author: Georgios Douzas <gdouzas@icloud.com>\n# Licence: MIT\n\nimport numpy as np\nimport matplotlib.pyplot as plt\n\nimport pandas as pd\nfrom sklearn.base import clone\nfrom sklearn.datasets import make_blobs, make_s_curve, make_swiss_roll\n\nfrom somlearn import SOM\n\nprint(__doc__)\n\nRANDOM_STATE = 170\nN_SAMPLES = 500\nNAMES = [\n    'Basic',\n    'Anisotropic',\n    'Unequal Variance',\n    'Uneven Blobs',\n    'S Curve',\n    'Swiss Roll',\n]\nCLUSTERER = SOM(n_columns=2, n_rows=2, gridtype='hexagonal', random_state=RANDOM_STATE)\n\n\ndef generate_data(name):\n    \"\"\"Generate data for various cases.\"\"\"\n    if name in ('Basic', 'Anisotropic', 'Uneven Blobs'):\n        X, y = make_blobs(n_samples=N_SAMPLES, random_state=RANDOM_STATE, centers=4)\n    if name == 'Anisotropic':\n        transformation = [[0.60834549, -0.63667341], [-0.40887718, 0.85253229]]\n        X = np.dot(X, transformation)\n    elif name == 'Unequal Variance':\n        X, _ = make_blobs(\n            n_samples=N_SAMPLES, cluster_std=[1.0, 2.5, 0.5], random_state=RANDOM_STATE\n        )\n    elif name == 'Uneven Blobs':\n        X = np.vstack((X[y == 0][:150], X[y == 1][:50], X[y == 2][:10]))\n    elif name == 'S Curve':\n        X, _ = make_s_curve(n_samples=N_SAMPLES, random_state=RANDOM_STATE)\n        X = X[:, [0, 2]]\n    elif name == 'Swiss Roll':\n        X, _ = make_swiss_roll(n_samples=N_SAMPLES, random_state=RANDOM_STATE)\n        X = X[:, [0, 2]]\n    return X\n\n\ndef plot_data(X, som_clusterer, title, ind):\n    \"\"\"Plot data with cluster labels.\"\"\"\n    y_pred = som_clusterer.fit_predict(X)\n    plt.subplot(321 + ind)\n    plt.scatter(X[:, 0], X[:, 1], c=y_pred)\n    plt.title(title)"
      ]
    },
    {
      "cell_type": "markdown",
      "metadata": {},
      "source": [
        "Generate data\n##############################################################################\n\n"
      ]
    },
    {
      "cell_type": "markdown",
      "metadata": {},
      "source": [
        "We are generating a variety of datasets that cover different scenarios.\nMore specifically, a basic dataset with three similar clusters, an\nanisotropic variation of the previous case, another varition with unequal\nvariance a dataset with unevenly sized blobs and the S curve and swiss roll\ndatasets.\n\n"
      ]
    },
    {
      "cell_type": "code",
      "execution_count": null,
      "metadata": {
        "collapsed": false
      },
      "outputs": [],
      "source": [
        "Xs = [generate_data(name) for name in NAMES]"
      ]
    },
    {
      "cell_type": "markdown",
      "metadata": {},
      "source": [
        "Plot datasets with cluster labels\n##############################################################################\n\n"
      ]
    },
    {
      "cell_type": "markdown",
      "metadata": {},
      "source": [
        "We plot the datasets and the cluster labels predicted by Self-Organizing Map.\n\n"
      ]
    },
    {
      "cell_type": "code",
      "execution_count": null,
      "metadata": {
        "collapsed": false
      },
      "outputs": [],
      "source": [
        "plt.figure(figsize=(12, 12))\nfor ind, (X, title) in enumerate(zip(Xs, NAMES)):\n    clusterer = clone(CLUSTERER)\n    plot_data(X, clusterer, title, ind)\nplt.show()"
      ]
    }
  ],
  "metadata": {
    "kernelspec": {
      "display_name": "Python 3",
      "language": "python",
      "name": "python3"
    },
    "language_info": {
      "codemirror_mode": {
        "name": "ipython",
        "version": 3
      },
      "file_extension": ".py",
      "mimetype": "text/x-python",
      "name": "python",
      "nbconvert_exporter": "python",
      "pygments_lexer": "ipython3",
      "version": "3.7.3"
    }
  },
  "nbformat": 4,
  "nbformat_minor": 0
}