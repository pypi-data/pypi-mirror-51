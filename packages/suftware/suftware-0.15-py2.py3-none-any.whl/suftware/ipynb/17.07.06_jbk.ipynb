{
 "cells": [
  {
   "cell_type": "code",
   "execution_count": 4,
   "metadata": {
    "collapsed": true
   },
   "outputs": [],
   "source": [
    "# Header cell\n",
    "from __future__ import division\n",
    "import scipy as sp\n",
    "import numpy as np\n",
    "import matplotlib.pyplot as plt\n",
    "%matplotlib inline\n",
    "plt.ion()\n",
    "\n",
    "# Specific things needed\n",
    "import time\n",
    "import math\n",
    "import sys\n",
    "\n",
    "# Add parent directory to path\n",
    "sys.path.append('../code/')\n",
    "sys.path.append('../sim/')\n",
    "\n",
    "# Import deft modules\n",
    "import deft_1d\n",
    "import simulate_data_1d\n",
    "import utils\n",
    "from utils import DeftError"
   ]
  },
  {
   "cell_type": "code",
   "execution_count": 5,
   "metadata": {},
   "outputs": [],
   "source": [
    "class TestCase:\n",
    "    ''' Contains information needed for a test run of deft_1d. '''\n",
    "    \n",
    "    def __init__(self, G, alpha, bbox, N, data_type, should_succeed=True, \n",
    "                 num_samples=0, deft_seed=None, data_seed=None):\n",
    "        \n",
    "        # Set internal variables\n",
    "        self.G = G\n",
    "        self.alpha = alpha\n",
    "        self.bbox = bbox\n",
    "        self.N = N\n",
    "        self.data_type = data_type\n",
    "        self.should_succeed = should_succeed\n",
    "        self.num_samples = num_samples\n",
    "        self.data_seed = data_seed\n",
    "        self.deft_seed = deft_seed\n",
    "        self.outcome_good = False\n",
    "        \n",
    "    def __repr__(self):\n",
    "        return 'G=%d, alpha=%d, bbox=%s, N=%d, data_type=%s, should_succeed=%s'%\\\n",
    "            (self.G, self.alpha, self.bbox, self.N, self.data_type, self.should_succeed)\n",
    "        \n",
    "    def run(self):\n",
    "        \n",
    "        # Set other variables\n",
    "        periodic = False\n",
    "        Laplace = False\n",
    "        num_steps_per_sample = self.G\n",
    "        num_thermalization_steps = 10*self.G\n",
    "        fix_t_at_t_star = False\n",
    "        print_t = False\n",
    "        tollerance = 1E-3\n",
    "        resolution = 1E-1\n",
    "        \n",
    "        # Generate data\n",
    "        self.data, self.defaults = simulate_data_1d.run(self.data_type, self.N, self.data_seed)\n",
    "        \n",
    "        # Run deft_1d\n",
    "        print self\n",
    "        \n",
    "        try:\n",
    "            self.results = deft_1d.run(self.data, G=self.G, alpha=self.alpha, bbox=self.bbox, \\\n",
    "                                       periodic=periodic, Laplace=Laplace, num_samples=self.num_samples, \\\n",
    "                                       num_steps_per_sample=num_steps_per_sample, \\\n",
    "                                       num_thermalization_steps=num_thermalization_steps, \\\n",
    "                                       fix_t_at_t_star=fix_t_at_t_star, print_t=print_t, \\\n",
    "                                       tollerance=tollerance, resolution=resolution, seed=self.deft_seed)\n",
    "            print 'Succeeded!'\n",
    "            self.outcome_good = self.should_succeed\n",
    "\n",
    "        except DeftError:\n",
    "            print 'Failed in controlled way.'\n",
    "            self.outcome_good = not self.should_succeed\n",
    "            \n",
    "        #except:\n",
    "        #    print 'Problem! Test failed in an uncontrolled way!'\n",
    "        #    self.outcome_good = False\n",
    "            \n",
    "        if self.outcome_good:\n",
    "            print 'Outcome: good.'\n",
    "        else:\n",
    "            print 'Outcome: BAD!'\n",
    "        print ''"
   ]
  },
  {
   "cell_type": "code",
   "execution_count": 6,
   "metadata": {},
   "outputs": [
    {
     "name": "stdout",
     "output_type": "stream",
     "text": [
      "Test case # 0\n",
      "G=100, alpha=3, bbox=[-6, 6, 1], N=100, data_type=wide, should_succeed=False\n",
      "Failed in controlled way.\n",
      "Outcome: good.\n",
      "\n",
      "Test case # 1\n",
      "G=100, alpha=3, bbox=[6, -6], N=100, data_type=wide, should_succeed=False\n",
      "Failed in controlled way.\n",
      "Outcome: good.\n",
      "\n",
      "Test case # 2\n",
      "G=100, alpha=3, bbox=[-6, 6], N=100, data_type=wide, should_succeed=True\n",
      "Succeeded!\n",
      "Outcome: good.\n",
      "\n",
      "Test case # 3\n",
      "G=100, alpha=-3, bbox=[-6, 6], N=100, data_type=wide, should_succeed=False\n",
      "Failed in controlled way.\n",
      "Outcome: good.\n",
      "\n",
      "Test case # 4\n",
      "G=-100, alpha=3, bbox=[-6, 6], N=100, data_type=wide, should_succeed=False\n"
     ]
    },
    {
     "ename": "AssertionError",
     "evalue": "",
     "output_type": "error",
     "traceback": [
      "\u001b[0;31m---------------------------------------------------------------------------\u001b[0m",
      "\u001b[0;31mAssertionError\u001b[0m                            Traceback (most recent call last)",
      "\u001b[0;32m<ipython-input-6-b1b98086e2bd>\u001b[0m in \u001b[0;36m<module>\u001b[0;34m()\u001b[0m\n\u001b[1;32m     19\u001b[0m \u001b[0;32mfor\u001b[0m \u001b[0mcount\u001b[0m\u001b[0;34m,\u001b[0m \u001b[0mtest_case\u001b[0m \u001b[0;32min\u001b[0m \u001b[0menumerate\u001b[0m\u001b[0;34m(\u001b[0m\u001b[0mtest_cases\u001b[0m\u001b[0;34m)\u001b[0m\u001b[0;34m:\u001b[0m\u001b[0;34m\u001b[0m\u001b[0m\n\u001b[1;32m     20\u001b[0m     \u001b[0;32mprint\u001b[0m \u001b[0;34m'Test case #'\u001b[0m\u001b[0;34m,\u001b[0m \u001b[0mcount\u001b[0m\u001b[0;34m\u001b[0m\u001b[0m\n\u001b[0;32m---> 21\u001b[0;31m     \u001b[0mtest_case\u001b[0m\u001b[0;34m.\u001b[0m\u001b[0mrun\u001b[0m\u001b[0;34m(\u001b[0m\u001b[0;34m)\u001b[0m\u001b[0;34m\u001b[0m\u001b[0m\n\u001b[0m",
      "\u001b[0;32m<ipython-input-5-f1b26ef2950d>\u001b[0m in \u001b[0;36mrun\u001b[0;34m(self)\u001b[0m\n\u001b[1;32m     39\u001b[0m \u001b[0;34m\u001b[0m\u001b[0m\n\u001b[1;32m     40\u001b[0m         \u001b[0;32mtry\u001b[0m\u001b[0;34m:\u001b[0m\u001b[0;34m\u001b[0m\u001b[0m\n\u001b[0;32m---> 41\u001b[0;31m             \u001b[0mself\u001b[0m\u001b[0;34m.\u001b[0m\u001b[0mresults\u001b[0m \u001b[0;34m=\u001b[0m \u001b[0mdeft_1d\u001b[0m\u001b[0;34m.\u001b[0m\u001b[0mrun\u001b[0m\u001b[0;34m(\u001b[0m\u001b[0mself\u001b[0m\u001b[0;34m.\u001b[0m\u001b[0mdata\u001b[0m\u001b[0;34m,\u001b[0m \u001b[0mG\u001b[0m\u001b[0;34m=\u001b[0m\u001b[0mself\u001b[0m\u001b[0;34m.\u001b[0m\u001b[0mG\u001b[0m\u001b[0;34m,\u001b[0m \u001b[0malpha\u001b[0m\u001b[0;34m=\u001b[0m\u001b[0mself\u001b[0m\u001b[0;34m.\u001b[0m\u001b[0malpha\u001b[0m\u001b[0;34m,\u001b[0m \u001b[0mbbox\u001b[0m\u001b[0;34m=\u001b[0m\u001b[0mself\u001b[0m\u001b[0;34m.\u001b[0m\u001b[0mbbox\u001b[0m\u001b[0;34m,\u001b[0m                                        \u001b[0mperiodic\u001b[0m\u001b[0;34m=\u001b[0m\u001b[0mperiodic\u001b[0m\u001b[0;34m,\u001b[0m \u001b[0mLaplace\u001b[0m\u001b[0;34m=\u001b[0m\u001b[0mLaplace\u001b[0m\u001b[0;34m,\u001b[0m \u001b[0mnum_samples\u001b[0m\u001b[0;34m=\u001b[0m\u001b[0mself\u001b[0m\u001b[0;34m.\u001b[0m\u001b[0mnum_samples\u001b[0m\u001b[0;34m,\u001b[0m                                        \u001b[0mnum_steps_per_sample\u001b[0m\u001b[0;34m=\u001b[0m\u001b[0mnum_steps_per_sample\u001b[0m\u001b[0;34m,\u001b[0m                                        \u001b[0mnum_thermalization_steps\u001b[0m\u001b[0;34m=\u001b[0m\u001b[0mnum_thermalization_steps\u001b[0m\u001b[0;34m,\u001b[0m                                        \u001b[0mfix_t_at_t_star\u001b[0m\u001b[0;34m=\u001b[0m\u001b[0mfix_t_at_t_star\u001b[0m\u001b[0;34m,\u001b[0m \u001b[0mprint_t\u001b[0m\u001b[0;34m=\u001b[0m\u001b[0mprint_t\u001b[0m\u001b[0;34m,\u001b[0m                                        \u001b[0mtollerance\u001b[0m\u001b[0;34m=\u001b[0m\u001b[0mtollerance\u001b[0m\u001b[0;34m,\u001b[0m \u001b[0mresolution\u001b[0m\u001b[0;34m=\u001b[0m\u001b[0mresolution\u001b[0m\u001b[0;34m,\u001b[0m \u001b[0mseed\u001b[0m\u001b[0;34m=\u001b[0m\u001b[0mself\u001b[0m\u001b[0;34m.\u001b[0m\u001b[0mdeft_seed\u001b[0m\u001b[0;34m)\u001b[0m\u001b[0;34m\u001b[0m\u001b[0m\n\u001b[0m\u001b[1;32m     42\u001b[0m             \u001b[0;32mprint\u001b[0m \u001b[0;34m'Succeeded!'\u001b[0m\u001b[0;34m\u001b[0m\u001b[0m\n\u001b[1;32m     43\u001b[0m             \u001b[0mself\u001b[0m\u001b[0;34m.\u001b[0m\u001b[0moutcome_good\u001b[0m \u001b[0;34m=\u001b[0m \u001b[0mself\u001b[0m\u001b[0;34m.\u001b[0m\u001b[0mshould_succeed\u001b[0m\u001b[0;34m\u001b[0m\u001b[0m\n",
      "\u001b[0;32m/Users/chenw/WorkingDirectory/15_deft/code/deft_1d.pyc\u001b[0m in \u001b[0;36mrun\u001b[0;34m(data, G, alpha, bbox, periodic, resolution, tollerance, Laplace, num_samples, errorbars, print_t, ell_guess, num_steps_per_sample, num_thermalization_steps, fix_t_at_t_star, seed)\u001b[0m\n\u001b[1;32m    206\u001b[0m             \u001b[0;32mprint\u001b[0m \u001b[0;34m'Laplacian loaded from disk'\u001b[0m\u001b[0;34m\u001b[0m\u001b[0m\n\u001b[1;32m    207\u001b[0m     \u001b[0;32melse\u001b[0m\u001b[0;34m:\u001b[0m\u001b[0;34m\u001b[0m\u001b[0m\n\u001b[0;32m--> 208\u001b[0;31m         \u001b[0mDelta\u001b[0m \u001b[0;34m=\u001b[0m \u001b[0mlaplacian\u001b[0m\u001b[0;34m.\u001b[0m\u001b[0mLaplacian\u001b[0m\u001b[0;34m(\u001b[0m\u001b[0mop_type\u001b[0m\u001b[0;34m,\u001b[0m \u001b[0malpha\u001b[0m\u001b[0;34m,\u001b[0m \u001b[0mG\u001b[0m\u001b[0;34m,\u001b[0m \u001b[0;36m1.0\u001b[0m\u001b[0;34m)\u001b[0m\u001b[0;34m\u001b[0m\u001b[0m\n\u001b[0m\u001b[1;32m    209\u001b[0m         \u001b[0;32mif\u001b[0m \u001b[0mprint_t\u001b[0m\u001b[0;34m:\u001b[0m\u001b[0;34m\u001b[0m\u001b[0m\n\u001b[1;32m    210\u001b[0m             \u001b[0;32mprint\u001b[0m \u001b[0;34m'Laplacian computed de novo'\u001b[0m\u001b[0;34m\u001b[0m\u001b[0m\n",
      "\u001b[0;32m/Users/chenw/WorkingDirectory/15_deft/code/laplacian.py\u001b[0m in \u001b[0;36m__init__\u001b[0;34m(self, operator_type, operator_order, num_gridpoints, grid_spacing)\u001b[0m\n\u001b[1;32m     86\u001b[0m                               \u001b[0mperiodic\u001b[0m\u001b[0;34m=\u001b[0m\u001b[0mperiodic\u001b[0m\u001b[0;34m,\u001b[0m\u001b[0;34m\u001b[0m\u001b[0m\n\u001b[1;32m     87\u001b[0m                               \u001b[0msparse\u001b[0m\u001b[0;34m=\u001b[0m\u001b[0mTrue\u001b[0m\u001b[0;34m,\u001b[0m\u001b[0;34m\u001b[0m\u001b[0m\n\u001b[0;32m---> 88\u001b[0;31m                               report_kernel=True)\n\u001b[0m\u001b[1;32m     89\u001b[0m \u001b[0;34m\u001b[0m\u001b[0m\n\u001b[1;32m     90\u001b[0m             \u001b[0mself\u001b[0m\u001b[0;34m.\u001b[0m\u001b[0m_G\u001b[0m \u001b[0;34m=\u001b[0m \u001b[0mself\u001b[0m\u001b[0;34m.\u001b[0m\u001b[0m_kernel_basis\u001b[0m\u001b[0;34m.\u001b[0m\u001b[0mshape\u001b[0m\u001b[0;34m[\u001b[0m\u001b[0;36m0\u001b[0m\u001b[0;34m]\u001b[0m\u001b[0;34m\u001b[0m\u001b[0m\n",
      "\u001b[0;32m/Users/chenw/WorkingDirectory/15_deft/code/laplacian.py\u001b[0m in \u001b[0;36mlaplacian_1d\u001b[0;34m(G, alpha, grid_spacing, periodic, sparse, report_kernel)\u001b[0m\n\u001b[1;32m    209\u001b[0m         \u001b[0;32mraise\u001b[0m \u001b[0mDeftError\u001b[0m\u001b[0;34m(\u001b[0m\u001b[0;34m'alpha must be positive: alpha=%d'\u001b[0m\u001b[0;34m%\u001b[0m\u001b[0malpha\u001b[0m\u001b[0;34m)\u001b[0m\u001b[0;34m\u001b[0m\u001b[0m\n\u001b[1;32m    210\u001b[0m     \u001b[0;32massert\u001b[0m\u001b[0;34m(\u001b[0m\u001b[0mG\u001b[0m \u001b[0;34m==\u001b[0m \u001b[0mint\u001b[0m\u001b[0;34m(\u001b[0m\u001b[0mG\u001b[0m\u001b[0;34m)\u001b[0m\u001b[0;34m)\u001b[0m\u001b[0;34m\u001b[0m\u001b[0m\n\u001b[0;32m--> 211\u001b[0;31m     \u001b[0;32massert\u001b[0m\u001b[0;34m(\u001b[0m\u001b[0mG\u001b[0m \u001b[0;34m>\u001b[0m \u001b[0;34m(\u001b[0m\u001b[0malpha\u001b[0m\u001b[0;34m+\u001b[0m\u001b[0;36m1\u001b[0m\u001b[0;34m)\u001b[0m\u001b[0;34m)\u001b[0m\u001b[0;34m\u001b[0m\u001b[0m\n\u001b[0m\u001b[1;32m    212\u001b[0m     \u001b[0;32massert\u001b[0m\u001b[0;34m(\u001b[0m\u001b[0mtype\u001b[0m\u001b[0;34m(\u001b[0m\u001b[0mgrid_spacing\u001b[0m\u001b[0;34m)\u001b[0m \u001b[0;34m==\u001b[0m \u001b[0mfloat\u001b[0m\u001b[0;34m)\u001b[0m\u001b[0;34m\u001b[0m\u001b[0m\n\u001b[1;32m    213\u001b[0m     \u001b[0;32massert\u001b[0m\u001b[0;34m(\u001b[0m\u001b[0mgrid_spacing\u001b[0m \u001b[0;34m>\u001b[0m \u001b[0;36m0.0\u001b[0m\u001b[0;34m)\u001b[0m\u001b[0;34m\u001b[0m\u001b[0m\n",
      "\u001b[0;31mAssertionError\u001b[0m: "
     ]
    }
   ],
   "source": [
    "test_cases = [\n",
    "    TestCase(G=100,alpha=3, bbox=[-6,6,1], N=100, data_type='wide', deft_seed=0, data_seed=0, should_succeed=False),\n",
    "    TestCase(G=100,alpha=3, bbox=[6,-6], N=100, data_type='wide', deft_seed=0, data_seed=0, should_succeed=False),\n",
    "    TestCase(G=100,alpha=3, bbox=[-6,6], N=100, data_type='wide', deft_seed=0, data_seed=0, should_succeed=True),\n",
    "    TestCase(G=100,alpha=-3, bbox=[-6,6], N=100, data_type='wide', deft_seed=0, data_seed=0, should_succeed=False),\n",
    "    TestCase(G=-100,alpha=3, bbox=[-6,6], N=100, data_type='wide', deft_seed=0, data_seed=0, should_succeed=False),\n",
    "    TestCase(G=0,alpha=3, bbox=[-6,6], N=100, data_type='wide', deft_seed=0, data_seed=0, should_succeed=False),\n",
    "    TestCase(G=100.5,alpha=3, bbox=[-6,6], N=100, data_type='wide', deft_seed=0, data_seed=0, should_succeed=False)\n",
    "#    TestCase(G=100,alpha=3, bbox=[-6,6], N=100, data_type='wide', deft_seed=0, data_seed=1)\n",
    "#    TestCase(G=100,alpha=1, bbox=[-6,6], N=100, data_type='wide'),\n",
    "#    TestCase(G=100,alpha=3, bbox=[-20,20], N=100, data_type='wide'),\n",
    "#    TestCase(G=100,alpha=3, bbox=[-100,100], N=100, data_type='wide'),\n",
    "#    TestCase(G=100,alpha=3, bbox=[6,-6], N=100, data_type='wide', should_succeed=False),\n",
    "#    TestCase(G=100,alpha=3, bbox=[-6,6], N=0, data_type='wide', should_succeed=False)\n",
    "]\n",
    "#test_cases = [TestCase(G=100,alpha=3, bbox=[-6,6], N=100, data_type='wide', deft_seed=n, data_seed=0)\\\n",
    "#             for n in range(10)]\n",
    "\n",
    "for count, test_case in enumerate(test_cases):\n",
    "    print 'Test case #', count\n",
    "    test_case.run()    "
   ]
  },
  {
   "cell_type": "code",
   "execution_count": null,
   "metadata": {},
   "outputs": [],
   "source": [
    "plt.figure()\n",
    "for n, test_case in enumerate(test_cases):\n",
    "    print 'Test case %d: t_star = %f'%(n,test_case.results.t_star)\n",
    "    Q_star = test_case.results.Q_star\n",
    "    xs = test_case.results.bin_centers\n",
    "    plt.plot(xs,Q_star)"
   ]
  },
  {
   "cell_type": "code",
   "execution_count": null,
   "metadata": {
    "collapsed": true
   },
   "outputs": [],
   "source": [
    "result = test_case.results\n"
   ]
  },
  {
   "cell_type": "code",
   "execution_count": null,
   "metadata": {
    "collapsed": true,
    "scrolled": false
   },
   "outputs": [],
   "source": [
    "# Plot Prob(t) vs t\n",
    "if (test_case.num_samples > 0):\n",
    "    plt.figure(figsize=[8,6])\n",
    "    x = results.prob_t_vs_t[0,:]\n",
    "    y = results.prob_t_vs_t[1,:]\n",
    "    plt.scatter(x, y)\n",
    "    plt.plot(x, y, color='red', linewidth=1)\n",
    "    #plt.semilogy(x, y, color='red', linewidth=1)\n",
    "    plt.xlim(x.min()+10, x.max()-10)\n",
    "    plt.xticks(size=15)\n",
    "    plt.yticks(size=15)\n",
    "    plt.xlabel('t (-inf, +inf)', size=20)\n",
    "    plt.ylabel('Prob ~ E(t)', size=20)"
   ]
  },
  {
   "cell_type": "code",
   "execution_count": null,
   "metadata": {
    "collapsed": true
   },
   "outputs": [],
   "source": [
    "# Plot log_E(t) vs t\n",
    "if (test_case.num_samples > 0):\n",
    "    plt.figure(figsize=[8,6])\n",
    "    x = results.prob_t_vs_t[0,:]\n",
    "    y = results.prob_t_vs_t[2,:]\n",
    "    plt.scatter(x, y)\n",
    "    plt.plot(x, y, color='red', linewidth=1)\n",
    "    plt.xticks(size=15)\n",
    "    plt.yticks(size=15)\n",
    "    plt.xlabel('t (-inf, +inf)', size=20)\n",
    "    plt.ylabel('log_E(t)', size=20)"
   ]
  },
  {
   "cell_type": "code",
   "execution_count": null,
   "metadata": {
    "collapsed": true
   },
   "outputs": [],
   "source": [
    "# Compute true density\n",
    "xs = results.bin_centers\n",
    "Q_true = np.zeros(test_case.G)\n",
    "for i, x in enumerate(xs):\n",
    "    Q_true[i] = eval(test_case.defaults['pdf_py'])\n",
    "Q_true /= results.h*sum(Q_true)"
   ]
  },
  {
   "cell_type": "code",
   "execution_count": null,
   "metadata": {
    "scrolled": false
   },
   "outputs": [],
   "source": [
    "plt.figure(figsize=[12,9])\n",
    "xs = results.bin_centers\n",
    "\n",
    "# plot histogram density\n",
    "left_bin_edges = results.bin_edges[:-1]\n",
    "plt.bar(xs, results.R, width=results.h, color='gray', linewidth=0, zorder=0, alpha=0.5) # Here I used xs!\n",
    "\n",
    "# Plot the MCMC samples from S\n",
    "if (test_case.num_samples > 0):\n",
    "    plt.plot(xs, results.Q_samples, color='blue', linewidth=5, zorder=1, alpha=0.1)\n",
    "\n",
    "# Plot DEFT density estimate\n",
    "plt.plot(xs, results.Q_star, color='red', linewidth=3, zorder=3, alpha=1.0)\n",
    "\n",
    "# Plot the true density\n",
    "plt.plot(xs, Q_true, color='black', linewidth=2, zorder=2, alpha=1.0)\n",
    "\n",
    "# Tidy up the plot\n",
    "plt.ylim(0, 1.1*max(max(results.R),max(results.Q_star)))\n",
    "plt.xlim(test_case.bbox)\n",
    "plt.yticks(size=20)\n",
    "plt.xticks(size=20)\n",
    "plt.ylabel('Probability density', size=25)\n",
    "plt.xlabel('Data', size=25)\n",
    "t = results.deft_1d_compute_time\n",
    "plt.title('%s, t=%1.2f sec %s'%(test_case.data_type, t, '(Black=Q_true, Red=Q_star, Blue=Q_samples)'), \\\n",
    "          fontsize=20)"
   ]
  },
  {
   "cell_type": "code",
   "execution_count": null,
   "metadata": {
    "collapsed": true
   },
   "outputs": [],
   "source": []
  },
  {
   "cell_type": "code",
   "execution_count": null,
   "metadata": {
    "collapsed": true
   },
   "outputs": [],
   "source": []
  }
 ],
 "metadata": {
  "anaconda-cloud": {},
  "kernelspec": {
   "display_name": "Python 2",
   "language": "python",
   "name": "python2"
  },
  "language_info": {
   "codemirror_mode": {
    "name": "ipython",
    "version": 2
   },
   "file_extension": ".py",
   "mimetype": "text/x-python",
   "name": "python",
   "nbconvert_exporter": "python",
   "pygments_lexer": "ipython2",
   "version": "2.7.13"
  }
 },
 "nbformat": 4,
 "nbformat_minor": 1
}
