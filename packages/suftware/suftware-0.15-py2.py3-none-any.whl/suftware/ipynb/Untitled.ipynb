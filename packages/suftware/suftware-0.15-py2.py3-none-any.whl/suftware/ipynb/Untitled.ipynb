{
 "cells": [
  {
   "cell_type": "code",
   "execution_count": null,
   "metadata": {},
   "outputs": [],
   "source": [
    "# Include 3-leg, 4-leg, 5-leg, 6-leg , 7-leg, 8-leg vertices\n",
    "# V up to the power of k\n",
    "k = 5\n",
    "# print out configuration with order N^m\n",
    "m = -2\n",
    "\n",
    "for V_power in range(1,k+1):\n",
    "    print 'V to the power of', V_power, ':'\n",
    "    num_vertex = V_power\n",
    "    for k8 in range(k+1):\n",
    "        for k7 in range(k+1):\n",
    "            for k6 in range(k+1):\n",
    "                for k5 in range(k+1):\n",
    "                    for k4 in range(k+1):\n",
    "                        for k3 in range(k+1):\n",
    "                            if ((k3+k4+k5+k6+k7+k8) == V_power):\n",
    "                                num_legs = k3*3 + k4*4 + k5*5 + k6*6 + k7*7 + k8*8\n",
    "                                if (num_legs%2 == 0):\n",
    "                                    num_propagator = num_legs / 2\n",
    "                                    order = num_vertex - num_propagator\n",
    "                                    if (order == m):\n",
    "                                        print k3, k4, k5, k6, k7, k8, '|', \\\n",
    "                                        'V =', num_vertex, '& P =', num_propagator, '|', 'N ^', order\n",
    "    print '-------------------------------------'"
   ]
  },
  {
   "cell_type": "code",
   "execution_count": 56,
   "metadata": {},
   "outputs": [
    {
     "name": "stdout",
     "output_type": "stream",
     "text": [
      "0 109806724\n",
      "1 186467032\n",
      "2 1123438076\n",
      "3 104601303\n",
      "4 3733899387\n",
      "5 1604904987\n",
      "6 2048694066\n",
      "7 3915639884\n",
      "8 483399281\n",
      "9 194035259\n"
     ]
    }
   ],
   "source": [
    "import random\n",
    "\n",
    "for i in range(10):\n",
    "    print i, random.randint(0, 2**32-1)"
   ]
  },
  {
   "cell_type": "code",
   "execution_count": null,
   "metadata": {
    "collapsed": true
   },
   "outputs": [],
   "source": []
  }
 ],
 "metadata": {
  "kernelspec": {
   "display_name": "Python 2",
   "language": "python",
   "name": "python2"
  },
  "language_info": {
   "codemirror_mode": {
    "name": "ipython",
    "version": 2
   },
   "file_extension": ".py",
   "mimetype": "text/x-python",
   "name": "python",
   "nbconvert_exporter": "python",
   "pygments_lexer": "ipython2",
   "version": "2.7.13"
  }
 },
 "nbformat": 4,
 "nbformat_minor": 2
}
