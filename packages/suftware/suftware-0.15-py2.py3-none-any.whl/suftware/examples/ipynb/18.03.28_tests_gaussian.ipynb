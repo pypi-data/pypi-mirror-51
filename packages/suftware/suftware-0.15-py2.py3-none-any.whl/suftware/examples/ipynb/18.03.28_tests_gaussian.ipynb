{
 "cells": [
  {
   "cell_type": "code",
   "execution_count": 1,
   "metadata": {},
   "outputs": [
    {
     "data": {
      "image/png": "[encoded data removed]",
      "text/plain": [
       "<matplotlib.figure.Figure at 0x10f156ba8>"
      ]
     },
     "metadata": {},
     "output_type": "display_data"
    }
   ],
   "source": [
    "# Standard modules\n",
    "import numpy as np\n",
    "import sys\n",
    "\n",
    "# Import suftware \n",
    "sys.path.append('../../')\n",
    "import suftware as sw\n",
    "\n",
    "# Generate datas\n",
    "np.random.seed(0)\n",
    "data = np.random.randn(100)\n",
    "\n",
    "# simple test\n",
    "sw.Density(data).plot() "
   ]
  },
  {
   "cell_type": "code",
   "execution_count": 5,
   "metadata": {},
   "outputs": [
    {
     "name": "stdout",
     "output_type": "stream",
     "text": [
      "Success, as expected.\n",
      "Success, as expected.\n",
      "Success, as expected.\n",
      "Error, as expected: num_posterior_samples = -1.000000; need 0 <= num_posterior_samples <= 1000.\n",
      "Error, as expected: type(num_posterior_samples) = <class 'float'>; must be integer\n",
      "Error, as expected: type(num_posterior_samples) = <class 'float'>; must be integer\n",
      "Error, as expected: num_posterior_samples = 1001.000000; need 0 <= num_posterior_samples <= 1000.\n"
     ]
    },
    {
     "data": {
      "text/plain": [
       "<src.density.Density at 0x110ef8b70>"
      ]
     },
     "execution_count": 5,
     "metadata": {},
     "output_type": "execute_result"
    }
   ],
   "source": [
    "# num_posterior_samples\n",
    "\n",
    "# Should succeed\n",
    "sw.Density(data, num_posterior_samples=0, should_fail=False)\n",
    "sw.Density(data, num_posterior_samples=1, should_fail=False)\n",
    "sw.Density(data, num_posterior_samples=1000, should_fail=False)\n",
    "\n",
    "# Should fail\n",
    "sw.Density(data, num_posterior_samples=-1, should_fail=True)\n",
    "sw.Density(data, num_posterior_samples=1.0, should_fail=True)\n",
    "sw.Density(data, num_posterior_samples=1.5, should_fail=True)\n",
    "sw.Density(data, num_posterior_samples=1001, should_fail=True)"
   ]
  },
  {
   "cell_type": "code",
   "execution_count": null,
   "metadata": {},
   "outputs": [],
   "source": [
    "# grid\n",
    "\n",
    "# Should fail\n",
    "sw.Density(data, grid=5, should_fail=True)\n",
    "sw.Density(data, grid=set(np.linspace(-3,3,100)), should_fail=True)\n",
    "sw.Density(data, grid=np.linspace(-3,3,5), should_fail=True)\n",
    "sw.Density(data, grid=np.linspace(-3,3,1001), should_fail=True)\n",
    "sw.Density(data, grid=np.linspace(-1E-6,1E-6,100), should_fail=True)\n",
    "sw.Density(data, grid=np.linspace(-1E6,1E6,100), should_fail=True)\n",
    "\n",
    "\n",
    "# Should work\n",
    "sw.Density(data, grid=np.linspace(-3,3,100), should_fail=False)\n",
    "sw.Density(data, grid=np.linspace(-3,3,100).T, should_fail=False)\n",
    "sw.Density(data, grid=np.matrix(np.linspace(-3,3,100)), should_fail=False)\n",
    "sw.Density(data, grid=np.matrix(np.linspace(-3,3,100).T), should_fail=False)\n",
    "sw.Density(data, grid=list(np.linspace(-3,3,100)), should_fail=False)\n",
    "sw.Density(data, grid=np.linspace(-3,3,6), should_fail=False)\n",
    "sw.Density(data, grid=np.linspace(-3,3,100), should_fail=False)\n",
    "sw.Density(data, grid=np.linspace(-3,3,1000), should_fail=False)"
   ]
  },
  {
   "cell_type": "code",
   "execution_count": null,
   "metadata": {},
   "outputs": [],
   "source": [
    "# bounding_box\n",
    "\n",
    "# Invalid input\n",
    "sw.Density(data, bounding_box={-6, 6}, should_fail=True)\n",
    "sw.Density(data, bounding_box=6, should_fail=True)\n",
    "sw.Density(data, bounding_box=[6], should_fail=True)\n",
    "sw.Density(data, bounding_box=[-6, 0, 6], should_fail=True)\n",
    "sw.Density(data, bounding_box=['-6', '6'], should_fail=True)\n",
    "sw.Density(data, bounding_box=[6, 6], should_fail=True)\n",
    "sw.Density(data, bounding_box='[-6, 6]', should_fail=True)\n",
    "\n",
    "# Valid input\n",
    "sw.Density(data, bounding_box=[-6, 6], should_fail=False)\n",
    "sw.Density(data, bounding_box=(-6, 6), should_fail=False)\n",
    "sw.Density(data, bounding_box=np.array([-6, 6]), should_fail=False)\n",
    "sw.Density(data, bounding_box=[-.1, .1], should_fail=False)\n",
    "sw.Density(data, bounding_box=[-10, 10], should_fail=False)\n",
    "\n",
    "# To few filled bins\n",
    "sw.Density(data, bounding_box=[-1E-6, 1E-6], should_fail=True)\n",
    "sw.Density(data, bounding_box=[-1E6, 1E6], should_fail=True)\n",
    "sw.Density(data, bounding_box=[10, 20], should_fail=True)"
   ]
  },
  {
   "cell_type": "code",
   "execution_count": null,
   "metadata": {},
   "outputs": [],
   "source": [
    "# grid_spacing\n",
    "\n",
    "# Invalid input\n",
    "sw.Density(data, grid_spacing=0, should_fail=True)\n",
    "sw.Density(data, grid_spacing=0.0, should_fail=True)\n",
    "sw.Density(data, grid_spacing=-0.1, should_fail=True)\n",
    "sw.Density(data, grid_spacing='0.1', should_fail=True)\n",
    "sw.Density(data, grid_spacing=[0.1], should_fail=True)\n",
    "\n",
    "# Insane values\n",
    "sw.Density(data, grid_spacing=0.0001, should_fail=True)\n",
    "sw.Density(data, grid_spacing=1000.0, should_fail=True)\n",
    "\n",
    "# Should work\n",
    "sw.Density(data, grid_spacing=None, should_fail=False)\n",
    "sw.Density(data, grid_spacing=0.02, should_fail=False)\n",
    "sw.Density(data, grid_spacing=0.1, should_fail=False)\n",
    "sw.Density(data, grid_spacing=0.5, should_fail=False)"
   ]
  },
  {
   "cell_type": "code",
   "execution_count": null,
   "metadata": {},
   "outputs": [],
   "source": [
    "# num_grid_points\n",
    "\n",
    "# Fails\n",
    "sw.Density(data, num_grid_points=-10, should_fail=True)\n",
    "sw.Density(data, num_grid_points=-1, should_fail=True)\n",
    "sw.Density(data, num_grid_points=0, should_fail=True)\n",
    "sw.Density(data, num_grid_points=1, should_fail=True)\n",
    "sw.Density(data, num_grid_points=2, should_fail=True)\n",
    "sw.Density(data, num_grid_points=3, should_fail=True)\n",
    "sw.Density(data, num_grid_points=4, should_fail=True)\n",
    "sw.Density(data, num_grid_points=5, should_fail=True)\n",
    "sw.Density(data, num_grid_points=1001, should_fail=True)\n",
    "\n",
    "# Works\n",
    "sw.Density(data, num_grid_points=6, should_fail=False)\n",
    "sw.Density(data, num_grid_points=100, should_fail=False)\n",
    "sw.Density(data, num_grid_points=1000, should_fail=False)\n"
   ]
  },
  {
   "cell_type": "code",
   "execution_count": null,
   "metadata": {
    "collapsed": true
   },
   "outputs": [],
   "source": []
  }
 ],
 "metadata": {
  "kernelspec": {
   "display_name": "anaconda_kernel",
   "language": "python",
   "name": "anaconda_kernel"
  },
  "language_info": {
   "codemirror_mode": {
    "name": "ipython",
    "version": 3
   },
   "file_extension": ".py",
   "mimetype": "text/x-python",
   "name": "python",
   "nbconvert_exporter": "python",
   "pygments_lexer": "ipython3",
   "version": "3.6.3"
  }
 },
 "nbformat": 4,
 "nbformat_minor": 2
}
