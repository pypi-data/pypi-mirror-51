{
 "cells": [
  {
   "cell_type": "markdown",
   "metadata": {},
   "source": [
    "## Functional Tests for Suftware\n",
    "Skeleton code on which functional tests are performed"
   ]
  },
  {
   "cell_type": "code",
   "execution_count": 1,
   "metadata": {},
   "outputs": [
    {
     "data": {
      "image/png": "[encoded data removed]",
      "text/plain": [
       "<matplotlib.figure.Figure at 0x1a151bb550>"
      ]
     },
     "metadata": {},
     "output_type": "display_data"
    }
   ],
   "source": [
    "# Standard modules\n",
    "import numpy as np\n",
    "import sys\n",
    "\n",
    "# Import suftware \n",
    "sys.path.append('../../')\n",
    "import suftware as sw\n",
    "\n",
    "# Generate datas\n",
    "np.random.seed(0)\n",
    "data = np.random.randn(100)\n",
    "\n",
    "# simple test\n",
    "sw.Density(data).plot() \n",
    "global_mistake = False\n",
    "global_test_counter = 0\n",
    "\n",
    "# helper method for functional test\n",
    "def run_one_functional_test(**kw):\n",
    "    \n",
    "    functional_test = sw.Density(data,**kw)\n",
    "    global global_mistake\n",
    "    global_mistake = functional_test.mistake\n",
    "    if global_mistake is True:\n",
    "        display_status()\n",
    "        sys.exit(1)\n",
    "    global global_test_counter   \n",
    "    global_test_counter+=1\n",
    "\n",
    "# helper method for displaying pass/fail status\n",
    "def display_status():\n",
    "    if(global_mistake):\n",
    "        get_ipython().run_cell_magic(u'HTML', u'', u'<font size=6 color=red><b>FAIL</b></font>')\n",
    "    else:\n",
    "        get_ipython().run_cell_magic(u'HTML', u'', u'<font size=6 color=green><b>PASS</b></font>')"
   ]
  },
  {
   "cell_type": "markdown",
   "metadata": {},
   "source": [
    "## grid Tests:"
   ]
  },
  {
   "cell_type": "code",
   "execution_count": 2,
   "metadata": {
    "scrolled": true
   },
   "outputs": [
    {
     "name": "stdout",
     "output_type": "stream",
     "text": [
      "Error, as expected: type(grid) = <class 'int'>; must be a list or np.ndarray\n",
      "Error, as expected: type(grid) = <class 'str'>; must be a list or np.ndarray\n",
      "Error, as expected: type(grid) = <class 'set'>; must be a list or np.ndarray\n",
      "Error, as expected: len(grid) = 5; must have 6 <= len(grid) <= 1000.\n",
      "Error, as expected: len(grid) = 1001; must have 6 <= len(grid) <= 1000.\n",
      "Error, as expected: Histogram has 0 nonempty bins; must be > 3.\n",
      "Error, as expected: Histogram has 2 nonempty bins; must be > 3.\n",
      "Success, as expected.\n",
      "Success, as expected.\n",
      "Success, as expected.\n",
      "Success, as expected.\n",
      "Success, as expected.\n",
      "Success, as expected.\n",
      "Success, as expected.\n",
      "Success, as expected.\n",
      "Success, as expected.\n",
      "Success, as expected.\n"
     ]
    },
    {
     "data": {
      "text/html": [
       "<font size=6 color=green><b>PASS</b></font>"
      ],
      "text/plain": [
       "<IPython.core.display.HTML object>"
      ]
     },
     "metadata": {},
     "output_type": "display_data"
    }
   ],
   "source": [
    "# values to be tested that are expected to fail\n",
    "grid_fail_list = [\n",
    "    5,\n",
    "    'x',\n",
    "    set(np.linspace(-3,3,100)),\n",
    "    np.linspace(-3,3,5),\n",
    "    np.linspace(-3,3,1001),\n",
    "    np.linspace(-1E-6,1E-6,100),\n",
    "    np.linspace(-1E6,1E6,100)\n",
    "]\n",
    "\n",
    "# values to be tested that are expected to pass\n",
    "grid_success_list = [\n",
    "    None,\n",
    "    np.linspace(-3,3,100),\n",
    "    np.linspace(-3,3,100).T,\n",
    "    np.matrix(np.linspace(-3,3,100)),\n",
    "    np.matrix(np.linspace(-3,3,100).T),\n",
    "    list(np.linspace(-3,3,100)),\n",
    "    np.linspace(-3,3,6),\n",
    "    np.linspace(-3,3,100),\n",
    "    np.linspace(-3,3,100),\n",
    "    np.linspace(-3,3,1000)\n",
    "]  \n",
    "    \n",
    "# should fail    \n",
    "[run_one_functional_test(grid=grid_fail_list[i],should_fail=True) for i in range(len(grid_fail_list))]\n",
    "# should pass\n",
    "[run_one_functional_test(grid=grid_success_list[i],should_fail=False) for i in range(len(grid_success_list))]\n",
    "    \n",
    "\n",
    "display_status()"
   ]
  },
  {
   "cell_type": "markdown",
   "metadata": {},
   "source": [
    "## grid_spacing Tests"
   ]
  },
  {
   "cell_type": "code",
   "execution_count": 3,
   "metadata": {},
   "outputs": [
    {
     "name": "stdout",
     "output_type": "stream",
     "text": [
      "Error, as expected: grid_spacing = 0.000000; must be > 0.\n",
      "Error, as expected: grid_spacing = 0.000000; must be > 0.\n",
      "Error, as expected: grid_spacing = -0.100000; must be > 0.\n",
      "Error, as expected: type(grid_spacing) = <class 'str'>; must be a number\n",
      "Error, as expected: type(grid_spacing) = <class 'list'>; must be a number\n",
      "Error, as expected: Using grid_spacing = 0.000100 produces num_grid_points = 67518, which is too big. Increase grid_spacing or do not set.\n",
      "Error, as expected: Using grid_spacing = 1000.000000 produces num_grid_points = 0, which is too small. Reduce grid_spacing or do not set.\n",
      "Success, as expected.\n",
      "Success, as expected.\n",
      "Success, as expected.\n",
      "Success, as expected.\n"
     ]
    },
    {
     "data": {
      "text/html": [
       "<font size=6 color=green><b>PASS</b></font>"
      ],
      "text/plain": [
       "<IPython.core.display.HTML object>"
      ]
     },
     "metadata": {},
     "output_type": "display_data"
    }
   ],
   "source": [
    "# values to be tested\n",
    "grid_spacing_fail_list = [0,0.0,-0.1,'0.1',[0.1],0.0001,1000.0]\n",
    "grid_spacing_success_list = [None,0.02,0.1,0.5]\n",
    "\n",
    "# should fail    \n",
    "[run_one_functional_test(grid_spacing=grid_spacing_fail_list[i],should_fail=True) for i in range(len(grid_spacing_fail_list))]\n",
    "# should pass\n",
    "[run_one_functional_test(grid_spacing=grid_spacing_success_list[i],should_fail=False) for i in range(len(grid_spacing_success_list))]\n",
    "    \n",
    "display_status()    "
   ]
  },
  {
   "cell_type": "markdown",
   "metadata": {},
   "source": [
    "## bounding_box Tests:"
   ]
  },
  {
   "cell_type": "code",
   "execution_count": 4,
   "metadata": {},
   "outputs": [
    {
     "name": "stdout",
     "output_type": "stream",
     "text": [
      "Error, as expected: type(bounding_box) = <class 'set'>; must be one of (<class 'list'>, <class 'tuple'>, <class 'numpy.ndarray'>)\n",
      "Error, as expected: type(bounding_box) = <class 'int'>; must be one of (<class 'list'>, <class 'tuple'>, <class 'numpy.ndarray'>)\n",
      "Error, as expected: len(bounding_box) = 1; must be 2\n",
      "Error, as expected: len(bounding_box) = 3; must be 2\n",
      "Error, as expected: bounding_box = ['-6', '6']; entries must be numbers\n",
      "Error, as expected: bounding_box = [6, 6]; entries must be sorted\n",
      "Error, as expected: Histogram has 0 nonempty bins; must be > 3.\n",
      "Error, as expected: Histogram has 2 nonempty bins; must be > 3.\n",
      "Error, as expected: Histogram has 0 nonempty bins; must be > 3.\n",
      "Success, as expected.\n",
      "Success, as expected.\n",
      "Success, as expected.\n",
      "Success, as expected.\n",
      "Success, as expected.\n"
     ]
    },
    {
     "data": {
      "text/html": [
       "<font size=6 color=green><b>PASS</b></font>"
      ],
      "text/plain": [
       "<IPython.core.display.HTML object>"
      ]
     },
     "metadata": {},
     "output_type": "display_data"
    }
   ],
   "source": [
    "# bounding_box\n",
    "\n",
    "# values to be tested\n",
    "bbox_fail_list = [{-6, 6},6,[6],[-6, 0, 6],['-6', '6'],[6, 6],[-1E-6, 1E-6],[-1E6, 1E6],[10, 20]]\n",
    "bbox_success_list = [[-6, 6],(-6, 6),np.array([-6, 6]),[-.1, .1],[-10, 10]]\n",
    "\n",
    "# should fail    \n",
    "[run_one_functional_test(bounding_box=bbox_fail_list[i],should_fail=True) for i in range(len(bbox_fail_list))]\n",
    "# should pass\n",
    "[run_one_functional_test(bounding_box=bbox_success_list[i],should_fail=False) for i in range(len(bbox_success_list))]\n",
    "\n",
    "display_status()"
   ]
  },
  {
   "cell_type": "markdown",
   "metadata": {},
   "source": [
    "## num_grid_points Tests"
   ]
  },
  {
   "cell_type": "code",
   "execution_count": 5,
   "metadata": {},
   "outputs": [
    {
     "name": "stdout",
     "output_type": "stream",
     "text": [
      "Error, as expected: num_grid_points = -10; must have 6 <= num_grid_poitns <= 1000.\n",
      "Error, as expected: num_grid_points = -1; must have 6 <= num_grid_poitns <= 1000.\n",
      "Error, as expected: num_grid_points = 0; must have 6 <= num_grid_poitns <= 1000.\n",
      "Error, as expected: num_grid_points = 1; must have 6 <= num_grid_poitns <= 1000.\n",
      "Error, as expected: num_grid_points = 2; must have 6 <= num_grid_poitns <= 1000.\n",
      "Error, as expected: num_grid_points = 3; must have 6 <= num_grid_poitns <= 1000.\n",
      "Error, as expected: num_grid_points = 4; must have 6 <= num_grid_poitns <= 1000.\n",
      "Error, as expected: num_grid_points = 5; must have 6 <= num_grid_poitns <= 1000.\n",
      "Error, as expected: num_grid_points = 1001; must have 6 <= num_grid_poitns <= 1000.\n",
      "Success, as expected.\n",
      "Success, as expected.\n",
      "Success, as expected.\n"
     ]
    },
    {
     "data": {
      "text/html": [
       "<font size=6 color=green><b>PASS</b></font>"
      ],
      "text/plain": [
       "<IPython.core.display.HTML object>"
      ]
     },
     "metadata": {},
     "output_type": "display_data"
    }
   ],
   "source": [
    "# num_grid_points\n",
    "\n",
    "num_grid_points_fail_list = [-10,-1,0,1,2,3,4,5,1001] \n",
    "num_grid_points_success_list = [6,100,1000]\n",
    "\n",
    "# should fail    \n",
    "[run_one_functional_test(num_grid_points=num_grid_points_fail_list[i],should_fail=True) for i in range(len(num_grid_points_fail_list))]\n",
    "# should pass\n",
    "[run_one_functional_test(num_grid_points=num_grid_points_success_list[i],should_fail=False) for i in range(len(num_grid_points_success_list))]\n",
    "\n",
    "display_status()\n"
   ]
  },
  {
   "cell_type": "markdown",
   "metadata": {},
   "source": [
    "## alpha Tests"
   ]
  },
  {
   "cell_type": "code",
   "execution_count": 6,
   "metadata": {},
   "outputs": [
    {
     "name": "stdout",
     "output_type": "stream",
     "text": [
      "Error, as expected: type(alpha) = <class 'NoneType'>; must be int.\n",
      "Error, as expected: type(alpha) = <class 'str'>; must be int.\n",
      "Error, as expected: alpha = -1; must have 1 <= alpha <= 4\n",
      "Error, as expected: type(alpha) = <class 'float'>; must be int.\n",
      "Error, as expected: alpha = 0; must have 1 <= alpha <= 4\n",
      "Error, as expected: type(alpha) = <class 'float'>; must be int.\n",
      "Error, as expected: alpha = 10; must have 1 <= alpha <= 4\n",
      "Success, as expected.\n",
      "Success, as expected.\n",
      "Success, as expected.\n",
      "Success, as expected.\n"
     ]
    },
    {
     "data": {
      "text/html": [
       "<font size=6 color=green><b>PASS</b></font>"
      ],
      "text/plain": [
       "<IPython.core.display.HTML object>"
      ]
     },
     "metadata": {},
     "output_type": "display_data"
    }
   ],
   "source": [
    "# alpha\n",
    "\n",
    "# values to be tested\n",
    "alpha_fail_list = [None,'x',-1,0.0,0,0.1,10]\n",
    "alpha_success_list = [1,2,3,4]\n",
    "\n",
    "# should fail    \n",
    "[run_one_functional_test(alpha=alpha_fail_list[i],should_fail=True) for i in range(len(alpha_fail_list))]\n",
    "# should pass\n",
    "[run_one_functional_test(alpha=alpha_success_list[i],should_fail=False) for i in range(len(alpha_success_list))]\n",
    "\n",
    "display_status()"
   ]
  },
  {
   "cell_type": "markdown",
   "metadata": {},
   "source": [
    "## periodic Tests"
   ]
  },
  {
   "cell_type": "code",
   "execution_count": 7,
   "metadata": {},
   "outputs": [
    {
     "name": "stdout",
     "output_type": "stream",
     "text": [
      "Error, as expected: type(periodic) = <class 'int'>; must be bool\n",
      "Error, as expected: type(periodic) = <class 'int'>; must be bool\n",
      "Error, as expected: type(periodic) = <class 'str'>; must be bool\n",
      "Error, as expected: type(periodic) = <class 'str'>; must be bool\n",
      "Error, as expected: type(periodic) = <class 'int'>; must be bool\n",
      "Success, as expected.\n",
      "Success, as expected.\n"
     ]
    },
    {
     "data": {
      "text/html": [
       "<font size=6 color=green><b>PASS</b></font>"
      ],
      "text/plain": [
       "<IPython.core.display.HTML object>"
      ]
     },
     "metadata": {},
     "output_type": "display_data"
    }
   ],
   "source": [
    "# periodic \n",
    "\n",
    "# values to be tested\n",
    "periodic_fail_list = [0,-1,'True','x',1]\n",
    "perdiodic_success_list = [False,True]\n",
    "\n",
    "# should fail    \n",
    "[run_one_functional_test(periodic=periodic_fail_list[i],should_fail=True) for i in range(len(periodic_fail_list))]\n",
    "# should pass\n",
    "[run_one_functional_test(periodic=perdiodic_success_list[i],should_fail=False) for i in range(len(perdiodic_success_list))]\n",
    "\n",
    "display_status()"
   ]
  },
  {
   "cell_type": "markdown",
   "metadata": {},
   "source": [
    "## Z_evaluation_method Tests"
   ]
  },
  {
   "cell_type": "code",
   "execution_count": 8,
   "metadata": {},
   "outputs": [
    {
     "name": "stdout",
     "output_type": "stream",
     "text": [
      "Error, as expected: Z_eval = 0; must be in ['Lap', 'Lap+Imp', 'Lap+Fey']\n",
      "Error, as expected: Z_eval = x; must be in ['Lap', 'Lap+Imp', 'Lap+Fey']\n",
      "Error, as expected: Z_eval = Einstein; must be in ['Lap', 'Lap+Imp', 'Lap+Fey']\n",
      "Error, as expected: Z_eval = False; must be in ['Lap', 'Lap+Imp', 'Lap+Fey']\n",
      "Success, as expected.\n",
      "Success, as expected.\n",
      "Success, as expected.\n"
     ]
    },
    {
     "data": {
      "text/html": [
       "<font size=6 color=green><b>PASS</b></font>"
      ],
      "text/plain": [
       "<IPython.core.display.HTML object>"
      ]
     },
     "metadata": {},
     "output_type": "display_data"
    }
   ],
   "source": [
    "# Z_evaluation_method\n",
    "\n",
    "# values to be tested\n",
    "Z_eval_fail_list = [0,'x','Einstein',False]\n",
    "Z_eval_success_list = ['Lap','Lap+Fey','Lap+Imp']\n",
    "\n",
    "# should fail    \n",
    "[run_one_functional_test(Z_evaluation_method=Z_eval_fail_list[i],should_fail=True) for i in range(len(Z_eval_fail_list))]\n",
    "# should pass\n",
    "[run_one_functional_test(Z_evaluation_method=Z_eval_success_list[i],should_fail=False) for i in range(len(Z_eval_success_list))]\n",
    "\n",
    "display_status()\n"
   ]
  },
  {
   "cell_type": "markdown",
   "metadata": {},
   "source": [
    "## num_samples_for_Z Tests"
   ]
  },
  {
   "cell_type": "code",
   "execution_count": 13,
   "metadata": {},
   "outputs": [
    {
     "name": "stdout",
     "output_type": "stream",
     "text": [
      "MISTAKE: Succeeded but should have failed.\n"
     ]
    },
    {
     "data": {
      "text/html": [
       "<font size=6 color=red><b>FAIL</b></font>"
      ],
      "text/plain": [
       "<IPython.core.display.HTML object>"
      ]
     },
     "metadata": {},
     "output_type": "display_data"
    },
    {
     "ename": "SystemExit",
     "evalue": "1",
     "output_type": "error",
     "traceback": [
      "An exception has occurred, use %tb to see the full traceback.\n",
      "\u001b[0;31mSystemExit\u001b[0m\u001b[0;31m:\u001b[0m 1\n"
     ]
    },
    {
     "name": "stderr",
     "output_type": "stream",
     "text": [
      "/usr/local/Cellar/python3/3.6.2/Frameworks/Python.framework/Versions/3.6/lib/python3.6/site-packages/IPython/core/interactiveshell.py:2870: UserWarning: To exit: use 'exit', 'quit', or Ctrl-D.\n",
      "  warn(\"To exit: use 'exit', 'quit', or Ctrl-D.\", stacklevel=1)\n"
     ]
    }
   ],
   "source": [
    "# num_samples_for_Z\n",
    "\n",
    "# Question: should a value of None pass or fail?\n",
    "\n",
    "# values to be tested\n",
    "num_samples_for_Z_fail_list = [None,-1,'x',0.1,1e5]\n",
    "num_samples_for_Z_success_list =  [1,10,1000] \n",
    "\n",
    "# should fail    \n",
    "[run_one_functional_test(num_samples_for_Z=num_samples_for_Z_fail_list[i],should_fail=True) for i in range(len(num_samples_for_Z_fail_list))]\n",
    "# should pass\n",
    "[run_one_functional_test(num_samples_for_Z=num_samples_for_Z_success_list[i],should_fail=False) for i in range(len(num_samples_for_Z_success_list))]\n",
    "\n",
    "display_status()"
   ]
  },
  {
   "cell_type": "markdown",
   "metadata": {},
   "source": [
    "# Total Number of Functional Tests Run:"
   ]
  },
  {
   "cell_type": "code",
   "execution_count": 9,
   "metadata": {},
   "outputs": [
    {
     "data": {
      "text/plain": [
       "79"
      ]
     },
     "execution_count": 9,
     "metadata": {},
     "output_type": "execute_result"
    }
   ],
   "source": [
    "global_test_counter"
   ]
  }
 ],
 "metadata": {
  "kernelspec": {
   "display_name": "anaconda_kernel",
   "language": "python",
   "name": "anaconda_kernel"
  },
  "language_info": {
   "codemirror_mode": {
    "name": "ipython",
    "version": 3
   },
   "file_extension": ".py",
   "mimetype": "text/x-python",
   "name": "python",
   "nbconvert_exporter": "python",
   "pygments_lexer": "ipython3",
   "version": "3.6.3"
  }
 },
 "nbformat": 4,
 "nbformat_minor": 2
}
