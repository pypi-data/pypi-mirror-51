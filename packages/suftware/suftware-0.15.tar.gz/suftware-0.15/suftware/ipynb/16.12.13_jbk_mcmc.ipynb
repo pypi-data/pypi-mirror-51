{
 "cells": [
  {
   "cell_type": "code",
   "execution_count": 1,
   "metadata": {},
   "outputs": [],
   "source": [
    "# Header cell\n",
    "from __future__ import division\n",
    "import scipy as sp\n",
    "import numpy as np\n",
    "import matplotlib.pyplot as plt\n",
    "%matplotlib inline\n",
    "plt.ion()\n",
    "\n",
    "# Specific things needed\n",
    "import time\n",
    "import math\n",
    "import sys\n",
    "\n",
    "# Add parent directory to path\n",
    "sys.path.append('../code/')\n",
    "sys.path.append('../sim/')\n",
    "\n",
    "# Import deft modules\n",
    "import deft_1d\n",
    "import simulate_data_1d\n",
    "import utils"
   ]
  },
  {
   "cell_type": "code",
   "execution_count": 26,
   "metadata": {
    "collapsed": true
   },
   "outputs": [],
   "source": [
    "# Simulate data\n",
    "N = 300\n",
    "data_type = 'wide'\n",
    "\n",
    "# Simulate data and get default deft settings\n",
    "data, defaults = simulate_data_1d.run(data_type,N)"
   ]
  },
  {
   "cell_type": "code",
   "execution_count": 27,
   "metadata": {},
   "outputs": [],
   "source": [
    "# Deft parameter settings\n",
    "G = 300\n",
    "alpha = 3\n",
    "bbox = [-6,6]\n",
    "\n",
    "# Do density estimation\n",
    "results = deft_1d.run(data, G=G, alpha=alpha, bbox=bbox, periodic=False, num_samples=0, print_t=False, tollerance=1E-3)"
   ]
  },
  {
   "cell_type": "code",
   "execution_count": 28,
   "metadata": {
    "collapsed": true
   },
   "outputs": [],
   "source": [
    "# Compute true density\n",
    "xs = results.bin_centers\n",
    "Q_true = np.zeros(G)\n",
    "for i, x in enumerate(xs):\n",
    "    Q_true[i] = eval(defaults['pdf_py'])\n",
    "Q_true /= results.h*sum(Q_true)"
   ]
  },
  {
   "cell_type": "code",
   "execution_count": 29,
   "metadata": {
    "scrolled": false
   },
   "outputs": [
    {
     "data": {
      "image/png": "[encoded data removed]",
      "text/plain": [
       "<matplotlib.figure.Figure at 0x11e61d110>"
      ]
     },
     "metadata": {},
     "output_type": "display_data"
    }
   ],
   "source": [
    "# Plot density estimate\n",
    "\n",
    "# Make figure and set axis\n",
    "plt.figure(figsize=[6, 6])\n",
    "ax = plt.subplot(1,1,1)\n",
    "\n",
    "# Plot histogram density\n",
    "left_bin_edges = results.bin_edges[:-1]\n",
    "plt.bar(left_bin_edges, results.R, \\\n",
    "    width=results.h, linewidth=0, color='gray', zorder=0, alpha=0.5)\n",
    "\n",
    "# Plot deft density estimate\n",
    "plt.plot(xs, results.Q_star, \\\n",
    "    color='blue', linewidth=2, alpha=1, zorder=2)\n",
    "\n",
    "# Plot the true density\n",
    "plt.plot(xs, Q_true, color='black', linewidth=2)\n",
    "\n",
    "# Tidy up the plot\n",
    "#plt.yticks([])\n",
    "plt.ylim([0, 2*max(results.Q_star)])\n",
    "plt.xlim(results.bbox)\n",
    "t = results.deft_1d_compute_time\n",
    "plt.title(\"%s, $\\\\alpha = %d$, t=%1.2f sec\"%(data_type, alpha, t), \\\n",
    "    fontsize=10)\n",
    "\n",
    "# Save plot\n",
    "plt.savefig('report.test_deft_1d.png')"
   ]
  },
  {
   "cell_type": "code",
   "execution_count": null,
   "metadata": {
    "collapsed": true
   },
   "outputs": [],
   "source": [
    "# Derivative operator\n",
    "L = results.G*results.h\n",
    "h = L/G\n",
    "delta_alpha_unitless=results.Delta.get_dense_matrix()\n",
    "delta_alpha=delta_alpha_unitless/(h**(2*alpha))  # Give delta unites\n",
    "Q_star = results.Q_star\n",
    "phi_star = -np.log(Q_star) - np.log(L)\n",
    "t_star = results.t_star\n",
    "l_star = results.l_star \n",
    "PHI_STD_REG = utils.PHI_STD_REG\n",
    "hessian = (h*l_star**(2*alpha)/L)*delta_alpha + (h*N/L)*np.diag(np.exp(-phi_star)) + (N/G)*np.eye(G)/(N*PHI_STD_REG**2) \n",
    "Q=np.linalg.eig(hessian)\n",
    "\n",
    "# Compute spectrum\n",
    "Q=np.linalg.eig(hessian)\n",
    "e_vals = Q[0]\n",
    "e_vecs = Q[1]"
   ]
  },
  {
   "cell_type": "code",
   "execution_count": null,
   "metadata": {
    "collapsed": true
   },
   "outputs": [],
   "source": [
    "# Define action\n",
    "def S(x):\n",
    "    x=np.mat(x)\n",
    "    return (h*l_star**(2*alpha)/(2*L))*(x*delta_alpha*x.T)[0,0] \\\n",
    "            + (h*N*np.mat(results.R)*x.T)[0,0] \\\n",
    "            + (h*N/L)*np.sum(np.exp(-x)) \\\n",
    "            + (N/G)*0.5*(x*x.T)[0,0]/(N*PHI_STD_REG**2)\n",
    "    \n",
    "# Define test action\n",
    "def S_test(x):\n",
    "    x = np.mat(x)\n",
    "    return 0.5*((x - phi_star) * hessian * (x - phi_star).T)[0,0]"
   ]
  },
  {
   "cell_type": "code",
   "execution_count": null,
   "metadata": {
    "collapsed": true
   },
   "outputs": [],
   "source": [
    "# MCMC sampling for S\n",
    "# K is no. of metropolis iterations\n",
    "K=3000\n",
    "num_modes=G\n",
    "\n",
    "# Initializing\n",
    "step_vector = np.zeros(G)\n",
    "phi_recorded = np.zeros((G,K))\n",
    "phi_current = phi_star\n",
    "acceptances = np.zeros(K)\n",
    "\n",
    "for k in range(0,K):\n",
    "    g=np.random.randint(0,num_modes)\n",
    "    e_vec = Q[1][:,g].T \n",
    "    e_val = Q[0][g]\n",
    "    step_length = np.random.normal(0,1.0/(np.sqrt(e_val)))\n",
    "    step_vector = step_length * e_vec\n",
    "    phi_new = phi_current + step_vector\n",
    "    if np.random.uniform(0,1) < np.exp(S(phi_current)-S(phi_new)):   # P(phi_new)/P(phi_current):\n",
    "        phi_current = phi_new\n",
    "        acceptances[k] = 1\n",
    "    phi_recorded[:,k] = phi_current\n",
    "\n",
    "print 'Acceptance fraction = %f'%(1.0*acceptances.sum()/len(acceptances))"
   ]
  },
  {
   "cell_type": "code",
   "execution_count": null,
   "metadata": {
    "collapsed": true
   },
   "outputs": [],
   "source": [
    "# MCMC sampling for S_test\n",
    "\n",
    "# Initializing\n",
    "step_vector_test = np.zeros(G)\n",
    "phi_recorded_test = np.zeros((G,K))\n",
    "phi_current_test = phi_star\n",
    "acceptances = np.zeros(K)\n",
    "for k in range(0,K):\n",
    "    g=np.random.randint(1,num_modes)\n",
    "    e_vec = Q[1][:,g].T\n",
    "    e_val = Q[0][g]\n",
    "    step_length = np.random.normal(0,1.0/(np.sqrt(e_val)))\n",
    "    step_vector_test = step_length * e_vec\n",
    "    phi_new_test = phi_current_test + step_vector_test\n",
    "    if np.random.uniform(0,1) < np.exp(S_test(phi_current_test)-S_test(phi_new_test)):\n",
    "        phi_current_test = phi_new_test\n",
    "        acceptances[k] = 1\n",
    "    phi_recorded_test[:,k] = phi_current_test\n",
    "\n",
    "print 'Acceptance fraction = %f'%(1.0*acceptances.sum()/len(acceptances))"
   ]
  },
  {
   "cell_type": "code",
   "execution_count": null,
   "metadata": {
    "collapsed": true
   },
   "outputs": [],
   "source": [
    "Ss_real = [S(phi_recorded[:,k]) - S(phi_star) for k in range(0,K)]\n",
    "Ss_test = [S_test(phi_recorded[:,k]) - S_test(phi_star) for k in range(0,K)]\n",
    "plt.plot(Ss_real,Ss_test,'.')\n",
    "plt.xlabel('delta S_real')\n",
    "plt.ylabel('delta S_test')\n",
    "plt.title('S(phi_star) = %f'%S(phi_star))"
   ]
  },
  {
   "cell_type": "markdown",
   "metadata": {},
   "source": [
    "Looks great! Now compare to Laplace Sampling"
   ]
  },
  {
   "cell_type": "code",
   "execution_count": null,
   "metadata": {
    "collapsed": true
   },
   "outputs": [],
   "source": [
    "Ss_real = [S(phi_recorded_test[:,k]) - S(phi_star) for k in range(K)]\n",
    "Ss_test = [S_test(phi_recorded_test[:,k]) - S_test(phi_star) for k in range(K)]\n",
    "plt.semilogx(Ss_real,Ss_test,'.')\n",
    "plt.xlabel('delta S_real')\n",
    "plt.ylabel('delta S_test')"
   ]
  },
  {
   "cell_type": "code",
   "execution_count": null,
   "metadata": {
    "collapsed": true,
    "scrolled": false
   },
   "outputs": [],
   "source": [
    "# Make heat plots of Qs from MCMC sampling of S and S_test\n",
    "Qs = np.zeros([G,K])\n",
    "Qs_test = np.zeros([G,K])\n",
    "for k in range(K):\n",
    "    phi = np.array(phi_recorded[:,k])\n",
    "    Q_k = np.array(np.exp(-phi))/np.sum(h*np.array(np.exp(-phi)))\n",
    "    phi_test = np.array(phi_recorded_test[:,k])\n",
    "    Q_test_k = np.array(np.exp(-phi_test))/np.sum(h*np.array(np.exp(-phi_test)))\n",
    "    Qs[:,k] = Q_k\n",
    "    Qs_test[:,k] = Q_test_k\n",
    "    \n",
    "step_size=10\n",
    "vmin=0\n",
    "vmax=max(Q_star)\n",
    "plt.figure(figsize=[10,5])\n",
    "plt.subplot(1,2,1)\n",
    "plt.imshow(Qs[:,::step_size],interpolation='nearest',vmin=vmin,vmax=vmax,cmap='bone')\n",
    "plt.subplot(1,2,2)\n",
    "plt.imshow(Qs_test[:,::step_size],interpolation='nearest',vmin=vmin,vmax=vmax,cmap='bone')\n",
    "plt.show()"
   ]
  },
  {
   "cell_type": "code",
   "execution_count": null,
   "metadata": {
    "collapsed": true
   },
   "outputs": [],
   "source": [
    "plt.figure(figsize=[8,8])\n",
    "xs = results.bin_centers\n",
    "# Plot histogram densitay\n",
    "left_bin_edges = results.bin_edges[:-1]\n",
    "plt.bar(left_bin_edges, results.R, \\\n",
    "    width=results.h, linewidth=0, color='gray', zorder=0, alpha=0.5)\n",
    "\n",
    "# Plot deft density estimate\n",
    "plt.plot(xs, Q_star, \\\n",
    "    color='blue', linewidth=2, alpha=1, zorder=2)\n",
    "\n",
    "# Plot the true density\n",
    "plt.plot(xs, Q_true, color='black', linewidth=2)\n",
    "\n",
    "# Plot the MCMC samples from S\n",
    "plt.plot(xs,Qs[:,np.random.choice(K,100)],'b',linewidth=.2,alpha=0.5)\n",
    "\n",
    "# Plot MCMC samples from S_test\n",
    "plt.plot(xs,Qs_test[:,np.random.choice(K,100)],'g',linewidth=.2,alpha=0.5)\n",
    "\n",
    "# Tidy up the plot\n",
    "#plt.yticks([])\n",
    "plt.ylim([0, 1.2*max(results.Q_star)])\n",
    "plt.xlim(results.bbox)\n",
    "t = results.deft_1d_compute_time\n",
    "plt.title(\"%s, $\\\\alpha = %d$, t=%1.2f sec\"%(data_type, alpha, t), \\\n",
    "    fontsize=10)"
   ]
  },
  {
   "cell_type": "code",
   "execution_count": null,
   "metadata": {
    "collapsed": true
   },
   "outputs": [],
   "source": [
    "xs = np.linspace(-3,3,100)  # x-axis of plot\n",
    "plt.figure(figsize=(16,16))\n",
    "delta=np.zeros(100)\n",
    "for m in range(1,9):\n",
    "    plt.subplot(3,3,m)\n",
    "    g=G-m  # choose eigenvector\n",
    "    e_vec = Q[1][:,g].T\n",
    "    e_val = Q[0][g]\n",
    "    v = e_vec / np.sqrt(e_val)   # direction of perturbation\n",
    "    dSs_real = np.zeros(len(xs))\n",
    "    dSs_test = np.zeros(len(xs))\n",
    "    for k,x in enumerate(xs):\n",
    "        phi = phi_star + x*v\n",
    "        dSs_real[k] = S(phi)-S(phi_star)\n",
    "        dSs_test[k] = (S_test(phi)-S_test(phi_star))\n",
    "        delta[k] = np.sqrt(dSs_real[k]**2 + dSs_test[k]**2)\n",
    "    \n",
    "    plt.plot(xs,dSs_test,'b',linewidth=3,alpha=.5)\n",
    "    plt.plot(xs,dSs_real,'g',linewidth=3,alpha=.5)\n",
    "    #plt.plot(xs,np.sqrt(dSs_test**2 + dSs_real**2),'r',linewidth=3,alpha=.5)\n",
    "    plt.ylim([-0.5,max(dSs_test)])\n",
    "    plt.title('m = %d'%m)\n",
    "plt.show()\n",
    "print delta\n",
    "print delta[2]\n",
    "sum(delta)/100.0"
   ]
  },
  {
   "cell_type": "code",
   "execution_count": null,
   "metadata": {
    "collapsed": true
   },
   "outputs": [],
   "source": [
    "data"
   ]
  },
  {
   "cell_type": "code",
   "execution_count": null,
   "metadata": {
    "collapsed": true
   },
   "outputs": [],
   "source": []
  }
 ],
 "metadata": {
  "anaconda-cloud": {},
  "kernelspec": {
   "display_name": "Python 2",
   "language": "python",
   "name": "python2"
  },
  "language_info": {
   "codemirror_mode": {
    "name": "ipython",
    "version": 2
   },
   "file_extension": ".py",
   "mimetype": "text/x-python",
   "name": "python",
   "nbconvert_exporter": "python",
   "pygments_lexer": "ipython2",
   "version": "2.7.13"
  }
 },
 "nbformat": 4,
 "nbformat_minor": 1
}
