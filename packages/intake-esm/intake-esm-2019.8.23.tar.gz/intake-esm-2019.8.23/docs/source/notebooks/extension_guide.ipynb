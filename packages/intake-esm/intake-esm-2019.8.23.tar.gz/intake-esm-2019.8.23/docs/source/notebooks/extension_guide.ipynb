{
 "cells": [
  {
   "cell_type": "markdown",
   "metadata": {},
   "source": [
    "# Extending Intake-ESM\n",
    "\n",
    "So far, ``intake-esm`` supports dataset collections from the following projects:\n",
    "\n",
    "- CMIP5 & CMIP6\n",
    "- CESM1-LE\n",
    "- CESM1-LE on AWS\n",
    "- NA-CORDEX\n",
    "- ERA5\n",
    "- GMET\n",
    "- MPIGE\n",
    "\n",
    "In case your dataset collection of choice isn't on the list above, ``intake-esm`` makes it easy to add support for it. \n",
    "\n",
    "This tutorial documents how to add support for a new dataset collection. For this tutorial, we will be adding support for [NA-Cordex data](https://na-cordex.org/) to intake-esm. \n",
    "\n",
    "The following steps will be replicable for your dataset collection of choice:"
   ]
  },
  {
   "cell_type": "markdown",
   "metadata": {},
   "source": [
    "## Step 1: Select Attributes \n",
    "\n",
    "Suppose your dataset of choice consistes of thousands of files, and these files are named according to some convention/tempate. To add support for this kind of dataset to ``intake-esm``, you will need to understand the formatting and attributes of your dataset, file name template and/or directory structure. For example, each netCDF file in the NA-CORDEX collection is named according to this template:\n",
    "\n",
    "``[variable].[experiment].[global_climate_model].[regional_climate_model].[frequency].[grid].[bias_corrected_or_raw].nc``.\n",
    "\n"
   ]
  },
  {
   "cell_type": "markdown",
   "metadata": {},
   "source": [
    "## Step 2: Generate a `collection_name.yaml` Configuration File\n",
    "\n",
    "Once you've decided what attributes describe your dataset collection, the next step is to generate a configuration `YAML` file with information about the colum headings to be used when `intake-esm` generates a local database for all file in your dataset collection.  This YAML file should be housed inside the `intake_esm/collection_defs` folder:\n",
    "\n",
    "\n",
    "```bash\n",
    "../../../intake_esm/\n",
    "├── aggregate.py\n",
    "├── bld_collection_utils.py\n",
    "├── cesm_aws.py\n",
    "├── cesm.py\n",
    "├── cli.py\n",
    "├── cmip.py\n",
    "├── collection_defs\n",
    "│   ├── cesm-aws.yaml\n",
    "│   ├── cesm.yaml\n",
    "│   ├── cmip.yaml\n",
    "│   ├── cordex.yaml\n",
    "│   ├── gmet.yaml\n",
    "│   ├── mpige.yaml\n",
    "│   └── sources.yaml\n",
    "├── collection.py\n",
    "├── config.py\n",
    "├── config.yaml\n",
    "├── core.py\n",
    "├── era5.py\n",
    "├── gmet.py\n",
    "├── __init__.py\n",
    "├── mpige.py  \n",
    "├── source.py\n",
    "└── storage.py\n",
    "```\n",
    "\n",
    "For our cordex data the full file path is: `intake_esm/collection_defs/cordex.yaml` and has the following content:"
   ]
  },
  {
   "cell_type": "markdown",
   "metadata": {},
   "source": [
    "```yaml\n",
    "collections:\n",
    "  cordex:\n",
    "    collection_columns:\n",
    "    - resource\n",
    "    - resource_type\n",
    "    - direct_access\n",
    "    - variable\n",
    "    - experiment \n",
    "    - global_climate_model\n",
    "    - regional_climate_model    \n",
    "    - frequency\n",
    "    - grid\n",
    "    - bias_corrected_or_raw\n",
    "    - file_fullpath\n",
    "    - file_basename\n",
    "    - file_dirname\n",
    "    order_by_columns:\n",
    "      - file_fullpath\n",
    "    required_columns:\n",
    "      - file_fullpath\n",
    "```   \n",
    "\n",
    "Here is a description of all of the assigned keys in our `intake_esm/collection_defs/cordex.yaml` file:\n",
    "\n",
    "- **cordex**: the name of our new dataset collection \n",
    "- **collection_columns**: list of column headings to be used for our local database. Among the list of column headings, `resource`, `resource_type`, `direct_access` are required because they are used by ``intake-esm`` for different purposes:\n",
    "  - `resource`: used to generate a key that helps to differentiate data files that may reside in two different locations. For example, a file may exists both on a local posix filesystem and a remote tape. \n",
    "  - `resource_type`: used for describing the storage type (is it a posix filesytem, tape, object storage (e.g. S3, etc...)\n",
    "  - `direct_access`: depending on the storage type, you may be required to move data to a different system and/or storage system before doing actual computation. This column specifies whether a file can be accessed directly or whether it should be transferred to a different system first. \n",
    "\n",
    "  - Other column headings were generated according to **Step 1**\n",
    "- **order_by_column**: list of columns to use when ordering the files in the local database\n",
    "- **required_columns**: list of columns that are absolutely necessary. This list is used by `intake-esm` internally. \n",
    "\n",
    "\n",
    "Your YAML file should follow the same template as above, but with the items listed under `collection_columns`, `order_by_columns`, `required_columns` appropriate for your dataset collection."
   ]
  },
  {
   "cell_type": "markdown",
   "metadata": {},
   "source": [
    "## Step 3: Create a `collection_name.py` Module Containing Rules for Gathering Attributes\n",
    "\n",
    "Inside the `intake-esm/intake_esm` directory:\n",
    "    \n",
    "\n",
    "```bash\n",
    "../../../intake_esm/\n",
    "├── aggregate.py\n",
    "├── bld_collection_utils.py\n",
    "├── cesm_aws.py\n",
    "├── cesm.py\n",
    "├── cli.py\n",
    "├── cmip.py\n",
    "├── collection_defs\n",
    "│   ├── cesm-aws.yaml\n",
    "│   ├── cesm.yaml\n",
    "│   ├── cmip.yaml\n",
    "│   ├── cordex.yaml\n",
    "│   ├── gmet.yaml\n",
    "│   ├── mpige.yaml\n",
    "│   └── sources.yaml\n",
    "├── collection.py\n",
    "├── config.py\n",
    "├── config.yaml\n",
    "├── cordex.py\n",
    "├── core.py\n",
    "├── era5.py\n",
    "├── gmet.py\n",
    "├── __init__.py\n",
    "├── mpige.py  \n",
    "├── source.py\n",
    "└── storage.py\n",
    "```\n",
    "\n",
    "    \n",
    "create a new `collection_name.py` file, here called `cordex.py`. This file contains the rules for filling the columns (determined by the `cordex.yaml` file in Step 2) via the information found in each data file name.\n",
    "\n",
    "Inside the `cordex.py` module, we will create two classes that subclasses **Collection** and **BaseSource** classes. For our use case, we name our two classes `CORDEXCollection` and `CORDEXSource`.\n"
   ]
  },
  {
   "cell_type": "markdown",
   "metadata": {},
   "source": [
    "### Step 3a: Writing the Collection Class\n",
    "\n",
    "The Collection Class, in our script called `CORDEXCollection` inherits from base `Collection` class, but we still have to implement the `_get_file_attrs()` method that determines how to get attributes from filename.\n",
    "\n",
    "This is the starting point, any formatting will have at least this skeleton of a structure: \n",
    "\n",
    "\n",
    "```python\n",
    "\"\"\" Implementation for The NA-CORDEX data holdings \"\"\"\n",
    "import os\n",
    "\n",
    "from tqdm.auto import tqdm\n",
    "\n",
    "from . import aggregate, config\n",
    "from .bld_collection_utils import _ensure_file_access, _reverse_filename_format, get_subset\n",
    "from .collection import Collection, docstrings\n",
    "from .source import BaseSource\n",
    "\n",
    "class CORDEXCollection(Collection):\n",
    "\n",
    "    __doc__ = docstrings.with_indents(\n",
    "        \"\"\" Builds a NA-CORDEX collection for data\n",
    "        stored on NCAR's GLADE\n",
    "    %(Collection.parameters)s\n",
    "    \"\"\"\n",
    "    )\n",
    "\n",
    "    def _get_file_attrs(self, filepath):\n",
    "        file_basename = os.path.basename(filepath)\n",
    "        fs = file_basename.split('.')\n",
    "\n",
    "        keys = list(set(self.columns) - set(['resource', 'resource_type', 'direct_access']))\n",
    "\n",
    "        fileparts = {key: None for key in keys}\n",
    "        fileparts['file_basename'] = file_basename\n",
    "        fileparts['file_dirname'] = os.path.dirname(filepath) + '/'\n",
    "        fileparts['file_fullpath'] = filepath\n",
    "\n",
    "       \n",
    "        return fileparts\n",
    "```\n"
   ]
  },
  {
   "cell_type": "markdown",
   "metadata": {},
   "source": [
    "In our method, within the `_get_file_attrs()` method, we define a `filename_templat`' to retrieve the attribute components of the filename. Then the `_reverse_filename_format()` function maps these attributes to the collection columns.\n",
    "\n",
    "```python\n",
    "class CORDEXCollection(Collection):\n",
    "\n",
    "    __doc__ = docstrings.with_indents(\n",
    "        \"\"\" Builds a NA-CORDEX collection for data\n",
    "        stored on NCAR's GLADE\n",
    "    %(Collection.parameters)s\n",
    "    \"\"\"\n",
    "    )\n",
    "\n",
    "    def _get_file_attrs(self, filepath):\n",
    "        file_basename = os.path.basename(filepath)\n",
    "        fs = file_basename.split('.')\n",
    "\n",
    "        keys = list(set(self.columns) - set(['resource', 'resource_type', 'direct_access']))\n",
    "\n",
    "        fileparts = {key: None for key in keys}\n",
    "        fileparts['file_basename'] = file_basename\n",
    "        fileparts['file_dirname'] = os.path.dirname(filepath) + '/'\n",
    "        fileparts['file_fullpath'] = filepath\n",
    "        \n",
    "        filename_template = '{variable}.{experiment}.{global_climate_model}.{regional_climate_model}.{frequency}.{grid}.{bias_corrected_or_raw}.nc'\n",
    "        \n",
    "        f = _reverse_filename_format(file_basename, filename_template)\n",
    "        fileparts.update(f)\n",
    "            \n",
    "        return fileparts\n",
    "```"
   ]
  },
  {
   "cell_type": "markdown",
   "metadata": {},
   "source": [
    "For example, the output of fileparts from the file `uas_hist_CanESM2_CRCM5-UQAM_day_NAM-44i_raw.nc` looks like:\n",
    "\n",
    "```python\n",
    "{'variable': 'uas',\n",
    " 'experiment': 'hist',\n",
    " 'global_climate_model': 'CanESM2',\n",
    " 'regional_climate_model': 'CRCM5-UQAM',\n",
    " 'frequency': 'day',\n",
    " 'grid': 'NAM-44i',\n",
    " 'bias_corrected_or_raw': 'raw'}\n",
    "```"
   ]
  },
  {
   "cell_type": "markdown",
   "metadata": {},
   "source": [
    "**Not Done Yet! Now go into `intake_esm/core.py` and add the following lines:**\n",
    "\n",
    "\n",
    "- Near the top of the script you will find a list of importing Collection classes from each data type's .py modules.  So now we add:\n",
    "\n",
    "```python\n",
    "from .cordex import CORDEXCollection\n",
    "```\n",
    "\n",
    "-  Then you will find a `collecton_types` dictionary:\n",
    "\n",
    "```python\n",
    "    collection_types = {\n",
    "        'cesm': CESMCollection,\n",
    "        'cesm-aws': CESMAWSCollection,\n",
    "        'cmip5': CMIP5Collection,\n",
    "        'cmip6': CMIP6Collection,\n",
    "        'mpige': MPIGECollection,\n",
    "        'gmet': GMETCollection,\n",
    "        'era5': ERA5Collection,\n",
    "    }\n",
    " ```\n",
    "    \n",
    "- Add an entry for your new collection:\n",
    "\n",
    "```python\n",
    "    collection_types = {\n",
    "        'cesm': CESMCollection,\n",
    "        'cesm-aws': CESMAWSCollection,\n",
    "        'cmip5': CMIP5Collection,\n",
    "        'cmip6': CMIP6Collection,\n",
    "        'mpige': MPIGECollection,\n",
    "        'gmet': GMETCollection,\n",
    "        'era5': ERA5Collection,\n",
    "        'cordex': CORDEXCollection,\n",
    "    }\n",
    " ```"
   ]
  },
  {
   "cell_type": "markdown",
   "metadata": {},
   "source": [
    "### Step 3b: Writing the Source Class\n",
    "\n",
    "The Source Class, in our `cordex.py` module called `CORDEXSource`. For this class, we need to implement the required `_open_dataset()` method. It is in this method that we define the logic to use when loading different data files into xarray datasets.  \n",
    "\n",
    "First you need to make some decisions about what **dataset fields(column headings)** consitute a unique dataset. These fields informs `intake-esm` about which column headings to use when concatenating and merging different data files togethe (you probably wouldn't put data gridded differently in the same dataset, for example). In our case we chose 6 columns: \n",
    "\n",
    "- `global_climate_model`\n",
    "- `regional_climate_model`\n",
    "- `frequency`\n",
    "- `grid`\n",
    "- `bias_corrected_or_raw`\n",
    "- `experiment`\n",
    "\n",
    "\n",
    "\n",
    "Below we have the CORDEXSource class:\n",
    "\n",
    "```python\n",
    "class CORDEXSource(BaseSource):\n",
    "    name = 'cordex'\n",
    "    partition_access = True\n",
    "\n",
    "    def _open_dataset(self):\n",
    "        # fields which define a single dataset\n",
    "        dataset_fields = [\n",
    "            'global_climate_model',\n",
    "            'regional_climate_model',\n",
    "            'frequency',\n",
    "            'grid',\n",
    "            'bias_corrected_or_raw',\n",
    "            'experiment',\n",
    "        ]\n",
    "\n",
    "        kwargs = self._validate_kwargs(self.kwargs)\n",
    "\n",
    "        all_dsets = {}\n",
    "        ds = get_subset(self.collection_name, self.query)\n",
    "\n",
    "        file_fullpath_column_name = 'file_fullpath'\n",
    "        file_basename_column_name = 'file_basename'\n",
    "        variable_column_name = 'variable'\n",
    "\n",
    "        df = _ensure_file_access(ds, file_fullpath_column_name, file_basename_column_name)\n",
    "        grouped = df.groupby(dataset_fields)\n",
    "        for dset_keys, dset_files in tqdm(\n",
    "            grouped, desc='dataset', disable=not config.get('progress-bar')\n",
    "        ):\n",
    "            dset_id = '.'.join(dset_keys)\n",
    "            var_dsets = []\n",
    "            for v_id, v_files in dset_files.groupby(variable_column_name):\n",
    "                urlpath_ei_vi = v_files[file_fullpath_column_name].tolist()\n",
    "                dsets = [\n",
    "                    aggregate.open_dataset_delayed(\n",
    "                        url,\n",
    "                        data_vars=[v_id],\n",
    "                        chunks=kwargs['chunks'],\n",
    "                        decode_times=kwargs['decode_times'],\n",
    "                    )\n",
    "                    for url in urlpath_ei_vi\n",
    "                ]\n",
    "\n",
    "                var_dset_i = aggregate.concat_time_levels(\n",
    "                    dsets,\n",
    "                    time_coord_name_default=kwargs['time_coord_name'],\n",
    "                    override_coords=kwargs['override_coords'],\n",
    "                )\n",
    "                var_dsets.append(var_dset_i)\n",
    "\n",
    "            _dset_i = aggregate.merge(dsets=var_dsets)\n",
    "            all_dsets[dset_id] = _dset_i\n",
    "\n",
    "        self._ds = all_dsets\n",
    "```"
   ]
  },
  {
   "cell_type": "markdown",
   "metadata": {},
   "source": [
    "For more utility functions that can be used to construct xarray datasets, look inside `aggregate.py` module to understand more of the built-in functionality."
   ]
  },
  {
   "cell_type": "markdown",
   "metadata": {},
   "source": [
    "**Now go into `collection_defs/source.yaml` and add the new Source class to the list of sources:**\n",
    "\n",
    "It should look like this:\n",
    "\n",
    "```python\n",
    "sources:\n",
    "  cesm: intake_esm.cesm.CESMSource\n",
    "  cesm-aws: intake_esm.cesm_aws.CESMAWSSource\n",
    "  cmip5: intake_esm.cmip.CMIP5Source\n",
    "  cmip6: intake_esm.cmip.CMIP6Source\n",
    "  mpige: intake_esm.mpige.MPIGESource\n",
    "  gmet: intake_esm.gmet.GMETSource\n",
    "  era5: intake_esm.era5.ERA5Source\n",
    "  cordex: intake_esm.cordex.CORDEXSource\n",
    "```"
   ]
  },
  {
   "cell_type": "markdown",
   "metadata": {},
   "source": [
    "## Step 4: Create a Collection Input YAML File\n",
    "\n",
    "This file is an external input, not a part of the package, just external input. We named it `cordex-collection-input.yaml`.\n",
    "\n",
    "This YAML file requires the following keys: **name**, **collection_type**, and **data_sources**.\n",
    "\n",
    "\n",
    "Here is a description of all of the assigned keys in our cordex-collection-input.yaml file:\n",
    "\n",
    "- **name** - What is a meaninful name for your dataset. In this example, this is `NA-CORDEX`\n",
    "\n",
    "- **collection_type** - This should match the name of your new dataset collection defined in Step 2 and 3.  Here it is `cordex`.\n",
    "\n",
    "- **data_sources**. - Where should intake-esm look for your data? This can point to more than one directory, but in this example we have only one key, here named `CORDEX-Data`. Within the data_source `CORDEX-DATA` we point to locations. `locations` is list of dictionaries, each with the following keys:\n",
    "\n",
    "    - **name** - For us, all of our data is on the GLADE file storage system so we name this location 'GLADE.' **It is very important that the combination of your data_source key and location key are unique**, so the combination of `CORDEX-Data` and `GLADE` should not be repeated inside this YAML file.\n",
    "\n",
    "    - **loc_type** - How is this data stored? Typically data is on a posix file system, but if the data is on Tape or Cloud Storage, you might have a different answer here. So far, ``intake-esm`` supports the following types:\n",
    "      - posix: For Posix storage\n",
    "      - hsi: For HPSS tape storage using `hsi` interface\n",
    "      - aws-s3: For AWS S3 Object storage\n",
    "\n",
    "    - **direct_access** - Here this is set to `True` because our data can be accessed directly. If your data were on tape storage, this would be set to `False`. \n",
    "\n",
    "    - **urlpath** - The path to a directory that contains your data. If data does not share a root directory, you will want to have several items in the locations list.\n",
    "    \n",
    "Below is what our collection input YAML file looks like for the cordex data:"
   ]
  },
  {
   "cell_type": "markdown",
   "metadata": {},
   "source": [
    "```yaml\n",
    "name: NA-CORDEX\n",
    "collection_type: cordex\n",
    "data_sources:\n",
    "  CORDEX-Data:\n",
    "    locations:\n",
    "      - name: GLADE\n",
    "        loc_type: posix\n",
    "        direct_access: True\n",
    "        urlpath: /glade/collections/cdg/data/cordex/data/\n",
    "```"
   ]
  },
  {
   "cell_type": "markdown",
   "metadata": {},
   "source": [
    "Here we display how intake-esm will interpret the structure of that yaml file. This maybe easier to understand for some.\n",
    "\n",
    "```python\n",
    "{'name': 'NA-CORDEX',\n",
    " 'collection_type': 'cordex',\n",
    " 'data_sources': {'CORDEX-Data': {'locations': [{'name': 'GLADE',\n",
    "     'loc_type': 'posix',\n",
    "     'direct_access': True,\n",
    "     'urlpath': '/glade/collections/cdg/data/cordex/data/'}]}}}\n",
    "```"
   ]
  },
  {
   "cell_type": "markdown",
   "metadata": {},
   "source": [
    "## Step 5: Testing"
   ]
  },
  {
   "cell_type": "markdown",
   "metadata": {},
   "source": [
    "**Congratulations! You have added a new dataset collection to the intake-esm ecosystem!**\n",
    "\n",
    "Let's test the collection:"
   ]
  },
  {
   "cell_type": "code",
   "execution_count": 15,
   "metadata": {},
   "outputs": [],
   "source": [
    "%matplotlib inline\n",
    "import intake\n",
    "import yaml"
   ]
  },
  {
   "cell_type": "markdown",
   "metadata": {},
   "source": [
    "\n",
    "- **Let's generate our collection catalog**"
   ]
  },
  {
   "cell_type": "code",
   "execution_count": 2,
   "metadata": {},
   "outputs": [
    {
     "data": {
      "text/plain": [
       "{'name': 'NA-CORDEX',\n",
       " 'collection_type': 'cordex',\n",
       " 'data_sources': {'CORDEX-Data': {'locations': [{'name': 'GLADE',\n",
       "     'loc_type': 'posix',\n",
       "     'direct_access': True,\n",
       "     'urlpath': '/glade/collections/cdg/data/cordex/data/'}]}}}"
      ]
     },
     "execution_count": 2,
     "metadata": {},
     "output_type": "execute_result"
    }
   ],
   "source": [
    "test = yaml.safe_load('''name: NA-CORDEX\n",
    "collection_type: cordex\n",
    "data_sources:\n",
    "  CORDEX-Data:\n",
    "    locations:\n",
    "      - name: GLADE\n",
    "        loc_type: posix\n",
    "        direct_access: True\n",
    "        urlpath: /glade/collections/cdg/data/cordex/data/''')        \n",
    "\n",
    "test"
   ]
  },
  {
   "cell_type": "code",
   "execution_count": 3,
   "metadata": {},
   "outputs": [
    {
     "name": "stdout",
     "output_type": "stream",
     "text": [
      "Getting file listing: CORDEX-Data:GLADE:posix:/glade/collections/cdg/data/cordex/data/\n"
     ]
    },
    {
     "data": {
      "application/vnd.jupyter.widget-view+json": {
       "model_id": "8551e5bd62c34d26b7d72a27c31f010d",
       "version_major": 2,
       "version_minor": 0
      },
      "text/plain": [
       "HBox(children=(IntProgress(value=0, description='file listing', max=17166, style=ProgressStyle(description_wid…"
      ]
     },
     "metadata": {},
     "output_type": "display_data"
    },
    {
     "name": "stdout",
     "output_type": "stream",
     "text": [
      "\n",
      "Persisting NA-CORDEX at : /glade/u/home/abanihi/.intake_esm/collections/NA-CORDEX.nc\n"
     ]
    }
   ],
   "source": [
    "col = intake.open_esm_metadatastore(collection_input_definition=test, overwrite_existing=True)"
   ]
  },
  {
   "cell_type": "markdown",
   "metadata": {},
   "source": [
    "- **Let's explore our new collection catalog**"
   ]
  },
  {
   "cell_type": "code",
   "execution_count": 4,
   "metadata": {},
   "outputs": [
    {
     "data": {
      "text/html": [
       "<div>\n",
       "<style scoped>\n",
       "    .dataframe tbody tr th:only-of-type {\n",
       "        vertical-align: middle;\n",
       "    }\n",
       "\n",
       "    .dataframe tbody tr th {\n",
       "        vertical-align: top;\n",
       "    }\n",
       "\n",
       "    .dataframe thead th {\n",
       "        text-align: right;\n",
       "    }\n",
       "</style>\n",
       "<table border=\"1\" class=\"dataframe\">\n",
       "  <thead>\n",
       "    <tr style=\"text-align: right;\">\n",
       "      <th></th>\n",
       "      <th>resource</th>\n",
       "      <th>resource_type</th>\n",
       "      <th>direct_access</th>\n",
       "      <th>variable</th>\n",
       "      <th>experiment</th>\n",
       "      <th>global_climate_model</th>\n",
       "      <th>regional_climate_model</th>\n",
       "      <th>frequency</th>\n",
       "      <th>grid</th>\n",
       "      <th>bias_corrected_or_raw</th>\n",
       "      <th>file_fullpath</th>\n",
       "      <th>file_basename</th>\n",
       "      <th>file_dirname</th>\n",
       "    </tr>\n",
       "    <tr>\n",
       "      <th>index</th>\n",
       "      <th></th>\n",
       "      <th></th>\n",
       "      <th></th>\n",
       "      <th></th>\n",
       "      <th></th>\n",
       "      <th></th>\n",
       "      <th></th>\n",
       "      <th></th>\n",
       "      <th></th>\n",
       "      <th></th>\n",
       "      <th></th>\n",
       "      <th></th>\n",
       "      <th></th>\n",
       "    </tr>\n",
       "  </thead>\n",
       "  <tbody>\n",
       "    <tr>\n",
       "      <th>0</th>\n",
       "      <td>CORDEX-Data:GLADE:posix:/glade/collections/cdg...</td>\n",
       "      <td>posix</td>\n",
       "      <td>True</td>\n",
       "      <td>hurs</td>\n",
       "      <td>rcp85</td>\n",
       "      <td>CNRM-CM5</td>\n",
       "      <td>CRCM5-OUR</td>\n",
       "      <td>ymon</td>\n",
       "      <td>NAM-22</td>\n",
       "      <td>raw</td>\n",
       "      <td>/glade/collections/cdg/data/cordex/data/raw/NA...</td>\n",
       "      <td>hurs.rcp85.CNRM-CM5.CRCM5-OUR.ymon.NAM-22.raw.nc</td>\n",
       "      <td>/glade/collections/cdg/data/cordex/data/raw/NA...</td>\n",
       "    </tr>\n",
       "    <tr>\n",
       "      <th>1</th>\n",
       "      <td>CORDEX-Data:GLADE:posix:/glade/collections/cdg...</td>\n",
       "      <td>posix</td>\n",
       "      <td>True</td>\n",
       "      <td>hurs</td>\n",
       "      <td>hist</td>\n",
       "      <td>MPI-ESM-LR</td>\n",
       "      <td>WRF</td>\n",
       "      <td>ann</td>\n",
       "      <td>NAM-44i</td>\n",
       "      <td>raw</td>\n",
       "      <td>/glade/collections/cdg/data/cordex/data/raw/NA...</td>\n",
       "      <td>hurs.hist.MPI-ESM-LR.WRF.ann.NAM-44i.raw.nc</td>\n",
       "      <td>/glade/collections/cdg/data/cordex/data/raw/NA...</td>\n",
       "    </tr>\n",
       "    <tr>\n",
       "      <th>2</th>\n",
       "      <td>CORDEX-Data:GLADE:posix:/glade/collections/cdg...</td>\n",
       "      <td>posix</td>\n",
       "      <td>True</td>\n",
       "      <td>hurs</td>\n",
       "      <td>rcp85</td>\n",
       "      <td>MPI-ESM-LR</td>\n",
       "      <td>WRF</td>\n",
       "      <td>ann</td>\n",
       "      <td>NAM-44i</td>\n",
       "      <td>raw</td>\n",
       "      <td>/glade/collections/cdg/data/cordex/data/raw/NA...</td>\n",
       "      <td>hurs.rcp85.MPI-ESM-LR.WRF.ann.NAM-44i.raw.nc</td>\n",
       "      <td>/glade/collections/cdg/data/cordex/data/raw/NA...</td>\n",
       "    </tr>\n",
       "    <tr>\n",
       "      <th>3</th>\n",
       "      <td>CORDEX-Data:GLADE:posix:/glade/collections/cdg...</td>\n",
       "      <td>posix</td>\n",
       "      <td>True</td>\n",
       "      <td>hurs</td>\n",
       "      <td>hist</td>\n",
       "      <td>MPI-ESM-MR</td>\n",
       "      <td>CRCM5-UQAM</td>\n",
       "      <td>mon</td>\n",
       "      <td>NAM-22i</td>\n",
       "      <td>raw</td>\n",
       "      <td>/glade/collections/cdg/data/cordex/data/raw/NA...</td>\n",
       "      <td>hurs.hist.MPI-ESM-MR.CRCM5-UQAM.mon.NAM-22i.ra...</td>\n",
       "      <td>/glade/collections/cdg/data/cordex/data/raw/NA...</td>\n",
       "    </tr>\n",
       "    <tr>\n",
       "      <th>4</th>\n",
       "      <td>CORDEX-Data:GLADE:posix:/glade/collections/cdg...</td>\n",
       "      <td>posix</td>\n",
       "      <td>True</td>\n",
       "      <td>hurs</td>\n",
       "      <td>eval</td>\n",
       "      <td>ERA-Int</td>\n",
       "      <td>WRF</td>\n",
       "      <td>ann</td>\n",
       "      <td>NAM-44i</td>\n",
       "      <td>raw</td>\n",
       "      <td>/glade/collections/cdg/data/cordex/data/raw/NA...</td>\n",
       "      <td>hurs.eval.ERA-Int.WRF.ann.NAM-44i.raw.nc</td>\n",
       "      <td>/glade/collections/cdg/data/cordex/data/raw/NA...</td>\n",
       "    </tr>\n",
       "  </tbody>\n",
       "</table>\n",
       "</div>"
      ],
      "text/plain": [
       "                                                resource resource_type  \\\n",
       "index                                                                    \n",
       "0      CORDEX-Data:GLADE:posix:/glade/collections/cdg...         posix   \n",
       "1      CORDEX-Data:GLADE:posix:/glade/collections/cdg...         posix   \n",
       "2      CORDEX-Data:GLADE:posix:/glade/collections/cdg...         posix   \n",
       "3      CORDEX-Data:GLADE:posix:/glade/collections/cdg...         posix   \n",
       "4      CORDEX-Data:GLADE:posix:/glade/collections/cdg...         posix   \n",
       "\n",
       "       direct_access variable experiment global_climate_model  \\\n",
       "index                                                           \n",
       "0               True     hurs      rcp85             CNRM-CM5   \n",
       "1               True     hurs       hist           MPI-ESM-LR   \n",
       "2               True     hurs      rcp85           MPI-ESM-LR   \n",
       "3               True     hurs       hist           MPI-ESM-MR   \n",
       "4               True     hurs       eval              ERA-Int   \n",
       "\n",
       "      regional_climate_model frequency     grid bias_corrected_or_raw  \\\n",
       "index                                                                   \n",
       "0                  CRCM5-OUR      ymon   NAM-22                   raw   \n",
       "1                        WRF       ann  NAM-44i                   raw   \n",
       "2                        WRF       ann  NAM-44i                   raw   \n",
       "3                 CRCM5-UQAM       mon  NAM-22i                   raw   \n",
       "4                        WRF       ann  NAM-44i                   raw   \n",
       "\n",
       "                                           file_fullpath  \\\n",
       "index                                                      \n",
       "0      /glade/collections/cdg/data/cordex/data/raw/NA...   \n",
       "1      /glade/collections/cdg/data/cordex/data/raw/NA...   \n",
       "2      /glade/collections/cdg/data/cordex/data/raw/NA...   \n",
       "3      /glade/collections/cdg/data/cordex/data/raw/NA...   \n",
       "4      /glade/collections/cdg/data/cordex/data/raw/NA...   \n",
       "\n",
       "                                           file_basename  \\\n",
       "index                                                      \n",
       "0       hurs.rcp85.CNRM-CM5.CRCM5-OUR.ymon.NAM-22.raw.nc   \n",
       "1            hurs.hist.MPI-ESM-LR.WRF.ann.NAM-44i.raw.nc   \n",
       "2           hurs.rcp85.MPI-ESM-LR.WRF.ann.NAM-44i.raw.nc   \n",
       "3      hurs.hist.MPI-ESM-MR.CRCM5-UQAM.mon.NAM-22i.ra...   \n",
       "4               hurs.eval.ERA-Int.WRF.ann.NAM-44i.raw.nc   \n",
       "\n",
       "                                            file_dirname  \n",
       "index                                                     \n",
       "0      /glade/collections/cdg/data/cordex/data/raw/NA...  \n",
       "1      /glade/collections/cdg/data/cordex/data/raw/NA...  \n",
       "2      /glade/collections/cdg/data/cordex/data/raw/NA...  \n",
       "3      /glade/collections/cdg/data/cordex/data/raw/NA...  \n",
       "4      /glade/collections/cdg/data/cordex/data/raw/NA...  "
      ]
     },
     "execution_count": 4,
     "metadata": {},
     "output_type": "execute_result"
    }
   ],
   "source": [
    "col.df.head()"
   ]
  },
  {
   "cell_type": "code",
   "execution_count": 5,
   "metadata": {},
   "outputs": [
    {
     "data": {
      "text/plain": [
       "NA-CORDEX collection catalogue with 17166 entries:\n",
       "\t> 1 resource(s)\n",
       "\n",
       "\t> 1 resource_type(s)\n",
       "\n",
       "\t> 1 direct_access(s)\n",
       "\n",
       "\t> 18 variable(s)\n",
       "\n",
       "\t> 5 experiment(s)\n",
       "\n",
       "\t> 10 global_climate_model(s)\n",
       "\n",
       "\t> 7 regional_climate_model(s)\n",
       "\n",
       "\t> 10 frequency(s)\n",
       "\n",
       "\t> 5 grid(s)\n",
       "\n",
       "\t> 4 bias_corrected_or_raw(s)\n",
       "\n",
       "\t> 17166 file_fullpath(s)\n",
       "\n",
       "\t> 17068 file_basename(s)\n",
       "\n",
       "\t> 17166 file_dirname(s)"
      ]
     },
     "execution_count": 5,
     "metadata": {},
     "output_type": "execute_result"
    }
   ],
   "source": [
    "col"
   ]
  },
  {
   "cell_type": "code",
   "execution_count": 6,
   "metadata": {},
   "outputs": [
    {
     "data": {
      "text/plain": [
       "<xarray.Dataset>\n",
       "Dimensions:                 (index: 17166)\n",
       "Coordinates:\n",
       "  * index                   (index) int64 0 1 2 3 4 ... 17162 17163 17164 17165\n",
       "Data variables:\n",
       "    resource                (index) object 'CORDEX-Data:GLADE:posix:/glade/collections/cdg/data/cordex/data/' ... 'CORDEX-Data:GLADE:posix:/glade/collections/cdg/data/cordex/data/'\n",
       "    resource_type           (index) object 'posix' 'posix' ... 'posix' 'posix'\n",
       "    direct_access           (index) bool True True True True ... True True True\n",
       "    variable                (index) object 'hurs' 'hurs' 'hurs' ... 'vas' 'vas'\n",
       "    experiment              (index) object 'rcp85' 'hist' ... 'eval' 'rcp85'\n",
       "    global_climate_model    (index) object 'CNRM-CM5' 'MPI-ESM-LR' ... 'CanESM2'\n",
       "    regional_climate_model  (index) object 'CRCM5-OUR' 'WRF' ... 'WRF' 'CanRCM4'\n",
       "    frequency               (index) object 'ymon' 'ann' 'ann' ... 'ann' 'day'\n",
       "    grid                    (index) object 'NAM-22' 'NAM-44i' ... 'NAM-44'\n",
       "    bias_corrected_or_raw   (index) object 'raw' 'raw' 'raw' ... 'raw' 'raw'\n",
       "    file_fullpath           (index) object '/glade/collections/cdg/data/cordex/data/raw/NAM-22/ymon/CRCM5-OUR/CNRM-CM5/rcp85/hurs/hurs.rcp85.CNRM-CM5.CRCM5-OUR.ymon.NAM-22.raw.nc' ... '/glade/collections/cdg/data/cordex/data/raw/NAM-44/day/CanRCM4/CanESM2/rcp85/vas/vas.rcp85.CanESM2.CanRCM4.day.NAM-44.raw.nc'\n",
       "    file_basename           (index) object 'hurs.rcp85.CNRM-CM5.CRCM5-OUR.ymon.NAM-22.raw.nc' ... 'vas.rcp85.CanESM2.CanRCM4.day.NAM-44.raw.nc'\n",
       "    file_dirname            (index) object '/glade/collections/cdg/data/cordex/data/raw/NAM-22/ymon/CRCM5-OUR/CNRM-CM5/rcp85/hurs/' ... '/glade/collections/cdg/data/cordex/data/raw/NAM-44/day/CanRCM4/CanESM2/rcp85/vas/'\n",
       "Attributes:\n",
       "    created_at:             2019-08-16T17:14:54.584502\n",
       "    intake_esm_version:     2019.8.5.post20\n",
       "    intake_version:         0.5.2\n",
       "    intake_xarray_version:  0.3.1\n",
       "    collection_spec:        {\"name\": \"NA-CORDEX\", \"collection_type\": \"cordex\"...\n",
       "    name:                   NA-CORDEX\n",
       "    collection_type:        cordex"
      ]
     },
     "execution_count": 6,
     "metadata": {},
     "output_type": "execute_result"
    }
   ],
   "source": [
    "col.ds"
   ]
  },
  {
   "cell_type": "code",
   "execution_count": 7,
   "metadata": {},
   "outputs": [
    {
     "data": {
      "text/plain": [
       "{'frequency': {'count': 10,\n",
       "  'values': ['ymon',\n",
       "   'ann',\n",
       "   'mon',\n",
       "   'day',\n",
       "   'yseas',\n",
       "   'seas',\n",
       "   'fixed',\n",
       "   '3hr',\n",
       "   '1hr',\n",
       "   '6hr']},\n",
       " 'grid': {'count': 5,\n",
       "  'values': ['NAM-22', 'NAM-44i', 'NAM-22i', 'NAM-11', 'NAM-44']},\n",
       " 'experiment': {'count': 5,\n",
       "  'values': ['rcp85', 'hist', 'eval', 'rcp45', 'rcp26']}}"
      ]
     },
     "execution_count": 7,
     "metadata": {},
     "output_type": "execute_result"
    }
   ],
   "source": [
    "col.unique(columns=['frequency', 'grid', 'experiment'])"
   ]
  },
  {
   "cell_type": "markdown",
   "metadata": {},
   "source": [
    "- **Search along attributes**"
   ]
  },
  {
   "cell_type": "code",
   "execution_count": 8,
   "metadata": {},
   "outputs": [],
   "source": [
    "cat = col.search(variable = 'uas', global_climate_model ='CanESM2', regional_climate_model ='CRCM5-UQAM', \n",
    "                 experiment = 'hist', frequency = 'day', grid='NAM-44i')"
   ]
  },
  {
   "cell_type": "code",
   "execution_count": 9,
   "metadata": {},
   "outputs": [
    {
     "data": {
      "text/plain": [
       "<xarray.Dataset>\n",
       "Dimensions:                 (index: 4)\n",
       "Coordinates:\n",
       "  * index                   (index) int64 14805 15092 15533 15737\n",
       "Data variables:\n",
       "    resource                (index) object 'CORDEX-Data:GLADE:posix:/glade/collections/cdg/data/cordex/data/' ... 'CORDEX-Data:GLADE:posix:/glade/collections/cdg/data/cordex/data/'\n",
       "    resource_type           (index) object 'posix' 'posix' 'posix' 'posix'\n",
       "    direct_access           (index) float64 1.0 1.0 1.0 1.0\n",
       "    variable                (index) object 'uas' 'uas' 'uas' 'uas'\n",
       "    experiment              (index) object 'hist' 'hist' 'hist' 'hist'\n",
       "    global_climate_model    (index) object 'CanESM2' 'CanESM2' ... 'CanESM2'\n",
       "    regional_climate_model  (index) object 'CRCM5-UQAM' ... 'CRCM5-UQAM'\n",
       "    frequency               (index) object 'day' 'day' 'day' 'day'\n",
       "    grid                    (index) object 'NAM-44i' 'NAM-44i' ... 'NAM-44i'\n",
       "    bias_corrected_or_raw   (index) object 'mbcn-METDATA' ... 'kddm-METDATA'\n",
       "    file_fullpath           (index) object '/glade/collections/cdg/data/cordex/data/mbcn-METDATA/NAM-44i/day/CRCM5-UQAM/CanESM2/hist/uas/uas.hist.CanESM2.CRCM5-UQAM.day.NAM-44i.mbcn-METDATA.nc' ... '/glade/collections/cdg/data/cordex/data/kddm-METDATA-univar/NAM-44i/day/CRCM5-UQAM/CanESM2/hist/uas/uas.hist.CanESM2.CRCM5-UQAM.day.NAM-44i.kddm-METDATA.nc'\n",
       "    file_basename           (index) object 'uas.hist.CanESM2.CRCM5-UQAM.day.NAM-44i.mbcn-METDATA.nc' ... 'uas.hist.CanESM2.CRCM5-UQAM.day.NAM-44i.kddm-METDATA.nc'\n",
       "    file_dirname            (index) object '/glade/collections/cdg/data/cordex/data/mbcn-METDATA/NAM-44i/day/CRCM5-UQAM/CanESM2/hist/uas/' ... '/glade/collections/cdg/data/cordex/data/kddm-METDATA-univar/NAM-44i/day/CRCM5-UQAM/CanESM2/hist/uas/'\n",
       "Attributes:\n",
       "    created_at:             2019-08-16T17:14:54.584502\n",
       "    intake_esm_version:     2019.8.5.post20\n",
       "    intake_version:         0.5.2\n",
       "    intake_xarray_version:  0.3.1\n",
       "    collection_spec:        {\"name\": \"NA-CORDEX\", \"collection_type\": \"cordex\"...\n",
       "    name:                   NA-CORDEX\n",
       "    collection_type:        cordex"
      ]
     },
     "execution_count": 9,
     "metadata": {},
     "output_type": "execute_result"
    }
   ],
   "source": [
    "cat.ds"
   ]
  },
  {
   "cell_type": "markdown",
   "metadata": {},
   "source": [
    "- **Load the search results into a dictionary of xarray datasets**"
   ]
  },
  {
   "cell_type": "code",
   "execution_count": 10,
   "metadata": {},
   "outputs": [
    {
     "data": {
      "application/vnd.jupyter.widget-view+json": {
       "model_id": "a78868edbf144bf69655e8d54d3cf587",
       "version_major": 2,
       "version_minor": 0
      },
      "text/plain": [
       "HBox(children=(IntProgress(value=0, description='dataset', max=3, style=ProgressStyle(description_width='initi…"
      ]
     },
     "metadata": {},
     "output_type": "display_data"
    },
    {
     "name": "stdout",
     "output_type": "stream",
     "text": [
      "\n"
     ]
    }
   ],
   "source": [
    "dset = cat.to_xarray(chunks={'time': 50})"
   ]
  },
  {
   "cell_type": "markdown",
   "metadata": {},
   "source": [
    "<div class=\"alert alert-info\">\n",
    "\n",
    "**Note:** \n",
    "    \n",
    "\n",
    "``to_xarray()`` method returns a dictionary of ``xarray`` datasets. For `cordex` collection catalog, the keys in this dictionary are constructed using the Step 3b, i.e ``key=<global_climate_model>.<regional_climate_model>.<frequency>.<grid>.<bias_corrected_or_raw>.<experiment>``\n",
    "    \n",
    "    \n",
    "</div>\n",
    "    \n",
    "    "
   ]
  },
  {
   "cell_type": "code",
   "execution_count": 11,
   "metadata": {},
   "outputs": [
    {
     "data": {
      "text/plain": [
       "dict_keys(['CanESM2.CRCM5-UQAM.day.NAM-44i.kddm-METDATA.hist', 'CanESM2.CRCM5-UQAM.day.NAM-44i.mbcn-METDATA.hist', 'CanESM2.CRCM5-UQAM.day.NAM-44i.raw.hist'])"
      ]
     },
     "execution_count": 11,
     "metadata": {},
     "output_type": "execute_result"
    }
   ],
   "source": [
    "dset.keys()"
   ]
  },
  {
   "cell_type": "code",
   "execution_count": 13,
   "metadata": {},
   "outputs": [
    {
     "data": {
      "text/plain": [
       "<xarray.Dataset>\n",
       "Dimensions:    (bnds: 2, lat: 129, lon: 300, time: 20440)\n",
       "Coordinates:\n",
       "  * time       (time) object 1950-01-01 12:00:00 ... 2005-12-31 12:00:00\n",
       "  * lat        (lat) float64 12.25 12.75 13.25 13.75 ... 74.75 75.25 75.75 76.25\n",
       "  * lon        (lon) float64 -171.8 -171.2 -170.8 ... -23.25 -22.75 -22.25\n",
       "    time_bnds  (time, bnds) object dask.array<shape=(20440, 2), chunksize=(50, 2)>\n",
       "Dimensions without coordinates: bnds\n",
       "Data variables:\n",
       "    uas        (time, lat, lon) float32 dask.array<shape=(20440, 129, 300), chunksize=(50, 129, 300)>\n",
       "Attributes:\n",
       "    Conventions:                    CF-1.4\n",
       "    institution:                    Universite du Quebec a Montreal\n",
       "    contact:                        Winger.Katja@uqam.ca\n",
       "    comment:                        CORDEX North America CRCM5 v333 0.44 deg ...\n",
       "    model:                          CRCM5 (dynamics GEM v_3.3.3, physics RPN ...\n",
       "    model_grid:                     rotated lat-lon 236x241 incl. 10p pilot a...\n",
       "    geophysical_fields:             orography: USGS / land use cover: USGS / ...\n",
       "    physics:                        land: CLASS3.5+, 26L, bottom at 60m / lak...\n",
       "    forcing:                        GHG: CO2,CH4,N2O,CFC11,effective CFC12\n",
       "    creation_date:                  2012-09-06\n",
       "    experiment:                     historical\n",
       "    experiment_id:                  historical\n",
       "    driving_model_ensemble_member:  r1i1p1\n",
       "    driving_experiment_name:        historical\n",
       "    frequency:                      day\n",
       "    institute_id:                   UQAM\n",
       "    rcm_version_id:                 v1\n",
       "    project_id:                     CORDEX\n",
       "    CORDEX_domain:                  NAM-44\n",
       "    product:                        output\n",
       "    references:                     http://www.mrcc.uqam.ca\n",
       "    history:                        2019-08-16 11:19:59.123497 xarray.open_da...\n",
       "    NCO:                            netCDF Operators version 4.7.4 (http://nc...\n",
       "    model_id:                       UQAM-CRCM5\n",
       "    driving_experiment:             CCCma-CanESM2,historical,r1i1p1\n",
       "    driving_model_id:               CCCma-CanESM2\n",
       "    history_of_appended_files:      Wed Sep  5 00:03:57 2018: Appended file t...\n",
       "    tracking_id:                    5718ce6b-2ffb-4efb-9b49-f123e4184106\n",
       "    nco_openmp_thread_number:       1\n",
       "    id:                             doi:10.5065/D6SJ1JCH\n",
       "    title:                          NA-CORDEX Raw NAM-44i CRCM5-UQAM CanESM2 ...\n",
       "    version:                        1.0"
      ]
     },
     "execution_count": 13,
     "metadata": {},
     "output_type": "execute_result"
    }
   ],
   "source": [
    "ds = dset['CanESM2.CRCM5-UQAM.day.NAM-44i.raw.hist']\n",
    "ds"
   ]
  },
  {
   "cell_type": "code",
   "execution_count": 16,
   "metadata": {},
   "outputs": [
    {
     "name": "stderr",
     "output_type": "stream",
     "text": [
      "/glade/work/abanihi/softwares/miniconda3/envs/intake-esm-dev/lib/python3.7/site-packages/dask/array/numpy_compat.py:38: RuntimeWarning: invalid value encountered in true_divide\n",
      "  x = np.divide(x1, x2, out)\n"
     ]
    },
    {
     "data": {
      "text/plain": [
       "<matplotlib.collections.QuadMesh at 0x2b6153f50588>"
      ]
     },
     "execution_count": 16,
     "metadata": {},
     "output_type": "execute_result"
    },
    {
     "data": {
      "image/png": "[encoded data removed]",
      "text/plain": [
       "<Figure size 432x288 with 2 Axes>"
      ]
     },
     "metadata": {
      "needs_background": "light"
     },
     "output_type": "display_data"
    }
   ],
   "source": [
    "ds.uas.mean('time').plot()"
   ]
  },
  {
   "cell_type": "markdown",
   "metadata": {},
   "source": [
    "## Step 6: Contribute to `intake-esm`\n",
    "\n",
    "This step is optional, but for others to benefit from your great work, we recommend the following:\n",
    "\n",
    "- Opening a pull request in `intake-esm` Github repository: https://github.com/NCAR/intake-esm. See the [contribution guide](https://intake-esm.readthedocs.io/en/latest/contributing.html) for more information \n",
    "- Adding your collection input YAML file defined in Step 4 to `intake-esm`'s list of curated dataset collection residing in https://github.com/NCAR/intake-esm-datastore"
   ]
  }
 ],
 "metadata": {
  "kernelspec": {
   "display_name": "Python 3",
   "language": "python",
   "name": "python3"
  },
  "language_info": {
   "codemirror_mode": {
    "name": "ipython",
    "version": 3
   },
   "file_extension": ".py",
   "mimetype": "text/x-python",
   "name": "python",
   "nbconvert_exporter": "python",
   "pygments_lexer": "ipython3",
   "version": "3.7.3"
  }
 },
 "nbformat": 4,
 "nbformat_minor": 4
}
