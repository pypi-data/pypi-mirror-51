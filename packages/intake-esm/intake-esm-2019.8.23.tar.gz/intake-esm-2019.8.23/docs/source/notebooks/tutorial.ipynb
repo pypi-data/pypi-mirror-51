{
 "cells": [
  {
   "cell_type": "markdown",
   "metadata": {},
   "source": [
    "# Tutorial"
   ]
  },
  {
   "cell_type": "markdown",
   "metadata": {},
   "source": [
    "`Intake-esm` provides functionality to build and load intake file-based catalogs for earth system data holdings produced by projects such as CMIP, CESM, etc. "
   ]
  },
  {
   "cell_type": "markdown",
   "metadata": {},
   "source": [
    "## Building A Collection Dataset Catalog"
   ]
  },
  {
   "cell_type": "markdown",
   "metadata": {},
   "source": [
    "Because `intake-esm` is an `intake` plugin, the plugin automatically appears in the set of known\n",
    "plugins in the intake registry, and an associated ``intake.open_esm_metadatastore``\n",
    "function is created at import time."
   ]
  },
  {
   "cell_type": "code",
   "execution_count": 1,
   "metadata": {},
   "outputs": [],
   "source": [
    "%matplotlib inline\n",
    "import warnings\n",
    "warnings.simplefilter(\"ignore\") # Silence warnings\n",
    "import intake\n",
    "from pprint import pprint as print"
   ]
  },
  {
   "cell_type": "code",
   "execution_count": 2,
   "metadata": {},
   "outputs": [
    {
     "data": {
      "text/plain": [
       "{'yaml_file_cat': intake.catalog.local.YAMLFileCatalog,\n",
       " 'yaml_files_cat': intake.catalog.local.YAMLFilesCatalog,\n",
       " 'remote-xarray': intake_xarray.xarray_container.RemoteXarray,\n",
       " 'netcdf': intake_xarray.netcdf.NetCDFSource,\n",
       " 'opendap': intake_xarray.opendap.OpenDapSource,\n",
       " 'rasterio': intake_xarray.raster.RasterIOSource,\n",
       " 'xarray_image': intake_xarray.image.ImageSource,\n",
       " 'zarr': intake_xarray.xzarr.ZarrSource,\n",
       " 'catalog': intake.catalog.base.Catalog,\n",
       " 'csv': intake.source.csv.CSVSource,\n",
       " 'intake_remote': intake.catalog.base.RemoteCatalog,\n",
       " 'ndzarr': intake.source.zarr.ZarrArraySource,\n",
       " 'numpy': intake.source.npy.NPySource,\n",
       " 'textfiles': intake.source.textfiles.TextFilesSource,\n",
       " 'esm_metadatastore': intake_esm.core.ESMMetadataStoreCatalog}"
      ]
     },
     "execution_count": 2,
     "metadata": {},
     "output_type": "execute_result"
    }
   ],
   "source": [
    "intake.registry"
   ]
  },
  {
   "cell_type": "markdown",
   "metadata": {},
   "source": [
    "To build a collection catalog, you call ``intake.open_esm_metadatastore()`` function by passing in either\n",
    "\n",
    "1) `collection_name`:  a string corresponding to the name of one of the curated dataset collections\n",
    "\n",
    "or \n",
    "\n",
    "2) `collection_input_definition`: supports one of the following three options:\n",
    "\n",
    "   - A string corresponding to the name of one of the curated dataset collections\n",
    "   - A path to a collection input YAML file,\n",
    "   - A Python dictionary."
   ]
  },
  {
   "cell_type": "markdown",
   "metadata": {},
   "source": [
    "To find the list of supported/curated dataset collections:"
   ]
  },
  {
   "cell_type": "code",
   "execution_count": 3,
   "metadata": {},
   "outputs": [
    {
     "name": "stdout",
     "output_type": "stream",
     "text": [
      "*********************************************************************\n",
      "* The following collection inputs are supported out-of-the-box *\n",
      "*********************************************************************\n",
      "\n",
      "'CESM1-LE': Community Earth System Model Large Ensemble (LENS) data holdings\n",
      "'GLADE-CMIP5': Coupled Model Intercomparison Project - Phase 5 data holdings on the CMIP Analysis Platform @ NCAR\n",
      "'GLADE-CMIP6': Coupled Model Intercomparison Project - Phase 6 data holdings on the CMIP Analysis Platform @ NCAR\n",
      "'GLADE-RDA-ERA5': ECWMF ERA5 Reanalysis data holdings\n",
      "'GLADE-GMET': The Gridded Meteorological Ensemble Tool data holdings\n",
      "'MPI-GE': The Max Planck Institute for Meteorology (MPI-M) Grand Ensemble (MPI-GE) data holdings\n"
     ]
    }
   ],
   "source": [
    "from intake_esm.bld_collection_utils import _get_collection_input_files\n",
    "_get_collection_input_files()"
   ]
  },
  {
   "cell_type": "markdown",
   "metadata": {},
   "source": [
    "<div class=\"alert alert-info\">\n",
    "\n",
    "**Note:** \n",
    "    \n",
    "\n",
    "Dataset collections are curated in [intake-esm-datastore](https://github.com/NCAR/intake-esm-datastore) GitHub repository. \n",
    "    \n",
    "    \n",
    "</div>"
   ]
  },
  {
   "cell_type": "markdown",
   "metadata": {},
   "source": [
    "Let's now build a collection catalog for CMIP6 data residing on NCAR's GLADE."
   ]
  },
  {
   "cell_type": "code",
   "execution_count": 4,
   "metadata": {},
   "outputs": [
    {
     "name": "stdout",
     "output_type": "stream",
     "text": [
      "Getting file listing: GLADE-DATA:AerChemMIP:posix:/glade/collections/cmip/CMIP6/AerChemMIP\n"
     ]
    },
    {
     "data": {
      "application/vnd.jupyter.widget-view+json": {
       "model_id": "577a318ae3f14a87a83dbeee593cc25e",
       "version_major": 2,
       "version_minor": 0
      },
      "text/plain": [
       "HBox(children=(IntProgress(value=0, description='file listing', max=7943, style=ProgressStyle(description_widt…"
      ]
     },
     "metadata": {},
     "output_type": "display_data"
    },
    {
     "name": "stdout",
     "output_type": "stream",
     "text": [
      "\n",
      "Getting file listing: GLADE-DATA:CFMIP:posix:/glade/collections/cmip/CMIP6/CFMIP\n"
     ]
    },
    {
     "data": {
      "application/vnd.jupyter.widget-view+json": {
       "model_id": "088c686d5f7f4f2897795d9590b80853",
       "version_major": 2,
       "version_minor": 0
      },
      "text/plain": [
       "HBox(children=(IntProgress(value=0, description='file listing', max=1794, style=ProgressStyle(description_widt…"
      ]
     },
     "metadata": {},
     "output_type": "display_data"
    },
    {
     "name": "stdout",
     "output_type": "stream",
     "text": [
      "\n",
      "Getting file listing: GLADE-DATA:CMIP:posix:/glade/collections/cmip/CMIP6/CMIP\n"
     ]
    },
    {
     "data": {
      "application/vnd.jupyter.widget-view+json": {
       "model_id": "7d106ba8817643749c044cafc29ee864",
       "version_major": 2,
       "version_minor": 0
      },
      "text/plain": [
       "HBox(children=(IntProgress(value=0, description='file listing', max=341548, style=ProgressStyle(description_wi…"
      ]
     },
     "metadata": {},
     "output_type": "display_data"
    },
    {
     "name": "stdout",
     "output_type": "stream",
     "text": [
      "\n",
      "Getting file listing: GLADE-DATA:LS3MIP:posix:/glade/collections/cmip/CMIP6/LS3MIP\n"
     ]
    },
    {
     "data": {
      "application/vnd.jupyter.widget-view+json": {
       "model_id": "2facee01bc104c689362280aaab089ba",
       "version_major": 2,
       "version_minor": 0
      },
      "text/plain": [
       "HBox(children=(IntProgress(value=0, description='file listing', max=1636, style=ProgressStyle(description_widt…"
      ]
     },
     "metadata": {},
     "output_type": "display_data"
    },
    {
     "name": "stdout",
     "output_type": "stream",
     "text": [
      "\n",
      "Getting file listing: GLADE-DATA:LUMIP:posix:/glade/collections/cmip/CMIP6/LUMIP\n"
     ]
    },
    {
     "data": {
      "application/vnd.jupyter.widget-view+json": {
       "model_id": "2f890c68efdf424194d42f7e3346a52b",
       "version_major": 2,
       "version_minor": 0
      },
      "text/plain": [
       "HBox(children=(IntProgress(value=0, description='file listing', max=9976, style=ProgressStyle(description_widt…"
      ]
     },
     "metadata": {},
     "output_type": "display_data"
    },
    {
     "name": "stdout",
     "output_type": "stream",
     "text": [
      "\n",
      "Getting file listing: GLADE-DATA:PAMIP:posix:/glade/collections/cmip/CMIP6/PAMIP\n"
     ]
    },
    {
     "data": {
      "application/vnd.jupyter.widget-view+json": {
       "model_id": "2bfff5a5990c42a4861fc9aa73f463e4",
       "version_major": 2,
       "version_minor": 0
      },
      "text/plain": [
       "HBox(children=(IntProgress(value=0, description='file listing', max=55700, style=ProgressStyle(description_wid…"
      ]
     },
     "metadata": {},
     "output_type": "display_data"
    },
    {
     "name": "stdout",
     "output_type": "stream",
     "text": [
      "\n",
      "Getting file listing: GLADE-DATA:ScenarioMIP:posix:/glade/collections/cmip/CMIP6/ScenarioMIP\n"
     ]
    },
    {
     "data": {
      "application/vnd.jupyter.widget-view+json": {
       "model_id": "0af9063828e34103a8dec999d7965e10",
       "version_major": 2,
       "version_minor": 0
      },
      "text/plain": [
       "HBox(children=(IntProgress(value=0, description='file listing', max=266, style=ProgressStyle(description_width…"
      ]
     },
     "metadata": {},
     "output_type": "display_data"
    },
    {
     "name": "stdout",
     "output_type": "stream",
     "text": [
      "\n",
      "Persisting GLADE-CMIP6 at : /glade/u/home/abanihi/.intake_esm/collections/GLADE-CMIP6.nc\n"
     ]
    }
   ],
   "source": [
    "col = intake.open_esm_metadatastore(collection_name=\"GLADE-CMIP6\")"
   ]
  },
  {
   "cell_type": "markdown",
   "metadata": {},
   "source": [
    "When a collection catalog is created/opened, ``intake-esm`` stores its content in an ``xarray.Dataset`` object:"
   ]
  },
  {
   "cell_type": "code",
   "execution_count": 5,
   "metadata": {},
   "outputs": [
    {
     "data": {
      "text/plain": [
       "<xarray.Dataset>\n",
       "Dimensions:         (index: 418863)\n",
       "Coordinates:\n",
       "  * index           (index) int64 0 1 2 3 4 ... 418859 418860 418861 418862\n",
       "Data variables:\n",
       "    resource        (index) object ...\n",
       "    resource_type   (index) object ...\n",
       "    direct_access   (index) bool True True True True ... True True True True\n",
       "    activity_id     (index) object ...\n",
       "    experiment_id   (index) object ...\n",
       "    file_basename   (index) object ...\n",
       "    file_fullpath   (index) object ...\n",
       "    file_dirname    (index) object ...\n",
       "    grid_label      (index) object ...\n",
       "    institution_id  (index) object ...\n",
       "    member_id       (index) object ...\n",
       "    mip_era         (index) object ...\n",
       "    source_id       (index) object ...\n",
       "    table_id        (index) object ...\n",
       "    time_range      (index) object ...\n",
       "    variable_id     (index) object ...\n",
       "    version         (index) object ...\n",
       "Attributes:\n",
       "    created_at:             2019-08-16T00:18:32.981741\n",
       "    intake_esm_version:     2019.8.5.post20\n",
       "    intake_version:         0.5.2\n",
       "    intake_xarray_version:  0.3.1\n",
       "    collection_spec:        {\"name\": \"GLADE-CMIP6\", \"collection_type\": \"cmip6...\n",
       "    name:                   GLADE-CMIP6\n",
       "    collection_type:        cmip6"
      ]
     },
     "execution_count": 5,
     "metadata": {},
     "output_type": "execute_result"
    }
   ],
   "source": [
    "col.ds"
   ]
  },
  {
   "cell_type": "markdown",
   "metadata": {},
   "source": [
    "The same content is also available via the `.df` property, which is a ``pandas.DataFrame``:"
   ]
  },
  {
   "cell_type": "code",
   "execution_count": 6,
   "metadata": {},
   "outputs": [
    {
     "data": {
      "text/html": [
       "<div>\n",
       "<style scoped>\n",
       "    .dataframe tbody tr th:only-of-type {\n",
       "        vertical-align: middle;\n",
       "    }\n",
       "\n",
       "    .dataframe tbody tr th {\n",
       "        vertical-align: top;\n",
       "    }\n",
       "\n",
       "    .dataframe thead th {\n",
       "        text-align: right;\n",
       "    }\n",
       "</style>\n",
       "<table border=\"1\" class=\"dataframe\">\n",
       "  <thead>\n",
       "    <tr style=\"text-align: right;\">\n",
       "      <th></th>\n",
       "      <th>resource</th>\n",
       "      <th>resource_type</th>\n",
       "      <th>direct_access</th>\n",
       "      <th>activity_id</th>\n",
       "      <th>experiment_id</th>\n",
       "      <th>file_basename</th>\n",
       "      <th>file_fullpath</th>\n",
       "      <th>file_dirname</th>\n",
       "      <th>grid_label</th>\n",
       "      <th>institution_id</th>\n",
       "      <th>member_id</th>\n",
       "      <th>mip_era</th>\n",
       "      <th>source_id</th>\n",
       "      <th>table_id</th>\n",
       "      <th>time_range</th>\n",
       "      <th>variable_id</th>\n",
       "      <th>version</th>\n",
       "    </tr>\n",
       "    <tr>\n",
       "      <th>index</th>\n",
       "      <th></th>\n",
       "      <th></th>\n",
       "      <th></th>\n",
       "      <th></th>\n",
       "      <th></th>\n",
       "      <th></th>\n",
       "      <th></th>\n",
       "      <th></th>\n",
       "      <th></th>\n",
       "      <th></th>\n",
       "      <th></th>\n",
       "      <th></th>\n",
       "      <th></th>\n",
       "      <th></th>\n",
       "      <th></th>\n",
       "      <th></th>\n",
       "      <th></th>\n",
       "    </tr>\n",
       "  </thead>\n",
       "  <tbody>\n",
       "    <tr>\n",
       "      <th>0</th>\n",
       "      <td>GLADE-DATA:PAMIP:posix:/glade/collections/cmip...</td>\n",
       "      <td>posix</td>\n",
       "      <td>True</td>\n",
       "      <td>PAMIP</td>\n",
       "      <td>pdSST-futAntSIC</td>\n",
       "      <td>pr_6hrPlev_CESM2_pdSST-futAntSIC_r100i1p1f1_gn...</td>\n",
       "      <td>/glade/collections/cmip/CMIP6/PAMIP/NCAR/CESM2...</td>\n",
       "      <td>glade/collections/cmip/CMIP6/PAMIP/NCAR/CESM2/...</td>\n",
       "      <td>gn</td>\n",
       "      <td>NCAR</td>\n",
       "      <td>r100i1p1f1</td>\n",
       "      <td>CMIP6</td>\n",
       "      <td>CESM2</td>\n",
       "      <td>6hrPlev</td>\n",
       "      <td>200006010000-200106010000</td>\n",
       "      <td>pr</td>\n",
       "      <td>v20190614</td>\n",
       "    </tr>\n",
       "    <tr>\n",
       "      <th>1</th>\n",
       "      <td>GLADE-DATA:PAMIP:posix:/glade/collections/cmip...</td>\n",
       "      <td>posix</td>\n",
       "      <td>True</td>\n",
       "      <td>PAMIP</td>\n",
       "      <td>pdSST-futAntSIC</td>\n",
       "      <td>psl_6hrPlev_CESM2_pdSST-futAntSIC_r100i1p1f1_g...</td>\n",
       "      <td>/glade/collections/cmip/CMIP6/PAMIP/NCAR/CESM2...</td>\n",
       "      <td>glade/collections/cmip/CMIP6/PAMIP/NCAR/CESM2/...</td>\n",
       "      <td>gn</td>\n",
       "      <td>NCAR</td>\n",
       "      <td>r100i1p1f1</td>\n",
       "      <td>CMIP6</td>\n",
       "      <td>CESM2</td>\n",
       "      <td>6hrPlev</td>\n",
       "      <td>200006010000-200106010000</td>\n",
       "      <td>psl</td>\n",
       "      <td>v20190614</td>\n",
       "    </tr>\n",
       "    <tr>\n",
       "      <th>2</th>\n",
       "      <td>GLADE-DATA:PAMIP:posix:/glade/collections/cmip...</td>\n",
       "      <td>posix</td>\n",
       "      <td>True</td>\n",
       "      <td>PAMIP</td>\n",
       "      <td>pdSST-futAntSIC</td>\n",
       "      <td>sfcWind_6hrPlev_CESM2_pdSST-futAntSIC_r100i1p1...</td>\n",
       "      <td>/glade/collections/cmip/CMIP6/PAMIP/NCAR/CESM2...</td>\n",
       "      <td>glade/collections/cmip/CMIP6/PAMIP/NCAR/CESM2/...</td>\n",
       "      <td>gn</td>\n",
       "      <td>NCAR</td>\n",
       "      <td>r100i1p1f1</td>\n",
       "      <td>CMIP6</td>\n",
       "      <td>CESM2</td>\n",
       "      <td>6hrPlev</td>\n",
       "      <td>200006010000-200106010000</td>\n",
       "      <td>sfcWind</td>\n",
       "      <td>v20190614</td>\n",
       "    </tr>\n",
       "    <tr>\n",
       "      <th>3</th>\n",
       "      <td>GLADE-DATA:PAMIP:posix:/glade/collections/cmip...</td>\n",
       "      <td>posix</td>\n",
       "      <td>True</td>\n",
       "      <td>PAMIP</td>\n",
       "      <td>pdSST-futAntSIC</td>\n",
       "      <td>tas_6hrPlev_CESM2_pdSST-futAntSIC_r100i1p1f1_g...</td>\n",
       "      <td>/glade/collections/cmip/CMIP6/PAMIP/NCAR/CESM2...</td>\n",
       "      <td>glade/collections/cmip/CMIP6/PAMIP/NCAR/CESM2/...</td>\n",
       "      <td>gn</td>\n",
       "      <td>NCAR</td>\n",
       "      <td>r100i1p1f1</td>\n",
       "      <td>CMIP6</td>\n",
       "      <td>CESM2</td>\n",
       "      <td>6hrPlev</td>\n",
       "      <td>200006010000-200106010000</td>\n",
       "      <td>tas</td>\n",
       "      <td>v20190614</td>\n",
       "    </tr>\n",
       "    <tr>\n",
       "      <th>4</th>\n",
       "      <td>GLADE-DATA:PAMIP:posix:/glade/collections/cmip...</td>\n",
       "      <td>posix</td>\n",
       "      <td>True</td>\n",
       "      <td>PAMIP</td>\n",
       "      <td>pdSST-futAntSIC</td>\n",
       "      <td>zg1000_6hrPlev_CESM2_pdSST-futAntSIC_r100i1p1f...</td>\n",
       "      <td>/glade/collections/cmip/CMIP6/PAMIP/NCAR/CESM2...</td>\n",
       "      <td>glade/collections/cmip/CMIP6/PAMIP/NCAR/CESM2/...</td>\n",
       "      <td>gn</td>\n",
       "      <td>NCAR</td>\n",
       "      <td>r100i1p1f1</td>\n",
       "      <td>CMIP6</td>\n",
       "      <td>CESM2</td>\n",
       "      <td>6hrPlev</td>\n",
       "      <td>200006010000-200106010000</td>\n",
       "      <td>zg1000</td>\n",
       "      <td>v20190614</td>\n",
       "    </tr>\n",
       "  </tbody>\n",
       "</table>\n",
       "</div>"
      ],
      "text/plain": [
       "                                                resource resource_type  \\\n",
       "index                                                                    \n",
       "0      GLADE-DATA:PAMIP:posix:/glade/collections/cmip...         posix   \n",
       "1      GLADE-DATA:PAMIP:posix:/glade/collections/cmip...         posix   \n",
       "2      GLADE-DATA:PAMIP:posix:/glade/collections/cmip...         posix   \n",
       "3      GLADE-DATA:PAMIP:posix:/glade/collections/cmip...         posix   \n",
       "4      GLADE-DATA:PAMIP:posix:/glade/collections/cmip...         posix   \n",
       "\n",
       "       direct_access activity_id    experiment_id  \\\n",
       "index                                               \n",
       "0               True       PAMIP  pdSST-futAntSIC   \n",
       "1               True       PAMIP  pdSST-futAntSIC   \n",
       "2               True       PAMIP  pdSST-futAntSIC   \n",
       "3               True       PAMIP  pdSST-futAntSIC   \n",
       "4               True       PAMIP  pdSST-futAntSIC   \n",
       "\n",
       "                                           file_basename  \\\n",
       "index                                                      \n",
       "0      pr_6hrPlev_CESM2_pdSST-futAntSIC_r100i1p1f1_gn...   \n",
       "1      psl_6hrPlev_CESM2_pdSST-futAntSIC_r100i1p1f1_g...   \n",
       "2      sfcWind_6hrPlev_CESM2_pdSST-futAntSIC_r100i1p1...   \n",
       "3      tas_6hrPlev_CESM2_pdSST-futAntSIC_r100i1p1f1_g...   \n",
       "4      zg1000_6hrPlev_CESM2_pdSST-futAntSIC_r100i1p1f...   \n",
       "\n",
       "                                           file_fullpath  \\\n",
       "index                                                      \n",
       "0      /glade/collections/cmip/CMIP6/PAMIP/NCAR/CESM2...   \n",
       "1      /glade/collections/cmip/CMIP6/PAMIP/NCAR/CESM2...   \n",
       "2      /glade/collections/cmip/CMIP6/PAMIP/NCAR/CESM2...   \n",
       "3      /glade/collections/cmip/CMIP6/PAMIP/NCAR/CESM2...   \n",
       "4      /glade/collections/cmip/CMIP6/PAMIP/NCAR/CESM2...   \n",
       "\n",
       "                                            file_dirname grid_label  \\\n",
       "index                                                                 \n",
       "0      glade/collections/cmip/CMIP6/PAMIP/NCAR/CESM2/...         gn   \n",
       "1      glade/collections/cmip/CMIP6/PAMIP/NCAR/CESM2/...         gn   \n",
       "2      glade/collections/cmip/CMIP6/PAMIP/NCAR/CESM2/...         gn   \n",
       "3      glade/collections/cmip/CMIP6/PAMIP/NCAR/CESM2/...         gn   \n",
       "4      glade/collections/cmip/CMIP6/PAMIP/NCAR/CESM2/...         gn   \n",
       "\n",
       "      institution_id   member_id mip_era source_id table_id  \\\n",
       "index                                                         \n",
       "0               NCAR  r100i1p1f1   CMIP6     CESM2  6hrPlev   \n",
       "1               NCAR  r100i1p1f1   CMIP6     CESM2  6hrPlev   \n",
       "2               NCAR  r100i1p1f1   CMIP6     CESM2  6hrPlev   \n",
       "3               NCAR  r100i1p1f1   CMIP6     CESM2  6hrPlev   \n",
       "4               NCAR  r100i1p1f1   CMIP6     CESM2  6hrPlev   \n",
       "\n",
       "                      time_range variable_id    version  \n",
       "index                                                    \n",
       "0      200006010000-200106010000          pr  v20190614  \n",
       "1      200006010000-200106010000         psl  v20190614  \n",
       "2      200006010000-200106010000     sfcWind  v20190614  \n",
       "3      200006010000-200106010000         tas  v20190614  \n",
       "4      200006010000-200106010000      zg1000  v20190614  "
      ]
     },
     "execution_count": 6,
     "metadata": {},
     "output_type": "execute_result"
    }
   ],
   "source": [
    "col.df.head()"
   ]
  },
  {
   "cell_type": "markdown",
   "metadata": {},
   "source": [
    "## Getting Summary Information About The Collection Catalog"
   ]
  },
  {
   "cell_type": "markdown",
   "metadata": {},
   "source": [
    "`Intake-esm` comes with utility methods that allows getting summary information about the collection catalog. \n",
    "\n",
    "**1) String Representation**\n",
    "\n",
    "The most straightforward and simple way to get the summary is by printing the `col` object:"
   ]
  },
  {
   "cell_type": "code",
   "execution_count": 7,
   "metadata": {},
   "outputs": [
    {
     "name": "stdout",
     "output_type": "stream",
     "text": [
      "GLADE-CMIP6 collection catalogue with 418863 entries:\n",
      "\t> 7 resource(s)\n",
      "\n",
      "\t> 1 resource_type(s)\n",
      "\n",
      "\t> 1 direct_access(s)\n",
      "\n",
      "\t> 7 activity_id(s)\n",
      "\n",
      "\t> 47 experiment_id(s)\n",
      "\n",
      "\t> 411902 file_basename(s)\n",
      "\n",
      "\t> 418863 file_fullpath(s)\n",
      "\n",
      "\t> 153386 file_dirname(s)\n",
      "\n",
      "\t> 11 grid_label(s)\n",
      "\n",
      "\t> 16 institution_id(s)\n",
      "\n",
      "\t> 132 member_id(s)\n",
      "\n",
      "\t> 1 mip_era(s)\n",
      "\n",
      "\t> 24 source_id(s)\n",
      "\n",
      "\t> 32 table_id(s)\n",
      "\n",
      "\t> 2260 time_range(s)\n",
      "\n",
      "\t> 993 variable_id(s)\n",
      "\n",
      "\t> 129 version(s)\n",
      "\n"
     ]
    }
   ],
   "source": [
    "print(col)"
   ]
  },
  {
   "cell_type": "markdown",
   "metadata": {},
   "source": [
    "**2) nunique() method which counts distinct observations across dataframe columns**"
   ]
  },
  {
   "cell_type": "code",
   "execution_count": 8,
   "metadata": {},
   "outputs": [
    {
     "data": {
      "text/plain": [
       "resource               7\n",
       "resource_type          1\n",
       "direct_access          1\n",
       "activity_id            7\n",
       "experiment_id         47\n",
       "file_basename     411902\n",
       "file_fullpath     418863\n",
       "file_dirname      153386\n",
       "grid_label            11\n",
       "institution_id        16\n",
       "member_id            132\n",
       "mip_era                1\n",
       "source_id             24\n",
       "table_id              32\n",
       "time_range          2260\n",
       "variable_id          993\n",
       "version              129\n",
       "dtype: int64"
      ]
     },
     "execution_count": 8,
     "metadata": {},
     "output_type": "execute_result"
    }
   ],
   "source": [
    "col.nunique()"
   ]
  },
  {
   "cell_type": "markdown",
   "metadata": {},
   "source": [
    "**3) unique() method which returns unique values for given columns**"
   ]
  },
  {
   "cell_type": "code",
   "execution_count": 9,
   "metadata": {},
   "outputs": [
    {
     "name": "stdout",
     "output_type": "stream",
     "text": [
      "{'institution_id': {'count': 16,\n",
      "                    'values': ['NCAR',\n",
      "                               'CCCma',\n",
      "                               'IPSL',\n",
      "                               'MIROC',\n",
      "                               'MRI',\n",
      "                               'NASA-GISS',\n",
      "                               'CNRM-CERFACS',\n",
      "                               'AWI',\n",
      "                               'BCC',\n",
      "                               'CAMS',\n",
      "                               'CAS',\n",
      "                               'E3SM-Project',\n",
      "                               'EC-Earth-Consortium',\n",
      "                               'NOAA-GFDL',\n",
      "                               'SNU',\n",
      "                               'MOHC']},\n",
      " 'source_id': {'count': 24,\n",
      "               'values': ['CESM2',\n",
      "                          'CanESM5',\n",
      "                          'IPSL-CM6A-LR',\n",
      "                          'MIROC6',\n",
      "                          'MRI-ESM2-0',\n",
      "                          'GISS-E2-1-G',\n",
      "                          'GISS-E2-1-H',\n",
      "                          'CNRM-CM6-1',\n",
      "                          'CESM2-WACCM',\n",
      "                          'AWI-CM-1-1-MR',\n",
      "                          'BCC-CSM2-MR',\n",
      "                          'BCC-ESM1',\n",
      "                          'CAMS-CSM1-0',\n",
      "                          'FGOALS-f3-L',\n",
      "                          'E3SM-1-0',\n",
      "                          'EC-Earth3-LR',\n",
      "                          'EC-Earth3-Veg',\n",
      "                          'GFDL-AM4',\n",
      "                          'GFDL-CM4',\n",
      "                          'SAM0-UNICON',\n",
      "                          'CNRM-ESM2-1',\n",
      "                          'UKESM1-0-LL',\n",
      "                          'HadGEM3-GC31-LL',\n",
      "                          'EC-Earth3']}}\n"
     ]
    }
   ],
   "source": [
    "print(col.unique(columns=['source_id', 'institution_id']))"
   ]
  },
  {
   "cell_type": "markdown",
   "metadata": {},
   "source": [
    "## Searching for Entries in the Built Collection Catalog"
   ]
  },
  {
   "cell_type": "markdown",
   "metadata": {},
   "source": [
    "One of the features supported in ``intake-esm`` is querying the collection catalog.\n",
    "This feature is provided via the ``search()`` method. The ``search()`` method allows the user to\n",
    "specify a query by using keyword arguments. This method returns a subset of the collection catalog\n",
    "with all the entries that match the provided query:"
   ]
  },
  {
   "cell_type": "code",
   "execution_count": 10,
   "metadata": {},
   "outputs": [],
   "source": [
    "cat = col.search(variable_id=['hfls'], table_id=['Amon'], experiment_id=['1pctCO2', 'histSST'],\n",
    "                 source_id=['CanESM5', 'IPSL-CM6A-LR'])"
   ]
  },
  {
   "cell_type": "markdown",
   "metadata": {},
   "source": [
    "The results of the query are stored in a `xarray.Dataset` which is an attribute of the returned ``intake`` catalog entry object:"
   ]
  },
  {
   "cell_type": "code",
   "execution_count": 11,
   "metadata": {},
   "outputs": [
    {
     "data": {
      "text/plain": [
       "intake.catalog.local.LocalCatalogEntry"
      ]
     },
     "execution_count": 11,
     "metadata": {},
     "output_type": "execute_result"
    }
   ],
   "source": [
    "type(cat)"
   ]
  },
  {
   "cell_type": "code",
   "execution_count": 12,
   "metadata": {},
   "outputs": [
    {
     "data": {
      "text/plain": [
       "<xarray.Dataset>\n",
       "Dimensions:         (index: 6)\n",
       "Coordinates:\n",
       "  * index           (index) int64 48096 72439 246361 287290 298180 316112\n",
       "Data variables:\n",
       "    resource        (index) object 'GLADE-DATA:CMIP:posix:/glade/collections/cmip/CMIP6/CMIP' ... 'GLADE-DATA:CMIP:posix:/glade/collections/cmip/CMIP6/CMIP'\n",
       "    resource_type   (index) object 'posix' 'posix' 'posix' ... 'posix' 'posix'\n",
       "    direct_access   (index) float64 1.0 1.0 1.0 1.0 1.0 1.0\n",
       "    activity_id     (index) object 'CMIP' 'CMIP' 'CMIP' 'CMIP' 'CMIP' 'CMIP'\n",
       "    experiment_id   (index) object '1pctCO2' '1pctCO2' ... '1pctCO2' '1pctCO2'\n",
       "    file_basename   (index) object 'hfls_Amon_CanESM5_1pctCO2_r1i1p1f1_gn_185001-200012.nc' ... 'hfls_Amon_CanESM5_1pctCO2_r3i1p2f1_gn_185001-200012.nc'\n",
       "    file_fullpath   (index) object '/glade/collections/cmip/CMIP6/CMIP/CCCma/CanESM5/1pctCO2/r1i1p1f1/Amon/hfls/gn/v20190429/hfls/hfls_Amon_CanESM5_1pctCO2_r1i1p1f1_gn_185001-200012.nc' ... '/glade/collections/cmip/CMIP6/CMIP/CCCma/CanESM5/1pctCO2/r3i1p2f1/Amon/hfls/gn/v20190429/hfls/hfls_Amon_CanESM5_1pctCO2_r3i1p2f1_gn_185001-200012.nc'\n",
       "    file_dirname    (index) object 'glade/collections/cmip/CMIP6/CMIP/CCCma/CanESM5/1pctCO2/r1i1p1f1/Amon/hfls/gn/v20190429/hfls/' ... 'glade/collections/cmip/CMIP6/CMIP/CCCma/CanESM5/1pctCO2/r3i1p2f1/Amon/hfls/gn/v20190429/hfls/'\n",
       "    grid_label      (index) object 'gn' 'gr' 'gn' 'gn' 'gn' 'gn'\n",
       "    institution_id  (index) object 'CCCma' 'IPSL' 'CCCma' ... 'CCCma' 'CCCma'\n",
       "    member_id       (index) object 'r1i1p1f1' 'r1i1p1f1' ... 'r3i1p2f1'\n",
       "    mip_era         (index) object 'CMIP6' 'CMIP6' 'CMIP6' ... 'CMIP6' 'CMIP6'\n",
       "    source_id       (index) object 'CanESM5' 'IPSL-CM6A-LR' ... 'CanESM5'\n",
       "    table_id        (index) object 'Amon' 'Amon' 'Amon' 'Amon' 'Amon' 'Amon'\n",
       "    time_range      (index) object '185001-200012' ... '185001-200012'\n",
       "    variable_id     (index) object 'hfls' 'hfls' 'hfls' 'hfls' 'hfls' 'hfls'\n",
       "    version         (index) object 'v20190429' 'v20180727' ... 'v20190429'\n",
       "Attributes:\n",
       "    created_at:             2019-08-16T00:18:32.981741\n",
       "    intake_esm_version:     2019.8.5.post20\n",
       "    intake_version:         0.5.2\n",
       "    intake_xarray_version:  0.3.1\n",
       "    collection_spec:        {\"name\": \"GLADE-CMIP6\", \"collection_type\": \"cmip6...\n",
       "    name:                   GLADE-CMIP6\n",
       "    collection_type:        cmip6"
      ]
     },
     "execution_count": 12,
     "metadata": {},
     "output_type": "execute_result"
    }
   ],
   "source": [
    "cat.ds"
   ]
  },
  {
   "cell_type": "markdown",
   "metadata": {},
   "source": [
    "For convenience, there's an associated `pandas.DataFrame` property:"
   ]
  },
  {
   "cell_type": "code",
   "execution_count": 13,
   "metadata": {},
   "outputs": [
    {
     "data": {
      "text/html": [
       "<div>\n",
       "<style scoped>\n",
       "    .dataframe tbody tr th:only-of-type {\n",
       "        vertical-align: middle;\n",
       "    }\n",
       "\n",
       "    .dataframe tbody tr th {\n",
       "        vertical-align: top;\n",
       "    }\n",
       "\n",
       "    .dataframe thead th {\n",
       "        text-align: right;\n",
       "    }\n",
       "</style>\n",
       "<table border=\"1\" class=\"dataframe\">\n",
       "  <thead>\n",
       "    <tr style=\"text-align: right;\">\n",
       "      <th></th>\n",
       "      <th>resource</th>\n",
       "      <th>resource_type</th>\n",
       "      <th>direct_access</th>\n",
       "      <th>activity_id</th>\n",
       "      <th>experiment_id</th>\n",
       "      <th>file_basename</th>\n",
       "      <th>file_fullpath</th>\n",
       "      <th>file_dirname</th>\n",
       "      <th>grid_label</th>\n",
       "      <th>institution_id</th>\n",
       "      <th>member_id</th>\n",
       "      <th>mip_era</th>\n",
       "      <th>source_id</th>\n",
       "      <th>table_id</th>\n",
       "      <th>time_range</th>\n",
       "      <th>variable_id</th>\n",
       "      <th>version</th>\n",
       "    </tr>\n",
       "    <tr>\n",
       "      <th>index</th>\n",
       "      <th></th>\n",
       "      <th></th>\n",
       "      <th></th>\n",
       "      <th></th>\n",
       "      <th></th>\n",
       "      <th></th>\n",
       "      <th></th>\n",
       "      <th></th>\n",
       "      <th></th>\n",
       "      <th></th>\n",
       "      <th></th>\n",
       "      <th></th>\n",
       "      <th></th>\n",
       "      <th></th>\n",
       "      <th></th>\n",
       "      <th></th>\n",
       "      <th></th>\n",
       "    </tr>\n",
       "  </thead>\n",
       "  <tbody>\n",
       "    <tr>\n",
       "      <th>48096</th>\n",
       "      <td>GLADE-DATA:CMIP:posix:/glade/collections/cmip/...</td>\n",
       "      <td>posix</td>\n",
       "      <td>1.0</td>\n",
       "      <td>CMIP</td>\n",
       "      <td>1pctCO2</td>\n",
       "      <td>hfls_Amon_CanESM5_1pctCO2_r1i1p1f1_gn_185001-2...</td>\n",
       "      <td>/glade/collections/cmip/CMIP6/CMIP/CCCma/CanES...</td>\n",
       "      <td>glade/collections/cmip/CMIP6/CMIP/CCCma/CanESM...</td>\n",
       "      <td>gn</td>\n",
       "      <td>CCCma</td>\n",
       "      <td>r1i1p1f1</td>\n",
       "      <td>CMIP6</td>\n",
       "      <td>CanESM5</td>\n",
       "      <td>Amon</td>\n",
       "      <td>185001-200012</td>\n",
       "      <td>hfls</td>\n",
       "      <td>v20190429</td>\n",
       "    </tr>\n",
       "    <tr>\n",
       "      <th>72439</th>\n",
       "      <td>GLADE-DATA:CMIP:posix:/glade/collections/cmip/...</td>\n",
       "      <td>posix</td>\n",
       "      <td>1.0</td>\n",
       "      <td>CMIP</td>\n",
       "      <td>1pctCO2</td>\n",
       "      <td>hfls_Amon_IPSL-CM6A-LR_1pctCO2_r1i1p1f1_gr_185...</td>\n",
       "      <td>/glade/collections/cmip/CMIP6/CMIP/IPSL/IPSL-C...</td>\n",
       "      <td>glade/collections/cmip/CMIP6/CMIP/IPSL/IPSL-CM...</td>\n",
       "      <td>gr</td>\n",
       "      <td>IPSL</td>\n",
       "      <td>r1i1p1f1</td>\n",
       "      <td>CMIP6</td>\n",
       "      <td>IPSL-CM6A-LR</td>\n",
       "      <td>Amon</td>\n",
       "      <td>185001-199912</td>\n",
       "      <td>hfls</td>\n",
       "      <td>v20180727</td>\n",
       "    </tr>\n",
       "    <tr>\n",
       "      <th>246361</th>\n",
       "      <td>GLADE-DATA:CMIP:posix:/glade/collections/cmip/...</td>\n",
       "      <td>posix</td>\n",
       "      <td>1.0</td>\n",
       "      <td>CMIP</td>\n",
       "      <td>1pctCO2</td>\n",
       "      <td>hfls_Amon_CanESM5_1pctCO2_r2i1p1f1_gn_185001-2...</td>\n",
       "      <td>/glade/collections/cmip/CMIP6/CMIP/CCCma/CanES...</td>\n",
       "      <td>glade/collections/cmip/CMIP6/CMIP/CCCma/CanESM...</td>\n",
       "      <td>gn</td>\n",
       "      <td>CCCma</td>\n",
       "      <td>r2i1p1f1</td>\n",
       "      <td>CMIP6</td>\n",
       "      <td>CanESM5</td>\n",
       "      <td>Amon</td>\n",
       "      <td>185001-200012</td>\n",
       "      <td>hfls</td>\n",
       "      <td>v20190429</td>\n",
       "    </tr>\n",
       "    <tr>\n",
       "      <th>287290</th>\n",
       "      <td>GLADE-DATA:CMIP:posix:/glade/collections/cmip/...</td>\n",
       "      <td>posix</td>\n",
       "      <td>1.0</td>\n",
       "      <td>CMIP</td>\n",
       "      <td>1pctCO2</td>\n",
       "      <td>hfls_Amon_CanESM5_1pctCO2_r2i1p2f1_gn_185001-2...</td>\n",
       "      <td>/glade/collections/cmip/CMIP6/CMIP/CCCma/CanES...</td>\n",
       "      <td>glade/collections/cmip/CMIP6/CMIP/CCCma/CanESM...</td>\n",
       "      <td>gn</td>\n",
       "      <td>CCCma</td>\n",
       "      <td>r2i1p2f1</td>\n",
       "      <td>CMIP6</td>\n",
       "      <td>CanESM5</td>\n",
       "      <td>Amon</td>\n",
       "      <td>185001-200012</td>\n",
       "      <td>hfls</td>\n",
       "      <td>v20190429</td>\n",
       "    </tr>\n",
       "    <tr>\n",
       "      <th>298180</th>\n",
       "      <td>GLADE-DATA:CMIP:posix:/glade/collections/cmip/...</td>\n",
       "      <td>posix</td>\n",
       "      <td>1.0</td>\n",
       "      <td>CMIP</td>\n",
       "      <td>1pctCO2</td>\n",
       "      <td>hfls_Amon_CanESM5_1pctCO2_r3i1p1f1_gn_185001-2...</td>\n",
       "      <td>/glade/collections/cmip/CMIP6/CMIP/CCCma/CanES...</td>\n",
       "      <td>glade/collections/cmip/CMIP6/CMIP/CCCma/CanESM...</td>\n",
       "      <td>gn</td>\n",
       "      <td>CCCma</td>\n",
       "      <td>r3i1p1f1</td>\n",
       "      <td>CMIP6</td>\n",
       "      <td>CanESM5</td>\n",
       "      <td>Amon</td>\n",
       "      <td>185001-200012</td>\n",
       "      <td>hfls</td>\n",
       "      <td>v20190429</td>\n",
       "    </tr>\n",
       "  </tbody>\n",
       "</table>\n",
       "</div>"
      ],
      "text/plain": [
       "                                                 resource resource_type  \\\n",
       "index                                                                     \n",
       "48096   GLADE-DATA:CMIP:posix:/glade/collections/cmip/...         posix   \n",
       "72439   GLADE-DATA:CMIP:posix:/glade/collections/cmip/...         posix   \n",
       "246361  GLADE-DATA:CMIP:posix:/glade/collections/cmip/...         posix   \n",
       "287290  GLADE-DATA:CMIP:posix:/glade/collections/cmip/...         posix   \n",
       "298180  GLADE-DATA:CMIP:posix:/glade/collections/cmip/...         posix   \n",
       "\n",
       "        direct_access activity_id experiment_id  \\\n",
       "index                                             \n",
       "48096             1.0        CMIP       1pctCO2   \n",
       "72439             1.0        CMIP       1pctCO2   \n",
       "246361            1.0        CMIP       1pctCO2   \n",
       "287290            1.0        CMIP       1pctCO2   \n",
       "298180            1.0        CMIP       1pctCO2   \n",
       "\n",
       "                                            file_basename  \\\n",
       "index                                                       \n",
       "48096   hfls_Amon_CanESM5_1pctCO2_r1i1p1f1_gn_185001-2...   \n",
       "72439   hfls_Amon_IPSL-CM6A-LR_1pctCO2_r1i1p1f1_gr_185...   \n",
       "246361  hfls_Amon_CanESM5_1pctCO2_r2i1p1f1_gn_185001-2...   \n",
       "287290  hfls_Amon_CanESM5_1pctCO2_r2i1p2f1_gn_185001-2...   \n",
       "298180  hfls_Amon_CanESM5_1pctCO2_r3i1p1f1_gn_185001-2...   \n",
       "\n",
       "                                            file_fullpath  \\\n",
       "index                                                       \n",
       "48096   /glade/collections/cmip/CMIP6/CMIP/CCCma/CanES...   \n",
       "72439   /glade/collections/cmip/CMIP6/CMIP/IPSL/IPSL-C...   \n",
       "246361  /glade/collections/cmip/CMIP6/CMIP/CCCma/CanES...   \n",
       "287290  /glade/collections/cmip/CMIP6/CMIP/CCCma/CanES...   \n",
       "298180  /glade/collections/cmip/CMIP6/CMIP/CCCma/CanES...   \n",
       "\n",
       "                                             file_dirname grid_label  \\\n",
       "index                                                                  \n",
       "48096   glade/collections/cmip/CMIP6/CMIP/CCCma/CanESM...         gn   \n",
       "72439   glade/collections/cmip/CMIP6/CMIP/IPSL/IPSL-CM...         gr   \n",
       "246361  glade/collections/cmip/CMIP6/CMIP/CCCma/CanESM...         gn   \n",
       "287290  glade/collections/cmip/CMIP6/CMIP/CCCma/CanESM...         gn   \n",
       "298180  glade/collections/cmip/CMIP6/CMIP/CCCma/CanESM...         gn   \n",
       "\n",
       "       institution_id member_id mip_era     source_id table_id     time_range  \\\n",
       "index                                                                           \n",
       "48096           CCCma  r1i1p1f1   CMIP6       CanESM5     Amon  185001-200012   \n",
       "72439            IPSL  r1i1p1f1   CMIP6  IPSL-CM6A-LR     Amon  185001-199912   \n",
       "246361          CCCma  r2i1p1f1   CMIP6       CanESM5     Amon  185001-200012   \n",
       "287290          CCCma  r2i1p2f1   CMIP6       CanESM5     Amon  185001-200012   \n",
       "298180          CCCma  r3i1p1f1   CMIP6       CanESM5     Amon  185001-200012   \n",
       "\n",
       "       variable_id    version  \n",
       "index                          \n",
       "48096         hfls  v20190429  \n",
       "72439         hfls  v20180727  \n",
       "246361        hfls  v20190429  \n",
       "287290        hfls  v20190429  \n",
       "298180        hfls  v20190429  "
      ]
     },
     "execution_count": 13,
     "metadata": {},
     "output_type": "execute_result"
    }
   ],
   "source": [
    "cat.df.head()"
   ]
  },
  {
   "cell_type": "markdown",
   "metadata": {},
   "source": [
    "You can get summary information by using `.nunique()` and `.unique()` methods:"
   ]
  },
  {
   "cell_type": "code",
   "execution_count": 14,
   "metadata": {},
   "outputs": [
    {
     "data": {
      "text/plain": [
       "resource          1\n",
       "resource_type     1\n",
       "direct_access     1\n",
       "activity_id       1\n",
       "experiment_id     1\n",
       "file_basename     6\n",
       "file_fullpath     6\n",
       "file_dirname      6\n",
       "grid_label        2\n",
       "institution_id    2\n",
       "member_id         5\n",
       "mip_era           1\n",
       "source_id         2\n",
       "table_id          1\n",
       "time_range        2\n",
       "variable_id       1\n",
       "version           2\n",
       "dtype: int64"
      ]
     },
     "execution_count": 14,
     "metadata": {},
     "output_type": "execute_result"
    }
   ],
   "source": [
    "cat.nunique()"
   ]
  },
  {
   "cell_type": "code",
   "execution_count": 15,
   "metadata": {},
   "outputs": [
    {
     "name": "stdout",
     "output_type": "stream",
     "text": [
      "{'experiment_id': {'count': 1, 'values': ['1pctCO2']},\n",
      " 'grid_label': {'count': 2, 'values': ['gn', 'gr']},\n",
      " 'institution_id': {'count': 2, 'values': ['CCCma', 'IPSL']},\n",
      " 'source_id': {'count': 2, 'values': ['CanESM5', 'IPSL-CM6A-LR']},\n",
      " 'table_id': {'count': 1, 'values': ['Amon']},\n",
      " 'variable_id': {'count': 1, 'values': ['hfls']}}\n"
     ]
    }
   ],
   "source": [
    "print(cat.unique(columns=['experiment_id', 'source_id', 'grid_label', 'variable_id', 'table_id', 'institution_id']))"
   ]
  },
  {
   "cell_type": "markdown",
   "metadata": {},
   "source": [
    "## Loading Results of a Query into Xarray Datasets"
   ]
  },
  {
   "cell_type": "markdown",
   "metadata": {},
   "source": [
    "Once you are satisfied with the results of your query, you can use the ``to_xarray()`` method to load\n",
    "the data into an xarray dataset."
   ]
  },
  {
   "cell_type": "markdown",
   "metadata": {},
   "source": [
    "\n",
    "<div class=\"alert alert-info\">\n",
    "\n",
    "**Note:** \n",
    "    \n",
    "\n",
    "``to_xarray()`` method returns a dictionary of ``xarray`` datasets. The keys in this dictionary are constructed as follows:\n",
    "\n",
    "- For CMIP5 data, ``key=<institute>.<model>.<experiment>.<frequency>.<modeling_realm>``\n",
    "- For CMIP6 data, ``key=<institution_id>.<source_id>.<experiment_id>.<table_id>.<grid_label>``\n",
    "- For CESM1-LE data, ``key=<stream>.<component>.<stream>``\n",
    "- For ERA5 data, ``key=<product_type>``\n",
    "- For CORDEX data: ``key=<global_climate_model>.<regional_climate_model>.<frequency>.<grid>.<bias_corrected_or_raw>.<experiment>``\n",
    "    \n",
    "    \n",
    "</div>\n",
    "    \n",
    "    \n"
   ]
  },
  {
   "cell_type": "code",
   "execution_count": 16,
   "metadata": {},
   "outputs": [
    {
     "data": {
      "application/vnd.jupyter.widget-view+json": {
       "model_id": "75a4f776f0bf4c07a30c8793fe3a7a4a",
       "version_major": 2,
       "version_minor": 0
      },
      "text/plain": [
       "HBox(children=(IntProgress(value=0, description='dataset', max=2, style=ProgressStyle(description_width='initi…"
      ]
     },
     "metadata": {},
     "output_type": "display_data"
    },
    {
     "data": {
      "application/vnd.jupyter.widget-view+json": {
       "model_id": "324ea77a1e2843d8b3c00d7cd30e4393",
       "version_major": 2,
       "version_minor": 0
      },
      "text/plain": [
       "HBox(children=(IntProgress(value=0, description='member', max=5, style=ProgressStyle(description_width='initia…"
      ]
     },
     "metadata": {},
     "output_type": "display_data"
    },
    {
     "data": {
      "application/vnd.jupyter.widget-view+json": {
       "model_id": "e00e219babfa4e16b501a0199733e5ca",
       "version_major": 2,
       "version_minor": 0
      },
      "text/plain": [
       "HBox(children=(IntProgress(value=0, description='member', max=1, style=ProgressStyle(description_width='initia…"
      ]
     },
     "metadata": {},
     "output_type": "display_data"
    },
    {
     "name": "stdout",
     "output_type": "stream",
     "text": [
      "\n"
     ]
    },
    {
     "data": {
      "text/plain": [
       "{'CCCma.CanESM5.1pctCO2.Amon.gn': <xarray.Dataset>\n",
       " Dimensions:    (bnds: 2, lat: 64, lon: 128, member_id: 5, time: 1812)\n",
       " Coordinates:\n",
       "   * time       (time) object 1850-01-16 12:00:00 ... 2000-12-16 12:00:00\n",
       "   * lat        (lat) float64 -87.86 -85.1 -82.31 -79.53 ... 82.31 85.1 87.86\n",
       "   * lon        (lon) float64 0.0 2.812 5.625 8.438 ... 348.8 351.6 354.4 357.2\n",
       "   * member_id  (member_id) <U8 'r1i1p1f1' 'r2i1p1f1' ... 'r3i1p1f1' 'r3i1p2f1'\n",
       " Dimensions without coordinates: bnds\n",
       " Data variables:\n",
       "     time_bnds  (time, bnds) object dask.array<shape=(1812, 2), chunksize=(100, 2)>\n",
       "     lat_bnds   (lat, bnds) float64 dask.array<shape=(64, 2), chunksize=(64, 2)>\n",
       "     lon_bnds   (lon, bnds) float64 dask.array<shape=(128, 2), chunksize=(128, 2)>\n",
       "     hfls       (member_id, time, lat, lon) float32 dask.array<shape=(5, 1812, 64, 128), chunksize=(1, 100, 64, 128)>\n",
       " Attributes:\n",
       "     source:                      CanESM5 (2019): \\naerosol: interactive\\natmo...\n",
       "     parent_mip_era:              CMIP6\n",
       "     history:                     2019-08-15 18:19:43.033034 xarray.open_datas...\n",
       "     branch_method:               Spin-up documentation\n",
       "     source_id:                   CanESM5\n",
       "     experiment_id:               1pctCO2\n",
       "     CCCma_model_hash:            e3a5faee2eb39b945709e5e2a888ca1abfcb449a\n",
       "     parent_experiment_id:        piControl\n",
       "     parent_activity_id:          CMIP\n",
       "     parent_source_id:            CanESM5\n",
       "     version:                     v20190429\n",
       "     references:                  Geophysical Model Development Special issue ...\n",
       "     tracking_id:                 hdl:21.14100/de5324c4-17a1-4b17-b7df-c92da3b...\n",
       "     YMDH_branch_time_in_parent:  5650:01:01:00\n",
       "     further_info_url:            https://furtherinfo.es-doc.org/CMIP6.CCCma.C...\n",
       "     CCCma_runid:                 p2-1ppy03\n",
       "     title:                       CanESM5 output prepared for CMIP6\n",
       "     cmor_version:                3.4.0\n",
       "     creation_date:               2019-06-07T20:27:57Z\n",
       "     sub_experiment:              none\n",
       "     license:                     CMIP6 model data produced by The Government ...\n",
       "     variant_label:               r3i1p2f1\n",
       "     grid_label:                  gn\n",
       "     institution:                 Canadian Centre for Climate Modelling and An...\n",
       "     contact:                     ec.cccma.info-info.ccmac.ec@canada.ca\n",
       "     product:                     model-output\n",
       "     table_id:                    Amon\n",
       "     grid:                        T63L49 native atmosphere, T63 Linear Gaussia...\n",
       "     initialization_index:        1\n",
       "     realm:                       atmos\n",
       "     institution_id:              CCCma\n",
       "     source_type:                 AOGCM\n",
       "     branch_time_in_parent:       1387000.0\n",
       "     CCCma_pycmor_hash:           6278d0dcc93b56f98914b6e02b9a6f29194f6b49\n",
       "     parent_time_units:           days since 1850-01-01 0:0:0.0\n",
       "     realization_index:           3\n",
       "     data_specs_version:          01.00.29\n",
       "     mip_era:                     CMIP6\n",
       "     CCCma_parent_runid:          p2-pictrl\n",
       "     Conventions:                 CF-1.7 CMIP-6.2\n",
       "     table_info:                  Creation Date:(20 February 2019) MD5:374fbe5...\n",
       "     YMDH_branch_time_in_child:   1850:01:01:00\n",
       "     forcing_index:               1\n",
       "     frequency:                   mon\n",
       "     variable_id:                 hfls\n",
       "     nominal_resolution:          500 km\n",
       "     branch_time_in_child:        0.0\n",
       "     external_variables:          areacella\n",
       "     experiment:                  1 percent per year increase in CO2\n",
       "     sub_experiment_id:           none\n",
       "     activity_id:                 CMIP,\n",
       " 'IPSL.IPSL-CM6A-LR.1pctCO2.Amon.gr': <xarray.Dataset>\n",
       " Dimensions:      (axis_nbounds: 2, lat: 143, lon: 144, time: 1800)\n",
       " Coordinates:\n",
       "   * lat          (lat) float32 -90.0 -88.73239 -87.46479 ... 88.73239 90.0\n",
       "   * lon          (lon) float32 0.0 2.5 5.0 7.5 10.0 ... 350.0 352.5 355.0 357.5\n",
       "   * time         (time) datetime64[ns] 1850-01-16T12:00:00 ... 1999-12-16T12:00:00\n",
       " Dimensions without coordinates: axis_nbounds\n",
       " Data variables:\n",
       "     time_bounds  (time, axis_nbounds) datetime64[ns] dask.array<shape=(1800, 2), chunksize=(100, 2)>\n",
       "     hfls         (time, lat, lon) float32 dask.array<shape=(1800, 143, 144), chunksize=(100, 143, 144)>\n",
       " Attributes:\n",
       "     name:                   /ccc/work/cont003/gencmip6/p86maf/IGCM_OUT/IPSLCM...\n",
       "     Conventions:            CF-1.7 CMIP-6.2\n",
       "     creation_date:          2018-05-02T17:06:37Z\n",
       "     description:            DECK: 1pctCO2\n",
       "     title:                  IPSL-CM6A-LR model output prepared for CMIP6 / CM...\n",
       "     activity_id:            CMIP\n",
       "     contact:                ipsl-cmip6@listes.ipsl.fr\n",
       "     data_specs_version:     01.00.21\n",
       "     dr2xml_version:         1.3\n",
       "     experiment_id:          1pctCO2\n",
       "     experiment:             1 percent per year increase in CO2\n",
       "     external_variables:     areacella\n",
       "     forcing_index:          1\n",
       "     frequency:              mon\n",
       "     further_info_url:       https://furtherinfo.es-doc.org/CMIP6.IPSL.IPSL-CM...\n",
       "     grid:                   LMDZ grid\n",
       "     grid_label:             gr\n",
       "     nominal_resolution:     250 km\n",
       "     initialization_index:   1\n",
       "     institution_id:         IPSL\n",
       "     institution:            Institut Pierre Simon Laplace, Paris 75252, France\n",
       "     license:                CMIP6 model data produced by IPSL is licensed und...\n",
       "     mip_era:                CMIP6\n",
       "     parent_experiment_id:   piControl\n",
       "     parent_mip_era:         CMIP6\n",
       "     parent_activity_id:     CMIP\n",
       "     parent_source_id:       IPSL-CM6A-LR\n",
       "     parent_time_units:      days since 1850-01-01 00:00:00\n",
       "     parent_variant_label:   r1i1p1f1\n",
       "     branch_method:          standard\n",
       "     branch_time_in_parent:  7305.0\n",
       "     branch_time_in_child:   0.0\n",
       "     physics_index:          1\n",
       "     product:                model-output\n",
       "     realization_index:      1\n",
       "     realm:                  atmos\n",
       "     source:                 IPSL-CM6A-LR (2017):  atmos: LMDZ (NPv6, N96; 144...\n",
       "     source_id:              IPSL-CM6A-LR\n",
       "     source_type:            AOGCM\n",
       "     sub_experiment_id:      none\n",
       "     sub_experiment:         none\n",
       "     table_id:               Amon\n",
       "     variable_id:            hfls\n",
       "     variant_info:           . Information provided by this attribute may in s...\n",
       "     variant_label:          r1i1p1f1\n",
       "     EXPID:                  1pctCO2\n",
       "     CMIP6_CV_version:       cv=6.2.3.5-2-g63b123e\n",
       "     dr2xml_md5sum:          00e1a4f623b35a33620b9828c66bd1c8\n",
       "     model_version:          6.1.2\n",
       "     tracking_id:            hdl:21.14100/d4422320-bbb2-4877-915c-d454b8aabefd\n",
       "     history:                2019-08-15 18:19:45.005372 xarray.open_dataset('/...}"
      ]
     },
     "execution_count": 16,
     "metadata": {},
     "output_type": "execute_result"
    }
   ],
   "source": [
    "dsets = cat.to_xarray(chunks={'time': 100})\n",
    "dsets"
   ]
  },
  {
   "cell_type": "code",
   "execution_count": 17,
   "metadata": {},
   "outputs": [
    {
     "data": {
      "text/plain": [
       "dict_keys(['CCCma.CanESM5.1pctCO2.Amon.gn', 'IPSL.IPSL-CM6A-LR.1pctCO2.Amon.gr'])"
      ]
     },
     "execution_count": 17,
     "metadata": {},
     "output_type": "execute_result"
    }
   ],
   "source": [
    "dsets.keys()"
   ]
  },
  {
   "cell_type": "code",
   "execution_count": 18,
   "metadata": {},
   "outputs": [
    {
     "data": {
      "text/plain": [
       "<xarray.Dataset>\n",
       "Dimensions:    (bnds: 2, lat: 64, lon: 128, member_id: 5, time: 1812)\n",
       "Coordinates:\n",
       "  * time       (time) object 1850-01-16 12:00:00 ... 2000-12-16 12:00:00\n",
       "  * lat        (lat) float64 -87.86 -85.1 -82.31 -79.53 ... 82.31 85.1 87.86\n",
       "  * lon        (lon) float64 0.0 2.812 5.625 8.438 ... 348.8 351.6 354.4 357.2\n",
       "  * member_id  (member_id) <U8 'r1i1p1f1' 'r2i1p1f1' ... 'r3i1p1f1' 'r3i1p2f1'\n",
       "Dimensions without coordinates: bnds\n",
       "Data variables:\n",
       "    time_bnds  (time, bnds) object dask.array<shape=(1812, 2), chunksize=(100, 2)>\n",
       "    lat_bnds   (lat, bnds) float64 dask.array<shape=(64, 2), chunksize=(64, 2)>\n",
       "    lon_bnds   (lon, bnds) float64 dask.array<shape=(128, 2), chunksize=(128, 2)>\n",
       "    hfls       (member_id, time, lat, lon) float32 dask.array<shape=(5, 1812, 64, 128), chunksize=(1, 100, 64, 128)>\n",
       "Attributes:\n",
       "    source:                      CanESM5 (2019): \\naerosol: interactive\\natmo...\n",
       "    parent_mip_era:              CMIP6\n",
       "    history:                     2019-08-15 18:19:43.033034 xarray.open_datas...\n",
       "    branch_method:               Spin-up documentation\n",
       "    source_id:                   CanESM5\n",
       "    experiment_id:               1pctCO2\n",
       "    CCCma_model_hash:            e3a5faee2eb39b945709e5e2a888ca1abfcb449a\n",
       "    parent_experiment_id:        piControl\n",
       "    parent_activity_id:          CMIP\n",
       "    parent_source_id:            CanESM5\n",
       "    version:                     v20190429\n",
       "    references:                  Geophysical Model Development Special issue ...\n",
       "    tracking_id:                 hdl:21.14100/de5324c4-17a1-4b17-b7df-c92da3b...\n",
       "    YMDH_branch_time_in_parent:  5650:01:01:00\n",
       "    further_info_url:            https://furtherinfo.es-doc.org/CMIP6.CCCma.C...\n",
       "    CCCma_runid:                 p2-1ppy03\n",
       "    title:                       CanESM5 output prepared for CMIP6\n",
       "    cmor_version:                3.4.0\n",
       "    creation_date:               2019-06-07T20:27:57Z\n",
       "    sub_experiment:              none\n",
       "    license:                     CMIP6 model data produced by The Government ...\n",
       "    variant_label:               r3i1p2f1\n",
       "    grid_label:                  gn\n",
       "    institution:                 Canadian Centre for Climate Modelling and An...\n",
       "    contact:                     ec.cccma.info-info.ccmac.ec@canada.ca\n",
       "    product:                     model-output\n",
       "    table_id:                    Amon\n",
       "    grid:                        T63L49 native atmosphere, T63 Linear Gaussia...\n",
       "    initialization_index:        1\n",
       "    realm:                       atmos\n",
       "    institution_id:              CCCma\n",
       "    source_type:                 AOGCM\n",
       "    branch_time_in_parent:       1387000.0\n",
       "    CCCma_pycmor_hash:           6278d0dcc93b56f98914b6e02b9a6f29194f6b49\n",
       "    parent_time_units:           days since 1850-01-01 0:0:0.0\n",
       "    realization_index:           3\n",
       "    data_specs_version:          01.00.29\n",
       "    mip_era:                     CMIP6\n",
       "    CCCma_parent_runid:          p2-pictrl\n",
       "    Conventions:                 CF-1.7 CMIP-6.2\n",
       "    table_info:                  Creation Date:(20 February 2019) MD5:374fbe5...\n",
       "    YMDH_branch_time_in_child:   1850:01:01:00\n",
       "    forcing_index:               1\n",
       "    frequency:                   mon\n",
       "    variable_id:                 hfls\n",
       "    nominal_resolution:          500 km\n",
       "    branch_time_in_child:        0.0\n",
       "    external_variables:          areacella\n",
       "    experiment:                  1 percent per year increase in CO2\n",
       "    sub_experiment_id:           none\n",
       "    activity_id:                 CMIP"
      ]
     },
     "execution_count": 18,
     "metadata": {},
     "output_type": "execute_result"
    }
   ],
   "source": [
    "ds = dsets['CCCma.CanESM5.1pctCO2.Amon.gn']\n",
    "ds"
   ]
  },
  {
   "cell_type": "code",
   "execution_count": 19,
   "metadata": {},
   "outputs": [
    {
     "data": {
      "text/plain": [
       "<matplotlib.collections.QuadMesh at 0x2b4489d266d8>"
      ]
     },
     "execution_count": 19,
     "metadata": {},
     "output_type": "execute_result"
    },
    {
     "data": {
      "image/png": "[encoded data removed]",
      "text/plain": [
       "<Figure size 432x288 with 2 Axes>"
      ]
     },
     "metadata": {
      "needs_background": "light"
     },
     "output_type": "display_data"
    }
   ],
   "source": [
    "ds.hfls.isel(time=0).mean('member_id').plot()"
   ]
  },
  {
   "cell_type": "code",
   "execution_count": 20,
   "metadata": {},
   "outputs": [
    {
     "data": {
      "text/plain": [
       "<xarray.plot.facetgrid.FacetGrid at 0x2b4472073ef0>"
      ]
     },
     "execution_count": 20,
     "metadata": {},
     "output_type": "execute_result"
    },
    {
     "data": {
      "image/png": "[encoded data removed]",
      "text/plain": [
       "<Figure size 1152x216 with 5 Axes>"
      ]
     },
     "metadata": {
      "needs_background": "light"
     },
     "output_type": "display_data"
    }
   ],
   "source": [
    "ds.hfls.mean(['lon', 'time']).plot(col='member_id')"
   ]
  }
 ],
 "metadata": {
  "kernelspec": {
   "display_name": "Python [conda env:intake-esm-dev]",
   "language": "python",
   "name": "conda-env-intake-esm-dev-py"
  },
  "language_info": {
   "codemirror_mode": {
    "name": "ipython",
    "version": 3
   },
   "file_extension": ".py",
   "mimetype": "text/x-python",
   "name": "python",
   "nbconvert_exporter": "python",
   "pygments_lexer": "ipython3",
   "version": "3.7.3"
  }
 },
 "nbformat": 4,
 "nbformat_minor": 2
}
