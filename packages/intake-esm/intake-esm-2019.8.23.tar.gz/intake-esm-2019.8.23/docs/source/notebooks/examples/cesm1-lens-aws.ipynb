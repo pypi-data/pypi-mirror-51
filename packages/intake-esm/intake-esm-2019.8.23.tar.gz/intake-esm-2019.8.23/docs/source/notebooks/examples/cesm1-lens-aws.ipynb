{
 "cells": [
  {
   "cell_type": "markdown",
   "metadata": {},
   "source": [
    "# CESM LENS on AWS"
   ]
  },
  {
   "cell_type": "markdown",
   "metadata": {},
   "source": [
    "This notebook demonstrates how to access the CESM-LENS stored in AWS S3. The bucket for this data is a `Requester Pays bucket`. \n",
    "With Requester Pays buckets, the requester instead of the bucket owner pays the cost of the request and the data download from the bucket. The bucket owner always pays the cost of storing data.\n",
    "\n",
    "For accessing this data, the user needs to authenticate. We recommend creating a [named profile](https://docs.aws.amazon.com/cli/latest/userguide/cli-configure-profiles.html) with AWS CLI and using this named profile for authentication.\n",
    "As an example, let's create a named profile from the command line by running:\n",
    "\n",
    "```bash\n",
    "aws configure --profile bob\n",
    "```\n",
    "\n",
    "For demonstration purposes, we named our profile `bob`. Feel free to name it differently. Once the named profile is created, proceed to the next step. "
   ]
  },
  {
   "cell_type": "code",
   "execution_count": 1,
   "metadata": {},
   "outputs": [],
   "source": [
    "%matplotlib inline\n",
    "import warnings\n",
    "warnings.filterwarnings('ignore')\n",
    "import intake"
   ]
  },
  {
   "cell_type": "markdown",
   "metadata": {},
   "source": [
    "## Building The Collection Catalog"
   ]
  },
  {
   "cell_type": "code",
   "execution_count": 2,
   "metadata": {},
   "outputs": [
    {
     "name": "stdout",
     "output_type": "stream",
     "text": [
      "Getting file listing: land:monthly:aws-s3:s3://ncar-cesm-lens/lnd/monthly\n"
     ]
    },
    {
     "data": {
      "application/vnd.jupyter.widget-view+json": {
       "model_id": "ed5b0197a2c6437cb813725b0d4b0084",
       "version_major": 2,
       "version_minor": 0
      },
      "text/plain": [
       "HBox(children=(IntProgress(value=0, description='file listing', max=14, style=ProgressStyle(description_width=…"
      ]
     },
     "metadata": {},
     "output_type": "display_data"
    },
    {
     "name": "stdout",
     "output_type": "stream",
     "text": [
      "\n",
      "Getting file listing: land:daily:aws-s3:s3://ncar-cesm-lens/lnd/daily\n"
     ]
    },
    {
     "data": {
      "application/vnd.jupyter.widget-view+json": {
       "model_id": "dec37c73ee3a4bcbadcc23d24885f912",
       "version_major": 2,
       "version_minor": 0
      },
      "text/plain": [
       "HBox(children=(IntProgress(value=0, description='file listing', max=12, style=ProgressStyle(description_width=…"
      ]
     },
     "metadata": {},
     "output_type": "display_data"
    },
    {
     "name": "stdout",
     "output_type": "stream",
     "text": [
      "\n",
      "Getting file listing: ocean:monthly:aws-s3:s3://ncar-cesm-lens/ocn/monthly\n"
     ]
    },
    {
     "data": {
      "application/vnd.jupyter.widget-view+json": {
       "model_id": "efa73fd62a5c40f48b9744e45bfe1826",
       "version_major": 2,
       "version_minor": 0
      },
      "text/plain": [
       "HBox(children=(IntProgress(value=0, description='file listing', max=9, style=ProgressStyle(description_width='…"
      ]
     },
     "metadata": {},
     "output_type": "display_data"
    },
    {
     "name": "stdout",
     "output_type": "stream",
     "text": [
      "\n",
      "Getting file listing: atm:monthly:aws-s3:s3://ncar-cesm-lens/atm/monthly\n"
     ]
    },
    {
     "data": {
      "application/vnd.jupyter.widget-view+json": {
       "model_id": "491e08759d6f4f73b749429e8e64876b",
       "version_major": 2,
       "version_minor": 0
      },
      "text/plain": [
       "HBox(children=(IntProgress(value=0, description='file listing', max=120, style=ProgressStyle(description_width…"
      ]
     },
     "metadata": {},
     "output_type": "display_data"
    },
    {
     "name": "stdout",
     "output_type": "stream",
     "text": [
      "\n",
      "Getting file listing: atm:daily:aws-s3:s3://ncar-cesm-lens/atm/daily\n"
     ]
    },
    {
     "data": {
      "application/vnd.jupyter.widget-view+json": {
       "model_id": "42f15a03d528452ea84998dede1f3647",
       "version_major": 2,
       "version_minor": 0
      },
      "text/plain": [
       "HBox(children=(IntProgress(value=0, description='file listing', max=48, style=ProgressStyle(description_width=…"
      ]
     },
     "metadata": {},
     "output_type": "display_data"
    },
    {
     "name": "stdout",
     "output_type": "stream",
     "text": [
      "\n",
      "Getting file listing: atm:hourly6-1990-2005:aws-s3:s3://ncar-cesm-lens/atm/hourly6-1990-2005\n"
     ]
    },
    {
     "data": {
      "application/vnd.jupyter.widget-view+json": {
       "model_id": "a06ecb18e3bd4e66b643ef2e277cff9a",
       "version_major": 2,
       "version_minor": 0
      },
      "text/plain": [
       "HBox(children=(IntProgress(value=0, description='file listing', max=11, style=ProgressStyle(description_width=…"
      ]
     },
     "metadata": {},
     "output_type": "display_data"
    },
    {
     "name": "stdout",
     "output_type": "stream",
     "text": [
      "\n",
      "Getting file listing: atm:hourly6-2026-2035:aws-s3:s3://ncar-cesm-lens/atm/hourly6-2026-2035\n"
     ]
    },
    {
     "data": {
      "application/vnd.jupyter.widget-view+json": {
       "model_id": "6fff42c7479a4d70bc48954dc7de8789",
       "version_major": 2,
       "version_minor": 0
      },
      "text/plain": [
       "HBox(children=(IntProgress(value=0, description='file listing', max=11, style=ProgressStyle(description_width=…"
      ]
     },
     "metadata": {},
     "output_type": "display_data"
    },
    {
     "name": "stdout",
     "output_type": "stream",
     "text": [
      "\n",
      "Getting file listing: atm:hourly6-2071-2080:aws-s3:s3://ncar-cesm-lens/atm/hourly6-2071-2080\n"
     ]
    },
    {
     "data": {
      "application/vnd.jupyter.widget-view+json": {
       "model_id": "1a085d2dd5494630bf1ee10d97eb222a",
       "version_major": 2,
       "version_minor": 0
      },
      "text/plain": [
       "HBox(children=(IntProgress(value=0, description='file listing', max=11, style=ProgressStyle(description_width=…"
      ]
     },
     "metadata": {},
     "output_type": "display_data"
    },
    {
     "name": "stdout",
     "output_type": "stream",
     "text": [
      "\n",
      "Getting file listing: ice_nh:monthly:aws-s3:s3://ncar-cesm-lens/ice_nh/monthly\n"
     ]
    },
    {
     "data": {
      "application/vnd.jupyter.widget-view+json": {
       "model_id": "19447891b582442b856ed21b0df7173c",
       "version_major": 2,
       "version_minor": 0
      },
      "text/plain": [
       "HBox(children=(IntProgress(value=0, description='file listing', max=6, style=ProgressStyle(description_width='…"
      ]
     },
     "metadata": {},
     "output_type": "display_data"
    },
    {
     "name": "stdout",
     "output_type": "stream",
     "text": [
      "\n",
      "Getting file listing: ice_nh:daily:aws-s3:s3://ncar-cesm-lens/ice_nh/daily\n"
     ]
    },
    {
     "data": {
      "application/vnd.jupyter.widget-view+json": {
       "model_id": "38299d66083849e08e8a180eaa0d9f2d",
       "version_major": 2,
       "version_minor": 0
      },
      "text/plain": [
       "HBox(children=(IntProgress(value=0, description='file listing', max=4, style=ProgressStyle(description_width='…"
      ]
     },
     "metadata": {},
     "output_type": "display_data"
    },
    {
     "name": "stdout",
     "output_type": "stream",
     "text": [
      "\n",
      "Getting file listing: ice_sh:monthly:aws-s3:s3://ncar-cesm-lens/ice_sh/monthly\n"
     ]
    },
    {
     "data": {
      "application/vnd.jupyter.widget-view+json": {
       "model_id": "b3df8c73050143eeb62bf6e88544ef29",
       "version_major": 2,
       "version_minor": 0
      },
      "text/plain": [
       "HBox(children=(IntProgress(value=0, description='file listing', max=4, style=ProgressStyle(description_width='…"
      ]
     },
     "metadata": {},
     "output_type": "display_data"
    },
    {
     "name": "stdout",
     "output_type": "stream",
     "text": [
      "\n",
      "Getting file listing: ice_sh:daily:aws-s3:s3://ncar-cesm-lens/ice_sh/daily\n"
     ]
    },
    {
     "data": {
      "application/vnd.jupyter.widget-view+json": {
       "model_id": "99af54d19b3c4e4392538b1c80ce99e3",
       "version_major": 2,
       "version_minor": 0
      },
      "text/plain": [
       "HBox(children=(IntProgress(value=0, description='file listing', max=4, style=ProgressStyle(description_width='…"
      ]
     },
     "metadata": {},
     "output_type": "display_data"
    },
    {
     "name": "stdout",
     "output_type": "stream",
     "text": [
      "\n",
      "Persisting AWS-CESM1-LE at : /home/jovyan/.intake_esm/collections/AWS-CESM1-LE.nc\n"
     ]
    }
   ],
   "source": [
    "col = intake.open_esm_metadatastore(collection_name=\"AWS-CESM1-LE\", \n",
    "                                    storage_options={'profile_name': 'bob'})"
   ]
  },
  {
   "cell_type": "code",
   "execution_count": 3,
   "metadata": {},
   "outputs": [
    {
     "data": {
      "text/plain": [
       "AWS-CESM1-LE collection catalogue with 254 entries:\n",
       "\t> 12 resource(s)\n",
       "\n",
       "\t> 1 resource_type(s)\n",
       "\n",
       "\t> 1 direct_access(s)\n",
       "\n",
       "\t> 5 experiment(s)\n",
       "\n",
       "\t> 5 frequency(s)\n",
       "\n",
       "\t> 5 component(s)\n",
       "\n",
       "\t> 46 variable(s)\n",
       "\n",
       "\t> 254 store_fullpath(s)\n",
       "\n",
       "\t> 1 store_bucketname(s)"
      ]
     },
     "execution_count": 3,
     "metadata": {},
     "output_type": "execute_result"
    }
   ],
   "source": [
    "col"
   ]
  },
  {
   "cell_type": "code",
   "execution_count": 4,
   "metadata": {},
   "outputs": [
    {
     "data": {
      "text/plain": [
       "{'variable': {'count': 46,\n",
       "  'values': ['FSNO',\n",
       "   'H2OSNO',\n",
       "   'QRUNOFF',\n",
       "   'RAIN',\n",
       "   'SNOW',\n",
       "   'SOILLIQ',\n",
       "   'SOILWATER_10CM',\n",
       "   'SALT',\n",
       "   'SSH',\n",
       "   'SST',\n",
       "   'FLNS',\n",
       "   'FLNSC',\n",
       "   'FLUT',\n",
       "   'FSNS',\n",
       "   'FSNSC',\n",
       "   'FSNTOA',\n",
       "   'ICEFRAC',\n",
       "   'LHFLX',\n",
       "   'PRECC',\n",
       "   'PRECL',\n",
       "   'PRECSC',\n",
       "   'PRECSL',\n",
       "   'PSL',\n",
       "   'Q',\n",
       "   'SHFLX',\n",
       "   'T',\n",
       "   'TMQ',\n",
       "   'TREFHT',\n",
       "   'TREFHTMN',\n",
       "   'TREFHTMX',\n",
       "   'TS',\n",
       "   'U',\n",
       "   'V',\n",
       "   'Z3',\n",
       "   'PRECT',\n",
       "   'PRECTMX',\n",
       "   'Q850',\n",
       "   'UBOT',\n",
       "   'WSPDSRFAV',\n",
       "   'Z500',\n",
       "   'PS',\n",
       "   'QREFHT',\n",
       "   'aice',\n",
       "   'hi',\n",
       "   'aice_d',\n",
       "   'hi_d']},\n",
       " 'experiment': {'count': 5,\n",
       "  'values': ['20C', 'RCP85', 'CTRL', 'CTRL_AMIP', 'CTRL_SLAB_OCN']},\n",
       " 'frequency': {'count': 5,\n",
       "  'values': ['monthly',\n",
       "   'daily',\n",
       "   'hourly6-1990-2005',\n",
       "   'hourly6-2026-2035',\n",
       "   'hourly6-2071-2080']},\n",
       " 'component': {'count': 5,\n",
       "  'values': ['lnd', 'ocn', 'atm', 'ice_nh', 'ice_sh']}}"
      ]
     },
     "execution_count": 4,
     "metadata": {},
     "output_type": "execute_result"
    }
   ],
   "source": [
    "col.unique(columns=['variable', 'experiment', 'frequency', 'component'])"
   ]
  },
  {
   "cell_type": "code",
   "execution_count": 5,
   "metadata": {},
   "outputs": [
    {
     "data": {
      "text/plain": [
       "resource             12\n",
       "resource_type         1\n",
       "direct_access         1\n",
       "experiment            5\n",
       "frequency             5\n",
       "component             5\n",
       "variable             46\n",
       "store_fullpath      254\n",
       "store_bucketname      1\n",
       "dtype: int64"
      ]
     },
     "execution_count": 5,
     "metadata": {},
     "output_type": "execute_result"
    }
   ],
   "source": [
    "col.nunique()"
   ]
  },
  {
   "cell_type": "code",
   "execution_count": 6,
   "metadata": {},
   "outputs": [
    {
     "data": {
      "text/plain": [
       "<xarray.Dataset>\n",
       "Dimensions:           (index: 254)\n",
       "Coordinates:\n",
       "  * index             (index) int64 0 1 2 3 4 5 6 ... 248 249 250 251 252 253\n",
       "Data variables:\n",
       "    resource          (index) object 'land:monthly:aws-s3:s3://ncar-cesm-lens/lnd/monthly' ... 'ice_sh:daily:aws-s3:s3://ncar-cesm-lens/ice_sh/daily'\n",
       "    resource_type     (index) object 'aws-s3' 'aws-s3' ... 'aws-s3' 'aws-s3'\n",
       "    direct_access     (index) bool True True True True ... True True True True\n",
       "    experiment        (index) object '20C' '20C' '20C' ... '20C' 'RCP85' 'RCP85'\n",
       "    frequency         (index) object 'monthly' 'monthly' ... 'daily' 'daily'\n",
       "    component         (index) object 'lnd' 'lnd' 'lnd' ... 'ice_sh' 'ice_sh'\n",
       "    variable          (index) object 'FSNO' 'H2OSNO' ... 'aice_d' 'hi_d'\n",
       "    store_fullpath    (index) object 's3://ncar-cesm-lens/lnd/monthly/cesmLE-20C-FSNO.zarr' ... 's3://ncar-cesm-lens/ice_sh/daily/cesmLE-RCP85-hi_d.zarr'\n",
       "    store_bucketname  (index) object 's3://ncar-cesm-lens' ... 's3://ncar-cesm-lens'\n",
       "Attributes:\n",
       "    created_at:             2019-08-18T22:50:47.224259\n",
       "    intake_esm_version:     0.0.post625\n",
       "    intake_version:         0.5.3\n",
       "    intake_xarray_version:  0.3.1\n",
       "    collection_spec:        {\"name\": \"AWS-CESM1-LE\", \"collection_type\": \"cesm...\n",
       "    name:                   AWS-CESM1-LE\n",
       "    collection_type:        cesm-aws"
      ]
     },
     "execution_count": 6,
     "metadata": {},
     "output_type": "execute_result"
    }
   ],
   "source": [
    "col.ds"
   ]
  },
  {
   "cell_type": "code",
   "execution_count": 7,
   "metadata": {},
   "outputs": [
    {
     "data": {
      "text/html": [
       "<div>\n",
       "<style scoped>\n",
       "    .dataframe tbody tr th:only-of-type {\n",
       "        vertical-align: middle;\n",
       "    }\n",
       "\n",
       "    .dataframe tbody tr th {\n",
       "        vertical-align: top;\n",
       "    }\n",
       "\n",
       "    .dataframe thead th {\n",
       "        text-align: right;\n",
       "    }\n",
       "</style>\n",
       "<table border=\"1\" class=\"dataframe\">\n",
       "  <thead>\n",
       "    <tr style=\"text-align: right;\">\n",
       "      <th></th>\n",
       "      <th>resource</th>\n",
       "      <th>resource_type</th>\n",
       "      <th>direct_access</th>\n",
       "      <th>experiment</th>\n",
       "      <th>frequency</th>\n",
       "      <th>component</th>\n",
       "      <th>variable</th>\n",
       "      <th>store_fullpath</th>\n",
       "      <th>store_bucketname</th>\n",
       "    </tr>\n",
       "    <tr>\n",
       "      <th>index</th>\n",
       "      <th></th>\n",
       "      <th></th>\n",
       "      <th></th>\n",
       "      <th></th>\n",
       "      <th></th>\n",
       "      <th></th>\n",
       "      <th></th>\n",
       "      <th></th>\n",
       "      <th></th>\n",
       "    </tr>\n",
       "  </thead>\n",
       "  <tbody>\n",
       "    <tr>\n",
       "      <th>0</th>\n",
       "      <td>land:monthly:aws-s3:s3://ncar-cesm-lens/lnd/mo...</td>\n",
       "      <td>aws-s3</td>\n",
       "      <td>True</td>\n",
       "      <td>20C</td>\n",
       "      <td>monthly</td>\n",
       "      <td>lnd</td>\n",
       "      <td>FSNO</td>\n",
       "      <td>s3://ncar-cesm-lens/lnd/monthly/cesmLE-20C-FSN...</td>\n",
       "      <td>s3://ncar-cesm-lens</td>\n",
       "    </tr>\n",
       "    <tr>\n",
       "      <th>1</th>\n",
       "      <td>land:monthly:aws-s3:s3://ncar-cesm-lens/lnd/mo...</td>\n",
       "      <td>aws-s3</td>\n",
       "      <td>True</td>\n",
       "      <td>20C</td>\n",
       "      <td>monthly</td>\n",
       "      <td>lnd</td>\n",
       "      <td>H2OSNO</td>\n",
       "      <td>s3://ncar-cesm-lens/lnd/monthly/cesmLE-20C-H2O...</td>\n",
       "      <td>s3://ncar-cesm-lens</td>\n",
       "    </tr>\n",
       "    <tr>\n",
       "      <th>2</th>\n",
       "      <td>land:monthly:aws-s3:s3://ncar-cesm-lens/lnd/mo...</td>\n",
       "      <td>aws-s3</td>\n",
       "      <td>True</td>\n",
       "      <td>20C</td>\n",
       "      <td>monthly</td>\n",
       "      <td>lnd</td>\n",
       "      <td>QRUNOFF</td>\n",
       "      <td>s3://ncar-cesm-lens/lnd/monthly/cesmLE-20C-QRU...</td>\n",
       "      <td>s3://ncar-cesm-lens</td>\n",
       "    </tr>\n",
       "    <tr>\n",
       "      <th>3</th>\n",
       "      <td>land:monthly:aws-s3:s3://ncar-cesm-lens/lnd/mo...</td>\n",
       "      <td>aws-s3</td>\n",
       "      <td>True</td>\n",
       "      <td>20C</td>\n",
       "      <td>monthly</td>\n",
       "      <td>lnd</td>\n",
       "      <td>RAIN</td>\n",
       "      <td>s3://ncar-cesm-lens/lnd/monthly/cesmLE-20C-RAI...</td>\n",
       "      <td>s3://ncar-cesm-lens</td>\n",
       "    </tr>\n",
       "    <tr>\n",
       "      <th>4</th>\n",
       "      <td>land:monthly:aws-s3:s3://ncar-cesm-lens/lnd/mo...</td>\n",
       "      <td>aws-s3</td>\n",
       "      <td>True</td>\n",
       "      <td>20C</td>\n",
       "      <td>monthly</td>\n",
       "      <td>lnd</td>\n",
       "      <td>SNOW</td>\n",
       "      <td>s3://ncar-cesm-lens/lnd/monthly/cesmLE-20C-SNO...</td>\n",
       "      <td>s3://ncar-cesm-lens</td>\n",
       "    </tr>\n",
       "  </tbody>\n",
       "</table>\n",
       "</div>"
      ],
      "text/plain": [
       "                                                resource resource_type  \\\n",
       "index                                                                    \n",
       "0      land:monthly:aws-s3:s3://ncar-cesm-lens/lnd/mo...        aws-s3   \n",
       "1      land:monthly:aws-s3:s3://ncar-cesm-lens/lnd/mo...        aws-s3   \n",
       "2      land:monthly:aws-s3:s3://ncar-cesm-lens/lnd/mo...        aws-s3   \n",
       "3      land:monthly:aws-s3:s3://ncar-cesm-lens/lnd/mo...        aws-s3   \n",
       "4      land:monthly:aws-s3:s3://ncar-cesm-lens/lnd/mo...        aws-s3   \n",
       "\n",
       "       direct_access experiment frequency component variable  \\\n",
       "index                                                          \n",
       "0               True        20C   monthly       lnd     FSNO   \n",
       "1               True        20C   monthly       lnd   H2OSNO   \n",
       "2               True        20C   monthly       lnd  QRUNOFF   \n",
       "3               True        20C   monthly       lnd     RAIN   \n",
       "4               True        20C   monthly       lnd     SNOW   \n",
       "\n",
       "                                          store_fullpath     store_bucketname  \n",
       "index                                                                          \n",
       "0      s3://ncar-cesm-lens/lnd/monthly/cesmLE-20C-FSN...  s3://ncar-cesm-lens  \n",
       "1      s3://ncar-cesm-lens/lnd/monthly/cesmLE-20C-H2O...  s3://ncar-cesm-lens  \n",
       "2      s3://ncar-cesm-lens/lnd/monthly/cesmLE-20C-QRU...  s3://ncar-cesm-lens  \n",
       "3      s3://ncar-cesm-lens/lnd/monthly/cesmLE-20C-RAI...  s3://ncar-cesm-lens  \n",
       "4      s3://ncar-cesm-lens/lnd/monthly/cesmLE-20C-SNO...  s3://ncar-cesm-lens  "
      ]
     },
     "execution_count": 7,
     "metadata": {},
     "output_type": "execute_result"
    }
   ],
   "source": [
    "col.df.head()"
   ]
  },
  {
   "cell_type": "markdown",
   "metadata": {},
   "source": [
    "## Search and Discovery"
   ]
  },
  {
   "cell_type": "code",
   "execution_count": 8,
   "metadata": {},
   "outputs": [],
   "source": [
    "cat = col.search(frequency=['monthly'], variable=['T', 'U', 'V', 'FLNS'])"
   ]
  },
  {
   "cell_type": "code",
   "execution_count": 9,
   "metadata": {},
   "outputs": [
    {
     "data": {
      "text/plain": [
       "<xarray.Dataset>\n",
       "Dimensions:           (index: 20)\n",
       "Coordinates:\n",
       "  * index             (index) int64 35 59 83 107 131 50 ... 57 81 105 129 153\n",
       "Data variables:\n",
       "    resource          (index) object 'atm:monthly:aws-s3:s3://ncar-cesm-lens/atm/monthly' ... 'atm:monthly:aws-s3:s3://ncar-cesm-lens/atm/monthly'\n",
       "    resource_type     (index) object 'aws-s3' 'aws-s3' ... 'aws-s3' 'aws-s3'\n",
       "    direct_access     (index) float64 1.0 1.0 1.0 1.0 1.0 ... 1.0 1.0 1.0 1.0\n",
       "    experiment        (index) object '20C' 'CTRL' ... 'CTRL_SLAB_OCN' 'RCP85'\n",
       "    frequency         (index) object 'monthly' 'monthly' ... 'monthly' 'monthly'\n",
       "    component         (index) object 'atm' 'atm' 'atm' ... 'atm' 'atm' 'atm'\n",
       "    variable          (index) object 'FLNS' 'FLNS' 'FLNS' 'FLNS' ... 'V' 'V' 'V'\n",
       "    store_fullpath    (index) object 's3://ncar-cesm-lens/atm/monthly/cesmLE-20C-FLNS.zarr' ... 's3://ncar-cesm-lens/atm/monthly/cesmLE-RCP85-V.zarr'\n",
       "    store_bucketname  (index) object 's3://ncar-cesm-lens' ... 's3://ncar-cesm-lens'\n",
       "Attributes:\n",
       "    created_at:             2019-08-18T22:50:47.224259\n",
       "    intake_esm_version:     0.0.post625\n",
       "    intake_version:         0.5.3\n",
       "    intake_xarray_version:  0.3.1\n",
       "    collection_spec:        {\"name\": \"AWS-CESM1-LE\", \"collection_type\": \"cesm...\n",
       "    name:                   AWS-CESM1-LE\n",
       "    collection_type:        cesm-aws"
      ]
     },
     "execution_count": 9,
     "metadata": {},
     "output_type": "execute_result"
    }
   ],
   "source": [
    "cat.ds"
   ]
  },
  {
   "cell_type": "code",
   "execution_count": 10,
   "metadata": {},
   "outputs": [
    {
     "data": {
      "text/plain": [
       "{'resource': {'count': 1,\n",
       "  'values': ['atm:monthly:aws-s3:s3://ncar-cesm-lens/atm/monthly']},\n",
       " 'resource_type': {'count': 1, 'values': ['aws-s3']},\n",
       " 'direct_access': {'count': 1, 'values': [1.0]},\n",
       " 'experiment': {'count': 5,\n",
       "  'values': ['20C', 'CTRL', 'CTRL_AMIP', 'CTRL_SLAB_OCN', 'RCP85']},\n",
       " 'frequency': {'count': 1, 'values': ['monthly']},\n",
       " 'component': {'count': 1, 'values': ['atm']},\n",
       " 'variable': {'count': 4, 'values': ['FLNS', 'T', 'U', 'V']},\n",
       " 'store_fullpath': {'count': 20,\n",
       "  'values': ['s3://ncar-cesm-lens/atm/monthly/cesmLE-20C-FLNS.zarr',\n",
       "   's3://ncar-cesm-lens/atm/monthly/cesmLE-CTRL-FLNS.zarr',\n",
       "   's3://ncar-cesm-lens/atm/monthly/cesmLE-CTRL_AMIP-FLNS.zarr',\n",
       "   's3://ncar-cesm-lens/atm/monthly/cesmLE-CTRL_SLAB_OCN-FLNS.zarr',\n",
       "   's3://ncar-cesm-lens/atm/monthly/cesmLE-RCP85-FLNS.zarr',\n",
       "   's3://ncar-cesm-lens/atm/monthly/cesmLE-20C-T.zarr',\n",
       "   's3://ncar-cesm-lens/atm/monthly/cesmLE-CTRL-T.zarr',\n",
       "   's3://ncar-cesm-lens/atm/monthly/cesmLE-CTRL_AMIP-T.zarr',\n",
       "   's3://ncar-cesm-lens/atm/monthly/cesmLE-CTRL_SLAB_OCN-T.zarr',\n",
       "   's3://ncar-cesm-lens/atm/monthly/cesmLE-RCP85-T.zarr',\n",
       "   's3://ncar-cesm-lens/atm/monthly/cesmLE-20C-U.zarr',\n",
       "   's3://ncar-cesm-lens/atm/monthly/cesmLE-CTRL-U.zarr',\n",
       "   's3://ncar-cesm-lens/atm/monthly/cesmLE-CTRL_AMIP-U.zarr',\n",
       "   's3://ncar-cesm-lens/atm/monthly/cesmLE-CTRL_SLAB_OCN-U.zarr',\n",
       "   's3://ncar-cesm-lens/atm/monthly/cesmLE-RCP85-U.zarr',\n",
       "   's3://ncar-cesm-lens/atm/monthly/cesmLE-20C-V.zarr',\n",
       "   's3://ncar-cesm-lens/atm/monthly/cesmLE-CTRL-V.zarr',\n",
       "   's3://ncar-cesm-lens/atm/monthly/cesmLE-CTRL_AMIP-V.zarr',\n",
       "   's3://ncar-cesm-lens/atm/monthly/cesmLE-CTRL_SLAB_OCN-V.zarr',\n",
       "   's3://ncar-cesm-lens/atm/monthly/cesmLE-RCP85-V.zarr']},\n",
       " 'store_bucketname': {'count': 1, 'values': ['s3://ncar-cesm-lens']}}"
      ]
     },
     "execution_count": 10,
     "metadata": {},
     "output_type": "execute_result"
    }
   ],
   "source": [
    "cat.unique()"
   ]
  },
  {
   "cell_type": "markdown",
   "metadata": {},
   "source": [
    "## Creating a Dask Cluster"
   ]
  },
  {
   "cell_type": "code",
   "execution_count": 11,
   "metadata": {},
   "outputs": [],
   "source": [
    "from dask.distributed import Client"
   ]
  },
  {
   "cell_type": "code",
   "execution_count": 12,
   "metadata": {},
   "outputs": [
    {
     "data": {
      "text/html": [
       "<table style=\"border: 2px solid white;\">\n",
       "<tr>\n",
       "<td style=\"vertical-align: top; border: 0px solid white\">\n",
       "<h3 style=\"text-align: left;\">Client</h3>\n",
       "<ul style=\"text-align: left; list-style: none; margin: 0; padding: 0;\">\n",
       "  <li><b>Scheduler: </b>tcp://127.0.0.1:32831</li>\n",
       "  <li><b>Dashboard: </b><a href='/user/andersy005/proxy/8787/status' target='_blank'>/user/andersy005/proxy/8787/status</a>\n",
       "</ul>\n",
       "</td>\n",
       "<td style=\"vertical-align: top; border: 0px solid white\">\n",
       "<h3 style=\"text-align: left;\">Cluster</h3>\n",
       "<ul style=\"text-align: left; list-style:none; margin: 0; padding: 0;\">\n",
       "  <li><b>Workers: </b>4</li>\n",
       "  <li><b>Cores: </b>8</li>\n",
       "  <li><b>Memory: </b>32.89 GB</li>\n",
       "</ul>\n",
       "</td>\n",
       "</tr>\n",
       "</table>"
      ],
      "text/plain": [
       "<Client: scheduler='tcp://127.0.0.1:32831' processes=4 cores=8>"
      ]
     },
     "execution_count": 12,
     "metadata": {},
     "output_type": "execute_result"
    }
   ],
   "source": [
    "client = Client()\n",
    "client"
   ]
  },
  {
   "cell_type": "markdown",
   "metadata": {},
   "source": [
    "## Loading Data into Xarray Datasets"
   ]
  },
  {
   "cell_type": "code",
   "execution_count": 13,
   "metadata": {},
   "outputs": [
    {
     "data": {
      "application/vnd.jupyter.widget-view+json": {
       "model_id": "6ce08f7ee39249579062c356a26261cd",
       "version_major": 2,
       "version_minor": 0
      },
      "text/plain": [
       "HBox(children=(IntProgress(value=0, description='dataset(s)', max=5, style=ProgressStyle(description_width='in…"
      ]
     },
     "metadata": {},
     "output_type": "display_data"
    },
    {
     "name": "stdout",
     "output_type": "stream",
     "text": [
      "\n"
     ]
    }
   ],
   "source": [
    "dsets = cat.to_xarray()"
   ]
  },
  {
   "cell_type": "code",
   "execution_count": 14,
   "metadata": {},
   "outputs": [
    {
     "data": {
      "text/plain": [
       "dict_keys(['atm.20C.monthly', 'atm.CTRL.monthly', 'atm.CTRL_AMIP.monthly', 'atm.CTRL_SLAB_OCN.monthly', 'atm.RCP85.monthly'])"
      ]
     },
     "execution_count": 14,
     "metadata": {},
     "output_type": "execute_result"
    }
   ],
   "source": [
    "dsets.keys()"
   ]
  },
  {
   "cell_type": "code",
   "execution_count": 15,
   "metadata": {},
   "outputs": [
    {
     "data": {
      "text/plain": [
       "<xarray.Dataset>\n",
       "Dimensions:       (ilev: 31, lat: 192, lev: 30, lon: 288, member_id: 40, nbnd: 2, slat: 191, time: 1032)\n",
       "Coordinates:\n",
       "  * ilev          (ilev) float64 2.255 5.032 10.16 18.56 ... 967.5 985.1 1e+03\n",
       "  * lat           (lat) float64 -90.0 -89.06 -88.12 -87.17 ... 88.12 89.06 90.0\n",
       "  * lev           (lev) float64 3.643 7.595 14.36 24.61 ... 957.5 976.3 992.6\n",
       "  * lon           (lon) float64 0.0 1.25 2.5 3.75 ... 355.0 356.2 357.5 358.8\n",
       "  * member_id     (member_id) int64 1 2 3 4 5 6 7 ... 34 35 101 102 103 104 105\n",
       "  * slat          (slat) float64 -89.53 -88.59 -87.64 ... 87.64 88.59 89.53\n",
       "  * time          (time) object 1920-02-01 00:00:00 ... 2006-01-01 00:00:00\n",
       "Dimensions without coordinates: nbnd\n",
       "Data variables:\n",
       "    FLNS          (member_id, time, lat, lon) float32 dask.array<shape=(40, 1032, 192, 288), chunksize=(40, 12, 192, 288)>\n",
       "    P0            float64 ...\n",
       "    ch4vmr        (time) float64 dask.array<shape=(1032,), chunksize=(12,)>\n",
       "    co2vmr        (time) float64 dask.array<shape=(1032,), chunksize=(12,)>\n",
       "    date          (time) int32 dask.array<shape=(1032,), chunksize=(12,)>\n",
       "    date_written  (time) |S8 dask.array<shape=(1032,), chunksize=(12,)>\n",
       "    datesec       (time) int32 dask.array<shape=(1032,), chunksize=(12,)>\n",
       "    f11vmr        (time) float64 dask.array<shape=(1032,), chunksize=(12,)>\n",
       "    f12vmr        (time) float64 dask.array<shape=(1032,), chunksize=(12,)>\n",
       "    gw            (lat) float64 dask.array<shape=(192,), chunksize=(192,)>\n",
       "    hyai          (ilev) float64 dask.array<shape=(31,), chunksize=(31,)>\n",
       "    hyam          (lev) float64 dask.array<shape=(30,), chunksize=(30,)>\n",
       "    hybi          (ilev) float64 dask.array<shape=(31,), chunksize=(31,)>\n",
       "    hybm          (lev) float64 dask.array<shape=(30,), chunksize=(30,)>\n",
       "    mdt           int32 ...\n",
       "    n2ovmr        (time) float64 dask.array<shape=(1032,), chunksize=(12,)>\n",
       "    nbdate        int32 ...\n",
       "    nbsec         int32 ...\n",
       "    ndbase        int32 ...\n",
       "    ndcur         (time) int32 dask.array<shape=(1032,), chunksize=(12,)>\n",
       "    nlon          (lat) int32 dask.array<shape=(192,), chunksize=(192,)>\n",
       "    nsbase        int32 ...\n",
       "    nscur         (time) int32 dask.array<shape=(1032,), chunksize=(12,)>\n",
       "    nsteph        (time) int32 dask.array<shape=(1032,), chunksize=(12,)>\n",
       "    ntrk          int32 ...\n",
       "    ntrm          int32 ...\n",
       "    ntrn          int32 ...\n",
       "    sol_tsi       (time) float64 dask.array<shape=(1032,), chunksize=(12,)>\n",
       "    time_bnds     (time, nbnd) object dask.array<shape=(1032, 2), chunksize=(1032, 2)>\n",
       "    time_written  (time) |S8 dask.array<shape=(1032,), chunksize=(12,)>\n",
       "    w_stag        (slat) float64 dask.array<shape=(191,), chunksize=(191,)>\n",
       "    wnummax       (lat) int32 dask.array<shape=(192,), chunksize=(192,)>\n",
       "    T             (member_id, time, lev, lat, lon) float32 dask.array<shape=(40, 1032, 30, 192, 288), chunksize=(40, 12, 2, 192, 288)>\n",
       "    U             (member_id, time, lev, lat, lon) float32 dask.array<shape=(40, 1032, 30, 192, 288), chunksize=(40, 12, 2, 192, 288)>\n",
       "    V             (member_id, time, lev, lat, lon) float32 dask.array<shape=(40, 1032, 30, 192, 288), chunksize=(40, 12, 2, 192, 288)>\n",
       "Attributes:\n",
       "    initial_file:              b.e11.B20TRC5CNBDRD.f09_g16.001.cam.i.1920-01-...\n",
       "    history:                   2019-07-18 15:59:54.074481 xarray.open_dataset...\n",
       "    topography_file:           /scratch/p/pjk/mudryk/cesm1_1_2_LENS/inputdata...\n",
       "    nco_openmp_thread_number:  1\n",
       "    NCO:                       4.3.4\n",
       "    source:                    CAM\n",
       "    title:                     UNSET\n",
       "    logname:                   mudryk\n",
       "    revision_Id:               $Id$\n",
       "    Conventions:               CF-1.0\n",
       "    Version:                   $Name$\n",
       "    important_note:            This data is part of the project 'Blind Evalua..."
      ]
     },
     "execution_count": 15,
     "metadata": {},
     "output_type": "execute_result"
    }
   ],
   "source": [
    "ds = dsets['atm.20C.monthly']\n",
    "ds"
   ]
  },
  {
   "cell_type": "code",
   "execution_count": 16,
   "metadata": {},
   "outputs": [
    {
     "data": {
      "text/plain": [
       "<matplotlib.collections.QuadMesh at 0x7fbe99320940>"
      ]
     },
     "execution_count": 16,
     "metadata": {},
     "output_type": "execute_result"
    },
    {
     "data": {
      "image/png": "[encoded data removed]",
      "text/plain": [
       "<Figure size 432x288 with 2 Axes>"
      ]
     },
     "metadata": {
      "needs_background": "light"
     },
     "output_type": "display_data"
    }
   ],
   "source": [
    "ds.FLNS.isel(time=0).mean('member_id').plot()"
   ]
  }
 ],
 "metadata": {
  "kernelspec": {
   "display_name": "Python 3",
   "language": "python",
   "name": "python3"
  },
  "language_info": {
   "codemirror_mode": {
    "name": "ipython",
    "version": 3
   },
   "file_extension": ".py",
   "mimetype": "text/x-python",
   "name": "python",
   "nbconvert_exporter": "python",
   "pygments_lexer": "ipython3",
   "version": "3.7.3"
  },
  "widgets": {
   "application/vnd.jupyter.widget-state+json": {
    "state": {
     "0664216f7235426abf31765c1544fecc": {
      "model_module": "@jupyter-widgets/base",
      "model_module_version": "1.1.0",
      "model_name": "LayoutModel",
      "state": {}
     },
     "06b46b901769454da798d72ed023f4f0": {
      "model_module": "@jupyter-widgets/base",
      "model_module_version": "1.1.0",
      "model_name": "LayoutModel",
      "state": {}
     },
     "0adf522f560940f7b87e6221e3643e49": {
      "model_module": "@jupyter-widgets/controls",
      "model_module_version": "1.4.0",
      "model_name": "HTMLModel",
      "state": {
       "layout": "IPY_MODEL_3f10f697985c4af4bb6a48aa54462ba6",
       "style": "IPY_MODEL_6c64303c4c9e4ad195b8087926a98f18",
       "value": "100% 5/5 [00:12&lt;00:00,  2.43s/it]"
      }
     },
     "0cdc03738c3a427da4bfcd428b2bb7b5": {
      "model_module": "@jupyter-widgets/controls",
      "model_module_version": "1.4.0",
      "model_name": "DescriptionStyleModel",
      "state": {
       "description_width": ""
      }
     },
     "0db441a4cf2a48dc9437713f59a356af": {
      "model_module": "@jupyter-widgets/controls",
      "model_module_version": "1.4.0",
      "model_name": "ProgressStyleModel",
      "state": {
       "description_width": "initial"
      }
     },
     "0fd7c15b7a9f4210b2ca5f2b0c04940f": {
      "model_module": "@jupyter-widgets/controls",
      "model_module_version": "1.4.0",
      "model_name": "DescriptionStyleModel",
      "state": {
       "description_width": ""
      }
     },
     "157f4739489c4354b2495c39437b9851": {
      "model_module": "@jupyter-widgets/base",
      "model_module_version": "1.1.0",
      "model_name": "LayoutModel",
      "state": {}
     },
     "15877606cb0541fdaaaee1987cfd2397": {
      "model_module": "@jupyter-widgets/base",
      "model_module_version": "1.1.0",
      "model_name": "LayoutModel",
      "state": {}
     },
     "167f0ba8d11c400aa01b4a2624affe26": {
      "model_module": "@jupyter-widgets/controls",
      "model_module_version": "1.4.0",
      "model_name": "DescriptionStyleModel",
      "state": {
       "description_width": ""
      }
     },
     "1798c68559b14eccb4f3b7f0129ccf1a": {
      "model_module": "@jupyter-widgets/base",
      "model_module_version": "1.1.0",
      "model_name": "LayoutModel",
      "state": {}
     },
     "1868954a080740079a494c923c07a687": {
      "model_module": "@jupyter-widgets/controls",
      "model_module_version": "1.4.0",
      "model_name": "IntProgressModel",
      "state": {
       "bar_style": "success",
       "description": "file listing",
       "layout": "IPY_MODEL_c199193319094337abd12e0b7f0c595b",
       "max": 14,
       "style": "IPY_MODEL_5f4251fbbf18482f9e1da622fc3bc8ec",
       "value": 14
      }
     },
     "19447891b582442b856ed21b0df7173c": {
      "model_module": "@jupyter-widgets/controls",
      "model_module_version": "1.4.0",
      "model_name": "HBoxModel",
      "state": {
       "children": [
        "IPY_MODEL_33854a907a5f403ebfa5f74c8a6c5ff3",
        "IPY_MODEL_e0d2d5c239e745f0a3125a50aba369a5"
       ],
       "layout": "IPY_MODEL_f257b9089d1a4528b630cd696b073311"
      }
     },
     "1a085d2dd5494630bf1ee10d97eb222a": {
      "model_module": "@jupyter-widgets/controls",
      "model_module_version": "1.4.0",
      "model_name": "HBoxModel",
      "state": {
       "children": [
        "IPY_MODEL_7a43e5dd728345d08a0dcb2aa5e5897b",
        "IPY_MODEL_9a5df40ba78b4b54a40c86751992fd48"
       ],
       "layout": "IPY_MODEL_25c8152ded9d4a58a5d474c4e716dfd4"
      }
     },
     "1e45b8063a814494acf9039e47ae837c": {
      "model_module": "@jupyter-widgets/base",
      "model_module_version": "1.1.0",
      "model_name": "LayoutModel",
      "state": {}
     },
     "1e515d41f9034eafbe7c4ec8b275b991": {
      "model_module": "@jupyter-widgets/base",
      "model_module_version": "1.1.0",
      "model_name": "LayoutModel",
      "state": {}
     },
     "1ecd87f19cdf4aaa867c9b5ad9880696": {
      "model_module": "@jupyter-widgets/base",
      "model_module_version": "1.1.0",
      "model_name": "LayoutModel",
      "state": {}
     },
     "1f0c907b769c408b82dace0b0896e440": {
      "model_module": "@jupyter-widgets/base",
      "model_module_version": "1.1.0",
      "model_name": "LayoutModel",
      "state": {}
     },
     "20e1490a1f9a420eb75d9b0f983a5c3e": {
      "model_module": "@jupyter-widgets/controls",
      "model_module_version": "1.4.0",
      "model_name": "IntProgressModel",
      "state": {
       "bar_style": "success",
       "description": "file listing",
       "layout": "IPY_MODEL_61cb2ec846de49cb9ce980d621a2ae09",
       "max": 11,
       "style": "IPY_MODEL_4310d14b62104aa2ac80193ea3e420f0",
       "value": 11
      }
     },
     "238d64dd65af49da8e615bdf5c6c35d5": {
      "model_module": "@jupyter-widgets/controls",
      "model_module_version": "1.4.0",
      "model_name": "HTMLModel",
      "state": {
       "layout": "IPY_MODEL_e85a3a03c69144158985f5b91dfc0d75",
       "style": "IPY_MODEL_6fe4e05d1d8543f6997a2bfd18892914",
       "value": "100% 11/11 [00:00&lt;00:00, 709.71it/s]"
      }
     },
     "23e0ad9a4ba84a4192357b6f707d9f11": {
      "model_module": "@jupyter-widgets/controls",
      "model_module_version": "1.4.0",
      "model_name": "IntProgressModel",
      "state": {
       "bar_style": "success",
       "description": "file listing",
       "layout": "IPY_MODEL_ef6b0356cba4435e919b8a469ea5901b",
       "max": 11,
       "style": "IPY_MODEL_2d1e22b2dec147e69efa92299b5e47ce",
       "value": 11
      }
     },
     "23fb4b1bb9e544978a42d9d1e1fc0f87": {
      "model_module": "@jupyter-widgets/controls",
      "model_module_version": "1.4.0",
      "model_name": "DescriptionStyleModel",
      "state": {
       "description_width": ""
      }
     },
     "25c8152ded9d4a58a5d474c4e716dfd4": {
      "model_module": "@jupyter-widgets/base",
      "model_module_version": "1.1.0",
      "model_name": "LayoutModel",
      "state": {}
     },
     "25eb7b88fe42482b85034f625517cc3b": {
      "model_module": "@jupyter-widgets/controls",
      "model_module_version": "1.4.0",
      "model_name": "HTMLModel",
      "state": {
       "layout": "IPY_MODEL_fbcc0abd7e3e47b596d6deb925ae96e1",
       "style": "IPY_MODEL_f9d6508243aa4c0eb025fb7a2911ae0b",
       "value": "100% 4/4 [00:00&lt;00:00, 267.16it/s]"
      }
     },
     "25f87ea42c1a49c7a9ebd1afc11619e0": {
      "model_module": "@jupyter-widgets/base",
      "model_module_version": "1.1.0",
      "model_name": "LayoutModel",
      "state": {}
     },
     "2738e7f0fcb34e4cac7cc1288d07d715": {
      "model_module": "@jupyter-widgets/controls",
      "model_module_version": "1.4.0",
      "model_name": "DescriptionStyleModel",
      "state": {
       "description_width": ""
      }
     },
     "2a7e44f5ca7449e79e85b413b7145705": {
      "model_module": "@jupyter-widgets/base",
      "model_module_version": "1.1.0",
      "model_name": "LayoutModel",
      "state": {}
     },
     "2d1e22b2dec147e69efa92299b5e47ce": {
      "model_module": "@jupyter-widgets/controls",
      "model_module_version": "1.4.0",
      "model_name": "ProgressStyleModel",
      "state": {
       "description_width": "initial"
      }
     },
     "33854a907a5f403ebfa5f74c8a6c5ff3": {
      "model_module": "@jupyter-widgets/controls",
      "model_module_version": "1.4.0",
      "model_name": "IntProgressModel",
      "state": {
       "bar_style": "success",
       "description": "file listing",
       "layout": "IPY_MODEL_0664216f7235426abf31765c1544fecc",
       "max": 6,
       "style": "IPY_MODEL_f72bba4a81d14177a6702c7c57c5dd82",
       "value": 6
      }
     },
     "33aad47984764845be05e39cb0e5b206": {
      "model_module": "@jupyter-widgets/controls",
      "model_module_version": "1.4.0",
      "model_name": "ProgressStyleModel",
      "state": {
       "description_width": "initial"
      }
     },
     "35aea87e68fe49a4a5152d37aed11a45": {
      "model_module": "@jupyter-widgets/base",
      "model_module_version": "1.1.0",
      "model_name": "LayoutModel",
      "state": {}
     },
     "379b1db3254e413b8b433a23bff90a6b": {
      "model_module": "@jupyter-widgets/controls",
      "model_module_version": "1.4.0",
      "model_name": "ProgressStyleModel",
      "state": {
       "description_width": "initial"
      }
     },
     "38299d66083849e08e8a180eaa0d9f2d": {
      "model_module": "@jupyter-widgets/controls",
      "model_module_version": "1.4.0",
      "model_name": "HBoxModel",
      "state": {
       "children": [
        "IPY_MODEL_ecbe417db41b4a1c9b4b074d8e2f17ba",
        "IPY_MODEL_6b790214fe4e4879bf33e093a2951317"
       ],
       "layout": "IPY_MODEL_449275bf74bf44d1947117821796e185"
      }
     },
     "3af8ab69472e48eb8b8cb79f7e563d3d": {
      "model_module": "@jupyter-widgets/base",
      "model_module_version": "1.1.0",
      "model_name": "LayoutModel",
      "state": {}
     },
     "3f10f697985c4af4bb6a48aa54462ba6": {
      "model_module": "@jupyter-widgets/base",
      "model_module_version": "1.1.0",
      "model_name": "LayoutModel",
      "state": {}
     },
     "40022e54def64c558b9593c6caa3db64": {
      "model_module": "@jupyter-widgets/controls",
      "model_module_version": "1.4.0",
      "model_name": "DescriptionStyleModel",
      "state": {
       "description_width": ""
      }
     },
     "4019de2fc6c94fee93e93174666f2ba3": {
      "model_module": "@jupyter-widgets/base",
      "model_module_version": "1.1.0",
      "model_name": "LayoutModel",
      "state": {}
     },
     "42f15a03d528452ea84998dede1f3647": {
      "model_module": "@jupyter-widgets/controls",
      "model_module_version": "1.4.0",
      "model_name": "HBoxModel",
      "state": {
       "children": [
        "IPY_MODEL_79fb9b556a454588a335158992ee02fc",
        "IPY_MODEL_c56c4e21eec6487d995682b653a0b64e"
       ],
       "layout": "IPY_MODEL_d19d3de5955c4edeba0eaa170952af8a"
      }
     },
     "4310d14b62104aa2ac80193ea3e420f0": {
      "model_module": "@jupyter-widgets/controls",
      "model_module_version": "1.4.0",
      "model_name": "ProgressStyleModel",
      "state": {
       "description_width": "initial"
      }
     },
     "4357cf30301d46b9878eda84158efdac": {
      "model_module": "@jupyter-widgets/controls",
      "model_module_version": "1.4.0",
      "model_name": "HTMLModel",
      "state": {
       "layout": "IPY_MODEL_3af8ab69472e48eb8b8cb79f7e563d3d",
       "style": "IPY_MODEL_0fd7c15b7a9f4210b2ca5f2b0c04940f",
       "value": "100% 4/4 [00:00&lt;00:00, 272.59it/s]"
      }
     },
     "449275bf74bf44d1947117821796e185": {
      "model_module": "@jupyter-widgets/base",
      "model_module_version": "1.1.0",
      "model_name": "LayoutModel",
      "state": {}
     },
     "460733a98cfc41a7848092f0d1f5a946": {
      "model_module": "@jupyter-widgets/controls",
      "model_module_version": "1.4.0",
      "model_name": "HTMLModel",
      "state": {
       "layout": "IPY_MODEL_15877606cb0541fdaaaee1987cfd2397",
       "style": "IPY_MODEL_2738e7f0fcb34e4cac7cc1288d07d715",
       "value": "100% 11/11 [00:00&lt;00:00, 743.71it/s]"
      }
     },
     "48d8267b82f64951814f4446c5472427": {
      "model_module": "@jupyter-widgets/controls",
      "model_module_version": "1.4.0",
      "model_name": "IntProgressModel",
      "state": {
       "bar_style": "success",
       "description": "file listing",
       "layout": "IPY_MODEL_d48ba0794ea646ab9e14badcbc6c11c2",
       "max": 12,
       "style": "IPY_MODEL_cdc70aaf12474cf9ab845f4218b50ca5",
       "value": 12
      }
     },
     "491e08759d6f4f73b749429e8e64876b": {
      "model_module": "@jupyter-widgets/controls",
      "model_module_version": "1.4.0",
      "model_name": "HBoxModel",
      "state": {
       "children": [
        "IPY_MODEL_afdfd2ed87da49fd9910ed4c72e70065",
        "IPY_MODEL_ea2e4a7ee8aa4b02ad2b297fbb7f6d19"
       ],
       "layout": "IPY_MODEL_1e45b8063a814494acf9039e47ae837c"
      }
     },
     "4a4174ec20c94d619637f09f7910a151": {
      "model_module": "@jupyter-widgets/base",
      "model_module_version": "1.1.0",
      "model_name": "LayoutModel",
      "state": {}
     },
     "52fdd78524864c7a82fbb6b6e29af6ce": {
      "model_module": "@jupyter-widgets/controls",
      "model_module_version": "1.4.0",
      "model_name": "ProgressStyleModel",
      "state": {
       "description_width": "initial"
      }
     },
     "53b5f65feb3e47a0b2a77bd714b4d977": {
      "model_module": "@jupyter-widgets/base",
      "model_module_version": "1.1.0",
      "model_name": "LayoutModel",
      "state": {}
     },
     "5d307c442d984f6d9ce2cb808d442723": {
      "model_module": "@jupyter-widgets/controls",
      "model_module_version": "1.4.0",
      "model_name": "HTMLModel",
      "state": {
       "layout": "IPY_MODEL_4019de2fc6c94fee93e93174666f2ba3",
       "style": "IPY_MODEL_23fb4b1bb9e544978a42d9d1e1fc0f87",
       "value": "100% 12/12 [00:00&lt;00:00, 836.84it/s]"
      }
     },
     "5f4251fbbf18482f9e1da622fc3bc8ec": {
      "model_module": "@jupyter-widgets/controls",
      "model_module_version": "1.4.0",
      "model_name": "ProgressStyleModel",
      "state": {
       "description_width": "initial"
      }
     },
     "61cb2ec846de49cb9ce980d621a2ae09": {
      "model_module": "@jupyter-widgets/base",
      "model_module_version": "1.1.0",
      "model_name": "LayoutModel",
      "state": {}
     },
     "625337839cf245928722b57b5321a26b": {
      "model_module": "@jupyter-widgets/base",
      "model_module_version": "1.1.0",
      "model_name": "LayoutModel",
      "state": {}
     },
     "648756f00ac348edb422f9dc7921d88e": {
      "model_module": "@jupyter-widgets/controls",
      "model_module_version": "1.4.0",
      "model_name": "IntProgressModel",
      "state": {
       "bar_style": "success",
       "description": "dataset(s)",
       "layout": "IPY_MODEL_8ab7603aff82495ebe6b706d3e5572cc",
       "max": 5,
       "style": "IPY_MODEL_8b43164f6bb24a11956fc8300f347bac",
       "value": 5
      }
     },
     "68219c70c91446f3a49438ddc1659885": {
      "model_module": "@jupyter-widgets/controls",
      "model_module_version": "1.4.0",
      "model_name": "HTMLModel",
      "state": {
       "layout": "IPY_MODEL_1798c68559b14eccb4f3b7f0129ccf1a",
       "style": "IPY_MODEL_a2708e7148564912bf0cdc6e49e22d2a",
       "value": "100% 5/5 [00:13&lt;00:00,  2.59s/it]"
      }
     },
     "6aef2cb8c06848d2a39d64519aba483c": {
      "model_module": "@jupyter-widgets/base",
      "model_module_version": "1.1.0",
      "model_name": "LayoutModel",
      "state": {}
     },
     "6b790214fe4e4879bf33e093a2951317": {
      "model_module": "@jupyter-widgets/controls",
      "model_module_version": "1.4.0",
      "model_name": "HTMLModel",
      "state": {
       "layout": "IPY_MODEL_53b5f65feb3e47a0b2a77bd714b4d977",
       "style": "IPY_MODEL_40022e54def64c558b9593c6caa3db64",
       "value": "100% 4/4 [00:00&lt;00:00, 268.49it/s]"
      }
     },
     "6c64303c4c9e4ad195b8087926a98f18": {
      "model_module": "@jupyter-widgets/controls",
      "model_module_version": "1.4.0",
      "model_name": "DescriptionStyleModel",
      "state": {
       "description_width": ""
      }
     },
     "6ce08f7ee39249579062c356a26261cd": {
      "model_module": "@jupyter-widgets/controls",
      "model_module_version": "1.4.0",
      "model_name": "HBoxModel",
      "state": {
       "children": [
        "IPY_MODEL_648756f00ac348edb422f9dc7921d88e",
        "IPY_MODEL_68219c70c91446f3a49438ddc1659885"
       ],
       "layout": "IPY_MODEL_1ecd87f19cdf4aaa867c9b5ad9880696"
      }
     },
     "6fe4e05d1d8543f6997a2bfd18892914": {
      "model_module": "@jupyter-widgets/controls",
      "model_module_version": "1.4.0",
      "model_name": "DescriptionStyleModel",
      "state": {
       "description_width": ""
      }
     },
     "6fff42c7479a4d70bc48954dc7de8789": {
      "model_module": "@jupyter-widgets/controls",
      "model_module_version": "1.4.0",
      "model_name": "HBoxModel",
      "state": {
       "children": [
        "IPY_MODEL_23e0ad9a4ba84a4192357b6f707d9f11",
        "IPY_MODEL_238d64dd65af49da8e615bdf5c6c35d5"
       ],
       "layout": "IPY_MODEL_1e515d41f9034eafbe7c4ec8b275b991"
      }
     },
     "718ade17bb034176abe75a6ce26670b6": {
      "model_module": "@jupyter-widgets/base",
      "model_module_version": "1.1.0",
      "model_name": "LayoutModel",
      "state": {}
     },
     "79fb9b556a454588a335158992ee02fc": {
      "model_module": "@jupyter-widgets/controls",
      "model_module_version": "1.4.0",
      "model_name": "IntProgressModel",
      "state": {
       "bar_style": "success",
       "description": "file listing",
       "layout": "IPY_MODEL_4a4174ec20c94d619637f09f7910a151",
       "max": 48,
       "style": "IPY_MODEL_d17c6340f97a479dab97b0ebf9da4384",
       "value": 48
      }
     },
     "7a43e5dd728345d08a0dcb2aa5e5897b": {
      "model_module": "@jupyter-widgets/controls",
      "model_module_version": "1.4.0",
      "model_name": "IntProgressModel",
      "state": {
       "bar_style": "success",
       "description": "file listing",
       "layout": "IPY_MODEL_cd905af7d10c426d98a71366f25b8650",
       "max": 11,
       "style": "IPY_MODEL_cc284acdb23348ef93e69ad5e0e48d38",
       "value": 11
      }
     },
     "80b86ff54c6248fcb0161ce31cd95eab": {
      "model_module": "@jupyter-widgets/controls",
      "model_module_version": "1.4.0",
      "model_name": "DescriptionStyleModel",
      "state": {
       "description_width": ""
      }
     },
     "8645257d79d44126aadec86631bc03d3": {
      "model_module": "@jupyter-widgets/controls",
      "model_module_version": "1.4.0",
      "model_name": "DescriptionStyleModel",
      "state": {
       "description_width": ""
      }
     },
     "887d0d3b0bcf462183bbb4862d1af54e": {
      "model_module": "@jupyter-widgets/controls",
      "model_module_version": "1.4.0",
      "model_name": "HTMLModel",
      "state": {
       "layout": "IPY_MODEL_35aea87e68fe49a4a5152d37aed11a45",
       "style": "IPY_MODEL_dcdf56bd696d4b22ad130883d15979a7",
       "value": "100% 14/14 [00:00&lt;00:00, 865.21it/s]"
      }
     },
     "8ab7603aff82495ebe6b706d3e5572cc": {
      "model_module": "@jupyter-widgets/base",
      "model_module_version": "1.1.0",
      "model_name": "LayoutModel",
      "state": {}
     },
     "8b43164f6bb24a11956fc8300f347bac": {
      "model_module": "@jupyter-widgets/controls",
      "model_module_version": "1.4.0",
      "model_name": "ProgressStyleModel",
      "state": {
       "description_width": "initial"
      }
     },
     "8dd40caaa1ae4e159c6b839f77c5b200": {
      "model_module": "@jupyter-widgets/base",
      "model_module_version": "1.1.0",
      "model_name": "LayoutModel",
      "state": {}
     },
     "90cd668293e84279a7c46afc14df53f2": {
      "model_module": "@jupyter-widgets/base",
      "model_module_version": "1.1.0",
      "model_name": "LayoutModel",
      "state": {}
     },
     "972576d2619c4515a8e944264b4a728a": {
      "model_module": "@jupyter-widgets/controls",
      "model_module_version": "1.4.0",
      "model_name": "ProgressStyleModel",
      "state": {
       "description_width": "initial"
      }
     },
     "98a75087df56432c9a92e578d9542570": {
      "model_module": "@jupyter-widgets/controls",
      "model_module_version": "1.4.0",
      "model_name": "HTMLModel",
      "state": {
       "layout": "IPY_MODEL_cb9e1c423c914033b1a82e319c4dee07",
       "style": "IPY_MODEL_80b86ff54c6248fcb0161ce31cd95eab",
       "value": "100% 9/9 [00:00&lt;00:00, 620.43it/s]"
      }
     },
     "99af54d19b3c4e4392538b1c80ce99e3": {
      "model_module": "@jupyter-widgets/controls",
      "model_module_version": "1.4.0",
      "model_name": "HBoxModel",
      "state": {
       "children": [
        "IPY_MODEL_dad5585e21164174b23afe620602be15",
        "IPY_MODEL_4357cf30301d46b9878eda84158efdac"
       ],
       "layout": "IPY_MODEL_06b46b901769454da798d72ed023f4f0"
      }
     },
     "9a5df40ba78b4b54a40c86751992fd48": {
      "model_module": "@jupyter-widgets/controls",
      "model_module_version": "1.4.0",
      "model_name": "HTMLModel",
      "state": {
       "layout": "IPY_MODEL_2a7e44f5ca7449e79e85b413b7145705",
       "style": "IPY_MODEL_aa51a50e787a4fb59bfff216c7d68d07",
       "value": "100% 11/11 [00:00&lt;00:00, 750.81it/s]"
      }
     },
     "9e4f9e6fb7514e829c413a0289d78c64": {
      "model_module": "@jupyter-widgets/base",
      "model_module_version": "1.1.0",
      "model_name": "LayoutModel",
      "state": {}
     },
     "a06ecb18e3bd4e66b643ef2e277cff9a": {
      "model_module": "@jupyter-widgets/controls",
      "model_module_version": "1.4.0",
      "model_name": "HBoxModel",
      "state": {
       "children": [
        "IPY_MODEL_20e1490a1f9a420eb75d9b0f983a5c3e",
        "IPY_MODEL_460733a98cfc41a7848092f0d1f5a946"
       ],
       "layout": "IPY_MODEL_e1bdb51965044191a4c8bd86cafbec36"
      }
     },
     "a2708e7148564912bf0cdc6e49e22d2a": {
      "model_module": "@jupyter-widgets/controls",
      "model_module_version": "1.4.0",
      "model_name": "DescriptionStyleModel",
      "state": {
       "description_width": ""
      }
     },
     "aa51a50e787a4fb59bfff216c7d68d07": {
      "model_module": "@jupyter-widgets/controls",
      "model_module_version": "1.4.0",
      "model_name": "DescriptionStyleModel",
      "state": {
       "description_width": ""
      }
     },
     "afdfd2ed87da49fd9910ed4c72e70065": {
      "model_module": "@jupyter-widgets/controls",
      "model_module_version": "1.4.0",
      "model_name": "IntProgressModel",
      "state": {
       "bar_style": "success",
       "description": "file listing",
       "layout": "IPY_MODEL_f3b4e28a36414017a8bf93e6e46cf810",
       "max": 120,
       "style": "IPY_MODEL_33aad47984764845be05e39cb0e5b206",
       "value": 120
      }
     },
     "b3df8c73050143eeb62bf6e88544ef29": {
      "model_module": "@jupyter-widgets/controls",
      "model_module_version": "1.4.0",
      "model_name": "HBoxModel",
      "state": {
       "children": [
        "IPY_MODEL_c64bce9885d547e4a1952454d3d109fc",
        "IPY_MODEL_25eb7b88fe42482b85034f625517cc3b"
       ],
       "layout": "IPY_MODEL_718ade17bb034176abe75a6ce26670b6"
      }
     },
     "c01f3eba0b0046f28b1b3614f41344b5": {
      "model_module": "@jupyter-widgets/base",
      "model_module_version": "1.1.0",
      "model_name": "LayoutModel",
      "state": {}
     },
     "c199193319094337abd12e0b7f0c595b": {
      "model_module": "@jupyter-widgets/base",
      "model_module_version": "1.1.0",
      "model_name": "LayoutModel",
      "state": {}
     },
     "c21644230be041dcbc93db39fec063ce": {
      "model_module": "@jupyter-widgets/controls",
      "model_module_version": "1.4.0",
      "model_name": "IntProgressModel",
      "state": {
       "bar_style": "success",
       "description": "file listing",
       "layout": "IPY_MODEL_d2ee1d7f9960458c8fa7636f85cca1f6",
       "max": 9,
       "style": "IPY_MODEL_0db441a4cf2a48dc9437713f59a356af",
       "value": 9
      }
     },
     "c26e857c94e0414bbe4648b2e2943157": {
      "model_module": "@jupyter-widgets/base",
      "model_module_version": "1.1.0",
      "model_name": "LayoutModel",
      "state": {}
     },
     "c56c4e21eec6487d995682b653a0b64e": {
      "model_module": "@jupyter-widgets/controls",
      "model_module_version": "1.4.0",
      "model_name": "HTMLModel",
      "state": {
       "layout": "IPY_MODEL_e66c9960ade0464c8e69d7ba6f9a0849",
       "style": "IPY_MODEL_8645257d79d44126aadec86631bc03d3",
       "value": "100% 48/48 [00:00&lt;00:00, 3278.61it/s]"
      }
     },
     "c64bce9885d547e4a1952454d3d109fc": {
      "model_module": "@jupyter-widgets/controls",
      "model_module_version": "1.4.0",
      "model_name": "IntProgressModel",
      "state": {
       "bar_style": "success",
       "description": "file listing",
       "layout": "IPY_MODEL_157f4739489c4354b2495c39437b9851",
       "max": 4,
       "style": "IPY_MODEL_d80f8e6965c54586ae1ab612146f1375",
       "value": 4
      }
     },
     "c7e4d1af09e14dacb85e37d92a1f32b6": {
      "model_module": "@jupyter-widgets/controls",
      "model_module_version": "1.4.0",
      "model_name": "IntProgressModel",
      "state": {
       "bar_style": "success",
       "description": "dataset(s)",
       "layout": "IPY_MODEL_90cd668293e84279a7c46afc14df53f2",
       "max": 5,
       "style": "IPY_MODEL_972576d2619c4515a8e944264b4a728a",
       "value": 5
      }
     },
     "cb9e1c423c914033b1a82e319c4dee07": {
      "model_module": "@jupyter-widgets/base",
      "model_module_version": "1.1.0",
      "model_name": "LayoutModel",
      "state": {}
     },
     "cc284acdb23348ef93e69ad5e0e48d38": {
      "model_module": "@jupyter-widgets/controls",
      "model_module_version": "1.4.0",
      "model_name": "ProgressStyleModel",
      "state": {
       "description_width": "initial"
      }
     },
     "cd905af7d10c426d98a71366f25b8650": {
      "model_module": "@jupyter-widgets/base",
      "model_module_version": "1.1.0",
      "model_name": "LayoutModel",
      "state": {}
     },
     "cdc70aaf12474cf9ab845f4218b50ca5": {
      "model_module": "@jupyter-widgets/controls",
      "model_module_version": "1.4.0",
      "model_name": "ProgressStyleModel",
      "state": {
       "description_width": "initial"
      }
     },
     "d17c6340f97a479dab97b0ebf9da4384": {
      "model_module": "@jupyter-widgets/controls",
      "model_module_version": "1.4.0",
      "model_name": "ProgressStyleModel",
      "state": {
       "description_width": "initial"
      }
     },
     "d19d3de5955c4edeba0eaa170952af8a": {
      "model_module": "@jupyter-widgets/base",
      "model_module_version": "1.1.0",
      "model_name": "LayoutModel",
      "state": {}
     },
     "d2ee1d7f9960458c8fa7636f85cca1f6": {
      "model_module": "@jupyter-widgets/base",
      "model_module_version": "1.1.0",
      "model_name": "LayoutModel",
      "state": {}
     },
     "d48ba0794ea646ab9e14badcbc6c11c2": {
      "model_module": "@jupyter-widgets/base",
      "model_module_version": "1.1.0",
      "model_name": "LayoutModel",
      "state": {}
     },
     "d80f8e6965c54586ae1ab612146f1375": {
      "model_module": "@jupyter-widgets/controls",
      "model_module_version": "1.4.0",
      "model_name": "ProgressStyleModel",
      "state": {
       "description_width": "initial"
      }
     },
     "dad5585e21164174b23afe620602be15": {
      "model_module": "@jupyter-widgets/controls",
      "model_module_version": "1.4.0",
      "model_name": "IntProgressModel",
      "state": {
       "bar_style": "success",
       "description": "file listing",
       "layout": "IPY_MODEL_c26e857c94e0414bbe4648b2e2943157",
       "max": 4,
       "style": "IPY_MODEL_52fdd78524864c7a82fbb6b6e29af6ce",
       "value": 4
      }
     },
     "dcdf56bd696d4b22ad130883d15979a7": {
      "model_module": "@jupyter-widgets/controls",
      "model_module_version": "1.4.0",
      "model_name": "DescriptionStyleModel",
      "state": {
       "description_width": ""
      }
     },
     "dec37c73ee3a4bcbadcc23d24885f912": {
      "model_module": "@jupyter-widgets/controls",
      "model_module_version": "1.4.0",
      "model_name": "HBoxModel",
      "state": {
       "children": [
        "IPY_MODEL_48d8267b82f64951814f4446c5472427",
        "IPY_MODEL_5d307c442d984f6d9ce2cb808d442723"
       ],
       "layout": "IPY_MODEL_c01f3eba0b0046f28b1b3614f41344b5"
      }
     },
     "e0d2d5c239e745f0a3125a50aba369a5": {
      "model_module": "@jupyter-widgets/controls",
      "model_module_version": "1.4.0",
      "model_name": "HTMLModel",
      "state": {
       "layout": "IPY_MODEL_6aef2cb8c06848d2a39d64519aba483c",
       "style": "IPY_MODEL_167f0ba8d11c400aa01b4a2624affe26",
       "value": "100% 6/6 [00:00&lt;00:00, 405.75it/s]"
      }
     },
     "e1bdb51965044191a4c8bd86cafbec36": {
      "model_module": "@jupyter-widgets/base",
      "model_module_version": "1.1.0",
      "model_name": "LayoutModel",
      "state": {}
     },
     "e5b605152ad04eed94d1265c837b7893": {
      "model_module": "@jupyter-widgets/controls",
      "model_module_version": "1.4.0",
      "model_name": "HBoxModel",
      "state": {
       "children": [
        "IPY_MODEL_c7e4d1af09e14dacb85e37d92a1f32b6",
        "IPY_MODEL_0adf522f560940f7b87e6221e3643e49"
       ],
       "layout": "IPY_MODEL_25f87ea42c1a49c7a9ebd1afc11619e0"
      }
     },
     "e66c9960ade0464c8e69d7ba6f9a0849": {
      "model_module": "@jupyter-widgets/base",
      "model_module_version": "1.1.0",
      "model_name": "LayoutModel",
      "state": {}
     },
     "e85a3a03c69144158985f5b91dfc0d75": {
      "model_module": "@jupyter-widgets/base",
      "model_module_version": "1.1.0",
      "model_name": "LayoutModel",
      "state": {}
     },
     "ea2e4a7ee8aa4b02ad2b297fbb7f6d19": {
      "model_module": "@jupyter-widgets/controls",
      "model_module_version": "1.4.0",
      "model_name": "HTMLModel",
      "state": {
       "layout": "IPY_MODEL_8dd40caaa1ae4e159c6b839f77c5b200",
       "style": "IPY_MODEL_0cdc03738c3a427da4bfcd428b2bb7b5",
       "value": "100% 120/120 [00:00&lt;00:00, 8027.76it/s]"
      }
     },
     "ecbe417db41b4a1c9b4b074d8e2f17ba": {
      "model_module": "@jupyter-widgets/controls",
      "model_module_version": "1.4.0",
      "model_name": "IntProgressModel",
      "state": {
       "bar_style": "success",
       "description": "file listing",
       "layout": "IPY_MODEL_625337839cf245928722b57b5321a26b",
       "max": 4,
       "style": "IPY_MODEL_379b1db3254e413b8b433a23bff90a6b",
       "value": 4
      }
     },
     "ed5b0197a2c6437cb813725b0d4b0084": {
      "model_module": "@jupyter-widgets/controls",
      "model_module_version": "1.4.0",
      "model_name": "HBoxModel",
      "state": {
       "children": [
        "IPY_MODEL_1868954a080740079a494c923c07a687",
        "IPY_MODEL_887d0d3b0bcf462183bbb4862d1af54e"
       ],
       "layout": "IPY_MODEL_9e4f9e6fb7514e829c413a0289d78c64"
      }
     },
     "ef6b0356cba4435e919b8a469ea5901b": {
      "model_module": "@jupyter-widgets/base",
      "model_module_version": "1.1.0",
      "model_name": "LayoutModel",
      "state": {}
     },
     "efa73fd62a5c40f48b9744e45bfe1826": {
      "model_module": "@jupyter-widgets/controls",
      "model_module_version": "1.4.0",
      "model_name": "HBoxModel",
      "state": {
       "children": [
        "IPY_MODEL_c21644230be041dcbc93db39fec063ce",
        "IPY_MODEL_98a75087df56432c9a92e578d9542570"
       ],
       "layout": "IPY_MODEL_1f0c907b769c408b82dace0b0896e440"
      }
     },
     "f257b9089d1a4528b630cd696b073311": {
      "model_module": "@jupyter-widgets/base",
      "model_module_version": "1.1.0",
      "model_name": "LayoutModel",
      "state": {}
     },
     "f3b4e28a36414017a8bf93e6e46cf810": {
      "model_module": "@jupyter-widgets/base",
      "model_module_version": "1.1.0",
      "model_name": "LayoutModel",
      "state": {}
     },
     "f72bba4a81d14177a6702c7c57c5dd82": {
      "model_module": "@jupyter-widgets/controls",
      "model_module_version": "1.4.0",
      "model_name": "ProgressStyleModel",
      "state": {
       "description_width": "initial"
      }
     },
     "f9d6508243aa4c0eb025fb7a2911ae0b": {
      "model_module": "@jupyter-widgets/controls",
      "model_module_version": "1.4.0",
      "model_name": "DescriptionStyleModel",
      "state": {
       "description_width": ""
      }
     },
     "fbcc0abd7e3e47b596d6deb925ae96e1": {
      "model_module": "@jupyter-widgets/base",
      "model_module_version": "1.1.0",
      "model_name": "LayoutModel",
      "state": {}
     }
    },
    "version_major": 2,
    "version_minor": 0
   }
  }
 },
 "nbformat": 4,
 "nbformat_minor": 4
}
