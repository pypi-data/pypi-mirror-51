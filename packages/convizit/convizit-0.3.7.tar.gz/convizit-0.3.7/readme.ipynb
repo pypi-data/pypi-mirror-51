{
 "cells": [
  {
   "cell_type": "code",
   "execution_count": 1,
   "metadata": {},
   "outputs": [],
   "source": [
    "login = 'danielp@convizit.com'\n",
    "password = '123456'\n",
    "siteToken = '63ac12442e9fd60275f3e81b9503dd73'"
   ]
  },
  {
   "cell_type": "markdown",
   "metadata": {},
   "source": [
    "Welcome,\n",
    "\n",
    "This plugin is used to retrieve the granular website visitor activity data, that is automatically\n",
    "captured and tagged by Convizit, and use it in your Python code.\n",
    "\n",
    "## To install, use:\n",
    "`pip install convizit`"
   ]
  },
  {
   "cell_type": "markdown",
   "metadata": {},
   "source": [
    "## Quick demonstration:\n",
    "Let's see what can be done with Convizit Python-plugin:"
   ]
  },
  {
   "cell_type": "markdown",
   "metadata": {},
   "source": [
    "First, let's import the Convizit class from the package."
   ]
  },
  {
   "cell_type": "code",
   "execution_count": 2,
   "metadata": {},
   "outputs": [],
   "source": [
    "from convizit import Convizit"
   ]
  },
  {
   "cell_type": "markdown",
   "metadata": {},
   "source": [
    "Now we create a Convizit instance, to do it login, password and site token are needed.\n",
    "I will insert our test website details to continue (I've initialized the login, password and siteToken variables earlier)."
   ]
  },
  {
   "cell_type": "code",
   "execution_count": 3,
   "metadata": {},
   "outputs": [],
   "source": [
    "data_supplier = Convizit(login, password, siteToken)"
   ]
  },
  {
   "cell_type": "markdown",
   "metadata": {},
   "source": [
    "Now let's use our Convizit instance to get the page views for the following time interval:"
   ]
  },
  {
   "cell_type": "code",
   "execution_count": 4,
   "metadata": {},
   "outputs": [
    {
     "data": {
      "text/plain": [
       "{'identifier': '8818',\n",
       " 'localTimestamp': '2018-06-09T18:58:52.000Z',\n",
       " 'globalTimestamp': '2018-06-09T15:58:52.000Z',\n",
       " 'pageURL': 'https://con-shop-store.myshopify.com/',\n",
       " 'pageTitle': 'Store – Con Shop Store',\n",
       " 'referrer': None,\n",
       " 'campaign': None,\n",
       " 'userAgent': 'Mozilla/5.0 (Windows NT 10.0; Win64; x64) AppleWebKit/537.36 (KHTML, like Gecko) Chrome/66.0.3359.181 Safari/537.36',\n",
       " 'device': 'Desktop',\n",
       " 'platform': 'Windows'}"
      ]
     },
     "execution_count": 4,
     "metadata": {},
     "output_type": "execute_result"
    }
   ],
   "source": [
    "page_visits = data_supplier.getVisits(fromTime='2018-06-20 16:10:07', toTime='2019-01-20 16:10:07')\n",
    "page_visits[0]"
   ]
  },
  {
   "cell_type": "markdown",
   "metadata": {},
   "source": [
    "We've got back a list of dictionaries.\n",
    "As can be seen from the output, for every page visit we receive the time of the vizit, page url, page title and more...\n",
    "Let's use Pandas DataFrame to examine our data:"
   ]
  },
  {
   "cell_type": "code",
   "execution_count": 5,
   "metadata": {},
   "outputs": [
    {
     "data": {
      "text/html": [
       "<div>\n",
       "<style scoped>\n",
       "    .dataframe tbody tr th:only-of-type {\n",
       "        vertical-align: middle;\n",
       "    }\n",
       "\n",
       "    .dataframe tbody tr th {\n",
       "        vertical-align: top;\n",
       "    }\n",
       "\n",
       "    .dataframe thead th {\n",
       "        text-align: right;\n",
       "    }\n",
       "</style>\n",
       "<table border=\"1\" class=\"dataframe\">\n",
       "  <thead>\n",
       "    <tr style=\"text-align: right;\">\n",
       "      <th></th>\n",
       "      <th>campaign</th>\n",
       "      <th>device</th>\n",
       "      <th>globalTimestamp</th>\n",
       "      <th>identifier</th>\n",
       "      <th>localTimestamp</th>\n",
       "      <th>pageTitle</th>\n",
       "      <th>pageURL</th>\n",
       "      <th>platform</th>\n",
       "      <th>referrer</th>\n",
       "      <th>userAgent</th>\n",
       "    </tr>\n",
       "  </thead>\n",
       "  <tbody>\n",
       "    <tr>\n",
       "      <th>0</th>\n",
       "      <td>None</td>\n",
       "      <td>Desktop</td>\n",
       "      <td>2018-06-09T15:58:52.000Z</td>\n",
       "      <td>8818</td>\n",
       "      <td>2018-06-09T18:58:52.000Z</td>\n",
       "      <td>Store – Con Shop Store</td>\n",
       "      <td>https://con-shop-store.myshopify.com/</td>\n",
       "      <td>Windows</td>\n",
       "      <td>None</td>\n",
       "      <td>Mozilla/5.0 (Windows NT 10.0; Win64; x64) Appl...</td>\n",
       "    </tr>\n",
       "    <tr>\n",
       "      <th>1</th>\n",
       "      <td>None</td>\n",
       "      <td>Desktop</td>\n",
       "      <td>2018-06-09T16:00:48.000Z</td>\n",
       "      <td>92510</td>\n",
       "      <td>2018-06-09T19:00:48.000Z</td>\n",
       "      <td>Store – Con Shop Store</td>\n",
       "      <td>https://con-shop-store.myshopify.com/</td>\n",
       "      <td>Windows</td>\n",
       "      <td>None</td>\n",
       "      <td>Mozilla/5.0 (Windows NT 10.0; Win64; x64) Appl...</td>\n",
       "    </tr>\n",
       "    <tr>\n",
       "      <th>2</th>\n",
       "      <td>None</td>\n",
       "      <td>Desktop</td>\n",
       "      <td>2018-06-09T16:00:48.000Z</td>\n",
       "      <td>92510</td>\n",
       "      <td>2018-06-09T19:00:48.000Z</td>\n",
       "      <td>Store – Con Shop Store</td>\n",
       "      <td>https://con-shop-store.myshopify.com/</td>\n",
       "      <td>Windows</td>\n",
       "      <td>None</td>\n",
       "      <td>Mozilla/5.0 (Windows NT 10.0; Win64; x64) Appl...</td>\n",
       "    </tr>\n",
       "  </tbody>\n",
       "</table>\n",
       "</div>"
      ],
      "text/plain": [
       "  campaign   device           globalTimestamp identifier  \\\n",
       "0     None  Desktop  2018-06-09T15:58:52.000Z       8818   \n",
       "1     None  Desktop  2018-06-09T16:00:48.000Z      92510   \n",
       "2     None  Desktop  2018-06-09T16:00:48.000Z      92510   \n",
       "\n",
       "             localTimestamp               pageTitle  \\\n",
       "0  2018-06-09T18:58:52.000Z  Store – Con Shop Store   \n",
       "1  2018-06-09T19:00:48.000Z  Store – Con Shop Store   \n",
       "2  2018-06-09T19:00:48.000Z  Store – Con Shop Store   \n",
       "\n",
       "                                 pageURL platform referrer  \\\n",
       "0  https://con-shop-store.myshopify.com/  Windows     None   \n",
       "1  https://con-shop-store.myshopify.com/  Windows     None   \n",
       "2  https://con-shop-store.myshopify.com/  Windows     None   \n",
       "\n",
       "                                           userAgent  \n",
       "0  Mozilla/5.0 (Windows NT 10.0; Win64; x64) Appl...  \n",
       "1  Mozilla/5.0 (Windows NT 10.0; Win64; x64) Appl...  \n",
       "2  Mozilla/5.0 (Windows NT 10.0; Win64; x64) Appl...  "
      ]
     },
     "execution_count": 5,
     "metadata": {},
     "output_type": "execute_result"
    }
   ],
   "source": [
    "import pandas as pd\n",
    "df = pd.DataFrame.from_records(page_visits)\n",
    "df.head(3)"
   ]
  },
  {
   "cell_type": "markdown",
   "metadata": {},
   "source": [
    "Now let's see how many visitors every page in our website got during this time interval:"
   ]
  },
  {
   "cell_type": "code",
   "execution_count": 6,
   "metadata": {},
   "outputs": [
    {
     "data": {
      "text/html": [
       "<div>\n",
       "<style scoped>\n",
       "    .dataframe tbody tr th:only-of-type {\n",
       "        vertical-align: middle;\n",
       "    }\n",
       "\n",
       "    .dataframe tbody tr th {\n",
       "        vertical-align: top;\n",
       "    }\n",
       "\n",
       "    .dataframe thead th {\n",
       "        text-align: right;\n",
       "    }\n",
       "</style>\n",
       "<table border=\"1\" class=\"dataframe\">\n",
       "  <thead>\n",
       "    <tr style=\"text-align: right;\">\n",
       "      <th></th>\n",
       "      <th>pageTitle</th>\n",
       "      <th>num of visits</th>\n",
       "    </tr>\n",
       "  </thead>\n",
       "  <tbody>\n",
       "    <tr>\n",
       "      <th>21</th>\n",
       "      <td>Store – Con Shop Store</td>\n",
       "      <td>69</td>\n",
       "    </tr>\n",
       "    <tr>\n",
       "      <th>23</th>\n",
       "      <td>Your Shopping Cart – Con Shop Store</td>\n",
       "      <td>25</td>\n",
       "    </tr>\n",
       "    <tr>\n",
       "      <th>18</th>\n",
       "      <td>Products – Con Shop Store</td>\n",
       "      <td>18</td>\n",
       "    </tr>\n",
       "    <tr>\n",
       "      <th>22</th>\n",
       "      <td>Womens Jackets – Con Shop Store</td>\n",
       "      <td>13</td>\n",
       "    </tr>\n",
       "    <tr>\n",
       "      <th>17</th>\n",
       "      <td>Mens Jackets – Con Shop Store</td>\n",
       "      <td>13</td>\n",
       "    </tr>\n",
       "    <tr>\n",
       "      <th>16</th>\n",
       "      <td>Jewlery – Con Shop Store</td>\n",
       "      <td>10</td>\n",
       "    </tr>\n",
       "    <tr>\n",
       "      <th>2</th>\n",
       "      <td>A-Line Jacket – Con Shop Store</td>\n",
       "      <td>7</td>\n",
       "    </tr>\n",
       "    <tr>\n",
       "      <th>9</th>\n",
       "      <td>Alverstone Jacket in Midnight – Con Shop Store</td>\n",
       "      <td>7</td>\n",
       "    </tr>\n",
       "    <tr>\n",
       "      <th>11</th>\n",
       "      <td>Big Army Jacket in Olive – Con Shop Store</td>\n",
       "      <td>6</td>\n",
       "    </tr>\n",
       "    <tr>\n",
       "      <th>19</th>\n",
       "      <td>Products – Page 2 – Con Shop Store</td>\n",
       "      <td>6</td>\n",
       "    </tr>\n",
       "    <tr>\n",
       "      <th>0</th>\n",
       "      <td>3/4 Sleeve Kimono Dress – Con Shop Store</td>\n",
       "      <td>6</td>\n",
       "    </tr>\n",
       "    <tr>\n",
       "      <th>12</th>\n",
       "      <td>Bracelet 65 in Black – Con Shop Store</td>\n",
       "      <td>6</td>\n",
       "    </tr>\n",
       "    <tr>\n",
       "      <th>15</th>\n",
       "      <td>Darell Jacket – Con Shop Store</td>\n",
       "      <td>5</td>\n",
       "    </tr>\n",
       "    <tr>\n",
       "      <th>10</th>\n",
       "      <td>Anatole Ring – Con Shop Store</td>\n",
       "      <td>4</td>\n",
       "    </tr>\n",
       "    <tr>\n",
       "      <th>13</th>\n",
       "      <td>Cila Jumper in Mud – Con Shop Store</td>\n",
       "      <td>4</td>\n",
       "    </tr>\n",
       "    <tr>\n",
       "      <th>8</th>\n",
       "      <td>Ally Ring – Con Shop Store</td>\n",
       "      <td>4</td>\n",
       "    </tr>\n",
       "    <tr>\n",
       "      <th>1</th>\n",
       "      <td>5 Pocket Jean – Con Shop Store</td>\n",
       "      <td>3</td>\n",
       "    </tr>\n",
       "    <tr>\n",
       "      <th>5</th>\n",
       "      <td>ACB Top – Con Shop Store</td>\n",
       "      <td>3</td>\n",
       "    </tr>\n",
       "    <tr>\n",
       "      <th>14</th>\n",
       "      <td>Cotton Jacket in Navy – Con Shop Store</td>\n",
       "      <td>2</td>\n",
       "    </tr>\n",
       "    <tr>\n",
       "      <th>6</th>\n",
       "      <td>Adania Pant – Con Shop Store</td>\n",
       "      <td>2</td>\n",
       "    </tr>\n",
       "    <tr>\n",
       "      <th>7</th>\n",
       "      <td>Alex Twill Pant in Mariner – Con Shop Store</td>\n",
       "      <td>1</td>\n",
       "    </tr>\n",
       "    <tr>\n",
       "      <th>20</th>\n",
       "      <td>Products – Page 3 – Con Shop Store</td>\n",
       "      <td>1</td>\n",
       "    </tr>\n",
       "    <tr>\n",
       "      <th>4</th>\n",
       "      <td>A-Line Pocket Shift in Black – Con Shop Store</td>\n",
       "      <td>1</td>\n",
       "    </tr>\n",
       "    <tr>\n",
       "      <th>3</th>\n",
       "      <td>A-Line Mini Dress in Blue – Con Shop Store</td>\n",
       "      <td>1</td>\n",
       "    </tr>\n",
       "  </tbody>\n",
       "</table>\n",
       "</div>"
      ],
      "text/plain": [
       "                                         pageTitle  num of visits\n",
       "21                          Store – Con Shop Store             69\n",
       "23             Your Shopping Cart – Con Shop Store             25\n",
       "18                       Products – Con Shop Store             18\n",
       "22                 Womens Jackets – Con Shop Store             13\n",
       "17                   Mens Jackets – Con Shop Store             13\n",
       "16                        Jewlery – Con Shop Store             10\n",
       "2                   A-Line Jacket – Con Shop Store              7\n",
       "9   Alverstone Jacket in Midnight – Con Shop Store              7\n",
       "11       Big Army Jacket in Olive – Con Shop Store              6\n",
       "19              Products – Page 2 – Con Shop Store              6\n",
       "0         3/4 Sleeve Kimono Dress – Con Shop Store              6\n",
       "12           Bracelet 65 in Black – Con Shop Store              6\n",
       "15                  Darell Jacket – Con Shop Store              5\n",
       "10                   Anatole Ring – Con Shop Store              4\n",
       "13             Cila Jumper in Mud – Con Shop Store              4\n",
       "8                       Ally Ring – Con Shop Store              4\n",
       "1                   5 Pocket Jean – Con Shop Store              3\n",
       "5                         ACB Top – Con Shop Store              3\n",
       "14          Cotton Jacket in Navy – Con Shop Store              2\n",
       "6                     Adania Pant – Con Shop Store              2\n",
       "7      Alex Twill Pant in Mariner – Con Shop Store              1\n",
       "20              Products – Page 3 – Con Shop Store              1\n",
       "4    A-Line Pocket Shift in Black – Con Shop Store              1\n",
       "3       A-Line Mini Dress in Blue – Con Shop Store              1"
      ]
     },
     "execution_count": 6,
     "metadata": {},
     "output_type": "execute_result"
    }
   ],
   "source": [
    "df.groupby(['pageTitle']).size().reset_index(name='num of visits').sort_values('num of visits', ascending=False)"
   ]
  },
  {
   "cell_type": "markdown",
   "metadata": {},
   "source": [
    "We got the complete list of pages in our website and their number of visitors during this time interval.\n",
    "We can see that the most visited page is 'Store - Con Shop Store' with 69 vizitors, which is the homepage of this website."
   ]
  }
 ],
 "metadata": {
  "kernelspec": {
   "display_name": "Python 3",
   "language": "python",
   "name": "python3"
  },
  "language_info": {
   "codemirror_mode": {
    "name": "ipython",
    "version": 3
   },
   "file_extension": ".py",
   "mimetype": "text/x-python",
   "name": "python",
   "nbconvert_exporter": "python",
   "pygments_lexer": "ipython3",
   "version": "3.6.8"
  }
 },
 "nbformat": 4,
 "nbformat_minor": 2
}
