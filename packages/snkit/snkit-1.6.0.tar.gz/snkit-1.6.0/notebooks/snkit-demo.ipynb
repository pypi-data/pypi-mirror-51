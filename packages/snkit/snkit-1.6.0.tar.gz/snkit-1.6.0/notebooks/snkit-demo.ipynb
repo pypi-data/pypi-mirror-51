{
 "cells": [
  {
   "cell_type": "markdown",
   "metadata": {},
   "source": [
    "# Create a topological network from spatial data\n",
    "\n",
    "`snkit` helps with spatial networks problems, mainly the kind of thing that comes up in data cleaning, tidying and pre-processing.\n",
    "\n",
    "This notebook goes through a cleaning process:\n",
    "- read in a set of nearly-connected points and lines\n",
    "- add nodes at the line endpoints\n",
    "- links the remaining points to the existing lines (if they're within a specified distance)\n",
    "- give everything a unique ID\n",
    "- add from/to ids to the edges\n",
    "\n",
    "The data is output in a state ready to be used as a network graph for further analysis."
   ]
  },
  {
   "cell_type": "code",
   "execution_count": 1,
   "metadata": {},
   "outputs": [],
   "source": [
    "import snkit\n",
    "import snkit.network\n",
    "import pandas\n",
    "import geopandas\n",
    "import matplotlib.pyplot as plt"
   ]
  },
  {
   "cell_type": "code",
   "execution_count": 2,
   "metadata": {},
   "outputs": [
    {
     "data": {
      "text/html": [
       "<div>\n",
       "<style scoped>\n",
       "    .dataframe tbody tr th:only-of-type {\n",
       "        vertical-align: middle;\n",
       "    }\n",
       "\n",
       "    .dataframe tbody tr th {\n",
       "        vertical-align: top;\n",
       "    }\n",
       "\n",
       "    .dataframe thead th {\n",
       "        text-align: right;\n",
       "    }\n",
       "</style>\n",
       "<table border=\"1\" class=\"dataframe\">\n",
       "  <thead>\n",
       "    <tr style=\"text-align: right;\">\n",
       "      <th></th>\n",
       "      <th>geometry</th>\n",
       "    </tr>\n",
       "  </thead>\n",
       "  <tbody>\n",
       "    <tr>\n",
       "      <th>0</th>\n",
       "      <td>LINESTRING (0.004119 -0.040855, 0.000343 -0.03...</td>\n",
       "    </tr>\n",
       "    <tr>\n",
       "      <th>1</th>\n",
       "      <td>LINESTRING (0.017681 -0.012359, 0.017681 -0.02...</td>\n",
       "    </tr>\n",
       "    <tr>\n",
       "      <th>2</th>\n",
       "      <td>LINESTRING (0.029697 0.018882, 0.018882 0.0181...</td>\n",
       "    </tr>\n",
       "    <tr>\n",
       "      <th>3</th>\n",
       "      <td>POINT (0.030899 0.044288)</td>\n",
       "    </tr>\n",
       "    <tr>\n",
       "      <th>4</th>\n",
       "      <td>POINT (0.030899 0.037593)</td>\n",
       "    </tr>\n",
       "    <tr>\n",
       "      <th>5</th>\n",
       "      <td>POINT (0.021286 0.039482)</td>\n",
       "    </tr>\n",
       "    <tr>\n",
       "      <th>6</th>\n",
       "      <td>POINT (0.029869 -0.0218)</td>\n",
       "    </tr>\n",
       "    <tr>\n",
       "      <th>7</th>\n",
       "      <td>POINT (0.037593 -0.02798)</td>\n",
       "    </tr>\n",
       "    <tr>\n",
       "      <th>8</th>\n",
       "      <td>POINT (-0.002746 -0.028667)</td>\n",
       "    </tr>\n",
       "    <tr>\n",
       "      <th>9</th>\n",
       "      <td>POINT (-0.001201 -0.038108)</td>\n",
       "    </tr>\n",
       "    <tr>\n",
       "      <th>10</th>\n",
       "      <td>POINT (-0.007381 0.03416)</td>\n",
       "    </tr>\n",
       "    <tr>\n",
       "      <th>11</th>\n",
       "      <td>POINT (0.001888 0.0321)</td>\n",
       "    </tr>\n",
       "    <tr>\n",
       "      <th>12</th>\n",
       "      <td>POINT (0.004978 0.02592)</td>\n",
       "    </tr>\n",
       "  </tbody>\n",
       "</table>\n",
       "</div>"
      ],
      "text/plain": [
       "                                             geometry\n",
       "0   LINESTRING (0.004119 -0.040855, 0.000343 -0.03...\n",
       "1   LINESTRING (0.017681 -0.012359, 0.017681 -0.02...\n",
       "2   LINESTRING (0.029697 0.018882, 0.018882 0.0181...\n",
       "3                           POINT (0.030899 0.044288)\n",
       "4                           POINT (0.030899 0.037593)\n",
       "5                           POINT (0.021286 0.039482)\n",
       "6                            POINT (0.029869 -0.0218)\n",
       "7                           POINT (0.037593 -0.02798)\n",
       "8                         POINT (-0.002746 -0.028667)\n",
       "9                         POINT (-0.001201 -0.038108)\n",
       "10                          POINT (-0.007381 0.03416)\n",
       "11                            POINT (0.001888 0.0321)\n",
       "12                           POINT (0.004978 0.02592)"
      ]
     },
     "execution_count": 2,
     "metadata": {},
     "output_type": "execute_result"
    }
   ],
   "source": [
    "data = geopandas.read_file('small-demo.geojson')\n",
    "data"
   ]
  },
  {
   "cell_type": "code",
   "execution_count": 3,
   "metadata": {},
   "outputs": [],
   "source": [
    "edges = data[:3]\n",
    "nodes = data[3:]"
   ]
  },
  {
   "cell_type": "code",
   "execution_count": 4,
   "metadata": {},
   "outputs": [],
   "source": [
    "def plot_network(n):\n",
    "    df = pandas.concat([n.nodes, n.edges], axis=0, sort=False)\n",
    "    df.plot()"
   ]
  },
  {
   "cell_type": "markdown",
   "metadata": {},
   "source": [
    "A network consists of nodes and edges - `snkit` stores these as two separate `GeoDataFrame`s."
   ]
  },
  {
   "cell_type": "code",
   "execution_count": 5,
   "metadata": {},
   "outputs": [
    {
     "data": {
      "image/png": "[encoded data removed]",
      "text/plain": [
       "<Figure size 432x288 with 1 Axes>"
      ]
     },
     "metadata": {
      "needs_background": "light"
     },
     "output_type": "display_data"
    }
   ],
   "source": [
    "base_network = snkit.Network(nodes, edges)\n",
    "plot_network(base_network)"
   ]
  },
  {
   "cell_type": "markdown",
   "metadata": {},
   "source": [
    "Add points at the end of each line. This uses the first and last coordinate pair from each `LineString` geometry and creates a node at each point."
   ]
  },
  {
   "cell_type": "code",
   "execution_count": 6,
   "metadata": {},
   "outputs": [
    {
     "data": {
      "image/png": "[encoded data removed]",
      "text/plain": [
       "<Figure size 432x288 with 1 Axes>"
      ]
     },
     "metadata": {
      "needs_background": "light"
     },
     "output_type": "display_data"
    }
   ],
   "source": [
    "with_endpoints = snkit.network.add_endpoints(base_network)\n",
    "plot_network(with_endpoints)"
   ]
  },
  {
   "cell_type": "markdown",
   "metadata": {},
   "source": [
    "Links each point to any (all) edges within a distance threshold.\n",
    "\n",
    "For a typical edge, this:\n",
    "- finds any nodes within the given distance\n",
    "- creates new straight-line edges from the edge directly to each node\n",
    "- splits the original edge at each point where the new edges intersect"
   ]
  },
  {
   "cell_type": "code",
   "execution_count": 7,
   "metadata": {},
   "outputs": [
    {
     "data": {
      "image/png": "[encoded data removed]",
      "text/plain": [
       "<Figure size 432x288 with 1 Axes>"
      ]
     },
     "metadata": {
      "needs_background": "light"
     },
     "output_type": "display_data"
    }
   ],
   "source": [
    "linked = snkit.network.link_nodes_to_edges_within(with_endpoints, 0.01)\n",
    "plot_network(linked)"
   ]
  },
  {
   "cell_type": "markdown",
   "metadata": {},
   "source": [
    "Linking nodes is sensitive to the distance parameter - depending on the dataset or problem, some nodes will not be connected if they are too far from the nearest line (see top right in the figure below)."
   ]
  },
  {
   "cell_type": "code",
   "execution_count": 8,
   "metadata": {},
   "outputs": [
    {
     "data": {
      "image/png": "[encoded data removed]",
      "text/plain": [
       "<Figure size 432x288 with 1 Axes>"
      ]
     },
     "metadata": {
      "needs_background": "light"
     },
     "output_type": "display_data"
    }
   ],
   "source": [
    "linked_n = snkit.network.link_nodes_to_edges_within(with_endpoints, 0.005)\n",
    "plot_network(linked_n)"
   ]
  },
  {
   "cell_type": "markdown",
   "metadata": {},
   "source": [
    "Add IDs to each node and edge, then add topology, recording the ids of nodes at each end of each edge. \n",
    "\n",
    "This is saved as `from_id` and `to_id` but `snkit` currently has no opinion about direction or ordering - from/to could easily be reversed."
   ]
  },
  {
   "cell_type": "code",
   "execution_count": 9,
   "metadata": {},
   "outputs": [
    {
     "data": {
      "image/png": "[encoded data removed]",
      "text/plain": [
       "<Figure size 432x288 with 1 Axes>"
      ]
     },
     "metadata": {
      "needs_background": "light"
     },
     "output_type": "display_data"
    }
   ],
   "source": [
    "with_topology = snkit.network.add_topology(snkit.network.add_ids(linked))\n",
    "plot_network(with_topology)"
   ]
  },
  {
   "cell_type": "markdown",
   "metadata": {},
   "source": [
    "Preview data."
   ]
  },
  {
   "cell_type": "code",
   "execution_count": 10,
   "metadata": {},
   "outputs": [
    {
     "data": {
      "text/html": [
       "<div>\n",
       "<style scoped>\n",
       "    .dataframe tbody tr th:only-of-type {\n",
       "        vertical-align: middle;\n",
       "    }\n",
       "\n",
       "    .dataframe tbody tr th {\n",
       "        vertical-align: top;\n",
       "    }\n",
       "\n",
       "    .dataframe thead th {\n",
       "        text-align: right;\n",
       "    }\n",
       "</style>\n",
       "<table border=\"1\" class=\"dataframe\">\n",
       "  <thead>\n",
       "    <tr style=\"text-align: right;\">\n",
       "      <th></th>\n",
       "      <th>geometry</th>\n",
       "      <th>id</th>\n",
       "    </tr>\n",
       "  </thead>\n",
       "  <tbody>\n",
       "    <tr>\n",
       "      <th>0</th>\n",
       "      <td>POINT (0.030899 0.044288)</td>\n",
       "      <td>node_0</td>\n",
       "    </tr>\n",
       "    <tr>\n",
       "      <th>1</th>\n",
       "      <td>POINT (0.030899 0.037593)</td>\n",
       "      <td>node_1</td>\n",
       "    </tr>\n",
       "    <tr>\n",
       "      <th>2</th>\n",
       "      <td>POINT (0.021286 0.039482)</td>\n",
       "      <td>node_2</td>\n",
       "    </tr>\n",
       "    <tr>\n",
       "      <th>3</th>\n",
       "      <td>POINT (0.029869 -0.0218)</td>\n",
       "      <td>node_3</td>\n",
       "    </tr>\n",
       "    <tr>\n",
       "      <th>4</th>\n",
       "      <td>POINT (0.037593 -0.02798)</td>\n",
       "      <td>node_4</td>\n",
       "    </tr>\n",
       "  </tbody>\n",
       "</table>\n",
       "</div>"
      ],
      "text/plain": [
       "                    geometry      id\n",
       "0  POINT (0.030899 0.044288)  node_0\n",
       "1  POINT (0.030899 0.037593)  node_1\n",
       "2  POINT (0.021286 0.039482)  node_2\n",
       "3   POINT (0.029869 -0.0218)  node_3\n",
       "4  POINT (0.037593 -0.02798)  node_4"
      ]
     },
     "execution_count": 10,
     "metadata": {},
     "output_type": "execute_result"
    }
   ],
   "source": [
    "with_topology.nodes.head()"
   ]
  },
  {
   "cell_type": "code",
   "execution_count": 11,
   "metadata": {},
   "outputs": [
    {
     "data": {
      "text/html": [
       "<div>\n",
       "<style scoped>\n",
       "    .dataframe tbody tr th:only-of-type {\n",
       "        vertical-align: middle;\n",
       "    }\n",
       "\n",
       "    .dataframe tbody tr th {\n",
       "        vertical-align: top;\n",
       "    }\n",
       "\n",
       "    .dataframe thead th {\n",
       "        text-align: right;\n",
       "    }\n",
       "</style>\n",
       "<table border=\"1\" class=\"dataframe\">\n",
       "  <thead>\n",
       "    <tr style=\"text-align: right;\">\n",
       "      <th></th>\n",
       "      <th>geometry</th>\n",
       "      <th>id</th>\n",
       "      <th>from_id</th>\n",
       "      <th>to_id</th>\n",
       "    </tr>\n",
       "  </thead>\n",
       "  <tbody>\n",
       "    <tr>\n",
       "      <th>0</th>\n",
       "      <td>LINESTRING (0.004119 -0.040855, 0.001901983195...</td>\n",
       "      <td>edge_0</td>\n",
       "      <td>node_10</td>\n",
       "      <td>node_22</td>\n",
       "    </tr>\n",
       "    <tr>\n",
       "      <th>1</th>\n",
       "      <td>LINESTRING (0.001901983195800565 -0.0365207791...</td>\n",
       "      <td>edge_1</td>\n",
       "      <td>node_22</td>\n",
       "      <td>node_21</td>\n",
       "    </tr>\n",
       "    <tr>\n",
       "      <th>2</th>\n",
       "      <td>LINESTRING (-0.0001046751142992144 -0.02843241...</td>\n",
       "      <td>edge_2</td>\n",
       "      <td>node_21</td>\n",
       "      <td>node_25</td>\n",
       "    </tr>\n",
       "    <tr>\n",
       "      <th>3</th>\n",
       "      <td>LINESTRING (0.017166 -0.010814, 0.02283 -0.008...</td>\n",
       "      <td>edge_3</td>\n",
       "      <td>node_25</td>\n",
       "      <td>node_26</td>\n",
       "    </tr>\n",
       "    <tr>\n",
       "      <th>4</th>\n",
       "      <td>LINESTRING (0.03043611630771107 0.018997911672...</td>\n",
       "      <td>edge_4</td>\n",
       "      <td>node_26</td>\n",
       "      <td>node_17</td>\n",
       "    </tr>\n",
       "  </tbody>\n",
       "</table>\n",
       "</div>"
      ],
      "text/plain": [
       "                                            geometry      id  from_id    to_id\n",
       "0  LINESTRING (0.004119 -0.040855, 0.001901983195...  edge_0  node_10  node_22\n",
       "1  LINESTRING (0.001901983195800565 -0.0365207791...  edge_1  node_22  node_21\n",
       "2  LINESTRING (-0.0001046751142992144 -0.02843241...  edge_2  node_21  node_25\n",
       "3  LINESTRING (0.017166 -0.010814, 0.02283 -0.008...  edge_3  node_25  node_26\n",
       "4  LINESTRING (0.03043611630771107 0.018997911672...  edge_4  node_26  node_17"
      ]
     },
     "execution_count": 11,
     "metadata": {},
     "output_type": "execute_result"
    }
   ],
   "source": [
    "with_topology.edges.head()"
   ]
  },
  {
   "cell_type": "markdown",
   "metadata": {},
   "source": [
    "Output to shapefiles"
   ]
  },
  {
   "cell_type": "code",
   "execution_count": 12,
   "metadata": {},
   "outputs": [],
   "source": [
    "with_topology.nodes.to_file('nodes.shp')\n",
    "with_topology.edges.to_file('edges.shp')"
   ]
  }
 ],
 "metadata": {
  "kernelspec": {
   "display_name": "Python 3",
   "language": "python",
   "name": "python3"
  },
  "language_info": {
   "codemirror_mode": {
    "name": "ipython",
    "version": 3
   },
   "file_extension": ".py",
   "mimetype": "text/x-python",
   "name": "python",
   "nbconvert_exporter": "python",
   "pygments_lexer": "ipython3",
   "version": "3.6.6"
  }
 },
 "nbformat": 4,
 "nbformat_minor": 2
}
