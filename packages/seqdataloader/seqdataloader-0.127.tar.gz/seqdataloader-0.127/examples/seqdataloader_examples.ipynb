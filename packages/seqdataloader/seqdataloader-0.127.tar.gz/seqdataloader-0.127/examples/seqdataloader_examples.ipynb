{
 "cells": [
  {
   "cell_type": "code",
   "execution_count": 1,
   "metadata": {},
   "outputs": [],
   "source": [
    "#load dragonn tutorial utilities \n",
    "%reload_ext autoreload\n",
    "%autoreload 2\n",
    "%matplotlib inline\n",
    "import warnings\n",
    "warnings.filterwarnings('ignore')"
   ]
  },
  {
   "cell_type": "markdown",
   "metadata": {},
   "source": [
    "## Ingesting data into tileDB "
   ]
  },
  {
   "cell_type": "code",
   "execution_count": 2,
   "metadata": {},
   "outputs": [],
   "source": [
    "from seqdataloader.dbingest import * "
   ]
  },
  {
   "cell_type": "markdown",
   "metadata": {},
   "source": [
    "The header of the input task file should contain (one or more) of the following fields: \n",
    "    * dataset (this one's required -- it's a unique label for your dataset) \n",
    "    * pval_bigwig \n",
    "    * fc_bigwig \n",
    "    * count_bigwig \n",
    "    * idr_peak\n",
    "    * overlap_peak \n",
    "    * ambig_peak \n",
    "    \n",
    "The file paths can be either local or web-based URL's. "
   ]
  },
  {
   "cell_type": "code",
   "execution_count": 3,
   "metadata": {},
   "outputs": [
    {
     "name": "stdout",
     "output_type": "stream",
     "text": [
      "dataset\tidr_peak\tfc_bigwig\tambig_peak\r\n",
      "ENCFF209DJG\thttps://www.encodeproject.org/files/ENCFF209DJG/@@download/ENCFF209DJG.bed.gz\thttps://www.encodeproject.org/files/ENCFF842XRQ/@@download/ENCFF842XRQ.bigWig\thg38.blacklist.bed.gz\r\n"
     ]
    }
   ],
   "source": [
    "!cat tasks.dbingest.tsv"
   ]
  },
  {
   "cell_type": "markdown",
   "metadata": {},
   "source": [
    "You can run the ingest code as a python function: "
   ]
  },
  {
   "cell_type": "code",
   "execution_count": null,
   "metadata": {},
   "outputs": [],
   "source": [
    "args={\"tiledb_metadata\":\"tasks.dbingest.tsv\",\n",
    "      \"tiledb_group\":\"hepg2_dnase_encode\",\n",
    "     \"overwrite\":True,\n",
    "     \"chrom_sizes\":\"hg38.chrom21.sizes\",\n",
    "     \"chrom_threads\":1,\n",
    "     \"task_threads\":1}\n",
    "\n",
    "ingest(args)"
   ]
  },
  {
   "cell_type": "markdown",
   "metadata": {},
   "source": [
    "Or you can run the code as a script: "
   ]
  },
  {
   "cell_type": "code",
   "execution_count": null,
   "metadata": {},
   "outputs": [],
   "source": [
    "!db_ingest --tiledb_metadata tiledb_metadata_adpd.txt \\\n",
    "       --tiledb_group /mnt/lab_data2/annashch/alzheimers_parkinsons/adpd_tiledb \\\n",
    "       --overwrite \\\n",
    "       --chrom_sizes hg38.chrom.sizes \\\n",
    "       --chrom_threads 1 \\\n",
    "       --task_threads 1"
   ]
  },
  {
   "cell_type": "code",
   "execution_count": null,
   "metadata": {},
   "outputs": [],
   "source": [
    "#we can examine the array \n",
    "import tiledb \n",
    "data=tiledb.DenseArray(\"hepg2_dnase_encode/ENCFF209DJG.chr21\",'r')\n",
    "subset=data[30000000:31000000]\n",
    "print(subset.keys())"
   ]
  },
  {
   "cell_type": "code",
   "execution_count": null,
   "metadata": {},
   "outputs": [],
   "source": [
    "subset['fc_bigwig'][0:1000]"
   ]
  },
  {
   "cell_type": "code",
   "execution_count": null,
   "metadata": {},
   "outputs": [],
   "source": [
    "subset['idr_peak'][0:1000]"
   ]
  },
  {
   "cell_type": "markdown",
   "metadata": {},
   "source": [
    "## Genomewide classification labels "
   ]
  },
  {
   "cell_type": "code",
   "execution_count": 5,
   "metadata": {},
   "outputs": [
    {
     "name": "stderr",
     "output_type": "stream",
     "text": [
      "Using TensorFlow backend.\n"
     ]
    },
    {
     "name": "stdout",
     "output_type": "stream",
     "text": [
      "creating dictionary of bed files and bigwig files for each task:\n",
      "ENCFF209DJG\n",
      "ENCFF605WXD\n",
      "ENCFF073ORT\n",
      "ENCFF618VMC\n",
      "creating chromosome thread pool\n",
      "launching thread pool\n",
      "pre-allocated df for chrom:chr21with dimensions:(934180, 7)\n",
      "got peak subset for chrom:chr21 for task:ENCFF618VMC\n",
      "finished chromosome:chr21 for task:ENCFF618VMC\n",
      "got peak subset for chrom:chr21 for task:ENCFF605WXD\n",
      "got peak subset for chrom:chr21 for task:ENCFF073ORT\n",
      "finished chromosome:chr21 for task:ENCFF605WXD\n",
      "finished chromosome:chr21 for task:ENCFF073ORT\n",
      "got peak subset for chrom:chr21 for task:ENCFF209DJG\n",
      "finished chromosome:chr21 for task:ENCFF209DJG\n",
      "writing output chromosomes:chr21\n",
      "done!\n"
     ]
    }
   ],
   "source": [
    "from seqdataloader.labelgen import *\n",
    "classification_params={\n",
    "    'task_list':\"tasks.labelgen.tsv\",\n",
    "    'outf':\"classificationlabels.SummitWithin200bpCenter.tsv.gz\",\n",
    "    'output_type':'gzip',\n",
    "    'chrom_sizes':'hg38.chrom.sizes',\n",
    "    'chroms_to_keep':['chr21'],\n",
    "    \"store_positives_only\":True,\n",
    "    'bin_stride':50,\n",
    "    'left_flank':400,\n",
    "    'right_flank':400,\n",
    "    'bin_size':200,\n",
    "    'task_threads':10,\n",
    "    'chrom_threads':4,\n",
    "    'allow_ambiguous':True,\n",
    "    'labeling_approach':'peak_summit_in_bin_classification'\n",
    "    }\n",
    "genomewide_labels(classification_params)\n",
    "\n"
   ]
  },
  {
   "cell_type": "markdown",
   "metadata": {},
   "source": [
    "## Genomewide regression labels "
   ]
  },
  {
   "cell_type": "code",
   "execution_count": 6,
   "metadata": {},
   "outputs": [
    {
     "name": "stdout",
     "output_type": "stream",
     "text": [
      "creating dictionary of bed files and bigwig files for each task:\n",
      "ENCFF209DJG\n",
      "ENCFF605WXD\n",
      "ENCFF073ORT\n",
      "ENCFF618VMC\n",
      "creating chromosome thread pool\n",
      "launching thread pool\n",
      "pre-allocated df for chrom:chr21with dimensions:(934180, 7)\n",
      "starting chromosome:chr21 for task:ENCFF209DJG\n",
      "finished chromosome:chr21 for task:ENCFF209DJG\n",
      "starting chromosome:chr21 for task:ENCFF605WXD\n",
      "finished chromosome:chr21 for task:ENCFF605WXD\n",
      "starting chromosome:chr21 for task:ENCFF073ORT\n",
      "finished chromosome:chr21 for task:ENCFF073ORT\n",
      "starting chromosome:chr21 for task:ENCFF618VMC\n",
      "finished chromosome:chr21 for task:ENCFF618VMC\n",
      "writing output chromosomes:chr21\n",
      "done!\n"
     ]
    }
   ],
   "source": [
    "regression_params={\n",
    "    'task_list':\"tasks.labelgen.tsv\",\n",
    "    'outf':\"regressionlabels.all_genome_bins_regression.hdf5\",\n",
    "    'output_type':'hdf5',\n",
    "    'chrom_sizes':'hg38.chrom.sizes',\n",
    "    'store_values_above_thresh': 0,\n",
    "    'chroms_to_keep':['chr21'],\n",
    "    'bin_stride':50,\n",
    "    'left_flank':400,\n",
    "    'right_flank':400,\n",
    "    'bin_size':200,\n",
    "    'threads':10,\n",
    "    'subthreads':4,\n",
    "    'labeling_approach':'all_genome_bins_regression'\n",
    "    }\n",
    "genomewide_labels(regression_params)\n"
   ]
  },
  {
   "cell_type": "markdown",
   "metadata": {},
   "source": [
    "let's examine the output dataframe for the regression case: "
   ]
  },
  {
   "cell_type": "code",
   "execution_count": 9,
   "metadata": {},
   "outputs": [],
   "source": [
    "regression_data=pd.read_hdf(\"regressionlabels.all_genome_bins_regression.hdf5\")"
   ]
  },
  {
   "cell_type": "code",
   "execution_count": 10,
   "metadata": {},
   "outputs": [
    {
     "data": {
      "text/html": [
       "<div>\n",
       "<style scoped>\n",
       "    .dataframe tbody tr th:only-of-type {\n",
       "        vertical-align: middle;\n",
       "    }\n",
       "\n",
       "    .dataframe tbody tr th {\n",
       "        vertical-align: top;\n",
       "    }\n",
       "\n",
       "    .dataframe thead th {\n",
       "        text-align: right;\n",
       "    }\n",
       "</style>\n",
       "<table border=\"1\" class=\"dataframe\">\n",
       "  <thead>\n",
       "    <tr style=\"text-align: right;\">\n",
       "      <th></th>\n",
       "      <th></th>\n",
       "      <th></th>\n",
       "      <th>ENCFF209DJG</th>\n",
       "      <th>ENCFF605WXD</th>\n",
       "      <th>ENCFF073ORT</th>\n",
       "      <th>ENCFF618VMC</th>\n",
       "    </tr>\n",
       "    <tr>\n",
       "      <th>CHR</th>\n",
       "      <th>START</th>\n",
       "      <th>END</th>\n",
       "      <th></th>\n",
       "      <th></th>\n",
       "      <th></th>\n",
       "      <th></th>\n",
       "    </tr>\n",
       "  </thead>\n",
       "  <tbody>\n",
       "    <tr>\n",
       "      <th rowspan=\"5\" valign=\"top\">chr21</th>\n",
       "      <th>5030250</th>\n",
       "      <th>5031250</th>\n",
       "      <td>0.0</td>\n",
       "      <td>0.0</td>\n",
       "      <td>0.003884</td>\n",
       "      <td>0.0</td>\n",
       "    </tr>\n",
       "    <tr>\n",
       "      <th>5030300</th>\n",
       "      <th>5031300</th>\n",
       "      <td>0.0</td>\n",
       "      <td>0.0</td>\n",
       "      <td>0.008200</td>\n",
       "      <td>0.0</td>\n",
       "    </tr>\n",
       "    <tr>\n",
       "      <th>5030350</th>\n",
       "      <th>5031350</th>\n",
       "      <td>0.0</td>\n",
       "      <td>0.0</td>\n",
       "      <td>0.012516</td>\n",
       "      <td>0.0</td>\n",
       "    </tr>\n",
       "    <tr>\n",
       "      <th>5030400</th>\n",
       "      <th>5031400</th>\n",
       "      <td>0.0</td>\n",
       "      <td>0.0</td>\n",
       "      <td>0.013811</td>\n",
       "      <td>0.0</td>\n",
       "    </tr>\n",
       "    <tr>\n",
       "      <th>5030450</th>\n",
       "      <th>5031450</th>\n",
       "      <td>0.0</td>\n",
       "      <td>0.0</td>\n",
       "      <td>0.009927</td>\n",
       "      <td>0.0</td>\n",
       "    </tr>\n",
       "  </tbody>\n",
       "</table>\n",
       "</div>"
      ],
      "text/plain": [
       "                       ENCFF209DJG  ENCFF605WXD  ENCFF073ORT  ENCFF618VMC\n",
       "CHR   START   END                                                        \n",
       "chr21 5030250 5031250          0.0          0.0     0.003884          0.0\n",
       "      5030300 5031300          0.0          0.0     0.008200          0.0\n",
       "      5030350 5031350          0.0          0.0     0.012516          0.0\n",
       "      5030400 5031400          0.0          0.0     0.013811          0.0\n",
       "      5030450 5031450          0.0          0.0     0.009927          0.0"
      ]
     },
     "execution_count": 10,
     "metadata": {},
     "output_type": "execute_result"
    }
   ],
   "source": [
    "regression_data.head()"
   ]
  },
  {
   "cell_type": "code",
   "execution_count": 18,
   "metadata": {},
   "outputs": [
    {
     "data": {
      "text/plain": [
       "<bound method NDFrame.head of           CHR     START       END\n",
       "0       chr21         0      1000\n",
       "1       chr21        50      1050\n",
       "2       chr21       100      1100\n",
       "3       chr21       150      1150\n",
       "4       chr21       200      1200\n",
       "5       chr21       250      1250\n",
       "6       chr21       300      1300\n",
       "7       chr21       350      1350\n",
       "8       chr21       400      1400\n",
       "9       chr21       450      1450\n",
       "10      chr21       500      1500\n",
       "11      chr21       550      1550\n",
       "12      chr21       600      1600\n",
       "13      chr21       650      1650\n",
       "14      chr21       700      1700\n",
       "15      chr21       750      1750\n",
       "16      chr21       800      1800\n",
       "17      chr21       850      1850\n",
       "18      chr21       900      1900\n",
       "19      chr21       950      1950\n",
       "20      chr21      1000      2000\n",
       "21      chr21      1050      2050\n",
       "22      chr21      1100      2100\n",
       "23      chr21      1150      2150\n",
       "24      chr21      1200      2200\n",
       "25      chr21      1250      2250\n",
       "26      chr21      1300      2300\n",
       "27      chr21      1350      2350\n",
       "28      chr21      1400      2400\n",
       "29      chr21      1450      2450\n",
       "...       ...       ...       ...\n",
       "934150  chr21  46707500  46708500\n",
       "934151  chr21  46707550  46708550\n",
       "934152  chr21  46707600  46708600\n",
       "934153  chr21  46707650  46708650\n",
       "934154  chr21  46707700  46708700\n",
       "934155  chr21  46707750  46708750\n",
       "934156  chr21  46707800  46708800\n",
       "934157  chr21  46707850  46708850\n",
       "934158  chr21  46707900  46708900\n",
       "934159  chr21  46707950  46708950\n",
       "934160  chr21  46708000  46709000\n",
       "934161  chr21  46708050  46709050\n",
       "934162  chr21  46708100  46709100\n",
       "934163  chr21  46708150  46709150\n",
       "934164  chr21  46708200  46709200\n",
       "934165  chr21  46708250  46709250\n",
       "934166  chr21  46708300  46709300\n",
       "934167  chr21  46708350  46709350\n",
       "934168  chr21  46708400  46709400\n",
       "934169  chr21  46708450  46709450\n",
       "934170  chr21  46708500  46709500\n",
       "934171  chr21  46708550  46709550\n",
       "934172  chr21  46708600  46709600\n",
       "934173  chr21  46708650  46709650\n",
       "934174  chr21  46708700  46709700\n",
       "934175  chr21  46708750  46709750\n",
       "934176  chr21  46708800  46709800\n",
       "934177  chr21  46708850  46709850\n",
       "934178  chr21  46708900  46709900\n",
       "934179  chr21  46708950  46709950\n",
       "\n",
       "[249089 rows x 3 columns]>"
      ]
     },
     "execution_count": 18,
     "metadata": {},
     "output_type": "execute_result"
    }
   ],
   "source": [
    "regression_negatives=pd.read_hdf(\"universal_negatives.regressionlabels.all_genome_bins_regression.hdf5\")\n",
    "regression_negatives.head"
   ]
  },
  {
   "cell_type": "markdown",
   "metadata": {},
   "source": [
    "for the classification case, we specified \"store_positives_only\", so the script generated two dataframes: \n",
    "    * Universal negatives \n",
    "    * Dataframe where each bin is >0 for at least one task "
   ]
  },
  {
   "cell_type": "code",
   "execution_count": 14,
   "metadata": {},
   "outputs": [],
   "source": [
    "classification_pos=pd.read_csv(\"classificationlabels.SummitWithin200bpCenter.tsv.gz\",sep='\\t',header=0)"
   ]
  },
  {
   "cell_type": "code",
   "execution_count": 15,
   "metadata": {},
   "outputs": [
    {
     "data": {
      "text/html": [
       "<div>\n",
       "<style scoped>\n",
       "    .dataframe tbody tr th:only-of-type {\n",
       "        vertical-align: middle;\n",
       "    }\n",
       "\n",
       "    .dataframe tbody tr th {\n",
       "        vertical-align: top;\n",
       "    }\n",
       "\n",
       "    .dataframe thead th {\n",
       "        text-align: right;\n",
       "    }\n",
       "</style>\n",
       "<table border=\"1\" class=\"dataframe\">\n",
       "  <thead>\n",
       "    <tr style=\"text-align: right;\">\n",
       "      <th></th>\n",
       "      <th>CHR</th>\n",
       "      <th>START</th>\n",
       "      <th>END</th>\n",
       "      <th>ENCFF209DJG</th>\n",
       "      <th>ENCFF605WXD</th>\n",
       "      <th>ENCFF073ORT</th>\n",
       "      <th>ENCFF618VMC</th>\n",
       "    </tr>\n",
       "  </thead>\n",
       "  <tbody>\n",
       "    <tr>\n",
       "      <th>0</th>\n",
       "      <td>chr21</td>\n",
       "      <td>5065150</td>\n",
       "      <td>5066150</td>\n",
       "      <td>0.0</td>\n",
       "      <td>0.0</td>\n",
       "      <td>1.0</td>\n",
       "      <td>0.0</td>\n",
       "    </tr>\n",
       "    <tr>\n",
       "      <th>1</th>\n",
       "      <td>chr21</td>\n",
       "      <td>5065200</td>\n",
       "      <td>5066200</td>\n",
       "      <td>0.0</td>\n",
       "      <td>0.0</td>\n",
       "      <td>1.0</td>\n",
       "      <td>0.0</td>\n",
       "    </tr>\n",
       "    <tr>\n",
       "      <th>2</th>\n",
       "      <td>chr21</td>\n",
       "      <td>5065250</td>\n",
       "      <td>5066250</td>\n",
       "      <td>0.0</td>\n",
       "      <td>0.0</td>\n",
       "      <td>1.0</td>\n",
       "      <td>0.0</td>\n",
       "    </tr>\n",
       "    <tr>\n",
       "      <th>3</th>\n",
       "      <td>chr21</td>\n",
       "      <td>5065300</td>\n",
       "      <td>5066300</td>\n",
       "      <td>0.0</td>\n",
       "      <td>0.0</td>\n",
       "      <td>1.0</td>\n",
       "      <td>0.0</td>\n",
       "    </tr>\n",
       "    <tr>\n",
       "      <th>4</th>\n",
       "      <td>chr21</td>\n",
       "      <td>5101350</td>\n",
       "      <td>5102350</td>\n",
       "      <td>1.0</td>\n",
       "      <td>0.0</td>\n",
       "      <td>1.0</td>\n",
       "      <td>0.0</td>\n",
       "    </tr>\n",
       "  </tbody>\n",
       "</table>\n",
       "</div>"
      ],
      "text/plain": [
       "     CHR    START      END  ENCFF209DJG  ENCFF605WXD  ENCFF073ORT  ENCFF618VMC\n",
       "0  chr21  5065150  5066150          0.0          0.0          1.0          0.0\n",
       "1  chr21  5065200  5066200          0.0          0.0          1.0          0.0\n",
       "2  chr21  5065250  5066250          0.0          0.0          1.0          0.0\n",
       "3  chr21  5065300  5066300          0.0          0.0          1.0          0.0\n",
       "4  chr21  5101350  5102350          1.0          0.0          1.0          0.0"
      ]
     },
     "execution_count": 15,
     "metadata": {},
     "output_type": "execute_result"
    }
   ],
   "source": [
    "classification_pos.head()"
   ]
  },
  {
   "cell_type": "code",
   "execution_count": 16,
   "metadata": {},
   "outputs": [],
   "source": [
    "classification_neg=pd.read_csv(\"universal_negatives.classificationlabels.SummitWithin200bpCenter.tsv.gz\",sep='\\t',header=0)"
   ]
  },
  {
   "cell_type": "code",
   "execution_count": 17,
   "metadata": {},
   "outputs": [
    {
     "data": {
      "text/html": [
       "<div>\n",
       "<style scoped>\n",
       "    .dataframe tbody tr th:only-of-type {\n",
       "        vertical-align: middle;\n",
       "    }\n",
       "\n",
       "    .dataframe tbody tr th {\n",
       "        vertical-align: top;\n",
       "    }\n",
       "\n",
       "    .dataframe thead th {\n",
       "        text-align: right;\n",
       "    }\n",
       "</style>\n",
       "<table border=\"1\" class=\"dataframe\">\n",
       "  <thead>\n",
       "    <tr style=\"text-align: right;\">\n",
       "      <th></th>\n",
       "      <th>CHR</th>\n",
       "      <th>START</th>\n",
       "      <th>END</th>\n",
       "    </tr>\n",
       "  </thead>\n",
       "  <tbody>\n",
       "    <tr>\n",
       "      <th>0</th>\n",
       "      <td>chr21</td>\n",
       "      <td>0</td>\n",
       "      <td>1000</td>\n",
       "    </tr>\n",
       "    <tr>\n",
       "      <th>1</th>\n",
       "      <td>chr21</td>\n",
       "      <td>50</td>\n",
       "      <td>1050</td>\n",
       "    </tr>\n",
       "    <tr>\n",
       "      <th>2</th>\n",
       "      <td>chr21</td>\n",
       "      <td>100</td>\n",
       "      <td>1100</td>\n",
       "    </tr>\n",
       "    <tr>\n",
       "      <th>3</th>\n",
       "      <td>chr21</td>\n",
       "      <td>150</td>\n",
       "      <td>1150</td>\n",
       "    </tr>\n",
       "    <tr>\n",
       "      <th>4</th>\n",
       "      <td>chr21</td>\n",
       "      <td>200</td>\n",
       "      <td>1200</td>\n",
       "    </tr>\n",
       "  </tbody>\n",
       "</table>\n",
       "</div>"
      ],
      "text/plain": [
       "     CHR  START   END\n",
       "0  chr21      0  1000\n",
       "1  chr21     50  1050\n",
       "2  chr21    100  1100\n",
       "3  chr21    150  1150\n",
       "4  chr21    200  1200"
      ]
     },
     "execution_count": 17,
     "metadata": {},
     "output_type": "execute_result"
    }
   ],
   "source": [
    "classification_neg.head()"
   ]
  },
  {
   "cell_type": "code",
   "execution_count": null,
   "metadata": {},
   "outputs": [],
   "source": []
  }
 ],
 "metadata": {
  "kernelspec": {
   "display_name": "Python 3",
   "language": "python",
   "name": "python3"
  },
  "language_info": {
   "codemirror_mode": {
    "name": "ipython",
    "version": 3
   },
   "file_extension": ".py",
   "mimetype": "text/x-python",
   "name": "python",
   "nbconvert_exporter": "python",
   "pygments_lexer": "ipython3",
   "version": "3.6.7"
  }
 },
 "nbformat": 4,
 "nbformat_minor": 2
}
