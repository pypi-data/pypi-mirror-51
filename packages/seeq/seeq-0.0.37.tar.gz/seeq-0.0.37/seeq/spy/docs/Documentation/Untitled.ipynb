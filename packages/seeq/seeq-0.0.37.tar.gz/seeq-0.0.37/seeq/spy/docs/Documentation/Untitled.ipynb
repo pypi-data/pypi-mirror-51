{
 "cells": [
  {
   "cell_type": "code",
   "execution_count": 1,
   "metadata": {},
   "outputs": [],
   "source": [
    "from seeq.sdk import *\n",
    "api_client = ApiClient('http://localhost:34216/api')\n",
    "system_api = SystemApi(api_client)\n",
    "system_api.get_server_status()"
   ]
  },
  {
   "cell_type": "code",
   "execution_count": 4,
   "metadata": {},
   "outputs": [
    {
     "data": {
      "text/plain": [
       "{'admin_contact_email': 'mark.derbecker@seeq.com',\n",
       " 'admin_contact_name': 'Mark Derbecker',\n",
       " 'installation_id': '98M5V9ML1FF5QBLQVEVBP853LM',\n",
       " 'server_specs': [{'component_name': 'CPU',\n",
       "                   'error': False,\n",
       "                   'message': None,\n",
       "                   'system_spec_value': 'Logical Cores=8',\n",
       "                   'warning': False},\n",
       "                  {'component_name': 'Memory',\n",
       "                   'error': False,\n",
       "                   'message': None,\n",
       "                   'system_spec_value': 'Total=24 GiB',\n",
       "                   'warning': False},\n",
       "                  {'component_name': 'Disk',\n",
       "                   'error': False,\n",
       "                   'message': None,\n",
       "                   'system_spec_value': 'Free=260 GB',\n",
       "                   'warning': False}],\n",
       " 'status': 'OK',\n",
       " 'telemetry_enabled': False,\n",
       " 'version': 'R21.0.43.04-BETA'}"
      ]
     },
     "execution_count": 4,
     "metadata": {},
     "output_type": "execute_result"
    }
   ],
   "source": []
  },
  {
   "cell_type": "code",
   "execution_count": null,
   "metadata": {},
   "outputs": [],
   "source": []
  }
 ],
 "metadata": {
  "kernelspec": {
   "display_name": "Python 3",
   "language": "python",
   "name": "python3"
  },
  "language_info": {
   "codemirror_mode": {
    "name": "ipython",
    "version": 3
   },
   "file_extension": ".py",
   "mimetype": "text/x-python",
   "name": "python",
   "nbconvert_exporter": "python",
   "pygments_lexer": "ipython3",
   "version": "3.7.3"
  }
 },
 "nbformat": 4,
 "nbformat_minor": 2
}
