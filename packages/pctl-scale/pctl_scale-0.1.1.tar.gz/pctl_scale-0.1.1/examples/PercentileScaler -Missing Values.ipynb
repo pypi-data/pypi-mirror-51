{
 "cells": [
  {
   "cell_type": "code",
   "execution_count": 1,
   "metadata": {
    "ExecuteTime": {
     "end_time": "2018-09-18T08:12:38.232692Z",
     "start_time": "2018-09-18T08:12:38.223700Z"
    }
   },
   "outputs": [],
   "source": [
    "import sys\n",
    "sys.path.append('..')\n",
    "\n",
    "import numpy as np\n",
    "from pctl_scale import PercentileScaler\n",
    "from sklearn.datasets import load_boston"
   ]
  },
  {
   "cell_type": "markdown",
   "metadata": {},
   "source": [
    "## Boston Demo data\n",
    "We will pick `average number of rooms per dwelling` or the `RM` variable.\n",
    "It is a **ratio-scale** variable"
   ]
  },
  {
   "cell_type": "code",
   "execution_count": 2,
   "metadata": {},
   "outputs": [],
   "source": [
    "tmp = load_boston()\n",
    "x = tmp.data[:,5]"
   ]
  },
  {
   "cell_type": "markdown",
   "metadata": {},
   "source": [
    "We will introduce some missing values and shuffle the data\n"
   ]
  },
  {
   "cell_type": "code",
   "execution_count": 3,
   "metadata": {},
   "outputs": [],
   "source": [
    "x[:100] = np.nan\n",
    "np.random.shuffle(x)"
   ]
  },
  {
   "cell_type": "markdown",
   "metadata": {},
   "source": [
    "## Keep Missing Values\n",
    "By default `PercentileScaler` would ignore missing values while fitting (You can disable it with `naignore=None`) and it's recommended not to change this behavior.\n",
    "\n",
    "For demonstration purposes we impute `-123`."
   ]
  },
  {
   "cell_type": "code",
   "execution_count": 4,
   "metadata": {},
   "outputs": [],
   "source": [
    "naimpute = -123\n",
    "\n",
    "scaler = PercentileScaler(upper=.95, lower=.05, naimpute=naimpute)\n",
    "y = scaler.fit_transform(x)"
   ]
  },
  {
   "cell_type": "markdown",
   "metadata": {},
   "source": [
    "The percentiles will obviously differ if we remove data (i.e. set to NaN)"
   ]
  },
  {
   "cell_type": "code",
   "execution_count": 5,
   "metadata": {},
   "outputs": [
    {
     "name": "stdout",
     "output_type": "stream",
     "text": [
      "  5% percentile value:   5.1627\n",
      " 95% percentile value:   7.6898\n"
     ]
    }
   ],
   "source": [
    "print(\"{0:3.0f}% percentile value: {1:8.4f}\".format(scaler.lower*100, scaler.pctl_lower))\n",
    "print(\"{0:3.0f}% percentile value: {1:8.4f}\".format(scaler.upper*100, scaler.pctl_upper))"
   ]
  },
  {
   "cell_type": "markdown",
   "metadata": {},
   "source": [
    "Let's check what happend to the missing values"
   ]
  },
  {
   "cell_type": "code",
   "execution_count": 6,
   "metadata": {},
   "outputs": [
    {
     "data": {
      "text/plain": [
       "array([-123., -123., -123., -123., -123., -123., -123., -123., -123.,\n",
       "       -123., -123., -123., -123., -123., -123., -123., -123., -123.,\n",
       "       -123., -123., -123., -123., -123., -123., -123., -123., -123.,\n",
       "       -123., -123., -123., -123., -123., -123., -123., -123., -123.,\n",
       "       -123., -123., -123., -123., -123., -123., -123., -123., -123.,\n",
       "       -123., -123., -123., -123., -123., -123., -123., -123., -123.,\n",
       "       -123., -123., -123., -123., -123., -123., -123., -123., -123.,\n",
       "       -123., -123., -123., -123., -123., -123., -123., -123., -123.,\n",
       "       -123., -123., -123., -123., -123., -123., -123., -123., -123.,\n",
       "       -123., -123., -123., -123., -123., -123., -123., -123., -123.,\n",
       "       -123., -123., -123., -123., -123., -123., -123., -123., -123.,\n",
       "       -123.])"
      ]
     },
     "execution_count": 6,
     "metadata": {},
     "output_type": "execute_result"
    }
   ],
   "source": [
    "y[np.isnan(x)]"
   ]
  },
  {
   "cell_type": "markdown",
   "metadata": {},
   "source": [
    "## What should we impute?\n",
    "\n",
    "* If `PercentileScaler` is used to scale a variable into an $(0,1)$ interval then `naimpute=0` would ok. \n",
    "* A model/algorithm might ignore the missing value when multiplying a model parameter with `0`. \n",
    "* Such behavior can be interpreted as implied dummy variable for missing values.\n"
   ]
  }
 ],
 "metadata": {
  "kernelspec": {
   "display_name": "Python 3",
   "language": "python",
   "name": "python3"
  },
  "language_info": {
   "codemirror_mode": {
    "name": "ipython",
    "version": 3
   },
   "file_extension": ".py",
   "mimetype": "text/x-python",
   "name": "python",
   "nbconvert_exporter": "python",
   "pygments_lexer": "ipython3",
   "version": "3.6.2"
  },
  "toc": {
   "base_numbering": 1,
   "nav_menu": {},
   "number_sections": true,
   "sideBar": true,
   "skip_h1_title": false,
   "title_cell": "Table of Contents",
   "title_sidebar": "Contents",
   "toc_cell": false,
   "toc_position": {},
   "toc_section_display": true,
   "toc_window_display": false
  },
  "varInspector": {
   "cols": {
    "lenName": 16,
    "lenType": 16,
    "lenVar": 40
   },
   "kernels_config": {
    "python": {
     "delete_cmd_postfix": "",
     "delete_cmd_prefix": "del ",
     "library": "var_list.py",
     "varRefreshCmd": "print(var_dic_list())"
    },
    "r": {
     "delete_cmd_postfix": ") ",
     "delete_cmd_prefix": "rm(",
     "library": "var_list.r",
     "varRefreshCmd": "cat(var_dic_list()) "
    }
   },
   "types_to_exclude": [
    "module",
    "function",
    "builtin_function_or_method",
    "instance",
    "_Feature"
   ],
   "window_display": false
  }
 },
 "nbformat": 4,
 "nbformat_minor": 2
}
