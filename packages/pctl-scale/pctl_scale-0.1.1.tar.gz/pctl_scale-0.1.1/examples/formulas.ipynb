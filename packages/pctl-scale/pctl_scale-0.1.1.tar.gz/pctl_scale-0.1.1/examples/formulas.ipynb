{
 "cells": [
  {
   "cell_type": "markdown",
   "metadata": {},
   "source": [
    "## Formulas\n",
    "Let $x \\in \\mathbb{R}$ the variable subject to scaling, \n",
    "$b \\in \\{q \\in \\mathbb{R} | 0 < q < 1\\}$ a given upper percentile,\n",
    "$v_b \\in \\mathbb{R}$ the corresponding upper percentile value,\n",
    "$a \\in \\{q \\in \\mathbb{R} | 0 < q < b < 1\\}$ a given lower percentile,\n",
    "$v_a \\in \\mathbb{R}$ the corresponding lower percentile value\n",
    "\n",
    "## Scaling\n",
    "(1) In a first step, $x$ is scaled by distance between the upper and lower percentile values $v_b - v_a$. \n",
    "\n",
    "$$\n",
    "y = a + b \\, \\left(\\frac{x - v_a}{v_b - v_a}\\right)\n",
    "$$\n",
    "\n",
    "Values between $x \\in [v_a, v_b]$ are scaled as $y \\in [a, b]$ what is similar to min-max scaling.\n",
    "\n",
    "(2) However, values below the lower percentile value $x < v_a$ might have values below 0, \n",
    "and values above the upper percentile value $x > v_b$ might have values above 1.\n",
    "\n",
    "In both cases growth saturations formulas are used to enforce the interval boundaries 0 and 1\n",
    "\n",
    "$$\n",
    "z = \n",
    "\\begin{cases}\n",
    "    \\frac{a}{\\exp\\left(\\frac{a - y}{a}\\right)},  & \\text{if } y < a \\\\\n",
    "    y,              & \\text{else if } a \\leq y \\leq b \\\\\n",
    "    \\frac{b}{b + (1 - b) \\exp\\left(\\frac{b - y}{1 - b}\\right)}, & \\text{else if } y > b\n",
    "\\end{cases}\n",
    "$$\n",
    "\n",
    "## Inverse Transform\n",
    "$\\forall z < a$\n",
    "\n",
    "$$\n",
    "z = \\frac{a}{\\exp\\left(\\frac{a-y}{a}\\right)} \\\\\n",
    "\\Leftrightarrow\n",
    "z = d \\cdot \\exp\\left(\\frac{-a + y}{a}\\right) \\\\\n",
    "\\Leftrightarrow\n",
    "\\ln{z} = \\ln{a} + \\frac{y - a}{a} \\\\\n",
    "\\Leftrightarrow\n",
    "y = (\\ln{z} - \\ln{a}) \\cdot a + a \\\\\n",
    "\\Leftrightarrow\n",
    "y = a \\cdot \\ln{\\frac{z}{a}} + a \\\\\n",
    "\\Leftrightarrow\n",
    "y = a \\cdot \\left( \\ln{\\frac{z}{a}} + 1 \\right)\n",
    "$$\n",
    "\n",
    "$\\forall z > b$\n",
    "\n",
    "$$\n",
    "z = \\frac{b}{b + (1 - b) \\exp\\left(\\frac{b - y}{1 - b}\\right)} \\\\\n",
    "\\Leftrightarrow\n",
    "b + (1 - b) \\exp\\left(\\frac{b - y}{1 - b}\\right) = \\frac{b}{z}\\\\\n",
    "\\Leftrightarrow\n",
    "\\exp\\left(\\frac{b - y}{1 - b}\\right) = \\frac{\\frac{b}{z} - b}{1 -b} \\\\\n",
    "\\Leftrightarrow\n",
    "\\frac{b - y}{1 - b} = \\ln{\\frac{\\frac{b}{z} - b}{1 -b}} \\\\\n",
    "\\Leftrightarrow\n",
    "b - y = (1 - b) \\cdot \\ln{\\frac{\\frac{b}{z} - b}{1 -b}} \\\\\n",
    "\\Leftrightarrow\n",
    "y = b - (1 - b) \\cdot \\ln{\\frac{\\frac{b}{z} - b}{1 -b}} \\\\\n",
    "$$\n",
    "\n",
    "Inverse simple scaling\n",
    "\n",
    "$$\n",
    "y = a + b \\, \\left(\\frac{x - v_a}{v_b - v_a}\\right) \\\\\n",
    "\\Leftrightarrow\n",
    "\\frac{y - a}{b} = \\frac{x - v_a}{v_b - v_a} \\\\\n",
    "\\Leftrightarrow\n",
    "\\left(\\frac{y - a}{b}\\right) \\cdot (v_b - v_a) = x - v_a \\\\\n",
    "\\Leftrightarrow\n",
    "x = \\left(\\frac{y - a}{b}\\right) \\cdot (v_b - v_a) + v_a\n",
    "$$"
   ]
  },
  {
   "cell_type": "code",
   "execution_count": null,
   "metadata": {},
   "outputs": [],
   "source": []
  }
 ],
 "metadata": {
  "kernelspec": {
   "display_name": "Python 3",
   "language": "python",
   "name": "python3"
  },
  "language_info": {
   "codemirror_mode": {
    "name": "ipython",
    "version": 3
   },
   "file_extension": ".py",
   "mimetype": "text/x-python",
   "name": "python",
   "nbconvert_exporter": "python",
   "pygments_lexer": "ipython3",
   "version": "3.6.2"
  },
  "toc": {
   "base_numbering": 1,
   "nav_menu": {},
   "number_sections": true,
   "sideBar": true,
   "skip_h1_title": false,
   "title_cell": "Table of Contents",
   "title_sidebar": "Contents",
   "toc_cell": false,
   "toc_position": {},
   "toc_section_display": true,
   "toc_window_display": false
  },
  "varInspector": {
   "cols": {
    "lenName": 16,
    "lenType": 16,
    "lenVar": 40
   },
   "kernels_config": {
    "python": {
     "delete_cmd_postfix": "",
     "delete_cmd_prefix": "del ",
     "library": "var_list.py",
     "varRefreshCmd": "print(var_dic_list())"
    },
    "r": {
     "delete_cmd_postfix": ") ",
     "delete_cmd_prefix": "rm(",
     "library": "var_list.r",
     "varRefreshCmd": "cat(var_dic_list()) "
    }
   },
   "types_to_exclude": [
    "module",
    "function",
    "builtin_function_or_method",
    "instance",
    "_Feature"
   ],
   "window_display": false
  }
 },
 "nbformat": 4,
 "nbformat_minor": 2
}
