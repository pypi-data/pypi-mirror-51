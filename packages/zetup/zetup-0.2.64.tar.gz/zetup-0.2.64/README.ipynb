{
 "cells": [
  {
   "cell_type": "markdown",
   "metadata": {},
   "source": [
    "# ZETUP"
   ]
  },
  {
   "cell_type": "markdown",
   "metadata": {},
   "source": [
    "[![](http://www.gnu.org/graphics/lgplv3-88x31.png)](\n",
    "  https://gnu.org/licenses/lgpl.html)\n",
    "[![](https://img.shields.io/pypi/pyversions/zetup.svg)](\n",
    "  https://python.org)"
   ]
  },
  {
   "cell_type": "markdown",
   "metadata": {},
   "source": [
    "[![](https://img.shields.io/pypi/v/zetup.svg)](\n",
    "  https://pypi.python.org/pypi/zetup)\n",
    "[![](https://img.shields.io/pypi/dd/zetup.svg)](\n",
    "  https://pypi.python.org/pypi/zetup)"
   ]
  },
  {
   "cell_type": "markdown",
   "metadata": {},
   "source": [
    "[![](https://travis-ci.org/zimmermanncode/zetup.svg?branch=master)](\n",
    "  https://travis-ci.org/userzimmermann/zetup.py)\n",
    "[![Build status](https://ci.appveyor.com/api/projects/status/3wm8jnisoft5x7qr?svg=true)](\n",
    "  https://ci.appveyor.com/project/userzimmermann/zetup-py)"
   ]
  },
  {
   "cell_type": "markdown",
   "metadata": {},
   "source": [
    "## Zimmermann's Extensible Tools for Unified Project setups"
   ]
  },
  {
   "cell_type": "markdown",
   "metadata": {},
   "source": [
    "* https://bitbucket.org/zimmermanncode/zetup\n",
    "* https://github.com/zimmermanncode/zetup\n",
    "* https://gitlab.com/zimmermanncode/zetup\n",
    "* https://www.openhub.net/p/python-zetup"
   ]
  }
 ],
 "metadata": {
  "kernelspec": {
   "display_name": "IPython (Python 3)",
   "language": "python",
   "name": "python3"
  },
  "language_info": {
   "name": "python",
   "version": "3.5.1"
  }
 },
 "nbformat": 4,
 "nbformat_minor": 0
}
